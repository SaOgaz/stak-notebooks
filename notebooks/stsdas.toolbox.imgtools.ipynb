{
 "cells": [
  {
   "cell_type": "markdown",
   "metadata": {},
   "source": [
    "# stsdas.toolbox.imgtools"
   ]
  },
  {
   "cell_type": "markdown",
   "metadata": {},
   "source": [
    "Tasks for performing operations on images and masks."
   ]
  },
  {
   "cell_type": "markdown",
   "metadata": {},
   "source": [
    "<a id='notes'></a>\n",
    "\n",
    "## Notes"
   ]
  },
  {
   "cell_type": "markdown",
   "metadata": {},
   "source": [
    "**For questions or comments please see** [our github page](https://github.com/spacetelescope/stak).  **We encourage and appreciate user feedback.**\n",
    "\n",
    "**Most of these notebooks rely on basic knowledge of the Astropy FITS I/O module.  If you are unfamiliar with this module please see the** [Astropy FITS I/O user documentation](http://docs.astropy.org/en/stable/io/fits/) **before using this documentation**.\n",
    "\n",
    "The various image tasks found in the stsdas.toolbox.imgtools package have been replaced in the [Numpy](https://docs.scipy.org/doc/numpy/) and [Astropy](http://docs.astropy.org/en/stable/) libraries.\n",
    "\n",
    "Contents:\n",
    "\n",
    "* [addmasks](#addmasks)\n",
    "* [iminsert](#iminsert)\n",
    "* [improject](#improject)\n",
    "* [mkgauss](#mkgauss)\n",
    "* [pixlocate](#pixlocate)\n",
    "* [rd2xy-xy2rd](#rd2xy-xy2rd)"
   ]
  },
  {
   "cell_type": "markdown",
   "metadata": {},
   "source": [
    "<br>"
   ]
  },
  {
   "cell_type": "markdown",
   "metadata": {},
   "source": [
    "<br>"
   ]
  },
  {
   "cell_type": "markdown",
   "metadata": {},
   "source": [
    "<a id='addmasks'></a>\n",
    "\n",
    "## addmasks"
   ]
  },
  {
   "cell_type": "markdown",
   "metadata": {},
   "source": [
    "**Please review the** [Notes](#notes) **section above before running any examples in this notebook**\n",
    "\n",
    "Addmasks is used to combine several masks or bad pixel lists. We can do this using the `numpy` bitwise tasks: [bitwise_or](https://docs.scipy.org/doc/numpy/reference/generated/numpy.bitwise_or.html), [bitwise_and](https://docs.scipy.org/doc/numpy/reference/generated/numpy.bitwise_and.html), and [invert](https://docs.scipy.org/doc/numpy/reference/generated/numpy.invert.html), along with a slew of [other numpy bit functions](https://docs.scipy.org/doc/numpy/reference/routines.bitwise.html). Below we show examples of `bitwise_and` and `bitwise_or`."
   ]
  },
  {
   "cell_type": "code",
   "execution_count": 1,
   "metadata": {
    "collapsed": true
   },
   "outputs": [],
   "source": [
    "# Standard Imports\n",
    "import numpy as np"
   ]
  },
  {
   "cell_type": "code",
   "execution_count": 2,
   "metadata": {},
   "outputs": [
    {
     "name": "stdout",
     "output_type": "stream",
     "text": [
      "[ 1  4 10]\n",
      "[1 0 8]\n"
     ]
    }
   ],
   "source": [
    "a = np.array([1,4,10])\n",
    "b = np.array([1,0,8])\n",
    "\n",
    "# OR\n",
    "print(np.bitwise_or(a,b))\n",
    "\n",
    "# AND\n",
    "print(np.bitwise_and(a,b))"
   ]
  },
  {
   "cell_type": "markdown",
   "metadata": {},
   "source": [
    "<br>"
   ]
  },
  {
   "cell_type": "markdown",
   "metadata": {},
   "source": [
    "<a id='iminsert'></a>\n",
    "\n",
    "## iminsert"
   ]
  },
  {
   "cell_type": "markdown",
   "metadata": {},
   "source": [
    "**Please review the** [Notes](#notes) **section above before running any examples in this notebook**\n",
    "\n",
    "Iminsert is used to insert a small image into a larger image.  This is easy to do with the Numpy array indexing after you've read in your images with ``Astropy.io.fits``.  Below we'll show a quick array example."
   ]
  },
  {
   "cell_type": "code",
   "execution_count": 3,
   "metadata": {
    "collapsed": true
   },
   "outputs": [],
   "source": [
    "# Standard Imports\n",
    "import numpy as np"
   ]
  },
  {
   "cell_type": "code",
   "execution_count": 13,
   "metadata": {},
   "outputs": [
    {
     "name": "stdout",
     "output_type": "stream",
     "text": [
      "[[ 0.06888833  0.15088263  0.00241     0.09282496  0.07325408]\n",
      " [ 0.78665832  0.3402431   0.5265134   0.46253075  0.54305974]\n",
      " [ 0.63473001  0.92986634  1.          1.          0.0904689 ]\n",
      " [ 0.2887482   0.50178461  1.          1.          0.78550679]\n",
      " [ 0.07945175  0.12885675  0.06588469  0.63534732  0.62024358]\n",
      " [ 0.53344071  0.2852475   0.03736071  0.30043438  0.97523821]\n",
      " [ 0.10331126  0.52996828  0.51318396  0.47988347  0.7098808 ]]\n"
     ]
    }
   ],
   "source": [
    "# generate test arrays\n",
    "my_array = np.random.rand(7,5)\n",
    "ones = np.array(([1,1],[1,1]))\n",
    "\n",
    "# replace middle 3x3 square with ones\n",
    "my_array[2:4,2:4] = ones\n",
    "\n",
    "# Print result\n",
    "print(my_array)"
   ]
  },
  {
   "cell_type": "markdown",
   "metadata": {},
   "source": [
    "<br>"
   ]
  },
  {
   "cell_type": "markdown",
   "metadata": {},
   "source": [
    "<a id='improject'></a>\n",
    "\n",
    "## improject"
   ]
  },
  {
   "cell_type": "markdown",
   "metadata": {},
   "source": [
    "**Please review the** [Notes](#notes) **section above before running any examples in this notebook**\n",
    "\n",
    "Improject is used to sum or average an image along one axis.  This can be accomplised using the [numpy.average](https://docs.scipy.org/doc/numpy/reference/generated/numpy.average.html) or the [numpy.sum](https://docs.scipy.org/doc/numpy/reference/generated/numpy.sum.html) functions and choosing which dimensions you wish to collapse. Below we show an example using ``numpy.average``."
   ]
  },
  {
   "cell_type": "code",
   "execution_count": 2,
   "metadata": {},
   "outputs": [],
   "source": [
    "# Standard Imports\n",
    "import numpy as np"
   ]
  },
  {
   "cell_type": "code",
   "execution_count": 6,
   "metadata": {},
   "outputs": [
    {
     "name": "stdout",
     "output_type": "stream",
     "text": [
      "(5, 4)\n",
      "[[ 0.60660306  0.55628564  0.79297796  0.73016308]\n",
      " [ 0.48911929  0.36071454  0.6167648   0.4261005 ]\n",
      " [ 0.47187441  0.21748297  0.92223167  0.64068855]\n",
      " [ 0.14900289  0.70091688  0.51759779  0.29799824]\n",
      " [ 0.85235487  0.79360714  0.60374945  0.40032384]]\n",
      "(5, 3)\n",
      "[[ 0.70389997  0.59038403  0.72023831]\n",
      " [ 0.4937127   0.44684555  0.47896609]\n",
      " [ 0.43435416  0.5368765   0.71797754]\n",
      " [ 0.45942245  0.4114324   0.37828199]\n",
      " [ 0.64567646  0.51639255  0.82545747]]\n"
     ]
    }
   ],
   "source": [
    "# build random test array\n",
    "my_array = np.random.rand(5,4,3)\n",
    "\n",
    "# reduce third dimension down\n",
    "new_array = np.average(my_array, axis=2)\n",
    "print(new_array.shape)\n",
    "print(new_array)\n",
    "\n",
    "# reduce second dimension down\n",
    "new_array_2 = np.average(my_array, axis=1)\n",
    "print(new_array_2.shape)\n",
    "print(new_array_2)"
   ]
  },
  {
   "cell_type": "markdown",
   "metadata": {},
   "source": [
    "<br>"
   ]
  },
  {
   "cell_type": "markdown",
   "metadata": {},
   "source": [
    "<a id='mkgauss'></a>\n",
    "\n",
    "## mkgauss"
   ]
  },
  {
   "cell_type": "markdown",
   "metadata": {},
   "source": [
    "**Please review the** [Notes](#notes) **section above before running any examples in this notebook**\n",
    "\n",
    "The mkgauss funtionality has been replicated in the Photutils package with [photutils.datasets.make_random_gaussians_table](http://photutils.readthedocs.io/en/stable/api/photutils.datasets.make_random_gaussians_table.html#photutils.datasets.make_random_gaussians_table) and [photutils.datasets.make_gaussian_sources_image](http://photutils.readthedocs.io/en/stable/api/photutils.datasets.make_gaussian_sources_image.html#photutils.datasets.make_gaussian_sources_image)."
   ]
  },
  {
   "cell_type": "markdown",
   "metadata": {},
   "source": [
    "<br>"
   ]
  },
  {
   "cell_type": "markdown",
   "metadata": {},
   "source": [
    "<a id='pixlocate'></a>\n",
    "\n",
    "## pixlocate"
   ]
  },
  {
   "cell_type": "markdown",
   "metadata": {},
   "source": [
    "**Please review the** [Notes](#notes) **section above before running any examples in this notebook**\n",
    "\n",
    "Pixlocate is used to print positions matching a certain value condition.  This is replicated with the `numpy.where` function. Please see the [documentation]((https://docs.scipy.org/doc/numpy/reference/generated/numpy.where.html)) for more details and examples."
   ]
  },
  {
   "cell_type": "markdown",
   "metadata": {},
   "source": [
    "<br>"
   ]
  },
  {
   "cell_type": "markdown",
   "metadata": {},
   "source": [
    "<a id='rd2xy-xy2rd'></a>\n",
    "\n",
    "## rd2xy-xy2rd"
   ]
  },
  {
   "cell_type": "markdown",
   "metadata": {},
   "source": [
    "**Please review the** [Notes](#notes) **section above before running any examples in this notebook**\n",
    "\n",
    "Rd2xy and xy2rd are used to translate RA/Dec to the pixel coordinate and vice-versa.  This capability is well covered in the ``astropy.wcs`` package.  Please see the [documentation](http://docs.astropy.org/en/stable/wcs/) for more details on usage."
   ]
  },
  {
   "cell_type": "markdown",
   "metadata": {},
   "source": [
    "<br>"
   ]
  },
  {
   "cell_type": "markdown",
   "metadata": {},
   "source": [
    "<br>"
   ]
  },
  {
   "cell_type": "markdown",
   "metadata": {},
   "source": [
    "## Not Replacing"
   ]
  },
  {
   "cell_type": "markdown",
   "metadata": {},
   "source": [
    "* boxinterp - Fill areas with smoothed values from surrounding area. See **images.imfit** notebook.\n",
    "* countfiles - Count how many files are in the input file template. Deprecated.\n",
    "* gcombine - Combine a set of GEIS images into one image. Deprecated, for FITS see **stsdas.toolbox.imgtools.mstools.mscombine**\n",
    "* gcopy - Generic multi-group copy utility. GEIS, deprecated.\n",
    "* gstatistics - Compute and print image pixel statistics for all groups. GEIS, deprecated.  For FITS see **images.imutil.imstatistics**\n",
    "* imcalc - Perform general arithmetic operations on images. See **images.imtuil.imarith**.\n",
    "* imfill - Set fill value in image according to a mask. See **images.imutil.imreplace**.\n",
    "* listarea - Print an area of an image. See [numpy basics documentation](https://docs.scipy.org/doc/numpy-dev/user/quickstart.html).\n",
    "* moveheader - Combine the header and pixels from two images. GEIS, deprecated.\n",
    "* pickfile - Get the file name picked from the input file template. Deprecated.\n",
    "* pixedit - Screen editor for image pixels. See **images.tv.imedit**\n",
    "* rbinary - Create an image from a binary file. Deprecated.\n",
    "* stack - Stack images to form a new image with one more dimension. See **images.imutil.imstack**\n",
    "* xyztable - Interpolate table values, writing results to a table. See **images.imfit.imsurfit** and **tables.ttools.tcopy-tdump**\n",
    "* xyztoim - Interpolate table values, writing results to an image. See **images.imfit.imsurfit**, [Astropy Tables documentation](http://docs.astropy.org/en/stable/table/), and **tables.ttools.tcopy-tdump**."
   ]
  }
 ],
 "metadata": {
  "kernelspec": {
   "display_name": "Python 3",
   "language": "python",
   "name": "python3"
  },
  "language_info": {
   "codemirror_mode": {
    "name": "ipython",
    "version": 3
   },
   "file_extension": ".py",
   "mimetype": "text/x-python",
   "name": "python",
   "nbconvert_exporter": "python",
   "pygments_lexer": "ipython3",
   "version": "3.5.4"
  }
 },
 "nbformat": 4,
 "nbformat_minor": 1
}
