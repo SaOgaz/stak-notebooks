{
 "cells": [
  {
   "cell_type": "markdown",
   "metadata": {},
   "source": [
    "# stsdas.toolbox.imgtools"
   ]
  },
  {
   "cell_type": "markdown",
   "metadata": {},
   "source": [
    "Tasks for performing operations on images and masks."
   ]
  },
  {
   "cell_type": "markdown",
   "metadata": {},
   "source": [
    "<a id='notes'></a>\n",
    "\n",
    "## Notes"
   ]
  },
  {
   "cell_type": "markdown",
   "metadata": {},
   "source": [
    "**For questions or comments please see** [our github page](https://github.com/spacetelescope/stak).  **We encourage and appreciate user feedback.**\n",
    "\n",
    "Contents:\n",
    "\n",
    "* [addmasks](#addmasks)\n",
    "* [iminsert](#iminsert)\n",
    "* [improject](#improject)\n",
    "* [mkgauss](#mkgauss)\n",
    "* [pixlocate](#pixlocate)\n",
    "* [rd2xy-xy2rd](#rd2xy-xy2rd)"
   ]
  },
  {
   "cell_type": "markdown",
   "metadata": {},
   "source": [
    "<br>"
   ]
  },
  {
   "cell_type": "markdown",
   "metadata": {},
   "source": [
    "<a id='addmasks'></a>\n",
    "\n",
    "## addmasks"
   ]
  },
  {
   "cell_type": "markdown",
   "metadata": {},
   "source": [
    "**Please review the [Notes](#notes) section above before running any examples in this notebook**\n",
    "\n",
    "Addmasks is used to combine several masks or bad pixel lists. We can do this using the `numpy` bitwise tasks: [bitwise_or](https://docs.scipy.org/doc/numpy/reference/generated/numpy.bitwise_or.html), [bitwise_and](https://docs.scipy.org/doc/numpy/reference/generated/numpy.bitwise_and.html), and [invert](https://docs.scipy.org/doc/numpy/reference/generated/numpy.invert.html), along with a slew of [other numpy bit functions](https://docs.scipy.org/doc/numpy/reference/routines.bitwise.html). Below we show examples of `bitwise_and` and `bitwise_or`."
   ]
  },
  {
   "cell_type": "code",
   "execution_count": 4,
   "metadata": {
    "collapsed": true
   },
   "outputs": [],
   "source": [
    "# Standard Imports\n",
    "import numpy as np"
   ]
  },
  {
   "cell_type": "code",
   "execution_count": 7,
   "metadata": {},
   "outputs": [
    {
     "name": "stdout",
     "output_type": "stream",
     "text": [
      "[ 1  4 10]\n",
      "[1 0 8]\n"
     ]
    }
   ],
   "source": [
    "a = np.array([1,4,10])\n",
    "b = np.array([1,0,8])\n",
    "\n",
    "# OR\n",
    "print(np.bitwise_or(a,b))\n",
    "\n",
    "# AND\n",
    "print(np.bitwise_and(a,b))"
   ]
  },
  {
   "cell_type": "markdown",
   "metadata": {},
   "source": [
    "<br>"
   ]
  },
  {
   "cell_type": "markdown",
   "metadata": {},
   "source": [
    "<a id='iminsert'></a>\n",
    "\n",
    "## iminsert"
   ]
  },
  {
   "cell_type": "markdown",
   "metadata": {},
   "source": [
    "** Please review the [Notes](#notes) section above before running any examples in this notebook **\n",
    "\n",
    "Iminsert is used to insert a small image into a larger image.  This is easy to do with the Numpy array indexing after you've read in your images with ``Astropy.io.fits``.  Below we'll show a quick array example."
   ]
  },
  {
   "cell_type": "code",
   "execution_count": 4,
   "metadata": {
    "collapsed": true
   },
   "outputs": [],
   "source": [
    "# Standard Imports\n",
    "import numpy as np"
   ]
  },
  {
   "cell_type": "code",
   "execution_count": 6,
   "metadata": {},
   "outputs": [
    {
     "name": "stdout",
     "output_type": "stream",
     "text": [
      "[[ 0.82201637  0.08174033  0.16380967  0.62810837  0.28124607  0.2786306\n",
      "   0.85850206]\n",
      " [ 0.7149777   0.46433009  0.3836266   0.10824013  0.28593503  0.88946372\n",
      "   0.85314319]\n",
      " [ 0.04308741  0.25585301  1.          1.          1.          0.24435245\n",
      "   0.62448718]\n",
      " [ 0.41461068  0.66291846  1.          1.          1.          0.41030457\n",
      "   0.35328398]\n",
      " [ 0.20824607  0.22251574  1.          1.          1.          0.88012572\n",
      "   0.46495883]\n",
      " [ 0.55748838  0.50142618  0.15247551  0.33352031  0.08906443  0.50491289\n",
      "   0.08764148]\n",
      " [ 0.33992577  0.4458142   0.89492776  0.34784618  0.75024597  0.43951199\n",
      "   0.6732325 ]]\n"
     ]
    }
   ],
   "source": [
    "# generate test arrays\n",
    "my_array = np.random.rand(7,7)\n",
    "ones = np.array(([1,1,1],[1,1,1],[1,1,1]))\n",
    "\n",
    "# replace middle 3x3 square with ones\n",
    "my_array[2:5,2:5] = ones\n",
    "\n",
    "# Print result\n",
    "print(my_array)"
   ]
  },
  {
   "cell_type": "markdown",
   "metadata": {},
   "source": [
    "<br>"
   ]
  },
  {
   "cell_type": "markdown",
   "metadata": {},
   "source": [
    "<a id='improject'></a>\n",
    "\n",
    "## improject"
   ]
  },
  {
   "cell_type": "markdown",
   "metadata": {},
   "source": [
    "** Please review the [Notes](#notes) section above before running any examples in this notebook **\n",
    "\n",
    "Improject is used to sum or average an image along one axis.  This can be accomplised using the [numpy.average](https://docs.scipy.org/doc/numpy/reference/generated/numpy.average.html) or the [numpy.sum](https://docs.scipy.org/doc/numpy/reference/generated/numpy.sum.html) functions and choosing which dimensions you wish to collapse. Below we show an example using ``numpy.average``."
   ]
  },
  {
   "cell_type": "code",
   "execution_count": 2,
   "metadata": {
    "collapsed": true
   },
   "outputs": [],
   "source": [
    "# Standard Imports\n",
    "import numpy as np"
   ]
  },
  {
   "cell_type": "code",
   "execution_count": 8,
   "metadata": {},
   "outputs": [
    {
     "name": "stdout",
     "output_type": "stream",
     "text": [
      "(10, 10)\n"
     ]
    }
   ],
   "source": [
    "# build random test array\n",
    "my_array = np.random.rand(10,10,3)\n",
    "\n",
    "# reduce third dimension down\n",
    "new_array = np.average(my_array, axis=2)\n",
    "print(new_array.shape)"
   ]
  },
  {
   "cell_type": "markdown",
   "metadata": {},
   "source": [
    "<br>"
   ]
  },
  {
   "cell_type": "markdown",
   "metadata": {},
   "source": [
    "<a id='mkgauss'></a>\n",
    "\n",
    "## mkgauss"
   ]
  },
  {
   "cell_type": "markdown",
   "metadata": {},
   "source": [
    "** Please review the [Notes](#notes) section above before running any examples in this notebook **\n",
    "\n",
    "The mkgauss funtionality has been replicated in the Photutils package with [photutils.datasets.make_gaussian_sources](http://photutils.readthedocs.io/en/stable/api/photutils.datasets.make_gaussian_sources.html)."
   ]
  },
  {
   "cell_type": "markdown",
   "metadata": {},
   "source": [
    "<br>"
   ]
  },
  {
   "cell_type": "markdown",
   "metadata": {},
   "source": [
    "<a id='pixlocate'></a>\n",
    "\n",
    "## pixlocate"
   ]
  },
  {
   "cell_type": "markdown",
   "metadata": {},
   "source": [
    "** Please review the [Notes](#notes) section above before running any examples in this notebook **\n",
    "\n",
    "Pixlocate is used to print positions matching a certain value condition.  This is replicated with the [numpy.where](https://docs.scipy.org/doc/numpy/reference/generated/numpy.where.html) function."
   ]
  },
  {
   "cell_type": "markdown",
   "metadata": {},
   "source": [
    "<br>"
   ]
  },
  {
   "cell_type": "markdown",
   "metadata": {},
   "source": [
    "<a id='rd2xy-xy2rd'></a>\n",
    "\n",
    "## rd2xy-xy2rd"
   ]
  },
  {
   "cell_type": "markdown",
   "metadata": {},
   "source": [
    "** Please review the [Notes](#notes) section above before running any examples in this notebook **\n",
    "\n",
    "Rd2xy and xy2rd are used to translate RA/Dec to the pixel coordinate and vice-versa.  This capability is well covered in the ``Astropy.wcs`` package.  Please see the [documentation](http://docs.astropy.org/en/stable/wcs/) for more details on usage."
   ]
  },
  {
   "cell_type": "markdown",
   "metadata": {},
   "source": [
    "<br>"
   ]
  },
  {
   "cell_type": "markdown",
   "metadata": {},
   "source": [
    "<br>"
   ]
  },
  {
   "cell_type": "markdown",
   "metadata": {},
   "source": [
    "## Not Replacing"
   ]
  },
  {
   "cell_type": "markdown",
   "metadata": {},
   "source": [
    "* boxinterp - Fill areas with smoothed values from surrounding area. See **images.imfit** notebook.\n",
    "* countfiles - Count how many files are in the input file template. Deprecated.\n",
    "* gcombine - Combine a set of GEIS images into one image. Deprecated, for FITS see **stsdas.toolbox.imgtools.mstools.mscombine**\n",
    "* gcopy - Generic multi-group copy utility. GEIS, deprecated.\n",
    "* gstatistics - Compute and print image pixel statistics for all groups. GEIS, deprecated.  For FITS see **images.imutil.imstatistics**\n",
    "* imcalc - Perform general arithmetic operations on images. See **images.imtuil.imarith**.\n",
    "* imfill - Set fill value in image according to a mask. See **images.imutil.imreplace**.\n",
    "* listarea - Print an area of an image. See [numpy basics documentation](https://docs.scipy.org/doc/numpy-dev/user/quickstart.html).\n",
    "* moveheader - Combine the header and pixels from two images. GEIS, deprecated.\n",
    "* pickfile - Get the file name picked from the input file template. Deprecated.\n",
    "* pixedit - Screen editor for image pixels. See **images.tv.imedit**\n",
    "* rbinary - Create an image from a binary file. Deprecated.\n",
    "* stack - Stack images to form a new image with one more dimension. See **images.imutil.imstack**\n",
    "* xyztable - Interpolate table values, writing results to a table. See **images.imfit.imsurfit** and **tables.ttools.tcopy-tdump**\n",
    "* xyztoim - Interpolate table values, writing results to an image. See **images.imfit.imsurfit**, [Astropy Tables documentation](http://docs.astropy.org/en/stable/table/), and **tables.ttools.tcopy-tdump**."
   ]
  }
 ],
 "metadata": {
  "kernelspec": {
   "display_name": "Python 2",
   "language": "python",
   "name": "python2"
  },
  "language_info": {
   "codemirror_mode": {
    "name": "ipython",
    "version": 2
   },
   "file_extension": ".py",
   "mimetype": "text/x-python",
   "name": "python",
   "nbconvert_exporter": "python",
   "pygments_lexer": "ipython2",
   "version": "2.7.13"
  }
 },
 "nbformat": 4,
 "nbformat_minor": 1
}
