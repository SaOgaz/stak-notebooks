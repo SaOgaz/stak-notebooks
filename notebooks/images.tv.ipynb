{
 "cells": [
  {
   "cell_type": "markdown",
   "metadata": {},
   "source": [
    "# images.tv"
   ]
  },
  {
   "cell_type": "markdown",
   "metadata": {},
   "source": [
    "The tv package contains interactive image display utilities."
   ]
  },
  {
   "cell_type": "markdown",
   "metadata": {},
   "source": [
    "<a id='notes'></a>\n",
    "\n",
    "## Notes"
   ]
  },
  {
   "cell_type": "markdown",
   "metadata": {},
   "source": [
    "**For questions or comments please see** [our github page](https://github.com/spacetelescope/stak).  **We encourage and appreciate user feedback.**\n",
    "\n",
    "**Most of these notebooks rely on basic knowledge of the Astropy FITS I/O module.  If you are unfamiliar with this module please see the** [Astropy FITS I/O user documentation](http://docs.astropy.org/en/stable/io/fits/) **before using this documentation**.\n",
    "\n",
    "Many of the images.tv functionality has been replaced by the Python imexam package, which works in conjunction with both the [ginga](https://ginga.readthedocs.io/en/latest/) and [ds9](http://ds9.si.edu/site/Home.html) viewers.  In this notebook we will simply provide the task name for imexam that covers the IRAF task.  We leave it to the user to reference the [imexam documentation](http://imexam.readthedocs.io/en/latest/) for further information.\n",
    "\n",
    "Contents:\n",
    "\n",
    "* [display](#display)\n",
    "* [imexamine](#imexamine)\n",
    "* [bpmedit-imedit-badpixcorr](#bpmedit-imedit-badpixcorr)\n",
    "* [tvmark](#tvmark)\n",
    "* [wcslab](#wcslab)"
   ]
  },
  {
   "cell_type": "markdown",
   "metadata": {},
   "source": [
    "<br>"
   ]
  },
  {
   "cell_type": "markdown",
   "metadata": {},
   "source": [
    "<a id='display'></a>\n",
    "\n",
    "## display"
   ]
  },
  {
   "cell_type": "markdown",
   "metadata": {},
   "source": [
    "**Please review the** [Notes](#notes) **section above before running any examples in this notebook**\n",
    "\n",
    "display - Load an image or image section into the display\n",
    "\n",
    "* see\n",
    "http://imexam.readthedocs.io/en/latest/imexam/examples.html#basic-usage\n",
    "and\n",
    "http://imexam.readthedocs.io/en/latest/imexam/imexam_command.html#cutout-a-simple-fits-image\n",
    "\n"
   ]
  },
  {
   "cell_type": "markdown",
   "metadata": {},
   "source": [
    "<br>"
   ]
  },
  {
   "cell_type": "markdown",
   "metadata": {},
   "source": [
    "<a id='imexamine'></a>\n",
    "\n",
    "## imexamine"
   ]
  },
  {
   "cell_type": "markdown",
   "metadata": {},
   "source": [
    "**Please review the** [Notes](#notes) **section above before running any examples in this notebook**\n",
    "\n",
    "imexamine - Examine images using image display, graphics, and text\n",
    "\n",
    "* see http://imexam.readthedocs.io/en/latest/imexam/iraf_imexam.html"
   ]
  },
  {
   "cell_type": "markdown",
   "metadata": {},
   "source": [
    "<br>"
   ]
  },
  {
   "cell_type": "markdown",
   "metadata": {},
   "source": [
    "<a id='bpmedit-imedit-badpixcorr'></a>\n",
    "\n",
    "## bpmedit-imedit-badpixcorr"
   ]
  },
  {
   "cell_type": "markdown",
   "metadata": {},
   "source": [
    "**Please review the** [Notes](#notes) **section above before running any examples in this notebook**\n",
    "\n",
    "bpmedit-badpixcorr - examine and edit bad pixel masks associated with images (badpixcorr in ginga)\n",
    "\n",
    "* see http://stginga.readthedocs.io/en/latest/stginga/plugins_manual/badpixcorr.html\n",
    "\n",
    "\n",
    "imedit - Examine and edit pixels in images \n",
    "\n",
    "* see http://imexam.readthedocs.io/en/v0.7.1/imexam/imexam_command.html#pixel-coordinates-and-value, combine with [astropy.io.fits](http://docs.astropy.org/en/stable/io/fits/)"
   ]
  },
  {
   "cell_type": "markdown",
   "metadata": {},
   "source": [
    "<br>"
   ]
  },
  {
   "cell_type": "markdown",
   "metadata": {},
   "source": [
    "<a id='tvmark'></a>\n",
    "\n",
    "## tvmark"
   ]
  },
  {
   "cell_type": "markdown",
   "metadata": {},
   "source": [
    "**Please review the** [Notes](#notes) **section above before running any examples in this notebook**\n",
    "\n",
    "tvmark - Mark objects on the image display \n",
    "\n",
    "* see http://ginga.readthedocs.io/en/latest/manual/plugins_local/tvmark.html"
   ]
  },
  {
   "cell_type": "markdown",
   "metadata": {},
   "source": [
    "<br>"
   ]
  },
  {
   "cell_type": "markdown",
   "metadata": {},
   "source": [
    "<a id='wcslab'></a>\n",
    "\n",
    "## wcslab"
   ]
  },
  {
   "cell_type": "markdown",
   "metadata": {},
   "source": [
    "**Please review the** [Notes](#notes) **section above before running any examples in this notebook**\n",
    "\n",
    "wcslab - Overlay a displayed image with a world coordinate grid.\n",
    "\n",
    "* see http://ginga.readthedocs.io/en/latest/manual/plugins_local/wcsaxes.html?highlight=wcs"
   ]
  },
  {
   "cell_type": "markdown",
   "metadata": {},
   "source": [
    "<br>"
   ]
  },
  {
   "cell_type": "markdown",
   "metadata": {},
   "source": [
    "## Not Replacing"
   ]
  },
  {
   "cell_type": "markdown",
   "metadata": {},
   "source": [
    "* iis subpackage - these utilities are replaced by [ginga](https://ginga.readthedocs.io/en/latest/index.html) and [ds9](http://ds9.si.edu/site/Home.html)."
   ]
  }
 ],
 "metadata": {
  "kernelspec": {
   "display_name": "Python 3",
   "language": "python",
   "name": "python3"
  },
  "language_info": {
   "codemirror_mode": {
    "name": "ipython",
    "version": 3
   },
   "file_extension": ".py",
   "mimetype": "text/x-python",
   "name": "python",
   "nbconvert_exporter": "python",
   "pygments_lexer": "ipython3",
   "version": "3.5.4"
  }
 },
 "nbformat": 4,
 "nbformat_minor": 1
}
