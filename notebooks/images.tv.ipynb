{
 "cells": [
  {
   "cell_type": "markdown",
   "metadata": {},
   "source": [
    "# images.tv"
   ]
  },
  {
   "cell_type": "markdown",
   "metadata": {},
   "source": [
    "<a id='notes'></a>\n",
    "\n",
    "## Notes"
   ]
  },
  {
   "cell_type": "markdown",
   "metadata": {},
   "source": [
    "The tv package contains image display utilities.  Many of these have been replaced by the Pythong imexam package, which works in conjunction with both the ginga and ds9 viewers (put links).  In this notebook we will simply provide the task name for imexam that covers the IRAF task.  We leave it to the user to reference the imexam documentation for further information (http://imexam.readthedocs.io/en/latest/)\n",
    "\n",
    "Contents:\n",
    "\n",
    "* [Task1](#task1)\n",
    "* [Task2](#task2)"
   ]
  },
  {
   "cell_type": "markdown",
   "metadata": {},
   "source": [
    "<br>"
   ]
  },
  {
   "cell_type": "markdown",
   "metadata": {},
   "source": [
    "<a id='display'></a>\n",
    "\n",
    "## display"
   ]
  },
  {
   "cell_type": "markdown",
   "metadata": {},
   "source": [
    "**Please review the [Notes](#notes) section above before running any examples in this notebook**\n",
    "\n",
    "display - Load an image or image section into the display\n",
    "\n",
    "see\n",
    "http://imexam.readthedocs.io/en/latest/imexam/examples.html#basic-usage\n",
    "and\n",
    "http://imexam.readthedocs.io/en/latest/imexam/imexam_command.html#cutout-a-simple-fits-image\n",
    "\n"
   ]
  },
  {
   "cell_type": "markdown",
   "metadata": {},
   "source": [
    "<br>"
   ]
  },
  {
   "cell_type": "markdown",
   "metadata": {},
   "source": [
    "<a id='imexamine'></a>\n",
    "\n",
    "## imexamine"
   ]
  },
  {
   "cell_type": "markdown",
   "metadata": {},
   "source": [
    "** Please review the [Notes](#notes) section above before running any examples in this notebook **\n",
    "\n",
    "imexamine - Examine images using image display, graphics, and text (cl.images.tv)\n",
    "\n",
    "see http://imexam.readthedocs.io/en/latest/imexam/iraf_imexam.html"
   ]
  },
  {
   "cell_type": "markdown",
   "metadata": {},
   "source": [
    "<br>"
   ]
  },
  {
   "cell_type": "markdown",
   "metadata": {},
   "source": [
    "<a id='bpmedit'></a>\n",
    "\n",
    "## bpmedit/imedit"
   ]
  },
  {
   "cell_type": "markdown",
   "metadata": {},
   "source": [
    "** Please review the [Notes](#notes) section above before running any examples in this notebook **\n",
    "\n",
    "bpmedit - examine and edit bad pixel masks associated with images (badpixcorr in ginga)     \n",
    "imedit - Examine and edit pixels in images (use fits interface in an interactive imexam session) \n",
    "   ginga *might* have this with a bad pixel editor, called badpixcorr,can select circle or single pixel, but right        now will auto-updated DQ array"
   ]
  },
  {
   "cell_type": "code",
   "execution_count": null,
   "metadata": {
    "collapsed": true
   },
   "outputs": [],
   "source": []
  },
  {
   "cell_type": "code",
   "execution_count": null,
   "metadata": {
    "collapsed": true
   },
   "outputs": [],
   "source": []
  },
  {
   "cell_type": "markdown",
   "metadata": {},
   "source": [
    "<br>"
   ]
  },
  {
   "cell_type": "markdown",
   "metadata": {},
   "source": [
    "<a id='tvmark'></a>\n",
    "\n",
    "## tvmark"
   ]
  },
  {
   "cell_type": "markdown",
   "metadata": {},
   "source": [
    "** Please review the [Notes](#notes) section above before running any examples in this notebook **\n",
    "\n",
    "tvmark - Mark objects on the image display \n",
    "            done with \"x\" or \"y\"? Sort of in ginga?  (called tvmark in ginga)  "
   ]
  },
  {
   "cell_type": "markdown",
   "metadata": {},
   "source": [
    "<br>"
   ]
  },
  {
   "cell_type": "markdown",
   "metadata": {},
   "source": [
    "<a id='wcslab'></a>\n",
    "\n",
    "## wcslab"
   ]
  },
  {
   "cell_type": "markdown",
   "metadata": {},
   "source": [
    "** Please review the [Notes](#notes) section above before running any examples in this notebook **\n",
    "\n",
    "wcslab - Overlay a displayed image with a world coordinate grid  (cl.images.tv)\n",
    "         ask Pey Lian, is this in ginga?  (reproject or wcsaxes, but not accessable in ginga)"
   ]
  },
  {
   "cell_type": "markdown",
   "metadata": {},
   "source": [
    "<br>"
   ]
  },
  {
   "cell_type": "markdown",
   "metadata": {},
   "source": [
    "## Not Replacing"
   ]
  },
  {
   "cell_type": "markdown",
   "metadata": {},
   "source": [
    "* iis subpackage - these utilities are replaced by ginga (https://ginga.readthedocs.io/en/latest/search.html?q=wcs&check_keywords=yes&area=default) and ds9 (http://ds9.si.edu/site/Home.html)"
   ]
  },
  {
   "cell_type": "markdown",
   "metadata": {
    "collapsed": true
   },
   "source": [
    "For questions or comments please see [our github page](https://github.com/spacetelescope/stak).  We encourage and appreciate user feedback."
   ]
  }
 ],
 "metadata": {
  "kernelspec": {
   "display_name": "Python 2",
   "language": "python",
   "name": "python2"
  },
  "language_info": {
   "codemirror_mode": {
    "name": "ipython",
    "version": 2
   },
   "file_extension": ".py",
   "mimetype": "text/x-python",
   "name": "python",
   "nbconvert_exporter": "python",
   "pygments_lexer": "ipython2",
   "version": "2.7.12"
  }
 },
 "nbformat": 4,
 "nbformat_minor": 0
}
