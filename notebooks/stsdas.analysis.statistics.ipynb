{
 "cells": [
  {
   "cell_type": "markdown",
   "metadata": {},
   "source": [
    "# stsdas.analysis.statistics"
   ]
  },
  {
   "cell_type": "markdown",
   "metadata": {},
   "source": [
    "<a id='notes'></a>\n",
    "\n",
    "## Notes"
   ]
  },
  {
   "cell_type": "markdown",
   "metadata": {},
   "source": [
    "blah blah cats blah blah\n",
    "\n",
    "Contents:\n",
    "\n",
    "* [Task1](#task1)\n",
    "* [Task2](#task2)"
   ]
  },
  {
   "cell_type": "markdown",
   "metadata": {},
   "source": [
    "<br>"
   ]
  },
  {
   "cell_type": "markdown",
   "metadata": {},
   "source": [
    "<a id='bhkmethod'></a>\n",
    "\n",
    "## bhkmethod"
   ]
  },
  {
   "cell_type": "markdown",
   "metadata": {},
   "source": [
    "**Please review the [Notes](#notes) section above before running any examples in this notebook**\n",
    "\n",
    "E-ish\n",
    "\n",
    "bhkmethod - Compute the generalized Kendall's tau correlation coefficient.\n",
    "scipy.stats.kendalltau"
   ]
  },
  {
   "cell_type": "code",
   "execution_count": 1,
   "metadata": {
    "collapsed": true
   },
   "outputs": [],
   "source": [
    "# Standard Imports\n",
    "import numpy as np\n",
    "\n",
    "# Astronomy Specific Imports\n",
    "from astropy.io import fits\n",
    "\n",
    "# Plotting Imports/Setup\n",
    "import matplotlib.pyplot as plt\n",
    "%matplotlib inline"
   ]
  },
  {
   "cell_type": "code",
   "execution_count": 2,
   "metadata": {
    "collapsed": true
   },
   "outputs": [],
   "source": [
    "# code goes here"
   ]
  },
  {
   "cell_type": "markdown",
   "metadata": {},
   "source": [
    "<br>"
   ]
  },
  {
   "cell_type": "markdown",
   "metadata": {},
   "source": [
    "<a id='buckleyjames'></a>\n",
    "\n",
    "## buckleyjames/kmestimate"
   ]
  },
  {
   "cell_type": "markdown",
   "metadata": {},
   "source": [
    "** Please review the [Notes](#notes) section above before running any examples in this notebook **\n",
    "\n",
    "H\n",
    "\n",
    "buckleyjames - Compute linear regression coeffs based on Kaplan-Meier residuals.\n",
    "kmestimate - Compute the Kaplan-Meier estimator of a randomly censored \n",
    "lifelines.KaplanMeierFitter might work for one of these? May want to split the tasks back out eventually"
   ]
  },
  {
   "cell_type": "code",
   "execution_count": 4,
   "metadata": {
    "collapsed": true
   },
   "outputs": [],
   "source": [
    "# Standard Imports\n",
    "import numpy as np\n",
    "\n",
    "# Astronomy Specific Imports\n",
    "from astropy.io import fits\n",
    "\n",
    "# Plotting Imports/Setup\n",
    "import matplotlib.pyplot as plt\n",
    "%matplotlib inline"
   ]
  },
  {
   "cell_type": "code",
   "execution_count": 5,
   "metadata": {
    "collapsed": true
   },
   "outputs": [],
   "source": [
    "# code goes here"
   ]
  },
  {
   "cell_type": "markdown",
   "metadata": {},
   "source": [
    "<br>"
   ]
  },
  {
   "cell_type": "markdown",
   "metadata": {},
   "source": [
    "<a id='coxhazard'></a>\n",
    "\n",
    "## coxharzard"
   ]
  },
  {
   "cell_type": "markdown",
   "metadata": {},
   "source": [
    "**Please review the [Notes](#notes) section above before running any examples in this notebook**\n",
    "\n",
    "E-ish\n",
    "\n",
    "coxhazard - Compute the correlation probability by Cox's proportional \n",
    "lifelines.CoxPHFitter"
   ]
  },
  {
   "cell_type": "code",
   "execution_count": 1,
   "metadata": {
    "collapsed": true
   },
   "outputs": [],
   "source": [
    "# Standard Imports\n",
    "import numpy as np\n",
    "\n",
    "# Astronomy Specific Imports\n",
    "from astropy.io import fits\n",
    "\n",
    "# Plotting Imports/Setup\n",
    "import matplotlib.pyplot as plt\n",
    "%matplotlib inline"
   ]
  },
  {
   "cell_type": "code",
   "execution_count": 2,
   "metadata": {
    "collapsed": true
   },
   "outputs": [],
   "source": [
    "# code goes here"
   ]
  },
  {
   "cell_type": "markdown",
   "metadata": {},
   "source": [
    "<br>"
   ]
  },
  {
   "cell_type": "markdown",
   "metadata": {},
   "source": [
    "<a id='emmethod'></a>\n",
    "\n",
    "## emmethod"
   ]
  },
  {
   "cell_type": "markdown",
   "metadata": {},
   "source": [
    "** Please review the [Notes](#notes) section above before running any examples in this notebook **\n",
    "\n",
    "H\n",
    "\n",
    "emmethod - Compute linear regression coeff for a normal distribution of\n",
    "sklearn.mixture.GaussianMixture might be it?"
   ]
  },
  {
   "cell_type": "code",
   "execution_count": 4,
   "metadata": {
    "collapsed": true
   },
   "outputs": [],
   "source": [
    "# Standard Imports\n",
    "import numpy as np\n",
    "\n",
    "# Astronomy Specific Imports\n",
    "from astropy.io import fits\n",
    "\n",
    "# Plotting Imports/Setup\n",
    "import matplotlib.pyplot as plt\n",
    "%matplotlib inline"
   ]
  },
  {
   "cell_type": "code",
   "execution_count": 5,
   "metadata": {
    "collapsed": true
   },
   "outputs": [],
   "source": [
    "# code goes here"
   ]
  },
  {
   "cell_type": "markdown",
   "metadata": {},
   "source": [
    "<br>"
   ]
  },
  {
   "cell_type": "markdown",
   "metadata": {},
   "source": [
    "<a id='kolmov'></a>\n",
    "\n",
    "## kolmov"
   ]
  },
  {
   "cell_type": "markdown",
   "metadata": {},
   "source": [
    "**Please review the [Notes](#notes) section above before running any examples in this notebook**\n",
    "\n",
    "E-ish\n",
    "\n",
    "kolmov - Kolmogorov-Smirnov test for goodness of fit.\n",
    "scipy.stats.kstwobign"
   ]
  },
  {
   "cell_type": "code",
   "execution_count": 1,
   "metadata": {
    "collapsed": true
   },
   "outputs": [],
   "source": [
    "# Standard Imports\n",
    "import numpy as np\n",
    "\n",
    "# Astronomy Specific Imports\n",
    "from astropy.io import fits\n",
    "\n",
    "# Plotting Imports/Setup\n",
    "import matplotlib.pyplot as plt\n",
    "%matplotlib inline"
   ]
  },
  {
   "cell_type": "code",
   "execution_count": 2,
   "metadata": {
    "collapsed": true
   },
   "outputs": [],
   "source": [
    "# code goes here"
   ]
  },
  {
   "cell_type": "markdown",
   "metadata": {},
   "source": [
    "<br>"
   ]
  },
  {
   "cell_type": "markdown",
   "metadata": {},
   "source": [
    "<a id='schmittbin'></a>\n",
    "\n",
    "## schmittbin"
   ]
  },
  {
   "cell_type": "markdown",
   "metadata": {},
   "source": [
    "** Please review the [Notes](#notes) section above before running any examples in this notebook **\n",
    "\n",
    "H\n",
    "\n",
    "schmittbin - Compute regression coefficients by Schmitt's method. \n",
    "Python-asurv?"
   ]
  },
  {
   "cell_type": "code",
   "execution_count": 4,
   "metadata": {
    "collapsed": true
   },
   "outputs": [],
   "source": [
    "# Standard Imports\n",
    "import numpy as np\n",
    "\n",
    "# Astronomy Specific Imports\n",
    "from astropy.io import fits\n",
    "\n",
    "# Plotting Imports/Setup\n",
    "import matplotlib.pyplot as plt\n",
    "%matplotlib inline"
   ]
  },
  {
   "cell_type": "code",
   "execution_count": 5,
   "metadata": {
    "collapsed": true
   },
   "outputs": [],
   "source": [
    "# code goes here"
   ]
  },
  {
   "cell_type": "markdown",
   "metadata": {},
   "source": [
    "<br>"
   ]
  },
  {
   "cell_type": "markdown",
   "metadata": {},
   "source": [
    "<a id='spearman'></a>\n",
    "\n",
    "## spearman"
   ]
  },
  {
   "cell_type": "markdown",
   "metadata": {},
   "source": [
    "**Please review the [Notes](#notes) section above before running any examples in this notebook**\n",
    "\n",
    "E-ish\n",
    "\n",
    "spearman - Compute the generalized Spearman's rho correlation.  \n",
    "scipy.stats.spearmanr"
   ]
  },
  {
   "cell_type": "code",
   "execution_count": 1,
   "metadata": {
    "collapsed": true
   },
   "outputs": [],
   "source": [
    "# Standard Imports\n",
    "import numpy as np\n",
    "\n",
    "# Astronomy Specific Imports\n",
    "from astropy.io import fits\n",
    "\n",
    "# Plotting Imports/Setup\n",
    "import matplotlib.pyplot as plt\n",
    "%matplotlib inline"
   ]
  },
  {
   "cell_type": "code",
   "execution_count": 2,
   "metadata": {
    "collapsed": true
   },
   "outputs": [],
   "source": [
    "# code goes here"
   ]
  },
  {
   "cell_type": "markdown",
   "metadata": {},
   "source": [
    "<br>"
   ]
  },
  {
   "cell_type": "markdown",
   "metadata": {},
   "source": [
    "<a id='twosampt'></a>\n",
    "\n",
    "## twosampt"
   ]
  },
  {
   "cell_type": "markdown",
   "metadata": {},
   "source": [
    "** Please review the [Notes](#notes) section above before running any examples in this notebook **\n",
    "\n",
    "H\n",
    "\n",
    "twosampt - Determine if two sets of data are from the same population.\n",
    "We have at least some of these tests in Python, this will be a bit of work to gather them all"
   ]
  },
  {
   "cell_type": "code",
   "execution_count": 4,
   "metadata": {
    "collapsed": true
   },
   "outputs": [],
   "source": [
    "# Standard Imports\n",
    "import numpy as np\n",
    "\n",
    "# Astronomy Specific Imports\n",
    "from astropy.io import fits\n",
    "\n",
    "# Plotting Imports/Setup\n",
    "import matplotlib.pyplot as plt\n",
    "%matplotlib inline"
   ]
  },
  {
   "cell_type": "code",
   "execution_count": 5,
   "metadata": {
    "collapsed": true
   },
   "outputs": [],
   "source": [
    "# code goes here"
   ]
  },
  {
   "cell_type": "markdown",
   "metadata": {},
   "source": [
    "<br>"
   ]
  },
  {
   "cell_type": "markdown",
   "metadata": {},
   "source": [
    "## Not Replacing"
   ]
  },
  {
   "cell_type": "markdown",
   "metadata": {},
   "source": [
    "* censor - Information about the censoring indicator in survival analysis. Deprecated.\n",
    "* survival - Provide background & overview of survival analysis. Deprecated."
   ]
  },
  {
   "cell_type": "markdown",
   "metadata": {
    "collapsed": true
   },
   "source": [
    "For questions or comments please see [our github page](https://github.com/spacetelescope/stak).  We encourage and appreciate user feedback."
   ]
  }
 ],
 "metadata": {
  "kernelspec": {
   "display_name": "Python 2",
   "language": "python",
   "name": "python2"
  },
  "language_info": {
   "codemirror_mode": {
    "name": "ipython",
    "version": 2
   },
   "file_extension": ".py",
   "mimetype": "text/x-python",
   "name": "python",
   "nbconvert_exporter": "python",
   "pygments_lexer": "ipython2",
   "version": "2.7.12"
  }
 },
 "nbformat": 4,
 "nbformat_minor": 0
}
