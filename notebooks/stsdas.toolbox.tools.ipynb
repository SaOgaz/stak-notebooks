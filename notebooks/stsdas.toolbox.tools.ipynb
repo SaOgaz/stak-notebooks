{
 "cells": [
  {
   "cell_type": "markdown",
   "metadata": {},
   "source": [
    "# stsdas.toolbox.tools"
   ]
  },
  {
   "cell_type": "markdown",
   "metadata": {},
   "source": [
    "General utilities"
   ]
  },
  {
   "cell_type": "markdown",
   "metadata": {},
   "source": [
    "<a id='notes'></a>\n",
    "\n",
    "## Notes"
   ]
  },
  {
   "cell_type": "markdown",
   "metadata": {},
   "source": [
    "**For questions or comments please see** [our github page](https://github.com/spacetelescope/stak).  **We encourage and appreciate user feedback.**\n",
    "\n",
    "**Most of these notebooks rely on basic knowledge of the Astropy FITS I/O module.  If you are unfamiliar with this module please see the** [Astropy FITS I/O user documentation](http://docs.astropy.org/en/stable/io/fits/) **before using this documentation**.\n",
    "\n",
    "Contents:\n",
    "\n",
    "* [base2dec-dec2base](#base2dec-dec2base)\n",
    "* [ddiff](#ddiff)\n",
    "* [epoch-tepoch](#epoch-tepoch)\n",
    "* [fparse](#fparse)\n",
    "* [tprecess](#tprecess)"
   ]
  },
  {
   "cell_type": "markdown",
   "metadata": {},
   "source": [
    "<br>"
   ]
  },
  {
   "cell_type": "markdown",
   "metadata": {},
   "source": [
    "<br>"
   ]
  },
  {
   "cell_type": "markdown",
   "metadata": {},
   "source": [
    "<a id='base2dec-dec2base'></a>\n",
    "\n",
    "## base2dec-dec2base"
   ]
  },
  {
   "cell_type": "markdown",
   "metadata": {},
   "source": [
    "**Please review the** [Notes](#notes) **section above before running any examples in this notebook**\n",
    "\n",
    "The base2dec and dec2base tasks transform strings to decimal integers, and decimal integers to other base strings.  Python has various built ins for these conversion. The ``int()`` function can transform any base to integer, which can then be printed in decimal. For the reverse direction Python contains built in functionality to transform integers to octal, hexidecimal, and binary.\n",
    "\n",
    "* [oct function](https://docs.python.org/3.6/library/functions.html#oct)\n",
    "* [hex function](https://docs.python.org/3.6/library/functions.html#hex)"
   ]
  },
  {
   "cell_type": "code",
   "execution_count": 16,
   "metadata": {},
   "outputs": [
    {
     "name": "stdout",
     "output_type": "stream",
     "text": [
      "177\n",
      "0xb1\n",
      "10110001\n"
     ]
    }
   ],
   "source": [
    "# base 16 to integer\n",
    "a = int(\"b1\", base=16)\n",
    "print(a)\n",
    "\n",
    "# integer to base 16\n",
    "b = hex(177)\n",
    "print(b)\n",
    "\n",
    "# integer to binary\n",
    "c = \"{0:b}\".format(177)\n",
    "print(c)"
   ]
  },
  {
   "cell_type": "markdown",
   "metadata": {},
   "source": [
    "<br>"
   ]
  },
  {
   "cell_type": "markdown",
   "metadata": {},
   "source": [
    "<a id='ddiff'></a>\n",
    "\n",
    "## ddiff"
   ]
  },
  {
   "cell_type": "markdown",
   "metadata": {},
   "source": [
    "**Please review the** [Notes](#notes) **section above before running any examples in this notebook**\n",
    "\n",
    "Ddiff is used to print differences between two directory trees. This can be replicated using [os.walk](https://docs.python.org/3.6/library/os.html#walk) and a little bit of [set maniputaion](https://docs.python.org/3/tutorial/datastructures.html#sets)."
   ]
  },
  {
   "cell_type": "code",
   "execution_count": 11,
   "metadata": {},
   "outputs": [],
   "source": [
    "# Standard Imports\n",
    "import os"
   ]
  },
  {
   "cell_type": "code",
   "execution_count": 12,
   "metadata": {},
   "outputs": [
    {
     "name": "stdout",
     "output_type": "stream",
     "text": [
      "set()\n"
     ]
    }
   ],
   "source": [
    "full_filepaths1 = []\n",
    "full_filepaths2 = []\n",
    "\n",
    "# loop through walk iterator, using current directory\n",
    "# for this example with the sting \".\"\n",
    "for root, dirs, files in os.walk(\".\"):\n",
    "    for filestring in files:\n",
    "        full_filepaths1.append(os.path.join(root,filestring))      \n",
    "        \n",
    "# We will use the same directory for this example, so the set difference should be empty\n",
    "for root, dirs, files in os.walk(\".\"):\n",
    "    for filestring in files:\n",
    "        full_filepaths2.append(os.path.join(root,filestring))\n",
    "        \n",
    "# Now we turn both filepath lists into sets, and take the difference\n",
    "set1 = set(full_filepaths1)\n",
    "set2 = set(full_filepaths2)\n",
    "print(set1 - set2)"
   ]
  },
  {
   "cell_type": "markdown",
   "metadata": {},
   "source": [
    "<br>"
   ]
  },
  {
   "cell_type": "markdown",
   "metadata": {},
   "source": [
    "<a id='epoch-tepoch'></a>\n",
    "\n",
    "## epoch-tepoch"
   ]
  },
  {
   "cell_type": "markdown",
   "metadata": {},
   "source": [
    "**Please review the** [Notes](#notes) **section above before running any examples in this notebook**\n",
    "\n",
    "Epoch and tepoch are used to convert time formats. This functionality is heavily covered by the [Astropy Time module](http://docs.astropy.org/en/stable/time/) and the documentation is well developed.  Alternatively, there is a native Python [datetime module](https://docs.python.org/3/library/datetime.html). Please see the linked documentation for more thorough details.\n",
    "\n",
    "Below we will show an example of how to combine the Astropy `Time` module with the `Table` module. This example uses `Table` mixin columns.  Before expanding on this example for your own use, please read over the [mixin column documentation](http://docs.astropy.org/en/stable/table/mixin_columns.html)."
   ]
  },
  {
   "cell_type": "code",
   "execution_count": 1,
   "metadata": {},
   "outputs": [],
   "source": [
    "# Astronomy Specific Imports\n",
    "from astropy.time import Time\n",
    "from astropy.table import Table"
   ]
  },
  {
   "cell_type": "code",
   "execution_count": 10,
   "metadata": {},
   "outputs": [
    {
     "name": "stdout",
     "output_type": "stream",
     "text": [
      "mjd: [ 55198.  55199.]\n",
      "\n",
      " epoch \n",
      "-------\n",
      "55198.0\n",
      "55199.0\n"
     ]
    }
   ],
   "source": [
    "# Here we setup a simple Astropy Table, and attach some dates\n",
    "# The Time wrapper around the epoch variable is for the Astropy\n",
    "# Time object.\n",
    "objname = ['obj1', 'obj2']\n",
    "epoch = Time(['2010-1-2', '2010-1-3'])\n",
    "tab = Table([objname, epoch], names=['name', 'epoch'])\n",
    "\n",
    "# And here in a single line we can display this object in mjd\n",
    "mjd = tab['epoch'].mjd\n",
    "print(\"mjd: {}\\n\".format(mjd))\n",
    "\n",
    "# To make this change permanent we can re-assign the whole column\n",
    "tab['epoch'] = mjd\n",
    "\n",
    "# Print updated Table column\n",
    "print(tab['epoch'])"
   ]
  },
  {
   "cell_type": "markdown",
   "metadata": {},
   "source": [
    "<br>"
   ]
  },
  {
   "cell_type": "markdown",
   "metadata": {},
   "source": [
    "<a id='fparse'></a>\n",
    "\n",
    "## fparse"
   ]
  },
  {
   "cell_type": "markdown",
   "metadata": {},
   "source": [
    "**Please review the** [Notes](#notes) **section above before running any examples in this notebook**\n",
    "\n",
    "Fparse is used to parse file specifications and leave results in parameters.  This can be done using the `os` [path.split function](https://docs.python.org/3.6/library/os.path.html#os.path.split) and the built in [String split method](https://docs.python.org/3.6/library/stdtypes.html#str.split)."
   ]
  },
  {
   "cell_type": "code",
   "execution_count": 2,
   "metadata": {
    "collapsed": true
   },
   "outputs": [],
   "source": [
    "# Standard Imports\n",
    "import os"
   ]
  },
  {
   "cell_type": "code",
   "execution_count": 7,
   "metadata": {},
   "outputs": [
    {
     "name": "stdout",
     "output_type": "stream",
     "text": [
      "/home/user/snowball\n",
      "stars.txt\n",
      "['stars', 'txt']\n"
     ]
    }
   ],
   "source": [
    "# code goes here\n",
    "my_filepath = \"/home/user/snowball/stars.txt\"\n",
    "directory, filename = os.path.split(my_filepath)\n",
    "print(directory)\n",
    "print(filename)\n",
    "print(filename.split(\".\"))"
   ]
  },
  {
   "cell_type": "markdown",
   "metadata": {},
   "source": [
    "<br>"
   ]
  },
  {
   "cell_type": "markdown",
   "metadata": {},
   "source": [
    "<a id='tprecess'></a>\n",
    "\n",
    "## tprecess"
   ]
  },
  {
   "cell_type": "markdown",
   "metadata": {},
   "source": [
    "**Please review the** [Notes](#notes) **section above before running any examples in this notebook**\n",
    "\n",
    "Tprecess is used to precess images, tables, or lists of coordinates. This capability is part of the [Astropy coordinates package](http://docs.astropy.org/en/stable/coordinates/#transformation).  Please explore the doumentation for more instruction. In particular, see the second example in this section for a transformation example.  For a larger overview of how coordinates are handeled in Astropy please start at the [top of this documentation page](http://docs.astropy.org/en/stable/coordinates/#)."
   ]
  },
  {
   "cell_type": "markdown",
   "metadata": {},
   "source": [
    "<br>"
   ]
  },
  {
   "cell_type": "markdown",
   "metadata": {},
   "source": [
    "<br>"
   ]
  },
  {
   "cell_type": "markdown",
   "metadata": {},
   "source": [
    "## Not Replacing"
   ]
  },
  {
   "cell_type": "markdown",
   "metadata": {},
   "source": [
    "* mkapropos - Make the apropos database. Deprecated.\n",
    "* newredshift - Change the redshift of spectra.\n",
    "* uniqfile - Give a file a unique name prior to archiving. Deprecated.\n",
    "* uniqid - Create a unique character string identifier. Deprecated.\n",
    "* uniqname - Create a unique file name for archiving. Deprecated.\n",
    "* uniqtab - Give all the files in an STSDAS table unique names. Deprecated."
   ]
  }
 ],
 "metadata": {
  "kernelspec": {
   "display_name": "Python 3",
   "language": "python",
   "name": "python3"
  },
  "language_info": {
   "codemirror_mode": {
    "name": "ipython",
    "version": 3
   },
   "file_extension": ".py",
   "mimetype": "text/x-python",
   "name": "python",
   "nbconvert_exporter": "python",
   "pygments_lexer": "ipython3",
   "version": "3.5.4"
  }
 },
 "nbformat": 4,
 "nbformat_minor": 1
}
