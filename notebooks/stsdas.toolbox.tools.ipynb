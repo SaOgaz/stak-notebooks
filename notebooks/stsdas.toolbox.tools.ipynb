{
 "cells": [
  {
   "cell_type": "markdown",
   "metadata": {},
   "source": [
    "# stsdas.toolbox.tools"
   ]
  },
  {
   "cell_type": "markdown",
   "metadata": {},
   "source": [
    "General utilities"
   ]
  },
  {
   "cell_type": "markdown",
   "metadata": {},
   "source": [
    "<a id='notes'></a>\n",
    "\n",
    "## Notes"
   ]
  },
  {
   "cell_type": "markdown",
   "metadata": {},
   "source": [
    "**For questions or comments please see** [our github page](https://github.com/spacetelescope/stak).  **We encourage and appreciate user feedback.**\n",
    "\n",
    "Contents:\n",
    "\n",
    "* [base2dec-dec2base](#base2dec-dec2base)\n",
    "* [ddiff](#ddiff)\n",
    "* [epoch-tepoch](#epoch-tepoch)\n",
    "* [fparse](#fparse)\n",
    "* [newredshift](#newredshift)\n",
    "* [tprecess](#tprecess)"
   ]
  },
  {
   "cell_type": "markdown",
   "metadata": {},
   "source": [
    "<br>"
   ]
  },
  {
   "cell_type": "markdown",
   "metadata": {},
   "source": [
    "<br>"
   ]
  },
  {
   "cell_type": "markdown",
   "metadata": {},
   "source": [
    "<a id='base2dec-dec2base'></a>\n",
    "\n",
    "## base2dec-dec2base"
   ]
  },
  {
   "cell_type": "markdown",
   "metadata": {},
   "source": [
    "**Please review the** [Notes](#notes) **section above before running any examples in this notebook**\n",
    "\n",
    "The base2dec and dec2base tasks transfrom strings to decimal integers, and decimal integers to other base strings.  Python has various built ins for these conversion. The ``int()`` function can transform any base to integer, which can then be printed in decimal. For the reverse direction Python contains built in functionality to transfrom integers to octoal, hexidecimal, and binary.\n",
    "\n",
    "* [oct function](https://docs.python.org/3.6/library/functions.html#oct)\n",
    "* [hex function](https://docs.python.org/3.6/library/functions.html#hex)"
   ]
  },
  {
   "cell_type": "code",
   "execution_count": 16,
   "metadata": {},
   "outputs": [
    {
     "name": "stdout",
     "output_type": "stream",
     "text": [
      "177\n",
      "0xb1\n",
      "10110001\n"
     ]
    }
   ],
   "source": [
    "# base 16 to integer\n",
    "a = int(\"b1\", base=16)\n",
    "print(a)\n",
    "\n",
    "# integer to base 16\n",
    "b = hex(177)\n",
    "print(b)\n",
    "\n",
    "# integer to binary\n",
    "c = \"{0:b}\".format(177)\n",
    "print(c)"
   ]
  },
  {
   "cell_type": "markdown",
   "metadata": {},
   "source": [
    "<br>"
   ]
  },
  {
   "cell_type": "markdown",
   "metadata": {},
   "source": [
    "<a id='ddiff'></a>\n",
    "\n",
    "## ddiff"
   ]
  },
  {
   "cell_type": "markdown",
   "metadata": {},
   "source": [
    "**Please review the** [Notes](#notes) **section above before running any examples in this notebook**\n",
    "\n",
    "Ddiff is used to print differences between two directory trees. This can be replicated using [os.walk](https://docs.python.org/3.6/library/os.html#walk) and a little bit of [set maniputaion](https://docs.python.org/3/tutorial/datastructures.html#sets)"
   ]
  },
  {
   "cell_type": "code",
   "execution_count": 17,
   "metadata": {
    "collapsed": true
   },
   "outputs": [],
   "source": [
    "# Standard Imports\n",
    "import os"
   ]
  },
  {
   "cell_type": "code",
   "execution_count": 39,
   "metadata": {},
   "outputs": [
    {
     "name": "stdout",
     "output_type": "stream",
     "text": [
      "set([])\n"
     ]
    }
   ],
   "source": [
    "full_filepaths1 = []\n",
    "full_filepaths2 = []\n",
    "\n",
    "# loop through walk iterator\n",
    "for root, dirs, files in os.walk(\".\"):\n",
    "    for filestring in files:\n",
    "        full_filepaths1.append(os.path.join(root,filestring))      \n",
    "        \n",
    "# We will use the same directory for this example, so the set difference should be empty\n",
    "for root, dirs, files in os.walk(\".\"):\n",
    "    for filestring in files:\n",
    "        full_filepaths2.append(os.path.join(root,filestring))\n",
    "        \n",
    "# Now we turn both filepath lists into sets, and take the difference\n",
    "set1 = set(full_filepaths1)\n",
    "set2 = set(full_filepaths2)\n",
    "print(set1 - set2)"
   ]
  },
  {
   "cell_type": "markdown",
   "metadata": {},
   "source": [
    "<br>"
   ]
  },
  {
   "cell_type": "markdown",
   "metadata": {},
   "source": [
    "<a id='epoch-tepoch'></a>\n",
    "\n",
    "## epoch-tepoch"
   ]
  },
  {
   "cell_type": "markdown",
   "metadata": {},
   "source": [
    "**Please review the** [Notes](#notes) **section above before running any examples in this notebook**\n",
    "\n",
    "Epoch and tepoch are used to convert time formats. This functionality is heavily covered by the [Astropy time module](http://docs.astropy.org/en/stable/time/) and the Python [datetime module](https://docs.python.org/3/library/datetime.html). Please see the linked documentation for more details."
   ]
  },
  {
   "cell_type": "markdown",
   "metadata": {},
   "source": [
    "<br>"
   ]
  },
  {
   "cell_type": "markdown",
   "metadata": {},
   "source": [
    "<a id='fparse'></a>\n",
    "\n",
    "## fparse"
   ]
  },
  {
   "cell_type": "markdown",
   "metadata": {},
   "source": [
    "**Please review the** [Notes](#notes) **section above before running any examples in this notebook**\n",
    "\n",
    "Fparse is used to parse file specifications and leave results in parameters.  This can be done using the `os` [path.split function](https://docs.python.org/3.6/library/os.path.html#os.path.split) and the built in [String split method](https://docs.python.org/3.6/library/stdtypes.html#str.split)."
   ]
  },
  {
   "cell_type": "code",
   "execution_count": 2,
   "metadata": {
    "collapsed": true
   },
   "outputs": [],
   "source": [
    "# Standard Imports\n",
    "import os"
   ]
  },
  {
   "cell_type": "code",
   "execution_count": 7,
   "metadata": {},
   "outputs": [
    {
     "name": "stdout",
     "output_type": "stream",
     "text": [
      "/home/user/snowball\n",
      "stars.txt\n",
      "['stars', 'txt']\n"
     ]
    }
   ],
   "source": [
    "# code goes here\n",
    "my_filepath = \"/home/user/snowball/stars.txt\"\n",
    "directory, filename = os.path.split(my_filepath)\n",
    "print(directory)\n",
    "print(filename)\n",
    "print(filename.split(\".\"))"
   ]
  },
  {
   "cell_type": "markdown",
   "metadata": {},
   "source": [
    "<br>"
   ]
  },
  {
   "cell_type": "markdown",
   "metadata": {},
   "source": [
    "<a id='newredshift'></a>\n",
    "\n",
    "## newredshift"
   ]
  },
  {
   "cell_type": "markdown",
   "metadata": {},
   "source": [
    "**Please review the** [Notes](#notes) **section above before running any examples in this notebook**"
   ]
  },
  {
   "cell_type": "markdown",
   "metadata": {},
   "source": [
    "![](static/150pxblueconstuc.png \"Work in progress\")"
   ]
  },
  {
   "cell_type": "markdown",
   "metadata": {},
   "source": [
    "<br>"
   ]
  },
  {
   "cell_type": "markdown",
   "metadata": {},
   "source": [
    "<a id='tprecess'></a>\n",
    "\n",
    "## tprecess"
   ]
  },
  {
   "cell_type": "markdown",
   "metadata": {},
   "source": [
    "**Please review the** [Notes](#notes) **section above before running any examples in this notebook**\n",
    "\n",
    "Tprecess is used to precess images, tables, or lists of coordinates. This capability is part of the [Astropy coordinates package](http://docs.astropy.org/en/stable/coordinates/#transformation).  Please explore the doumentation for more instruction."
   ]
  },
  {
   "cell_type": "markdown",
   "metadata": {},
   "source": [
    "<br>"
   ]
  },
  {
   "cell_type": "markdown",
   "metadata": {},
   "source": [
    "<br>"
   ]
  },
  {
   "cell_type": "markdown",
   "metadata": {},
   "source": [
    "## Not Replacing"
   ]
  },
  {
   "cell_type": "markdown",
   "metadata": {},
   "source": [
    "* mkapropos - Make the apropos database. Deprecated.\n",
    "* uniqfile - Give a file a unique name prior to archiving. Deprecated.\n",
    "* uniqid - Create a unique character string identifier. Deprecated.\n",
    "* uniqname - Create a unique file name for archiving. Deprecated.\n",
    "* uniqtab - Give all the files in an STSDAS table unique names. Deprecated."
   ]
  }
 ],
 "metadata": {
  "kernelspec": {
   "display_name": "Python 3",
   "language": "python",
   "name": "python3"
  },
  "language_info": {
   "codemirror_mode": {
    "name": "ipython",
    "version": 3
   },
   "file_extension": ".py",
   "mimetype": "text/x-python",
   "name": "python",
   "nbconvert_exporter": "python",
   "pygments_lexer": "ipython3",
   "version": "3.6.2"
  }
 },
 "nbformat": 4,
 "nbformat_minor": 1
}
