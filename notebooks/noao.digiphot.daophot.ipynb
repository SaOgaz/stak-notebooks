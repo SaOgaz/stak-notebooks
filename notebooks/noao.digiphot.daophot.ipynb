{
 "cells": [
  {
   "cell_type": "markdown",
   "metadata": {},
   "source": [
    "# noao.digiphot.daophot"
   ]
  },
  {
   "cell_type": "markdown",
   "metadata": {},
   "source": [
    "The daophot package is used to preform Dao crowded-field photometry."
   ]
  },
  {
   "cell_type": "markdown",
   "metadata": {},
   "source": [
    "<a id='notes'></a>\n",
    "\n",
    "## Notes"
   ]
  },
  {
   "cell_type": "markdown",
   "metadata": {},
   "source": [
    "**For questions or comments please see** [our github page](https://github.com/spacetelescope/stak).  **We encourage and appreciate user feedback.**\n",
    "\n",
    "Large parts of the daophot functionality has been replaced in the astropy.photutils package.\n",
    "\n",
    "We recommend looking at the photutils documentation to explore the new workflow. But if you are trying to achieve a specific subfunction of daophot, this notebook maybe be useful. The tasks are grouped together when they reference the same doumentation.\n",
    "\n",
    "Contents:\n",
    "\n",
    "* [allstar-peak-phot-psf](#allstar-peak-phot-psf)\n",
    "* [daofind-nstar-substar](#daofind-nstar-substar)\n",
    "* [group-pstselect](#group-pstselect)\n",
    "* [grpselect-pcalc-pconcat-pdump-pselect-psort](#grpselect-pcalc-pconcat-pdump-pselect-psort)\n",
    "* [addstar](#addstar)\n",
    "* [pstselect](#pstselect)"
   ]
  },
  {
   "cell_type": "markdown",
   "metadata": {},
   "source": [
    "<br>"
   ]
  },
  {
   "cell_type": "markdown",
   "metadata": {},
   "source": [
    "<br>"
   ]
  },
  {
   "cell_type": "markdown",
   "metadata": {},
   "source": [
    "<a id='allstar-peak-phot-psf'></a>\n",
    "\n",
    "## allstar-peak-phot-psf"
   ]
  },
  {
   "cell_type": "markdown",
   "metadata": {},
   "source": [
    "**Please review the** [Notes](#notes) **section above before running any examples in this notebook**\n",
    "\n",
    "allstar - Group and fit psf to multiple stars simultaneously, with the initial esitmates of positions already provided.\n",
    "\n",
    "peak - Fit the psf to single stars.\n",
    "\n",
    "phot - Compute sky values and initial magnitudes for a list of stars use photometry call.\n",
    "\n",
    "psf - Compute the point spread function.\n",
    "\n",
    "* see photutils [performing PSF photometry with fixed centriods](https://photutils.readthedocs.io/en/stable/photutils/psf.html#performing-psf-photometry-with-fixed-centroids) and  [photutils.psf.BasicPSFPhotometry](https://photutils.readthedocs.io/en/stable/api/photutils.psf.BasicPSFPhotometry.html#photutils.psf.BasicPSFPhotometry).\n",
    "\n",
    "* photutils [PSF photometry](http://photutils.readthedocs.io/en/stable/photutils/psf.html?highlight=psf%20fitting#psf-photometry) and [photutils.psf.DAOPhotPSFPhotometry](http://photutils.readthedocs.io/en/stable/api/photutils.psf.DAOPhotPSFPhotometry.html#photutils.psf.DAOPhotPSFPhotometry).\n",
    "\n",
    "* [photutils.psf.IterativelySubtractedPSFPhotometry](http://photutils.readthedocs.io/en/stable/api/photutils.psf.IterativelySubtractedPSFPhotometry.html#photutils.psf.IterativelySubtractedPSFPhotometry) "
   ]
  },
  {
   "cell_type": "markdown",
   "metadata": {},
   "source": [
    "<br>"
   ]
  },
  {
   "cell_type": "markdown",
   "metadata": {},
   "source": [
    "<a id='daofind-nstar-substar'></a>\n",
    "\n",
    "## daofind-nstar-substar"
   ]
  },
  {
   "cell_type": "markdown",
   "metadata": {},
   "source": [
    "**Please review the** [Notes](#notes) **section above before running any examples in this notebook**\n",
    "\n",
    "daofind - Find stars in an image using the DAO algorithm.\n",
    "\n",
    "nstar - Fit the psf to predefined groups of stars.\n",
    "\n",
    "substar - Subtract the fitted stars from the original image.\n",
    "\n",
    "* See photutils [source detection](https://photutils.readthedocs.io/en/stable/photutils/detection.html) and [photutils.DAOStarFinder](https://photutils.readthedocs.io/en/stable/api/photutils.DAOStarFinder.html#photutils.DAOStarFinder)."
   ]
  },
  {
   "cell_type": "markdown",
   "metadata": {},
   "source": [
    "<br>"
   ]
  },
  {
   "cell_type": "markdown",
   "metadata": {},
   "source": [
    "<a id='group-pstselect'></a>\n",
    "\n",
    "## group-pstselect"
   ]
  },
  {
   "cell_type": "markdown",
   "metadata": {},
   "source": [
    "**Please review the** [Notes](#notes) **section above before running any examples in this notebook**\n",
    "\n",
    "group\t - Group stars based on positional overlap and signal/noise.\n",
    "\n",
    "* See photutils [groups](https://photutils.readthedocs.io/en/stable/photutils/grouping.html) and [photutils.psf.DAOGroup](https://photutils.readthedocs.io/en/stable/api/photutils.DAOGroup.html#photutils.DAOGroup)."
   ]
  },
  {
   "cell_type": "markdown",
   "metadata": {},
   "source": [
    "<br>"
   ]
  },
  {
   "cell_type": "markdown",
   "metadata": {},
   "source": [
    "<a id='grpselect-pcalc-pconcat-pdump-pselect-psort-pfmerge'></a>\n",
    "\n",
    "## grpselect-pcalc-pconcat-pdump-pselect-psort"
   ]
  },
  {
   "cell_type": "markdown",
   "metadata": {},
   "source": [
    "**Please review the** [Notes](#notes) **section above before running any examples in this notebook**\n",
    "\n",
    "grpselect - Select groups of a specified size from a daophot database.\n",
    "\n",
    "pcalc - Do arithmetic operations on a list of daophot databases.\n",
    "\n",
    "pconcat - Concatenate a list of daophot databases, astropy table.\n",
    "\n",
    "pdump - Print selected fields from a list of daophot databases.\n",
    "\n",
    "pselect - Select records from a daophot database.\n",
    "\n",
    "psort - Sort a daophot database.\n",
    "\n",
    "pfmerge - Merge a list of photometry databases.\n",
    "\n",
    "* The output of ``photutils.psf.DAOGroup``, linked in the [group](#notes) entry, as well as most photutils outputs are an [Astropy Table](http://docs.astropy.org/en/stable/table/index.html).  This class can be [sorted, split, joined, and have a function applied](http://docs.astropy.org/en/stable/table/operations.html).  Basic arithmetic can be done automatically by simply calling the desired columns with the operator of your choice.  See the **tables.ttools** notebook in STAK for the ttools mapping."
   ]
  },
  {
   "cell_type": "markdown",
   "metadata": {},
   "source": [
    "<br>"
   ]
  },
  {
   "cell_type": "markdown",
   "metadata": {},
   "source": [
    "<a id='addstar'></a>\n",
    "\n",
    "## addstar"
   ]
  },
  {
   "cell_type": "markdown",
   "metadata": {},
   "source": [
    "**Please review the** [Notes](#notes) **section above before running any examples in this notebook**\n",
    "\n",
    "addstar - Add artificial stars to an image using the computed psf.\n",
    "\n",
    "![](static/150pxblueconstuc.png \"Work in progress\")"
   ]
  },
  {
   "cell_type": "markdown",
   "metadata": {},
   "source": [
    "<br>"
   ]
  },
  {
   "cell_type": "markdown",
   "metadata": {},
   "source": [
    "<a id='pstselect'></a>\n",
    "\n",
    "## pstselect"
   ]
  },
  {
   "cell_type": "markdown",
   "metadata": {},
   "source": [
    "**Please review the** [Notes](#notes) **section above before running any examples in this notebook**\n",
    "\n",
    "pstselect - Select candidate psf stars based on proximity.\n",
    "\n",
    "* see ``photutils.psf.DAOGroup`` ``find_group`` [method](http://photutils.readthedocs.io/en/stable/api/photutils.psf.DAOGroup.html#photutils.psf.DAOGroup)."
   ]
  },
  {
   "cell_type": "markdown",
   "metadata": {},
   "source": [
    "<br>"
   ]
  },
  {
   "cell_type": "markdown",
   "metadata": {},
   "source": [
    "<br>"
   ]
  },
  {
   "cell_type": "markdown",
   "metadata": {},
   "source": [
    "## Not Replacing"
   ]
  },
  {
   "cell_type": "markdown",
   "metadata": {},
   "source": [
    "Build photutils doc pages, and put in link\n",
    "\n",
    "* centerpars - Edit the centering algorithm parameters. Deprecated.\n",
    "* daoedit - Review/edit algorithm parameters interactively. Deprecated.\n",
    "* daopars - Edit the daophot algorithms parameter set. See [photutils documentation](https://photutils.readthedocs.io/en/stable/).\n",
    "* daotest - Run basic tests on the daophot package tasks. Deprecated.\n",
    "* datapars - Edit the image data dependent parameters. Deprecated\n",
    "* findpars - Edit the star detection parameters. Deprecated.\n",
    "* fitskypars - Edit the sky fitting algorithm parameters. Deprecated.\n",
    "* photpars - Edit the aperture photometry parameters. Deprecated.\n",
    "* setimpars - Save/restore parameter sets for a particular image. Depreciated. \n",
    "* pconvert\t - Convert a text database to a tables database, see [Astropy unified I/O](http://docs.astropy.org/en/stable/io/unified.html)\n",
    "* pexamine - Interactively examine and edit a daophot database. Deprecated, use Astropy Table   tools\n",
    "* prenumber - Renumber stars in a daophot database, see [grpselect-pcalc-pconcat-pdump-pselect-psort](#grpselect-pcalc-pconcat-pdump-pselect-psort)\n",
    "* seepsf - convert a sampled PSF lookup table to a PSF image. Deprecated.\n"
   ]
  }
 ],
 "metadata": {
  "kernelspec": {
   "display_name": "Python 3",
   "language": "python",
   "name": "python3"
  },
  "language_info": {
   "codemirror_mode": {
    "name": "ipython",
    "version": 3
   },
   "file_extension": ".py",
   "mimetype": "text/x-python",
   "name": "python",
   "nbconvert_exporter": "python",
   "pygments_lexer": "ipython3",
   "version": "3.6.2"
  }
 },
 "nbformat": 4,
 "nbformat_minor": 1
}
