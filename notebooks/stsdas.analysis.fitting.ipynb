{
 "cells": [
  {
   "cell_type": "markdown",
   "metadata": {},
   "source": [
    "# stsdas.analysis.fitting"
   ]
  },
  {
   "cell_type": "markdown",
   "metadata": {},
   "source": [
    "Curve fitting tools."
   ]
  },
  {
   "cell_type": "markdown",
   "metadata": {},
   "source": [
    "<a id='notes'></a>\n",
    "\n",
    "## Notes"
   ]
  },
  {
   "cell_type": "markdown",
   "metadata": {},
   "source": [
    "**For questions or comments please see** [our github page](https://github.com/spacetelescope/stak).  **We encourage and appreciate user feedback.**\n",
    "\n",
    "**Most of these notebooks rely on basic knowledge of the Astropy FITS I/O module.  If you are unfamiliar with this module please see the** [Astropy FITS I/O user documentation](http://docs.astropy.org/en/stable/io/fits/) **before using this documentation**.\n",
    "\n",
    "The stsdas.analysis.fitting package is used to do various types of 1D and 2D fitting.  Fitting has been well developed in Python with the [Scipy](https://docs.scipy.org/doc/scipy/reference/) and [Astropy](http://docs.astropy.org/en/stable/) libraries.  We have covered these tasks in other IRAF notebooks, and refer to those entries below.\n",
    "\n",
    "\n",
    "Contents:\n",
    "\n",
    "* [gfit1d-nfit1d-ngaussfit](#gfit1d-nfit1d-ngaussfit)\n",
    "* [function](#function)"
   ]
  },
  {
   "cell_type": "markdown",
   "metadata": {},
   "source": [
    "<br>"
   ]
  },
  {
   "cell_type": "markdown",
   "metadata": {},
   "source": [
    "<br>"
   ]
  },
  {
   "cell_type": "markdown",
   "metadata": {},
   "source": [
    "<a id='gfit1d-nfit1d-ngaussfit'></a>\n",
    "\n",
    "## gfit1d-nfit1d-ngaussfit"
   ]
  },
  {
   "cell_type": "markdown",
   "metadata": {},
   "source": [
    "**Please review the** [Notes](#notes) **section above before running any examples in this notebook**\n",
    "\n",
    "Gfit1d and nfit1d are used to interactively achieve a 1-d fit to an image, tables or lists. For various interactive curve fitting on images please see the [Python imexam](http://imexam.readthedocs.io/en/v0.7.1/imexam/imexam_command.html#). For non-interactive fitting of a table or list, please see the tasks in the **tables.ttools** notebook, and the **images.imfit.fit1d-lineclean** tasks."
   ]
  },
  {
   "cell_type": "markdown",
   "metadata": {},
   "source": [
    "<br>"
   ]
  },
  {
   "cell_type": "markdown",
   "metadata": {},
   "source": [
    "<a id='function'></a>\n",
    "\n",
    "## function"
   ]
  },
  {
   "cell_type": "markdown",
   "metadata": {},
   "source": [
    "**Please review the** [Notes](#notes) **section above before running any examples in this notebook**\n",
    "\n",
    "The function task is used to apply functions to images, tables or lists.  For image function application see **images.imutil.imfunction-imexpr**.  Once the table or list is coverted to a numpy array, the method for applying a fucntion is the same as **images.imutil.imfunction-imexpr**.  See **tables.ttools.taextract-tainsert** for table conversions."
   ]
  },
  {
   "cell_type": "markdown",
   "metadata": {},
   "source": [
    "<br>"
   ]
  },
  {
   "cell_type": "markdown",
   "metadata": {},
   "source": [
    "<br>"
   ]
  },
  {
   "cell_type": "markdown",
   "metadata": {},
   "source": [
    "## Not Replacing"
   ]
  },
  {
   "cell_type": "markdown",
   "metadata": {},
   "source": [
    "* controlpars - Pset with algorithm control parameters. Deprecated.\n",
    "* errorpars - Pset with error-related parameters. Deprecated.\n",
    "* bbodypars - Pset with parameters for black-body function. Deprecated.\n",
    "* cgausspars - Pset with parameters for constrained Gaussians function. Deprecated.\n",
    "* comppars - Pset with parameters for composite (bb + powerlaw) function. Deprecated.\n",
    "* galprofpars - Pset with parameters for galaxy profile function. Deprecated.\n",
    "* gausspars - Pset with parameters for Gaussians function. Deprecated.\n",
    "* i2gaussfit - Iterative 2-d Gaussian fit to noisy images. Deprecated.\n",
    "* n2gaussfit - 2-d Gaussian fit to images. See **images.imfit.imsurfit**\n",
    "* powerpars - Pset with parameters for powerlaw function. Deprecated.\n",
    "* prfit - Print contents of fit tables created by fitting task. Deprecated.\n",
    "* samplepars - Pset with data sampling parameters. Deprecated.\n",
    "* tgausspars - Pset with parameters for two-dim Gaussian function. Deprecated.\n",
    "* twobbpars - Pset with parameters for two-black-body function. Deprecated.\n",
    "* userpars - Pset with parameters for user-defined function. Deprecated."
   ]
  }
 ],
 "metadata": {
  "kernelspec": {
   "display_name": "Python 3",
   "language": "python",
   "name": "python3"
  },
  "language_info": {
   "codemirror_mode": {
    "name": "ipython",
    "version": 3
   },
   "file_extension": ".py",
   "mimetype": "text/x-python",
   "name": "python",
   "nbconvert_exporter": "python",
   "pygments_lexer": "ipython3",
   "version": "3.6.2"
  }
 },
 "nbformat": 4,
 "nbformat_minor": 1
}
