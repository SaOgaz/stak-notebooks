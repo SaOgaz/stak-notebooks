{
 "cells": [
  {
   "cell_type": "markdown",
   "metadata": {},
   "source": [
    "# tables.fitsio"
   ]
  },
  {
   "cell_type": "markdown",
   "metadata": {},
   "source": [
    "The tables.fitsio package contains IO utilities for FITS and GEIS images."
   ]
  },
  {
   "cell_type": "markdown",
   "metadata": {},
   "source": [
    "<a id='notes'></a>\n",
    "\n",
    "## Notes"
   ]
  },
  {
   "cell_type": "markdown",
   "metadata": {},
   "source": [
    "**For questions or comments please see** [our github page](https://github.com/spacetelescope/stak).  **We encourage and appreciate user feedback.**\n",
    "\n",
    "**Most of these notebooks rely on basic knowledge of the Astropy FITS I/O module.  If you are unfamiliar with this module please see the** [Astropy FITS I/O user documentation](http://docs.astropy.org/en/stable/io/fits/) **before using this documentation**.\n",
    "\n",
    "Many of the tasks in the this package are no longer in common usage and are not covered here.  If there is a task you would like to request please contact the [STAK team](http://stak.readthedocs.io/en/latest/).\n",
    "\n",
    "Contents:\n",
    "\n",
    "* [catfits](#catfits)\n",
    "* [stwfits](#stwfits)"
   ]
  },
  {
   "cell_type": "markdown",
   "metadata": {},
   "source": [
    "<br>"
   ]
  },
  {
   "cell_type": "markdown",
   "metadata": {},
   "source": [
    "<a id='catfits'></a>\n",
    "\n",
    "## catfits"
   ]
  },
  {
   "cell_type": "markdown",
   "metadata": {},
   "source": [
    "**Please review the** [Notes](#notes) **section above before running any examples in this notebook**\n",
    "\n",
    "The catfits task was used to quickly produce a catalog of fits headers from a file list.  In the below example we provide the summary catalog provided by ``astropy.io.fits``."
   ]
  },
  {
   "cell_type": "code",
   "execution_count": 1,
   "metadata": {},
   "outputs": [],
   "source": [
    "# Standard Imports\n",
    "import glob\n",
    "\n",
    "# Astronomy Specific Imports\n",
    "from astropy.io import fits"
   ]
  },
  {
   "cell_type": "code",
   "execution_count": 2,
   "metadata": {},
   "outputs": [
    {
     "name": "stdout",
     "output_type": "stream",
     "text": [
      "Filename: ../data/imstack_out.fits\n",
      "No.    Name      Ver    Type      Cards   Dimensions   Format\n",
      "  0  SCI           1 PrimaryHDU     199   (4096, 2048, 2)   float32   \n",
      "Filename: ../data/jczgx1ppq_flc.fits\n",
      "No.    Name      Ver    Type      Cards   Dimensions   Format\n",
      "  0  PRIMARY       1 PrimaryHDU     279   ()      \n",
      "  1  SCI           1 ImageHDU       200   (4096, 2048)   float32   \n",
      "  2  ERR           1 ImageHDU        56   (4096, 2048)   float32   \n",
      "  3  DQ            1 ImageHDU        48   (4096, 2048)   int16   \n",
      "  4  SCI           2 ImageHDU       198   (4096, 2048)   float32   \n",
      "  5  ERR           2 ImageHDU        56   (4096, 2048)   float32   \n",
      "  6  DQ            2 ImageHDU        48   (4096, 2048)   int16   \n",
      "  7  D2IMARR       1 ImageHDU        15   (64, 32)   float32   \n",
      "  8  D2IMARR       2 ImageHDU        15   (64, 32)   float32   \n",
      "  9  D2IMARR       3 ImageHDU        15   (64, 32)   float32   \n",
      " 10  D2IMARR       4 ImageHDU        15   (64, 32)   float32   \n",
      " 11  WCSDVARR      1 ImageHDU        15   (64, 32)   float32   \n",
      " 12  WCSDVARR      2 ImageHDU        15   (64, 32)   float32   \n",
      " 13  WCSDVARR      3 ImageHDU        15   (64, 32)   float32   \n",
      " 14  WCSDVARR      4 ImageHDU        15   (64, 32)   float32   \n",
      " 15  WCSCORR       1 BinTableHDU     59   14R x 24C   [40A, I, A, 24A, 24A, 24A, 24A, D, D, D, D, D, D, D, D, 24A, 24A, D, D, D, D, J, 40A, 128A]   \n",
      "Filename: ../data/jczgx1ptq_flc.fits\n",
      "No.    Name      Ver    Type      Cards   Dimensions   Format\n",
      "  0  PRIMARY       1 PrimaryHDU     279   ()      \n",
      "  1  SCI           1 ImageHDU       200   (4096, 2048)   float32   \n",
      "  2  ERR           1 ImageHDU        56   (4096, 2048)   float32   \n",
      "  3  DQ            1 ImageHDU        48   (4096, 2048)   int16   \n",
      "  4  SCI           2 ImageHDU       198   (4096, 2048)   float32   \n",
      "  5  ERR           2 ImageHDU        56   (4096, 2048)   float32   \n",
      "  6  DQ            2 ImageHDU        48   (4096, 2048)   int16   \n",
      "  7  D2IMARR       1 ImageHDU        15   (64, 32)   float32   \n",
      "  8  D2IMARR       2 ImageHDU        15   (64, 32)   float32   \n",
      "  9  D2IMARR       3 ImageHDU        15   (64, 32)   float32   \n",
      " 10  D2IMARR       4 ImageHDU        15   (64, 32)   float32   \n",
      " 11  WCSDVARR      1 ImageHDU        15   (64, 32)   float32   \n",
      " 12  WCSDVARR      2 ImageHDU        15   (64, 32)   float32   \n",
      " 13  WCSDVARR      3 ImageHDU        15   (64, 32)   float32   \n",
      " 14  WCSDVARR      4 ImageHDU        15   (64, 32)   float32   \n",
      " 15  WCSCORR       1 BinTableHDU     59   14R x 24C   [40A, I, A, 24A, 24A, 24A, 24A, D, D, D, D, D, D, D, D, 24A, 24A, D, D, D, D, J, 40A, 128A]   \n",
      "Filename: ../data/jczgx1q1q_flc.fits\n",
      "No.    Name      Ver    Type      Cards   Dimensions   Format\n",
      "  0  PRIMARY       1 PrimaryHDU     279   ()      \n",
      "  1  SCI           1 ImageHDU       200   (4096, 2048)   float32   \n",
      "  2  ERR           1 ImageHDU        56   (4096, 2048)   float32   \n",
      "  3  DQ            1 ImageHDU        48   (4096, 2048)   int16   \n",
      "  4  SCI           2 ImageHDU       198   (4096, 2048)   float32   \n",
      "  5  ERR           2 ImageHDU        56   (4096, 2048)   float32   \n",
      "  6  DQ            2 ImageHDU        48   (4096, 2048)   int16   \n",
      "  7  D2IMARR       1 ImageHDU        15   (64, 32)   float32   \n",
      "  8  D2IMARR       2 ImageHDU        15   (64, 32)   float32   \n",
      "  9  D2IMARR       3 ImageHDU        15   (64, 32)   float32   \n",
      " 10  D2IMARR       4 ImageHDU        15   (64, 32)   float32   \n",
      " 11  WCSDVARR      1 ImageHDU        15   (64, 32)   float32   \n",
      " 12  WCSDVARR      2 ImageHDU        15   (64, 32)   float32   \n",
      " 13  WCSDVARR      3 ImageHDU        15   (64, 32)   float32   \n",
      " 14  WCSDVARR      4 ImageHDU        15   (64, 32)   float32   \n",
      " 15  WCSCORR       1 BinTableHDU     59   14R x 24C   [40A, I, A, 24A, 24A, 24A, 24A, D, D, D, D, D, D, D, D, 24A, 24A, D, D, D, D, J, 40A, 128A]   \n",
      "Filename: ../data/nnicqr34r1q_blv_tmp.fits\n",
      "No.    Name      Ver    Type      Cards   Dimensions   Format\n",
      "  0  PRIMARY       1 PrimaryHDU     314   ()      \n",
      "  1  SCI           1 ImageHDU        89   (4096, 2051)   float32   \n",
      "  2  ERR           1 ImageHDU        45   (4096, 2051)   float32   \n",
      "  3  DQ            1 ImageHDU        71   (4096, 2051)   int16   \n",
      "  4  SCI           2 ImageHDU        89   (4096, 2051)   float32   \n",
      "  5  ERR           2 ImageHDU        45   (4096, 2051)   float32   \n",
      "  6  DQ            2 ImageHDU        71   (4096, 2051)   int16   \n",
      "Filename: ../data/nnicqr34rgq_blv_tmp.fits\n",
      "No.    Name      Ver    Type      Cards   Dimensions   Format\n",
      "  0  PRIMARY       1 PrimaryHDU     314   ()      \n",
      "  1  SCI           1 ImageHDU        89   (4096, 2051)   float32   \n",
      "  2  ERR           1 ImageHDU        45   (4096, 2051)   float32   \n",
      "  3  DQ            1 ImageHDU        71   (4096, 2051)   int16   \n",
      "  4  SCI           2 ImageHDU        89   (4096, 2051)   float32   \n",
      "  5  ERR           2 ImageHDU        45   (4096, 2051)   float32   \n",
      "  6  DQ            2 ImageHDU        71   (4096, 2051)   int16   \n",
      "Filename: ../data/nnicqr34rvq_blv_tmp.fits\n",
      "No.    Name      Ver    Type      Cards   Dimensions   Format\n",
      "  0  PRIMARY       1 PrimaryHDU     314   ()      \n",
      "  1  SCI           1 ImageHDU        89   (4096, 2051)   float32   \n",
      "  2  ERR           1 ImageHDU        45   (4096, 2051)   float32   \n",
      "  3  DQ            1 ImageHDU        71   (4096, 2051)   int16   \n",
      "  4  SCI           2 ImageHDU        89   (4096, 2051)   float32   \n",
      "  5  ERR           2 ImageHDU        45   (4096, 2051)   float32   \n",
      "  6  DQ            2 ImageHDU        71   (4096, 2051)   int16   \n",
      "Filename: ../data/stfhist.fits\n",
      "No.    Name      Ver    Type      Cards   Dimensions   Format\n",
      "  0  PRIMARY       1 PrimaryHDU     266   ()      \n",
      "  1  SCI           1 ImageHDU       140   (1014, 1014)   float32   \n",
      "  2  ERR           1 ImageHDU        51   (1014, 1014)   float32   \n",
      "  3  DQ            1 ImageHDU        43   (1014, 1014)   int16   \n",
      "  4  SAMP          1 ImageHDU        37   (1014, 1014)   int16   \n",
      "  5  TIME          1 ImageHDU        37   (1014, 1014)   float32   \n",
      "  6  WCSCORR       1 BinTableHDU     59   7R x 24C   [40A, I, A, 24A, 24A, 24A, 24A, D, D, D, D, D, D, D, D, 24A, 24A, D, D, D, D, J, 40A, 128A]   \n",
      "Filename: ../data/wfc3data_flt.fits\n",
      "No.    Name      Ver    Type      Cards   Dimensions   Format\n",
      "  0  PRIMARY       1 PrimaryHDU     265   ()      \n",
      "  1  SCI           1 ImageHDU       140   (1014, 1014)   float32   \n",
      "  2  ERR           1 ImageHDU        51   (1014, 1014)   float32   \n",
      "  3  DQ            1 ImageHDU        43   (1014, 1014)   int16   \n",
      "  4  SAMP          1 ImageHDU        37   (1014, 1014)   int16   \n",
      "  5  TIME          1 ImageHDU        37   (1014, 1014)   float32   \n",
      "  6  WCSCORR       1 BinTableHDU     59   7R x 24C   [40A, I, A, 24A, 24A, 24A, 24A, D, D, D, D, D, D, D, D, 24A, 24A, D, D, D, D, J, 40A, 128A]   \n"
     ]
    }
   ],
   "source": [
    "# Change these values to your desired data files, glob will capture all wildcard matches\n",
    "test_data = glob.glob('../data/*.fits')\n",
    "\n",
    "for filename in test_data:\n",
    "    fits.info(filename)"
   ]
  },
  {
   "cell_type": "markdown",
   "metadata": {},
   "source": [
    "<br>"
   ]
  },
  {
   "cell_type": "markdown",
   "metadata": {},
   "source": [
    "<a id='stwfits'></a>\n",
    "\n",
    "## stwfits"
   ]
  },
  {
   "cell_type": "markdown",
   "metadata": {},
   "source": [
    "**Please review the** [Notes](#notes) **section above before running any examples in this notebook**\n",
    "\n",
    "stwfits is used to translate a GEIS (Generic Edited Information Set), STSDAS tables, or ascii file to an standard FITS(Flexible Image Transport System) format.  Here we will cover how to convert a GEIS file to a FITS files using the ``stsci.tools.readgeis`` function.  There are two ways to use this function, through the command line, or through a Python session or script.  For instructions on running this task on the command line see the ``stsci.tools`` [Conversion Utilities documentation](http://ssb.stsci.edu/doc/stsci_python_dev/stsci.tools.doc/html/convert.html).  Below we show an example of running this task in a python session.  You may or may not need to byteswap your image data depending on which system it was originally written on.\n",
    "\n",
    "Below we show an example with a local file. **This example will not run unless the filename is replaced with one of your local files.**"
   ]
  },
  {
   "cell_type": "code",
   "execution_count": 2,
   "metadata": {},
   "outputs": [],
   "source": [
    "# Standard Imports\n",
    "import glob\n",
    "\n",
    "# Astronomy Specific Imports\n",
    "from stsci.tools import readgeis"
   ]
  },
  {
   "cell_type": "code",
   "execution_count": 3,
   "metadata": {},
   "outputs": [
    {
     "name": "stdout",
     "output_type": "stream",
     "text": [
      "===================================\n",
      "= WARNING:                        =\n",
      "=  Input image:                   =\n",
      "../data/x31g0108t.c0h[1]\n",
      "=  had floating point data values =\n",
      "=  of NaN and/or Inf.             =\n",
      "===================================\n",
      "===================================\n",
      "=  This file may have been        =\n",
      "=  written out on a platform      =\n",
      "=  with a different byte-order.   =\n",
      "=                                 =\n",
      "=  Please verify that the values  =\n",
      "=  are correct or apply the       =\n",
      "=  '.byteswap()' method.          =\n",
      "===================================\n",
      "\n"
     ]
    }
   ],
   "source": [
    "filename = \"x31g0108t.c0h\"\n",
    "hdulist = readgeis.readgeis(filename)\n",
    "hdulist[1].data = hdulist[1].data.byteswap()\n",
    "del hdulist[1].header['CD1_1']\n",
    "del hdulist[1].header['CD2_2']\n",
    "hdulist.writeto('stwfits_out.fits', overwrite = True)"
   ]
  },
  {
   "cell_type": "markdown",
   "metadata": {},
   "source": [
    "<br>"
   ]
  },
  {
   "cell_type": "markdown",
   "metadata": {},
   "source": [
    "## Not Replacing"
   ]
  },
  {
   "cell_type": "markdown",
   "metadata": {},
   "source": [
    "* fits_example - used to provide more documentation for stwfits and strfits\n",
    "* fitscopy - used to produce a copy of a fits file, producing a copy of a fits file is straightforward in Python and the command line using exsisting libraries\n",
    "* geis - used to provide a description of GEIS file format\n",
    "* gftoxdim - GEIS conversion, no longer in common usage\n",
    "* strfits - converts FITS files to GEIS or STSDAS tables, no longer in common usage\n",
    "* xdimtogf - convert single group GEIS to multigroup GEIS, no longer in common usage"
   ]
  }
 ],
 "metadata": {
  "kernelspec": {
   "display_name": "Python 3",
   "language": "python",
   "name": "python3"
  },
  "language_info": {
   "codemirror_mode": {
    "name": "ipython",
    "version": 3
   },
   "file_extension": ".py",
   "mimetype": "text/x-python",
   "name": "python",
   "nbconvert_exporter": "python",
   "pygments_lexer": "ipython3",
   "version": "3.5.4"
  }
 },
 "nbformat": 4,
 "nbformat_minor": 1
}
