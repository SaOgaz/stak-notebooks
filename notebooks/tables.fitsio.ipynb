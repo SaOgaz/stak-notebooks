{
 "cells": [
  {
   "cell_type": "markdown",
   "metadata": {},
   "source": [
    "# tables.fitsio"
   ]
  },
  {
   "cell_type": "markdown",
   "metadata": {},
   "source": [
    "The tables.fitsio package contains IO utilities for FITS and GEIS images."
   ]
  },
  {
   "cell_type": "markdown",
   "metadata": {},
   "source": [
    "<a id='notes'></a>\n",
    "\n",
    "## Notes"
   ]
  },
  {
   "cell_type": "markdown",
   "metadata": {},
   "source": [
    "**For questions or comments please see** [our github page](https://github.com/spacetelescope/stak).  **We encourage and appreciate user feedback.**\n",
    "\n",
    "Many of the tasks in the this package are no longer in common usage and are not covered here.  If there is a task you would like to request please contact the [STAK team](http://stak.readthedocs.io/en/latest/).\n",
    "\n",
    "Contents:\n",
    "\n",
    "* [catfits](#catfits)\n",
    "* [stwfits](#stwfits)"
   ]
  },
  {
   "cell_type": "markdown",
   "metadata": {},
   "source": [
    "<br>"
   ]
  },
  {
   "cell_type": "markdown",
   "metadata": {},
   "source": [
    "<a id='catfits'></a>\n",
    "\n",
    "## catfits"
   ]
  },
  {
   "cell_type": "markdown",
   "metadata": {},
   "source": [
    "**Please review the** [Notes](#notes) **section above before running any examples in this notebook**\n",
    "\n",
    "The catfits task was used to quickly produce a catalog of fits headers from a file list.  In the below example we provide the summary catalog provided by ``astropy.io.fits``."
   ]
  },
  {
   "cell_type": "code",
   "execution_count": 1,
   "metadata": {
    "collapsed": true
   },
   "outputs": [],
   "source": [
    "# Standard Imports\n",
    "import glob\n",
    "\n",
    "# Astronomy Specific Imports\n",
    "from astropy.io import fits"
   ]
  },
  {
   "cell_type": "code",
   "execution_count": 2,
   "metadata": {},
   "outputs": [
    {
     "name": "stdout",
     "output_type": "stream",
     "text": [
      "Filename: /eng/ssb/iraf_transition/test_data/iczgs3ygq_flt.fits\n",
      "No.    Name         Type      Cards   Dimensions   Format\n",
      "  0  PRIMARY     PrimaryHDU     266   ()      \n",
      "  1  SCI         ImageHDU       140   (1014, 1014)   float32   \n",
      "  2  ERR         ImageHDU        51   (1014, 1014)   float32   \n",
      "  3  DQ          ImageHDU        43   (1014, 1014)   int16   \n",
      "  4  SAMP        ImageHDU        37   (1014, 1014)   int16   \n",
      "  5  TIME        ImageHDU        37   (1014, 1014)   float32   \n",
      "  6  WCSCORR     BinTableHDU     59   7R x 24C   [40A, I, A, 24A, 24A, 24A, 24A, D, D, D, D, D, D, D, D, 24A, 24A, D, D, D, D, J, 40A, 128A]   \n",
      "Filename: /eng/ssb/iraf_transition/test_data/iczgs3ygq_newdtype_flt.fits\n",
      "No.    Name         Type      Cards   Dimensions   Format\n",
      "  0  PRIMARY     PrimaryHDU     266   ()      \n",
      "  1  SCI         ImageHDU       140   (1014, 1014)   int32   \n",
      "  2  ERR         ImageHDU        51   (1014, 1014)   float32   \n",
      "  3  DQ          ImageHDU        43   (1014, 1014)   int16   \n",
      "  4  SAMP        ImageHDU        37   (1014, 1014)   int16   \n",
      "  5  TIME        ImageHDU        37   (1014, 1014)   float32   \n",
      "  6  WCSCORR     BinTableHDU     59   7R x 24C   [40A, I, A, 24A, 24A, 24A, 24A, D, D, D, D, D, D, D, D, 24A, 24A, D, D, D, D, J, 40A, 128A]   \n",
      "Filename: /eng/ssb/iraf_transition/test_data/iczgs3y5q_flt.fits\n",
      "No.    Name         Type      Cards   Dimensions   Format\n",
      "  0  PRIMARY     PrimaryHDU     265   ()      \n",
      "  1  SCI         ImageHDU       140   (1014, 1014)   float32   \n",
      "  2  ERR         ImageHDU        51   (1014, 1014)   float32   \n",
      "  3  DQ          ImageHDU        43   (1014, 1014)   int16   \n",
      "  4  SAMP        ImageHDU        37   (1014, 1014)   int16   \n",
      "  5  TIME        ImageHDU        37   (1014, 1014)   float32   \n",
      "  6  WCSCORR     BinTableHDU     59   7R x 24C   [40A, I, A, 24A, 24A, 24A, 24A, D, D, D, D, D, D, D, D, 24A, 24A, D, D, D, D, J, 40A, 128A]   \n",
      "Filename: /eng/ssb/iraf_transition/test_data/imarith_out.fits\n",
      "No.    Name         Type      Cards   Dimensions   Format\n",
      "  0  PRIMARY     PrimaryHDU     266   ()      \n",
      "  1  SCI         ImageHDU       140   (1014, 1014)   float32   \n",
      "  2  ERR         ImageHDU        51   (1014, 1014)   float32   \n",
      "  3  DQ          ImageHDU        43   (1014, 1014)   int16   \n",
      "  4  SAMP        ImageHDU        37   (1014, 1014)   int16   \n",
      "  5  TIME        ImageHDU        37   (1014, 1014)   float32   \n",
      "  6  WCSCORR     BinTableHDU     59   7R x 24C   [40A, I, A, 24A, 24A, 24A, 24A, D, D, D, D, D, D, D, D, 24A, 24A, D, D, D, D, J, 40A, 128A]   \n",
      "Filename: /eng/ssb/iraf_transition/test_data/x31g0108t.fits\n",
      "No.    Name         Type      Cards   Dimensions   Format\n",
      "  0  PRIMARY     PrimaryHDU     112   ()      \n",
      "  1  SCI         ImageHDU        28   (256, 256)   float32   \n",
      "Filename: /eng/ssb/iraf_transition/test_data/imfunction2_out.fits\n",
      "No.    Name         Type      Cards   Dimensions   Format\n",
      "  0  PRIMARY     PrimaryHDU     266   ()      \n",
      "  1  SCI         ImageHDU       140   (1014, 1014)   float64   \n",
      "  2  ERR         ImageHDU        51   (1014, 1014)   float32   \n",
      "  3  DQ          ImageHDU        43   (1014, 1014)   int16   \n",
      "  4  SAMP        ImageHDU        37   (1014, 1014)   int16   \n",
      "  5  TIME        ImageHDU        37   (1014, 1014)   float32   \n",
      "  6  WCSCORR     BinTableHDU     59   7R x 24C   [40A, I, A, 24A, 24A, 24A, 24A, D, D, D, D, D, D, D, D, 24A, 24A, D, D, D, D, J, 40A, 128A]   \n",
      "Filename: /eng/ssb/iraf_transition/test_data/jczgx1q1q_flc.fits\n",
      "No.    Name         Type      Cards   Dimensions   Format\n",
      "  0  PRIMARY     PrimaryHDU     270   ()      \n",
      "  1  SCI         ImageHDU       200   (4096, 2048)   float32   \n",
      "  2  ERR         ImageHDU        56   (4096, 2048)   float32   \n",
      "  3  DQ          ImageHDU        48   (4096, 2048)   int16   \n",
      "  4  SCI         ImageHDU       198   (4096, 2048)   float32   \n",
      "  5  ERR         ImageHDU        56   (4096, 2048)   float32   \n",
      "  6  DQ          ImageHDU        48   (4096, 2048)   int16   \n",
      "  7  D2IMARR     ImageHDU        15   (64, 32)   float32   \n",
      "  8  D2IMARR     ImageHDU        15   (64, 32)   float32   \n",
      "  9  D2IMARR     ImageHDU        15   (64, 32)   float32   \n",
      " 10  D2IMARR     ImageHDU        15   (64, 32)   float32   \n",
      " 11  WCSDVARR    ImageHDU        15   (64, 32)   float32   \n",
      " 12  WCSDVARR    ImageHDU        15   (64, 32)   float32   \n",
      " 13  WCSDVARR    ImageHDU        15   (64, 32)   float32   \n",
      " 14  WCSDVARR    ImageHDU        15   (64, 32)   float32   \n",
      " 15  WCSCORR     BinTableHDU     59   14R x 24C   [40A, I, A, 24A, 24A, 24A, 24A, D, D, D, D, D, D, D, D, 24A, 24A, D, D, D, D, J, 40A, 128A]   \n",
      "Filename: /eng/ssb/iraf_transition/test_data/jczgx1ppq_flc.fits\n",
      "No.    Name         Type      Cards   Dimensions   Format\n",
      "  0  PRIMARY     PrimaryHDU     270   ()      \n",
      "  1  SCI         ImageHDU       200   (4096, 2048)   float32   \n",
      "  2  ERR         ImageHDU        56   (4096, 2048)   float32   \n",
      "  3  DQ          ImageHDU        48   (4096, 2048)   int16   \n",
      "  4  SCI         ImageHDU       198   (4096, 2048)   float32   \n",
      "  5  ERR         ImageHDU        56   (4096, 2048)   float32   \n",
      "  6  DQ          ImageHDU        48   (4096, 2048)   int16   \n",
      "  7  D2IMARR     ImageHDU        15   (64, 32)   float32   \n",
      "  8  D2IMARR     ImageHDU        15   (64, 32)   float32   \n",
      "  9  D2IMARR     ImageHDU        15   (64, 32)   float32   \n",
      " 10  D2IMARR     ImageHDU        15   (64, 32)   float32   \n",
      " 11  WCSDVARR    ImageHDU        15   (64, 32)   float32   \n",
      " 12  WCSDVARR    ImageHDU        15   (64, 32)   float32   \n",
      " 13  WCSDVARR    ImageHDU        15   (64, 32)   float32   \n",
      " 14  WCSDVARR    ImageHDU        15   (64, 32)   float32   \n",
      " 15  WCSCORR     BinTableHDU     59   14R x 24C   [40A, I, A, 24A, 24A, 24A, 24A, D, D, D, D, D, D, D, D, 24A, 24A, D, D, D, D, J, 40A, 128A]   \n",
      "Filename: /eng/ssb/iraf_transition/test_data/imcopy_out.fits\n",
      "No.    Name         Type      Cards   Dimensions   Format\n",
      "  0  PRIMARY     PrimaryHDU     266   ()      \n",
      "  1  SCI         ImageHDU       140   (1014, 1014)   float32   \n",
      "  2  ERR         ImageHDU        51   (1014, 1014)   float32   \n",
      "  3  DQ          ImageHDU        43   (1014, 1014)   int16   \n",
      "  4  SAMP        ImageHDU        37   (1014, 1014)   int16   \n",
      "  5  TIME        ImageHDU        37   (1014, 1014)   float32   \n",
      "  6  WCSCORR     BinTableHDU     59   7R x 24C   [40A, I, A, 24A, 24A, 24A, 24A, D, D, D, D, D, D, D, D, 24A, 24A, D, D, D, D, J, 40A, 128A]   \n",
      "Filename: /eng/ssb/iraf_transition/test_data/imfunction_out.fits\n",
      "No.    Name         Type      Cards   Dimensions   Format\n",
      "  0  PRIMARY     PrimaryHDU     266   ()      \n",
      "  1  SCI         ImageHDU       140   (1014, 1014)   float32   \n",
      "  2  ERR         ImageHDU        51   (1014, 1014)   float32   \n",
      "  3  DQ          ImageHDU        43   (1014, 1014)   int16   \n",
      "  4  SAMP        ImageHDU        37   (1014, 1014)   int16   \n",
      "  5  TIME        ImageHDU        37   (1014, 1014)   float32   \n",
      "  6  WCSCORR     BinTableHDU     59   7R x 24C   [40A, I, A, 24A, 24A, 24A, 24A, D, D, D, D, D, D, D, D, 24A, 24A, D, D, D, D, J, 40A, 128A]   \n",
      "Filename: /eng/ssb/iraf_transition/test_data/imslice_out2.fits\n",
      "No.    Name         Type      Cards   Dimensions   Format\n",
      "  0  SCI         PrimaryHDU     199   (4096, 2048, 1)   float32   \n",
      "Filename: /eng/ssb/iraf_transition/test_data/hselect_test.fits\n",
      "No.    Name         Type      Cards   Dimensions   Format\n",
      "  0  PRIMARY     PrimaryHDU       8   (6, 4)   float64   \n",
      "  1              ImageHDU         9   (6, 4)   float64   \n",
      "  2              ImageHDU         8   (6, 4)   float64   \n",
      "Filename: /eng/ssb/iraf_transition/test_data/imstack_out.fits\n",
      "No.    Name         Type      Cards   Dimensions   Format\n",
      "  0  SCI         PrimaryHDU     199   (4096, 2048, 2)   float32   \n",
      "Filename: /eng/ssb/iraf_transition/test_data/imslice_out1.fits\n",
      "No.    Name         Type      Cards   Dimensions   Format\n",
      "  0  SCI         PrimaryHDU     199   (4096, 2048, 1)   float32   \n",
      "Filename: /eng/ssb/iraf_transition/test_data/tester.fits\n",
      "No.    Name         Type      Cards   Dimensions   Format\n",
      "  0  PRIMARY     PrimaryHDU     270   ()      \n",
      "  1  SCI         ImageHDU       200   (4096, 2048)   float32   \n",
      "  2  ERR         ImageHDU        56   (4096, 2048)   float32   \n",
      "  3  DQ          ImageHDU        48   (4096, 2048)   int16   \n",
      "  4  SCI         ImageHDU       198   (4096, 2048)   float32   \n",
      "  5  ERR         ImageHDU        56   (4096, 2048)   float32   \n",
      "  6  DQ          ImageHDU        48   (4096, 2048)   int16   \n",
      "  7  D2IMARR     ImageHDU        15   (64, 32)   float32   \n",
      "  8  D2IMARR     ImageHDU        15   (64, 32)   float32   \n",
      "  9  D2IMARR     ImageHDU        15   (64, 32)   float32   \n",
      " 10  D2IMARR     ImageHDU        15   (64, 32)   float32   \n",
      " 11  WCSDVARR    ImageHDU        15   (64, 32)   float32   \n",
      " 12  WCSDVARR    ImageHDU        15   (64, 32)   float32   \n",
      " 13  WCSDVARR    ImageHDU        15   (64, 32)   float32   \n",
      " 14  WCSDVARR    ImageHDU        15   (64, 32)   float32   \n",
      " 15  WCSCORR     BinTableHDU     59   14R x 24C   [40A, I, A, 24A, 24A, 24A, 24A, D, D, D, D, D, D, D, D, 24A, 24A, D, D, D, D, J, 40A, 128A]   \n"
     ]
    },
    {
     "name": "stdout",
     "output_type": "stream",
     "text": [
      "Filename: /eng/ssb/iraf_transition/test_data/jczgx1ppq_rice.fits\n",
      "No.    Name         Type      Cards   Dimensions   Format\n",
      "  0  PRIMARY     PrimaryHDU     270   ()      \n",
      "  1  SCI         CompImageHDU    200   (4096, 2048)   float32   \n",
      "Filename: /eng/ssb/iraf_transition/test_data/jczgx1ppq_gzip.fits\n",
      "No.    Name         Type      Cards   Dimensions   Format\n",
      "  0  PRIMARY     PrimaryHDU     270   ()      \n",
      "  1  SCI         CompImageHDU    200   (4096, 2048)   float32   \n",
      "Filename: /eng/ssb/iraf_transition/test_data/fxsplit.fits\n",
      "No.    Name         Type      Cards   Dimensions   Format\n",
      "  0  PRIMARY     PrimaryHDU       4   ()      \n",
      "  1  DQ          ImageHDU        43   (1014, 1014)   int16   \n",
      "Filename: /eng/ssb/iraf_transition/test_data/fxinsert.fits\n",
      "No.    Name         Type      Cards   Dimensions   Format\n",
      "  0  PRIMARY     PrimaryHDU       5   (100,)   float64   \n",
      "  1  SCI         ImageHDU       200   (4096, 2048)   float32   \n",
      "Filename: /eng/ssb/iraf_transition/test_data/fxdelete.fits\n",
      "No.    Name         Type      Cards   Dimensions   Format\n",
      "  0  PRIMARY     PrimaryHDU     265   ()      \n",
      "  1  SCI         ImageHDU       140   (1014, 1014)   float32   \n",
      "  2  ERR         ImageHDU        51   (1014, 1014)   float32   \n",
      "  3  DQ          ImageHDU        43   (1014, 1014)   int16   \n",
      "  4  SAMP        ImageHDU        37   (1014, 1014)   int16   \n",
      "  5  TIME        ImageHDU        37   (1014, 1014)   float32   \n",
      "  6  WCSCORR     BinTableHDU     59   7R x 24C   [40A, I, A, 24A, 24A, 24A, 24A, D, D, D, D, D, D, D, D, 24A, 24A, D, D, D, D, J, 40A, 128A]   \n",
      "Filename: /eng/ssb/iraf_transition/test_data/empty.fits\n",
      "No.    Name         Type      Cards   Dimensions   Format\n",
      "  0  PRIMARY     PrimaryHDU       4   ()      \n"
     ]
    }
   ],
   "source": [
    "# Change these values to your desired data files, glob will capture all wildcard matches\n",
    "test_data = glob.glob('/eng/ssb/iraf_transition/test_data/*.fits')\n",
    "\n",
    "for filename in test_data:\n",
    "    fits.info(filename)"
   ]
  },
  {
   "cell_type": "markdown",
   "metadata": {},
   "source": [
    "<br>"
   ]
  },
  {
   "cell_type": "markdown",
   "metadata": {},
   "source": [
    "<a id='stwfits'></a>\n",
    "\n",
    "## stwfits"
   ]
  },
  {
   "cell_type": "markdown",
   "metadata": {},
   "source": [
    "**Please review the** [Notes](#notes) **section above before running any examples in this notebook**\n",
    "\n",
    "stwfits is used to translate a GEIS, STSDAS tables, or ascii file to an standard FITS format.  Here we will cover how to convert a GEIS file to a FITS files using the ``stsci.tools.readgeis`` function.  There are two wasy to use this function, through the command line, or through a Python session or script.  For instructions on running this task on the command line see the ``stsci.tools`` [Conversion Utilities documentation](http://ssb.stsci.edu/doc/stsci_python_dev/stsci.tools.doc/html/convert.html).  Below we show an example of running this task in a python session.  You may or may not need to byteswap your image data depending on which system it was originally written on."
   ]
  },
  {
   "cell_type": "code",
   "execution_count": 1,
   "metadata": {
    "collapsed": true
   },
   "outputs": [],
   "source": [
    "from stsci.tools import readgeis"
   ]
  },
  {
   "cell_type": "code",
   "execution_count": 2,
   "metadata": {},
   "outputs": [
    {
     "ename": "AttributeError",
     "evalue": "type object 'ImageHDU' has no attribute 'NumCode'",
     "output_type": "error",
     "traceback": [
      "\u001b[0;31m---------------------------------------------------------------------------\u001b[0m",
      "\u001b[0;31mAttributeError\u001b[0m                            Traceback (most recent call last)",
      "\u001b[0;32m<ipython-input-2-5b462023a2d7>\u001b[0m in \u001b[0;36m<module>\u001b[0;34m()\u001b[0m\n\u001b[1;32m      1\u001b[0m \u001b[0mfilename\u001b[0m \u001b[0;34m=\u001b[0m \u001b[0;34m'/eng/ssb/iraf_transition/test_data/x31g0108t.c0h'\u001b[0m\u001b[0;34m\u001b[0m\u001b[0m\n\u001b[0;32m----> 2\u001b[0;31m \u001b[0mhdulist\u001b[0m \u001b[0;34m=\u001b[0m \u001b[0mreadgeis\u001b[0m\u001b[0;34m.\u001b[0m\u001b[0mreadgeis\u001b[0m\u001b[0;34m(\u001b[0m\u001b[0mfilename\u001b[0m\u001b[0;34m)\u001b[0m\u001b[0;34m\u001b[0m\u001b[0m\n\u001b[0m\u001b[1;32m      3\u001b[0m \u001b[0mhdulist\u001b[0m\u001b[0;34m[\u001b[0m\u001b[0;36m1\u001b[0m\u001b[0;34m]\u001b[0m\u001b[0;34m.\u001b[0m\u001b[0mdata\u001b[0m \u001b[0;34m=\u001b[0m \u001b[0mhdulist\u001b[0m\u001b[0;34m[\u001b[0m\u001b[0;36m1\u001b[0m\u001b[0;34m]\u001b[0m\u001b[0;34m.\u001b[0m\u001b[0mdata\u001b[0m\u001b[0;34m.\u001b[0m\u001b[0mbyteswap\u001b[0m\u001b[0;34m(\u001b[0m\u001b[0;34m)\u001b[0m\u001b[0;34m\u001b[0m\u001b[0m\n\u001b[1;32m      4\u001b[0m \u001b[0;32mdel\u001b[0m \u001b[0mhdulist\u001b[0m\u001b[0;34m[\u001b[0m\u001b[0;36m1\u001b[0m\u001b[0;34m]\u001b[0m\u001b[0;34m.\u001b[0m\u001b[0mheader\u001b[0m\u001b[0;34m[\u001b[0m\u001b[0;34m'CD1_1'\u001b[0m\u001b[0;34m]\u001b[0m\u001b[0;34m\u001b[0m\u001b[0m\n\u001b[1;32m      5\u001b[0m \u001b[0;32mdel\u001b[0m \u001b[0mhdulist\u001b[0m\u001b[0;34m[\u001b[0m\u001b[0;36m1\u001b[0m\u001b[0;34m]\u001b[0m\u001b[0;34m.\u001b[0m\u001b[0mheader\u001b[0m\u001b[0;34m[\u001b[0m\u001b[0;34m'CD2_2'\u001b[0m\u001b[0;34m]\u001b[0m\u001b[0;34m\u001b[0m\u001b[0m\n",
      "\u001b[0;32m~/miniconda2/envs/irafdev3/lib/python3.6/site-packages/stsci.tools-3.4.11-py3.6.egg/stsci/tools/readgeis.py\u001b[0m in \u001b[0;36mreadgeis\u001b[0;34m(input)\u001b[0m\n\u001b[1;32m    203\u001b[0m     \u001b[0m_shape\u001b[0m \u001b[0;34m=\u001b[0m \u001b[0m_naxis\u001b[0m\u001b[0;34m[\u001b[0m\u001b[0;36m1\u001b[0m\u001b[0;34m:\u001b[0m\u001b[0;34m]\u001b[0m\u001b[0;34m\u001b[0m\u001b[0m\n\u001b[1;32m    204\u001b[0m     \u001b[0m_shape\u001b[0m\u001b[0;34m.\u001b[0m\u001b[0mreverse\u001b[0m\u001b[0;34m(\u001b[0m\u001b[0;34m)\u001b[0m\u001b[0;34m\u001b[0m\u001b[0m\n\u001b[0;32m--> 205\u001b[0;31m     \u001b[0m_code\u001b[0m \u001b[0;34m=\u001b[0m \u001b[0mfits\u001b[0m\u001b[0;34m.\u001b[0m\u001b[0mhdu\u001b[0m\u001b[0;34m.\u001b[0m\u001b[0mImageHDU\u001b[0m\u001b[0;34m.\u001b[0m\u001b[0mNumCode\u001b[0m\u001b[0;34m[\u001b[0m\u001b[0m_bitpix\u001b[0m\u001b[0;34m]\u001b[0m\u001b[0;34m\u001b[0m\u001b[0m\n\u001b[0m\u001b[1;32m    206\u001b[0m     \u001b[0m_bscale\u001b[0m \u001b[0;34m=\u001b[0m \u001b[0mphdr\u001b[0m\u001b[0;34m.\u001b[0m\u001b[0mget\u001b[0m\u001b[0;34m(\u001b[0m\u001b[0;34m'BSCALE'\u001b[0m\u001b[0;34m,\u001b[0m \u001b[0;36m1\u001b[0m\u001b[0;34m)\u001b[0m\u001b[0;34m\u001b[0m\u001b[0m\n\u001b[1;32m    207\u001b[0m     \u001b[0m_bzero\u001b[0m \u001b[0;34m=\u001b[0m \u001b[0mphdr\u001b[0m\u001b[0;34m.\u001b[0m\u001b[0mget\u001b[0m\u001b[0;34m(\u001b[0m\u001b[0;34m'BZERO'\u001b[0m\u001b[0;34m,\u001b[0m \u001b[0;36m0\u001b[0m\u001b[0;34m)\u001b[0m\u001b[0;34m\u001b[0m\u001b[0m\n",
      "\u001b[0;31mAttributeError\u001b[0m: type object 'ImageHDU' has no attribute 'NumCode'"
     ]
    }
   ],
   "source": [
    "filename = '/eng/ssb/iraf_transition/test_data/x31g0108t.c0h'\n",
    "hdulist = readgeis.readgeis(filename)\n",
    "hdulist[1].data = hdulist[1].data.byteswap()\n",
    "del hdulist[1].header['CD1_1']\n",
    "del hdulist[1].header['CD2_2']\n",
    "hdulist.writeto('stwfits_out.fits', overwrite = True)"
   ]
  },
  {
   "cell_type": "markdown",
   "metadata": {},
   "source": [
    "<br>"
   ]
  },
  {
   "cell_type": "markdown",
   "metadata": {},
   "source": [
    "## Not Replacing"
   ]
  },
  {
   "cell_type": "markdown",
   "metadata": {},
   "source": [
    "* fits_example - used to provide more documentation for stwfits and strfits\n",
    "* fitscopy - used to produce a copy of a fits file, producing a copy of a fits file is straightforward in Python and the command line using exsisting libraries\n",
    "* geis - used to provide a description of GEIS file format\n",
    "* gftoxdim - GEIS conversion, no longer in common usage\n",
    "* strfits - converts FITS files to GEIS or STSDAS tables, no longer in common usage\n",
    "* xdimtogf - convert single group GEIS to multigroup GEIS, no longer in common usage"
   ]
  }
 ],
 "metadata": {
  "kernelspec": {
   "display_name": "Python 3",
   "language": "python",
   "name": "python3"
  },
  "language_info": {
   "codemirror_mode": {
    "name": "ipython",
    "version": 3
   },
   "file_extension": ".py",
   "mimetype": "text/x-python",
   "name": "python",
   "nbconvert_exporter": "python",
   "pygments_lexer": "ipython3",
   "version": "3.6.2"
  }
 },
 "nbformat": 4,
 "nbformat_minor": 1
}
