{
 "cells": [
  {
   "cell_type": "markdown",
   "metadata": {},
   "source": [
    "# tables.ttools"
   ]
  },
  {
   "cell_type": "markdown",
   "metadata": {},
   "source": [
    "Ttools is an IRAF library used to build and manipulate STSDAS tables."
   ]
  },
  {
   "cell_type": "markdown",
   "metadata": {},
   "source": [
    "<a id='notes'></a>\n",
    "\n",
    "## Notes"
   ]
  },
  {
   "cell_type": "markdown",
   "metadata": {},
   "source": [
    "**For questions or comments please see** [our github page](https://github.com/spacetelescope/stak).  **We encourage and appreciate user feedback.**\n",
    "\n",
    "**Most of these notebooks rely on basic knowledge of the Astropy FITS I/O module.  If you are unfamiliar with this module please see the** [Astropy FITS I/O user documentation](http://docs.astropy.org/en/stable/io/fits/) **before using this documentation**.\n",
    "\n",
    "Many of the table tools in this package are easily accesible with the [Astropy Table](http://docs.astropy.org/en/stable/table/) object.  Here we will show the ``Astropy`` ``Table`` equiavlent of the ttools tasks. Below we import the example table we will be using.  Please run this cell before running any of the sections below.\n",
    "\n",
    "\n",
    "Contents:\n",
    "\n",
    "* [imtab-tabim](#imtab-tabim)\n",
    "* [partab](#partab)\n",
    "* [tabpar](#tabpar)\n",
    "* [taextract-tainsert](#taextract-tainsert)\n",
    "* [tcalc](#tcalc)\n",
    "* [tchcol](#tchcol)\n",
    "* [tcopy-tdump](#tcopy-tdump)\n",
    "* [tdiffer](#tdiffer)\n",
    "* [texpand](#texpand)\n",
    "* [thhistogram](#thistogram)\n",
    "* [tiimage-titable-tximage-txtable](#tiimage-titable-tximage-txtable)\n",
    "* [tinfo-tlcol-tprint](#tinfo-tlcol-tprint)\n",
    "* [tintegrate](#tintegrate)\n",
    "* [tjoin](#tjoin)\n",
    "* [tmatch](#tmatch)\n",
    "* [tmerge](#tmerge)\n",
    "* [trebin](#trebin)\n",
    "* [tselect-tproject-tquery](#tselect-tproject-tquery)\n",
    "* [tsort](#tsort)\n",
    "* [tstat](#tstat)"
   ]
  },
  {
   "cell_type": "code",
   "execution_count": 3,
   "metadata": {},
   "outputs": [
    {
     "data": {
      "text/html": [
       "&lt;Table length=5&gt;\n",
       "<table id=\"table4540188768\" class=\"table-striped table-bordered table-condensed\">\n",
       "<thead><tr><th>Name</th><th>Animal</th><th>age</th><th>weight(lbs)</th></tr></thead>\n",
       "<thead><tr><th>str7</th><th>str9</th><th>int64</th><th>float64</th></tr></thead>\n",
       "<tr><td>Fluffy</td><td>cat</td><td>5</td><td>6.5</td></tr>\n",
       "<tr><td>Skippy</td><td>dog</td><td>7</td><td>10.1</td></tr>\n",
       "<tr><td>Potato</td><td>guineapig</td><td>2</td><td>2.5</td></tr>\n",
       "<tr><td>Squeaky</td><td>mouse</td><td>1</td><td>0.75</td></tr>\n",
       "<tr><td>Jhope</td><td>snake</td><td>5</td><td>25.0</td></tr>\n",
       "</table>"
      ],
      "text/plain": [
       "<Table length=5>\n",
       "  Name    Animal   age  weight(lbs)\n",
       "  str7     str9   int64   float64  \n",
       "------- --------- ----- -----------\n",
       " Fluffy       cat     5         6.5\n",
       " Skippy       dog     7        10.1\n",
       " Potato guineapig     2         2.5\n",
       "Squeaky     mouse     1        0.75\n",
       "  Jhope     snake     5        25.0"
      ]
     },
     "execution_count": 3,
     "metadata": {},
     "output_type": "execute_result"
    }
   ],
   "source": [
    "#Here we import the example table we will be using from a text file:\n",
    "from astropy.table import Table\n",
    "\n",
    "filename = \"/eng/ssb/iraf_transition/test_data/table2.txt\"\n",
    "ex_table = Table.read(filename, format='ascii')\n",
    "ex_table"
   ]
  },
  {
   "cell_type": "markdown",
   "metadata": {},
   "source": [
    "<br>"
   ]
  },
  {
   "cell_type": "markdown",
   "metadata": {},
   "source": [
    "<br>"
   ]
  },
  {
   "cell_type": "markdown",
   "metadata": {},
   "source": [
    "<a id='imtab-tabim'></a>\n",
    "\n",
    "## imtab-tabim"
   ]
  },
  {
   "cell_type": "markdown",
   "metadata": {},
   "source": [
    "**Please review the** [Notes](#notes) **section above before running any examples in this notebook**\n",
    "\n",
    "imtab can be used to copy an image to a table column.  We can accomplish this by first flattening the array, then putting it into a table. For more details see the [Table construction documentation](http://docs.astropy.org/en/stable/table/construct_table.html). Tabim is used to copy a column back to a table, show below."
   ]
  },
  {
   "cell_type": "code",
   "execution_count": 3,
   "metadata": {
    "collapsed": true
   },
   "outputs": [],
   "source": [
    "# Standard Imports\n",
    "import numpy as np\n",
    "\n",
    "# Astronomy Specific Imports\n",
    "from astropy.table import Table"
   ]
  },
  {
   "cell_type": "code",
   "execution_count": 4,
   "metadata": {},
   "outputs": [
    {
     "name": "stdout",
     "output_type": "stream",
     "text": [
      "      col0      \n",
      "----------------\n",
      "  0.778737912301\n",
      "  0.540657453378\n",
      "  0.844846864945\n",
      "  0.437430786445\n",
      "   0.42531847321\n",
      "  0.378941776732\n",
      "  0.569759441559\n",
      "  0.887288689867\n",
      "  0.140683275852\n",
      "   0.75117263098\n",
      "             ...\n",
      "     0.861420953\n",
      "  0.574230666443\n",
      "   0.42707825074\n",
      "  0.987672488509\n",
      "  0.610368735644\n",
      "0.00483079453182\n",
      "  0.837378466165\n",
      "   0.44437740426\n",
      "  0.381211045687\n",
      " 0.0859310763191\n",
      " 0.0704851730697\n",
      "Length = 36 rows\n",
      "[[ 0.77873791  0.54065745  0.84484686  0.43743079  0.42531847  0.37894178]\n",
      " [ 0.56975944  0.88728869  0.14068328  0.75117263  0.39693562  0.96491753]\n",
      " [ 0.00303176  0.2884746   0.44517577  0.89533482  0.84799734  0.72115084]\n",
      " [ 0.16727558  0.59748484  0.35737339  0.788007    0.8695291   0.73762861]\n",
      " [ 0.34344701  0.86142095  0.57423067  0.42707825  0.98767249  0.61036874]\n",
      " [ 0.00483079  0.83737847  0.4443774   0.38121105  0.08593108  0.07048517]]\n"
     ]
    }
   ],
   "source": [
    "# Create test array and flatten\n",
    "image_array=np.random.rand(6,6)\n",
    "image_array=image_array.flatten()\n",
    "\n",
    "# Put into table, to make it a column we need the outside []\n",
    "t = Table([image_array])\n",
    "print(t)\n",
    "\n",
    "# Now to re-extract the array we have to grab the data and unflatten it.\n",
    "extract_array = t['col0'].data.reshape((6,6))\n",
    "print(extract_array)"
   ]
  },
  {
   "cell_type": "markdown",
   "metadata": {},
   "source": [
    "<br>"
   ]
  },
  {
   "cell_type": "markdown",
   "metadata": {},
   "source": [
    "<a id='partab'></a>\n",
    "\n",
    "## partab"
   ]
  },
  {
   "cell_type": "markdown",
   "metadata": {},
   "source": [
    "**Please review the** [Notes](#notes) **section above before running any examples in this notebook**\n",
    "\n",
    "Partab is used to transfer and IRAF parameter to a table element. Below we show the ``Astropy Table`` equivalent using indexing.  See the [Modifying Table](http://docs.astropy.org/en/stable/table/modify_table.html) documentation for more details."
   ]
  },
  {
   "cell_type": "code",
   "execution_count": 7,
   "metadata": {
    "collapsed": true
   },
   "outputs": [],
   "source": [
    "# Astronomy Specific Imports\n",
    "from astropy.table import Table"
   ]
  },
  {
   "cell_type": "code",
   "execution_count": 8,
   "metadata": {
    "scrolled": true
   },
   "outputs": [
    {
     "data": {
      "text/html": [
       "&lt;Table length=5&gt;\n",
       "<table id=\"table4567453456\" class=\"table-striped table-bordered table-condensed\">\n",
       "<thead><tr><th>Name</th><th>Animal</th><th>age</th><th>weight(lbs)</th></tr></thead>\n",
       "<thead><tr><th>str7</th><th>str9</th><th>int64</th><th>float64</th></tr></thead>\n",
       "<tr><td>Fluffy</td><td>cat</td><td>5</td><td>6.5</td></tr>\n",
       "<tr><td>Skippy</td><td>dog</td><td>7</td><td>10.1</td></tr>\n",
       "<tr><td>Potato</td><td>guineapig</td><td>2</td><td>2.5</td></tr>\n",
       "<tr><td>Squeaky</td><td>mouse</td><td>1</td><td>0.75</td></tr>\n",
       "<tr><td>Jhope</td><td>snake</td><td>5</td><td>1.5</td></tr>\n",
       "</table>"
      ],
      "text/plain": [
       "<Table length=5>\n",
       "  Name    Animal   age  weight(lbs)\n",
       "  str7     str9   int64   float64  \n",
       "------- --------- ----- -----------\n",
       " Fluffy       cat     5         6.5\n",
       " Skippy       dog     7        10.1\n",
       " Potato guineapig     2         2.5\n",
       "Squeaky     mouse     1        0.75\n",
       "  Jhope     snake     5         1.5"
      ]
     },
     "execution_count": 8,
     "metadata": {},
     "output_type": "execute_result"
    }
   ],
   "source": [
    "ex_table['weight(lbs)'][4]=1.5\n",
    "ex_table"
   ]
  },
  {
   "cell_type": "markdown",
   "metadata": {},
   "source": [
    "<br>"
   ]
  },
  {
   "cell_type": "markdown",
   "metadata": {},
   "source": [
    "<a id='tabpar'></a>\n",
    "\n",
    "## tabpar"
   ]
  },
  {
   "cell_type": "markdown",
   "metadata": {},
   "source": [
    "**Please review the** [Notes](#notes) **section above before running any examples in this notebook**\n",
    "\n",
    "The tabpar task takes a header keyword and moves it to an IRAF parameter.  Extracting values from an astropy table is straightfoward with indexing. Keep in mind the indexing is zero based. When an FITS file is read into a table, the header information is saved in the meta data as an ``Ordered Dictionary``.  Below we show you how to pull values from the table data, and meta data."
   ]
  },
  {
   "cell_type": "code",
   "execution_count": 9,
   "metadata": {
    "collapsed": true
   },
   "outputs": [],
   "source": [
    "# Astronomy Specific Imports\n",
    "from astropy.table import Table"
   ]
  },
  {
   "cell_type": "code",
   "execution_count": 10,
   "metadata": {},
   "outputs": [
    {
     "name": "stdout",
     "output_type": "stream",
     "text": [
      "  Name \n",
      "-------\n",
      " Fluffy\n",
      " Skippy\n",
      " Potato\n",
      "Squeaky\n",
      "  Jhope\n",
      "\n",
      "\n",
      "guineapig\n"
     ]
    }
   ],
   "source": [
    "# Pulling values out of a table\n",
    "column=ex_table['Name']\n",
    "print(column)\n",
    "entry=ex_table['Animal'][2]\n",
    "print('\\n')\n",
    "print(entry)"
   ]
  },
  {
   "cell_type": "code",
   "execution_count": 11,
   "metadata": {},
   "outputs": [
    {
     "name": "stdout",
     "output_type": "stream",
     "text": [
      "OrderedDict([('EXTNAME', 'PHOTPLAM'), ('EXTVER', 1)])\n",
      "PHOTPLAM\n"
     ]
    }
   ],
   "source": [
    "# Pulling values out of the meta data\n",
    "fits_file = '/eng/ssb/iraf_transition/test_data/08b18470j_imp.fits'\n",
    "fits_table = Table.read(fits_file, hdu=2)\n",
    "print(fits_table.meta)\n",
    "print(fits_table.meta['EXTNAME'])"
   ]
  },
  {
   "cell_type": "markdown",
   "metadata": {},
   "source": [
    "<br>"
   ]
  },
  {
   "cell_type": "markdown",
   "metadata": {},
   "source": [
    "<a id='taextract-tainsert'></a>\n",
    "\n",
    "## taextract-tainsert"
   ]
  },
  {
   "cell_type": "markdown",
   "metadata": {},
   "source": [
    "**Please review the** [Notes](#notes) **section above before running any examples in this notebook**\n",
    "\n",
    "Taextract and tainsert are used to copy scalar columns to array entries, and vice versa.  We will show how to store an array in an ``Astropy Table`` from a ``list`` of scalars."
   ]
  },
  {
   "cell_type": "code",
   "execution_count": 12,
   "metadata": {
    "collapsed": true
   },
   "outputs": [],
   "source": [
    "# Standard Imports\n",
    "import numpy as np\n",
    "\n",
    "# Astronomy Specific Imports\n",
    "from astropy.table import Table"
   ]
  },
  {
   "cell_type": "code",
   "execution_count": 13,
   "metadata": {},
   "outputs": [
    {
     "name": "stdout",
     "output_type": "stream",
     "text": [
      "col0 [6]\n",
      "--------\n",
      "  4 .. 9\n",
      "[4, 5, 6, 7, 8, 9]\n"
     ]
    }
   ],
   "source": [
    "scalar_list = [4,5,6,7,8,9]\n",
    "\n",
    "# Change to array\n",
    "in_arr = np.array(scalar_list)\n",
    "\n",
    "# Store in table\n",
    "t = Table([[in_arr]])\n",
    "t.pprint()\n",
    "\n",
    "# Now extract array back to scalar list, flatten will take out the extra dimension\n",
    "out_arr = t['col0'][0]\n",
    "out_list = out_arr.tolist()\n",
    "print(out_list)"
   ]
  },
  {
   "cell_type": "markdown",
   "metadata": {},
   "source": [
    "<br>"
   ]
  },
  {
   "cell_type": "markdown",
   "metadata": {},
   "source": [
    "<a id='tcalc'></a>\n",
    "\n",
    "## tcalc"
   ]
  },
  {
   "cell_type": "markdown",
   "metadata": {},
   "source": [
    "**Please review the** [Notes](#notes) **section above before running any examples in this notebook**\n",
    "\n",
    "Tcalc is used to perform arithmetic operations on table columns. This can be done automaticaly with any compatible data types. A new ``Column`` object will be returned."
   ]
  },
  {
   "cell_type": "code",
   "execution_count": 14,
   "metadata": {
    "collapsed": true
   },
   "outputs": [],
   "source": [
    "# Astronomy Specific Imports\n",
    "from astropy.table import Table"
   ]
  },
  {
   "cell_type": "code",
   "execution_count": 15,
   "metadata": {},
   "outputs": [
    {
     "data": {
      "text/html": [
       "&lt;Column name=&apos;age&apos; dtype=&apos;float64&apos; length=5&gt;\n",
       "<table>\n",
       "<tr><td>11.5</td></tr>\n",
       "<tr><td>17.1</td></tr>\n",
       "<tr><td>4.5</td></tr>\n",
       "<tr><td>1.75</td></tr>\n",
       "<tr><td>6.5</td></tr>\n",
       "</table>"
      ],
      "text/plain": [
       "<Column name='age' dtype='float64' length=5>\n",
       "11.5\n",
       "17.1\n",
       " 4.5\n",
       "1.75\n",
       " 6.5"
      ]
     },
     "execution_count": 15,
     "metadata": {},
     "output_type": "execute_result"
    }
   ],
   "source": [
    "out = ex_table['age'] + ex_table['weight(lbs)']\n",
    "out"
   ]
  },
  {
   "cell_type": "markdown",
   "metadata": {},
   "source": [
    "<br>"
   ]
  },
  {
   "cell_type": "markdown",
   "metadata": {},
   "source": [
    "<a id='tchcol'></a>\n",
    "\n",
    "## tchcol"
   ]
  },
  {
   "cell_type": "markdown",
   "metadata": {},
   "source": [
    "**Please review the** [Notes](#notes) **section above before running any examples in this notebook**\n",
    "\n",
    "tchcol is used to change the column name, format or units.  This can be done easily with ``Astropy Tables``, and the [Astropy Units](http://docs.astropy.org/en/stable/units/) module."
   ]
  },
  {
   "cell_type": "code",
   "execution_count": 16,
   "metadata": {
    "collapsed": true
   },
   "outputs": [],
   "source": [
    "# Astronomy Specific Imports\n",
    "from astropy.table import Table\n",
    "import astropy.units as u"
   ]
  },
  {
   "cell_type": "code",
   "execution_count": 17,
   "metadata": {},
   "outputs": [
    {
     "name": "stdout",
     "output_type": "stream",
     "text": [
      "<Table length=5>\n",
      "    name     dtype \n",
      "----------- -------\n",
      "       Name    str7\n",
      "     Animal    str9\n",
      "        age   int64\n",
      "weight(lbs) float64\n",
      "\n",
      "<Table length=5>\n",
      "    name     dtype  unit\n",
      "----------- ------- ----\n",
      "       Name    str7     \n",
      "     Animal    str9     \n",
      "        age   int64     \n",
      "weight(lbs) float64   lb\n",
      "\n",
      "<Table length=5>\n",
      " name   dtype  unit\n",
      "------ ------- ----\n",
      "  Name    str7     \n",
      "Animal    str9     \n",
      "   age   int64     \n",
      "weight float64   lb\n",
      "\n",
      "<Table length=5>\n",
      " name   dtype  unit\n",
      "------ ------- ----\n",
      "  Name    str7     \n",
      "Animal    str9     \n",
      "   age float64     \n",
      "weight float64   lb\n",
      "\n"
     ]
    }
   ],
   "source": [
    "# Set filename, read in file\n",
    "filename = \"/eng/ssb/iraf_transition/test_data/table2.txt\"\n",
    "ed_table = Table.read(filename, format='ascii')\n",
    "\n",
    "# To get table info\n",
    "print(ed_table.info)\n",
    "\n",
    "# To add/update units\n",
    "ed_table['weight(lbs)'].unit = u.imperial.lb\n",
    "print(ed_table.info)\n",
    "\n",
    "# To change column name\n",
    "ed_table['weight(lbs)'].name='weight'\n",
    "print(ed_table.info)\n",
    "\n",
    "# To change dtype\n",
    "ed_table['age'].dtype = 'float64'\n",
    "print(ed_table.info)"
   ]
  },
  {
   "cell_type": "markdown",
   "metadata": {},
   "source": [
    "<br>"
   ]
  },
  {
   "cell_type": "markdown",
   "metadata": {},
   "source": [
    "<a id='tcopy-tdump'></a>\n",
    "\n",
    "## tcopy-tdump"
   ]
  },
  {
   "cell_type": "markdown",
   "metadata": {},
   "source": [
    "**Please review the** [Notes](#notes) **section above before running any examples in this notebook**\n",
    "\n",
    "Tcopy is used to copy tables, and can save a table to ASCII or FITS format.  Similarly, tdump is used to save a table to an ASCII file. We will show both save methods and a copy below.  For more details see the [unified read/write](http://docs.astropy.org/en/stable/io/unified.html) documentation. For more details on ``Table`` object copying see the [copy versus reference](http://docs.astropy.org/en/stable/table/construct_table.html#copy-versus-reference) doc section."
   ]
  },
  {
   "cell_type": "code",
   "execution_count": 1,
   "metadata": {
    "collapsed": true
   },
   "outputs": [],
   "source": [
    "# Astronomy Specific Imports\n",
    "from astropy.table import Table"
   ]
  },
  {
   "cell_type": "code",
   "execution_count": 7,
   "metadata": {
    "collapsed": true
   },
   "outputs": [],
   "source": [
    "# Make a copy of our example table\n",
    "tab_copy = ex_table.copy()\n",
    "\n",
    "# Save as ASCII\n",
    "outfile = 'copy_table.txt'\n",
    "tab_copy.write(outfile, format='ascii', overwrite=True)\n",
    "\n",
    "# Same method call to write to FITS\n",
    "outfits = 'copy_table.fits'\n",
    "tab_copy.write(outfits, overwrite=True)"
   ]
  },
  {
   "cell_type": "markdown",
   "metadata": {},
   "source": [
    "<br>"
   ]
  },
  {
   "cell_type": "markdown",
   "metadata": {},
   "source": [
    "<a id='tdiffer'></a>\n",
    "\n",
    "## tdiffer"
   ]
  },
  {
   "cell_type": "markdown",
   "metadata": {},
   "source": [
    "Will be available soon in Astropy\n",
    "\n",
    "![](static/150pxblueconstuc.png \"Work in progress\")"
   ]
  },
  {
   "cell_type": "markdown",
   "metadata": {},
   "source": [
    "<br>"
   ]
  },
  {
   "cell_type": "markdown",
   "metadata": {},
   "source": [
    "<a id='texpand'></a>\n",
    "\n",
    "## texpand"
   ]
  },
  {
   "cell_type": "markdown",
   "metadata": {},
   "source": [
    "**Please review the** [Notes](#notes) **section above before running any examples in this notebook**\n",
    "\n",
    "Texpand is used to edit and change tables according to a set of user provided rules.  This can be done by building a customized loop over the input table.  Below we show a simple example, but this can be easily modified to fit the users needs."
   ]
  },
  {
   "cell_type": "code",
   "execution_count": 21,
   "metadata": {
    "collapsed": true
   },
   "outputs": [],
   "source": [
    "# Astronomy Specific Imports\n",
    "from astropy.table import Table"
   ]
  },
  {
   "cell_type": "code",
   "execution_count": 22,
   "metadata": {},
   "outputs": [
    {
     "name": "stdout",
     "output_type": "stream",
     "text": [
      "  Name    Animal  age weight(lbs)\n",
      "------- --------- --- -----------\n",
      " Fluffy guineapig   5         6.5\n",
      " Skippy       dog   7        10.1\n",
      " Potato guineapig   2         2.5\n",
      "Squeaky     mouse   1        0.75\n",
      "  Jhope guineapig   5         1.5\n"
     ]
    }
   ],
   "source": [
    "# change a animal type of 'cat' or 'snake' to guineapig\n",
    "new_table = ex_table.copy()\n",
    "for row in new_table:\n",
    "    if row[1] in ['cat','snake']:\n",
    "        row[1]='guineapig'\n",
    "print(new_table)"
   ]
  },
  {
   "cell_type": "markdown",
   "metadata": {},
   "source": [
    "<br>"
   ]
  },
  {
   "cell_type": "markdown",
   "metadata": {},
   "source": [
    "<a id='thistogram'></a>\n",
    "\n",
    "## thistogram"
   ]
  },
  {
   "cell_type": "markdown",
   "metadata": {},
   "source": [
    "**Please review the** [Notes](#notes) **section above before running any examples in this notebook**\n",
    "\n",
    "Thistogram makes a histogram from a data column in a table.  We can easily accomplish this using the ``Astropy Tables`` and [Matplotlib.pyplot.hist](https://matplotlib.org/devdocs/api/_as_gen/matplotlib.pyplot.hist.html) tasks. For this example we will use the default binning. There is also an [Astropy histogram](http://docs.astropy.org/en/stable/api/astropy.stats.histogram.html) and a [Numpy histogram](https://docs.scipy.org/doc/numpy/reference/generated/numpy.histogram.html) available for generating the histogram data."
   ]
  },
  {
   "cell_type": "code",
   "execution_count": 23,
   "metadata": {
    "collapsed": true
   },
   "outputs": [],
   "source": [
    "# Astronomy Specific Imports\n",
    "from astropy.table import Table\n",
    "\n",
    "# Plotting Imports/Setup\n",
    "import matplotlib.pyplot as plt\n",
    "%matplotlib inline"
   ]
  },
  {
   "cell_type": "code",
   "execution_count": 24,
   "metadata": {},
   "outputs": [
    {
     "data": {
      "image/png": "[encoded data removed]",
      "text/plain": [
       "<matplotlib.figure.Figure at 0x1113eefd0>"
      ]
     },
     "metadata": {},
     "output_type": "display_data"
    }
   ],
   "source": [
    "# Using the weight column of our example table\n",
    "n, bins, patches = plt.hist(ex_table['weight(lbs)'].data)\n",
    "\n",
    "plt.xlabel('Weight in lbs')\n",
    "plt.title('Weight of pets')\n",
    "plt.show()"
   ]
  },
  {
   "cell_type": "markdown",
   "metadata": {},
   "source": [
    "<br>"
   ]
  },
  {
   "cell_type": "markdown",
   "metadata": {},
   "source": [
    "<br>"
   ]
  },
  {
   "cell_type": "markdown",
   "metadata": {},
   "source": [
    "<a id='tiimage-titable-tximage-txtable'></a>\n",
    "\n",
    "## tiimage-titable-tximage-txtable"
   ]
  },
  {
   "cell_type": "markdown",
   "metadata": {},
   "source": [
    "**Please review the** [Notes](#notes) **section above before running any examples in this notebook**\n",
    "\n",
    "Tiimage, titable, tximage, and txtable are all 3-D table functions.  ``Astropy`` ``Table`` objects can store any dimension ``numpy`` arrays in each element, as long as there is consistancy in the column.  Below we show a short example of storing a 3-D array in an ``Astropy`` Table. The rest of the functionality is the same as the general table funcitonality."
   ]
  },
  {
   "cell_type": "code",
   "execution_count": 27,
   "metadata": {
    "collapsed": true
   },
   "outputs": [],
   "source": [
    "# Standard Imports\n",
    "import numpy as np\n",
    "\n",
    "# Astronomy Specific Imports\n",
    "from astropy.table import Table"
   ]
  },
  {
   "cell_type": "code",
   "execution_count": 28,
   "metadata": {
    "scrolled": false
   },
   "outputs": [
    {
     "name": "stdout",
     "output_type": "stream",
     "text": [
      "         Arrays [60,90]         \n",
      "--------------------------------\n",
      "0.892760413585 .. 0.283382986211\n",
      "0.637760881193 .. 0.363642899902\n"
     ]
    },
    {
     "data": {
      "text/plain": [
       "array([[ 0.63776088,  0.91520904,  0.02255264, ...,  0.68817791,\n",
       "         0.53479407,  0.30667641],\n",
       "       [ 0.97267867,  0.55856732,  0.86993039, ...,  0.91039544,\n",
       "         0.63862112,  0.58102198],\n",
       "       [ 0.51181066,  0.85164649,  0.05432316, ...,  0.36084783,\n",
       "         0.58934112,  0.96374561],\n",
       "       ..., \n",
       "       [ 0.83594372,  0.79412333,  0.78455287, ...,  0.88604032,\n",
       "         0.16606121,  0.1500973 ],\n",
       "       [ 0.81858617,  0.16964881,  0.00841479, ...,  0.66355838,\n",
       "         0.95266558,  0.79603504],\n",
       "       [ 0.81294063,  0.79609841,  0.58490711, ...,  0.3697692 ,\n",
       "         0.65451337,  0.3636429 ]])"
      ]
     },
     "execution_count": 28,
     "metadata": {},
     "output_type": "execute_result"
    }
   ],
   "source": [
    "# Storing a 2-D arrays in one column of a table\n",
    "arr1 = np.random.rand(60,90)\n",
    "arr2 = np.random.rand(60,90)\n",
    "# To retain the 2-D array as an element in the table, make sure you use two sets of square brackets\n",
    "three_table = Table([[arr1,arr2]],names=('Arrays',))\n",
    "three_table.pprint()\n",
    "\n",
    "# To pull out one array element, index column name then row numbers\n",
    "three_table['Arrays'][1]"
   ]
  },
  {
   "cell_type": "markdown",
   "metadata": {},
   "source": [
    "<br>"
   ]
  },
  {
   "cell_type": "markdown",
   "metadata": {},
   "source": [
    "<a id='tinfo=tlcol-tprint'></a>\n",
    "\n",
    "## tinfo-tlcol-tprint"
   ]
  },
  {
   "cell_type": "markdown",
   "metadata": {},
   "source": [
    "**Please review the** [Notes](#notes) **section above before running any examples in this notebook**\n",
    "\n",
    "Tinfo, tlcol and tprint were all used to display information about the table.  Below we show the ``Astropy Table`` equivalents."
   ]
  },
  {
   "cell_type": "code",
   "execution_count": 30,
   "metadata": {
    "collapsed": true
   },
   "outputs": [],
   "source": [
    "# Astronomy Specific Imports\n",
    "from astropy.table import Table"
   ]
  },
  {
   "cell_type": "code",
   "execution_count": 31,
   "metadata": {},
   "outputs": [
    {
     "name": "stdout",
     "output_type": "stream",
     "text": [
      "<Table length=5>\n",
      "    name     dtype \n",
      "----------- -------\n",
      "       Name    str7\n",
      "     Animal    str9\n",
      "        age   int64\n",
      "weight(lbs) float64\n",
      "\n"
     ]
    }
   ],
   "source": [
    "# For tinfo and tlcol\n",
    "print(ex_table.info)"
   ]
  },
  {
   "cell_type": "code",
   "execution_count": 32,
   "metadata": {},
   "outputs": [
    {
     "name": "stdout",
     "output_type": "stream",
     "text": [
      "  Name    Animal  age weight(lbs)\n",
      "------- --------- --- -----------\n",
      " Fluffy       cat   5         6.5\n",
      " Skippy       dog   7        10.1\n",
      " Potato guineapig   2         2.5\n",
      "Squeaky     mouse   1        0.75\n",
      "  Jhope     snake   5         1.5\n"
     ]
    }
   ],
   "source": [
    "# For tprint\n",
    "ex_table.pprint()"
   ]
  },
  {
   "cell_type": "markdown",
   "metadata": {},
   "source": [
    "<br>"
   ]
  },
  {
   "cell_type": "markdown",
   "metadata": {},
   "source": [
    "<a id='tintegrate'></a>\n",
    "\n",
    "## tintegrate"
   ]
  },
  {
   "cell_type": "markdown",
   "metadata": {},
   "source": [
    "**Please review the** [Notes](#notes) **section above before running any examples in this notebook**\n",
    "\n",
    "Tintegrate is used to numerically integrate one column with respect to another.  This can be done using the [numpy.traz function](https://docs.scipy.org/doc/numpy/reference/generated/numpy.trapz.html). As we have shown how to extract an array from a Table in various other tasks in this notebook we will only cover the integration step here."
   ]
  },
  {
   "cell_type": "code",
   "execution_count": 34,
   "metadata": {
    "collapsed": true
   },
   "outputs": [],
   "source": [
    "# Standard Imports\n",
    "import numpy as np\n",
    "\n",
    "# Astronomy Specific Imports\n",
    "from astropy.table import Table"
   ]
  },
  {
   "cell_type": "code",
   "execution_count": 35,
   "metadata": {},
   "outputs": [
    {
     "name": "stdout",
     "output_type": "stream",
     "text": [
      "67.4\n"
     ]
    }
   ],
   "source": [
    "# Setup array, here you would pull from a table\n",
    "x = [1, 2, 3, 4, 6]\n",
    "y = [10.5, 12.3, 22.2, 13.3, 7.7]\n",
    "\n",
    "result = np.trapz(y,x)\n",
    "print(result)"
   ]
  },
  {
   "cell_type": "markdown",
   "metadata": {},
   "source": [
    "<br>"
   ]
  },
  {
   "cell_type": "markdown",
   "metadata": {},
   "source": [
    "<a id='tjoin'></a>\n",
    "\n",
    "## tjoin"
   ]
  },
  {
   "cell_type": "markdown",
   "metadata": {},
   "source": [
    "**Please review the** [Notes](#notes) **section above before running any examples in this notebook**\n",
    "\n",
    "Tjoin is used to perform a relational join of two tables. You can do all join types (inner, left, right, and outer) in the Astropy ``Tables`` package, see [join docs here](http://docs.astropy.org/en/stable/table/operations.html#join) for more details.  We take the examples shown here from the Astropy docs."
   ]
  },
  {
   "cell_type": "code",
   "execution_count": 36,
   "metadata": {
    "collapsed": true
   },
   "outputs": [],
   "source": [
    "# Astronomy Specific Imports\n",
    "from astropy.table import Table, join"
   ]
  },
  {
   "cell_type": "code",
   "execution_count": 37,
   "metadata": {
    "collapsed": true
   },
   "outputs": [],
   "source": [
    "# Setup tables\n",
    "optical = Table.read(\"\"\"name    obs_date    mag_b  mag_v\n",
    "                        M31     2012-01-02  17.0   16.0\n",
    "                        M82     2012-10-29  16.2   15.2\n",
    "                        M101    2012-10-31  15.1   15.5\"\"\", format='ascii')\n",
    "xray = Table.read(\"\"\"   name    obs_date    logLx\n",
    "                        NGC3516 2011-11-11  42.1\n",
    "                        M31     1999-01-05  43.1\n",
    "                        M82     2012-10-29  45.0\"\"\", format='ascii')"
   ]
  },
  {
   "cell_type": "code",
   "execution_count": 38,
   "metadata": {},
   "outputs": [
    {
     "name": "stdout",
     "output_type": "stream",
     "text": [
      "name  obs_date  mag_b mag_v logLx\n",
      "---- ---------- ----- ----- -----\n",
      " M82 2012-10-29  16.2  15.2  45.0\n"
     ]
    }
   ],
   "source": [
    "# Default inner join, default key column to set of columns that are common to both tables.\n",
    "opt_xray = join(optical, xray)\n",
    "print(opt_xray)"
   ]
  },
  {
   "cell_type": "code",
   "execution_count": 39,
   "metadata": {},
   "outputs": [
    {
     "name": "stdout",
     "output_type": "stream",
     "text": [
      "name  obs_date  mag_b mag_v logLx\n",
      "---- ---------- ----- ----- -----\n",
      "M101 2012-10-31  15.1  15.5    --\n",
      " M31 2012-01-02  17.0  16.0    --\n",
      " M82 2012-10-29  16.2  15.2  45.0\n"
     ]
    }
   ],
   "source": [
    "# Left join\n",
    "print(join(optical, xray, join_type='left'))"
   ]
  },
  {
   "cell_type": "code",
   "execution_count": 40,
   "metadata": {},
   "outputs": [
    {
     "name": "stdout",
     "output_type": "stream",
     "text": [
      "  name  obs_date_1 mag_b mag_v obs_date_2 logLx\n",
      "------- ---------- ----- ----- ---------- -----\n",
      "    M31 2012-01-02  17.0  16.0 1999-01-05  43.1\n",
      "    M82 2012-10-29  16.2  15.2 2012-10-29  45.0\n",
      "NGC3516         --    --    -- 2011-11-11  42.1\n"
     ]
    }
   ],
   "source": [
    "# Right join, with only name field as key\n",
    "print(join(optical, xray, join_type='right', keys='name'))"
   ]
  },
  {
   "cell_type": "code",
   "execution_count": 41,
   "metadata": {},
   "outputs": [
    {
     "name": "stdout",
     "output_type": "stream",
     "text": [
      "  name   obs_date  mag_b mag_v logLx\n",
      "------- ---------- ----- ----- -----\n",
      "   M101 2012-10-31  15.1  15.5    --\n",
      "    M31 1999-01-05    --    --  43.1\n",
      "    M31 2012-01-02  17.0  16.0    --\n",
      "    M82 2012-10-29  16.2  15.2  45.0\n",
      "NGC3516 2011-11-11    --    --  42.1\n"
     ]
    }
   ],
   "source": [
    "# Outer join\n",
    "print(join(optical, xray, join_type='outer'))"
   ]
  },
  {
   "cell_type": "markdown",
   "metadata": {},
   "source": [
    "<br>"
   ]
  },
  {
   "cell_type": "markdown",
   "metadata": {},
   "source": [
    "<a id='tmatch'></a>\n",
    "\n",
    "## tmatch"
   ]
  },
  {
   "cell_type": "markdown",
   "metadata": {},
   "source": [
    "**Please review the** [Notes](#notes) **section above before running any examples in this notebook**\n",
    "\n",
    "Tmatch is used to find the closest match between rows in two tables.  This functionality is contained in the [coordinates package](http://docs.astropy.org/en/stable/coordinates/matchsep.html) of Astropy. This example is taken from the [Coordinates notebook](http://www.astropy.org/astropy-tutorials/Coordinates.html), see the notebook for more details."
   ]
  },
  {
   "cell_type": "code",
   "execution_count": 42,
   "metadata": {
    "collapsed": true
   },
   "outputs": [],
   "source": [
    "# Astronomy Specific Imports\n",
    "from astropy.table import Table\n",
    "from astropy.coordinates import SkyCoord\n",
    "from astropy import units as u"
   ]
  },
  {
   "cell_type": "code",
   "execution_count": 43,
   "metadata": {
    "collapsed": true
   },
   "outputs": [],
   "source": [
    "# Open table files\n",
    "file1 = '/eng/ssb/iraf_transition/test_data/HCG7_SDSS_photo.dat'\n",
    "file2 = '/eng/ssb/iraf_transition/test_data/HCG7_2MASS.tbl'\n",
    "sdss = Table.read(file1, format='ascii')\n",
    "twomass = Table.read(file2, format='ascii')\n",
    "\n",
    "# Match between catalogs\n",
    "coo_sdss = SkyCoord(sdss['ra']*u.deg, sdss['dec']*u.deg)\n",
    "coo_twomass = SkyCoord(twomass['ra'], twomass['dec'])\n",
    "idx_sdss, d2d_sdss, d3d_sdss = coo_twomass.match_to_catalog_sky(coo_sdss)"
   ]
  },
  {
   "cell_type": "markdown",
   "metadata": {},
   "source": [
    "<br>"
   ]
  },
  {
   "cell_type": "markdown",
   "metadata": {},
   "source": [
    "<a id='tmerge'></a>\n",
    "\n",
    "## tmerge"
   ]
  },
  {
   "cell_type": "markdown",
   "metadata": {},
   "source": [
    "**Please review the** [Notes](#notes) **section above before running any examples in this notebook**\n",
    "\n",
    "Tmerge is used to combine columns or rows of multiple tables. There are two [Astropy Table tasks](http://docs.astropy.org/en/stable/table/operations.html) for this, ``vstack`` and ``hstack``. We take these examples from the Astropy table docs."
   ]
  },
  {
   "cell_type": "code",
   "execution_count": 44,
   "metadata": {
    "collapsed": true
   },
   "outputs": [],
   "source": [
    "# Astronomy Specific Imports\n",
    "from astropy.table import Table, vstack, hstack"
   ]
  },
  {
   "cell_type": "code",
   "execution_count": 45,
   "metadata": {},
   "outputs": [
    {
     "name": "stdout",
     "output_type": "stream",
     "text": [
      "  name   obs_date  mag_b logLx\n",
      "------- ---------- ----- -----\n",
      "    M31 2012-01-02  17.0  42.5\n",
      "    M82 2012-10-29  16.2  43.5\n",
      "   M101 2012-10-31  15.1  44.5\n",
      "NGC3516 2011-11-11    --  42.1\n",
      "    M31 1999-01-05    --  43.1\n",
      "    M82 2012-10-30    --  45.0\n"
     ]
    }
   ],
   "source": [
    "# Setup tables\n",
    "obs1 = Table.read(\"\"\"name    obs_date    mag_b  logLx\n",
    "                     M31     2012-01-02  17.0   42.5\n",
    "                     M82     2012-10-29  16.2   43.5\n",
    "                     M101    2012-10-31  15.1   44.5\"\"\", format='ascii')\n",
    "\n",
    "obs2 = Table.read(\"\"\"name    obs_date    logLx\n",
    "                     NGC3516 2011-11-11  42.1\n",
    "                     M31     1999-01-05  43.1\n",
    "                     M82     2012-10-30  45.0\"\"\", format='ascii')\n",
    "\n",
    "# Vertical stack\n",
    "print(vstack([obs1, obs2]))"
   ]
  },
  {
   "cell_type": "code",
   "execution_count": 46,
   "metadata": {},
   "outputs": [
    {
     "name": "stdout",
     "output_type": "stream",
     "text": [
      " a   b   c   d     e  \n",
      "--- --- --- ---- -----\n",
      "  1 foo 1.4  ham  eggs\n",
      "  2 bar 2.1 spam toast\n",
      "  3 baz 2.8   --    --\n"
     ]
    }
   ],
   "source": [
    "# Setup tables\n",
    "t1 = Table.read(\"\"\"a   b    c\n",
    "                   1   foo  1.4\n",
    "                   2   bar  2.1\n",
    "                   3   baz  2.8\"\"\", format='ascii')\n",
    "t2 = Table.read(\"\"\"d     e\n",
    "                   ham   eggs\n",
    "                   spam  toast\"\"\", format='ascii')\n",
    "\n",
    "# Horizontal stack\n",
    "print(hstack([t1, t2]))"
   ]
  },
  {
   "cell_type": "markdown",
   "metadata": {},
   "source": [
    "<br>"
   ]
  },
  {
   "cell_type": "markdown",
   "metadata": {},
   "source": [
    "<a id='trebin'></a>\n",
    "\n",
    "## trebin"
   ]
  },
  {
   "cell_type": "markdown",
   "metadata": {},
   "source": [
    "Trebin allows the user to rebin columns in a table using linear or spline interpolation. See the [binning doc section](http://docs.astropy.org/en/stable/table/operations.html#binning) for a subset of this functionality.\n",
    "\n",
    "![](static/150pxblueconstuc.png \"Work in progress\")"
   ]
  },
  {
   "cell_type": "markdown",
   "metadata": {},
   "source": [
    "<br>"
   ]
  },
  {
   "cell_type": "markdown",
   "metadata": {},
   "source": [
    "<a id='tselect-tproject-tquery'></a>\n",
    "\n",
    "## tselect-tproject-tquery"
   ]
  },
  {
   "cell_type": "markdown",
   "metadata": {},
   "source": [
    "**Please review the** [Notes](#notes) **section above before running any examples in this notebook**\n",
    "\n",
    "Tselect is used to create a new table from selected rows, tproject from selected columns, and tquery from a combination of selected rows and columns.  We show two examples of how to generate a new table from selected columns and selected rows.  You can combine these two pieces of code in either order to get a tquery like result.  There is an alternate way to do selections if you have already organized your table into groups by using the [filter method](http://docs.astropy.org/en/stable/table/operations.html#filtering), but the user will still need to write a custom filtering function to provide to ``filter``."
   ]
  },
  {
   "cell_type": "code",
   "execution_count": 47,
   "metadata": {
    "collapsed": true
   },
   "outputs": [],
   "source": [
    "# Astronomy Specific Imports\n",
    "from astropy.table import Table"
   ]
  },
  {
   "cell_type": "code",
   "execution_count": 48,
   "metadata": {},
   "outputs": [
    {
     "name": "stdout",
     "output_type": "stream",
     "text": [
      " Name  Animal age weight(lbs)\n",
      "------ ------ --- -----------\n",
      "Fluffy    cat   5         6.5\n",
      " Jhope  snake   5         1.5\n"
     ]
    }
   ],
   "source": [
    "# For adding rows we give the new table an initial column setup, \n",
    "# copied from the original table through the dtype keyword\n",
    "table1 = Table(dtype=ex_table.dtype)\n",
    "for row in ex_table:\n",
    "    if row['Name'] == 'Fluffy' or row['age'] == 5:\n",
    "        table1.add_row(row)\n",
    "table1.pprint()"
   ]
  },
  {
   "cell_type": "code",
   "execution_count": 49,
   "metadata": {},
   "outputs": [
    {
     "name": "stdout",
     "output_type": "stream",
     "text": [
      "  Name    Animal \n",
      "------- ---------\n",
      " Fluffy       cat\n",
      " Skippy       dog\n",
      " Potato guineapig\n",
      "Squeaky     mouse\n",
      "  Jhope     snake\n"
     ]
    }
   ],
   "source": [
    "# For adding columns we start with an empty new table\n",
    "table2 = Table()\n",
    "for col in ex_table.itercols():\n",
    "    if col.name in ['Name','Animal']:\n",
    "        table2[col.name] = col\n",
    "table2.pprint()"
   ]
  },
  {
   "cell_type": "markdown",
   "metadata": {},
   "source": [
    "<br>"
   ]
  },
  {
   "cell_type": "markdown",
   "metadata": {},
   "source": [
    "<a id='tsort'></a>\n",
    "\n",
    "## tsort"
   ]
  },
  {
   "cell_type": "markdown",
   "metadata": {},
   "source": [
    "**Please review the** [Notes](#notes) **section above before running any examples in this notebook**\n",
    "\n",
    "Tsort, as you would guess, sorts a table.  ``Astropy`` ``Table`` objects have a built in [sort method](http://docs.astropy.org/en/stable/table/modify_table.html). You can even sort by more then one column. Sorting is inplace so in this example we make a copy of the table first."
   ]
  },
  {
   "cell_type": "code",
   "execution_count": 50,
   "metadata": {
    "collapsed": true
   },
   "outputs": [],
   "source": [
    "# Standard Imports\n",
    "import numpy as np\n",
    "\n",
    "# Astronomy Specific imports\n",
    "from astropy.table import Table"
   ]
  },
  {
   "cell_type": "code",
   "execution_count": 51,
   "metadata": {},
   "outputs": [
    {
     "name": "stdout",
     "output_type": "stream",
     "text": [
      "  Name    Animal  age weight(lbs)\n",
      "------- --------- --- -----------\n",
      " Fluffy       cat   5         6.5\n",
      "  Jhope     snake   5         1.5\n",
      " Potato guineapig   2         2.5\n",
      " Skippy       dog   7        10.1\n",
      "Squeaky     mouse   1        0.75\n"
     ]
    }
   ],
   "source": [
    "# sorting\n",
    "sorted_table = ex_table.copy()\n",
    "sorted_table.sort('Name')\n",
    "sorted_table.pprint()"
   ]
  },
  {
   "cell_type": "markdown",
   "metadata": {},
   "source": [
    "<br>"
   ]
  },
  {
   "cell_type": "markdown",
   "metadata": {},
   "source": [
    "<a id='tstat'></a>\n",
    "\n",
    "## tstat"
   ]
  },
  {
   "cell_type": "markdown",
   "metadata": {},
   "source": [
    "**Please review the** [Notes](#notes) **section above before running any examples in this notebook**\n",
    "\n",
    "tstat gives you the mean, standard deviation, minimum and maximum of a column.  This can be done by feeding the desired columns into standard ``Numpy`` and built-in Python functions."
   ]
  },
  {
   "cell_type": "code",
   "execution_count": 52,
   "metadata": {
    "collapsed": true
   },
   "outputs": [],
   "source": [
    "# Standard Imports\n",
    "import numpy as np\n",
    "\n",
    "# Astronomy Specific Imports\n",
    "from astropy.table import Table"
   ]
  },
  {
   "cell_type": "code",
   "execution_count": 53,
   "metadata": {},
   "outputs": [
    {
     "name": "stdout",
     "output_type": "stream",
     "text": [
      "4.27\n",
      "3.52584741587\n",
      "1\n",
      "7\n"
     ]
    }
   ],
   "source": [
    "# Mean\n",
    "mean = np.mean(ex_table['weight(lbs)'])\n",
    "print(mean)\n",
    "\n",
    "# Standard Deviation\n",
    "std = np.std(ex_table['weight(lbs)'])\n",
    "print(std)\n",
    "             \n",
    "# Min and Max\n",
    "mini = min(ex_table['age'])\n",
    "maxi = max(ex_table['age'])\n",
    "print(mini)\n",
    "print(maxi)"
   ]
  },
  {
   "cell_type": "markdown",
   "metadata": {},
   "source": [
    "<br>"
   ]
  },
  {
   "cell_type": "markdown",
   "metadata": {},
   "source": [
    "<br>"
   ]
  },
  {
   "cell_type": "markdown",
   "metadata": {},
   "source": [
    "## Not Replacing"
   ]
  },
  {
   "cell_type": "markdown",
   "metadata": {},
   "source": [
    "* gtedit - Graphically edit a table. Deprecated.\n",
    "* gtpar - Pset to specify graph parameters for gtedit task. Deprecated.\n",
    "* keytab - Copy n image or table header keyword to a table element. See [Astropy Tables](http://docs.astropy.org/en/stable/table/index.html) documentation.\n",
    "* keypar - Copy an image or table header keyword to an IRAF parameter. See [Astropy FITS](http://docs.astropy.org/en/stable/io/fits/) documentation.\n",
    "* keyselect - Copy selected image header keywords to sdas table. See **images.imutil**\n",
    "* parkey - Put an IRAF parameter into an image or table header keyword. See [Astropy FITS](http://docs.astropy.org/en/stable/io/fits/) documentation.\n",
    "* tabkey - Copy a table element to an image or table header keyword. See the above notebook and [Astropy FITS](http://docs.astropy.org/en/stable/io/fits/) documentation.\n",
    "* tcheck - Check STSDAS table element values. See [Astropy Tables](http://docs.astropy.org/en/stable/table/index.html) documentation.\n",
    "* tchsize - Change allocated sizes of various sections of a table. Deprecated.\n",
    "* tcreate - Create a FITS table from an ASCII descriptor table. see [tcopy-tdump](#tcopy-tdump) and [Unified I/O](http://docs.astropy.org/en/stable/io/unified.html#fits) documentation.\n",
    "* tdelete - Delete tables. Deprecated.\n",
    "* tedit - Edit a table. See [Astropy Tables](http://docs.astropy.org/en/stable/table/index.html) documentation or [partab](#partab).\n",
    "* thedit - Edit or print table header keywords. See **images.imutil.hedit**\n",
    "* thselect - Print table keyword values. See **images.imutil.hselect**\n",
    "* tlinear - Use linear regression to fit one or two table columns. See **images.imfit.fit1d**\n",
    "* tproduct - Form the Cartesian product of two tables. See [tjoin](#tjoin)\n",
    "* tread - Browse through a table. See [Astropy Tables](http://docs.astropy.org/en/stable/table/index.html) documentation.\n",
    "* tscopy - Copy row/column subsets of tables using selectors. See [tselect-tproject-tquery](#tselect-tproject-tquery).\n",
    "* ttranspose - Transpose or flip a table. Deprecated.\n",
    "* tupar - Edit table header keywords. Interactive GUI. Deprecated\n",
    "* tupar - Edit table header keywords. Interactive GUI. See [tchcol](#tchcol)"
   ]
  }
 ],
 "metadata": {
  "kernelspec": {
   "display_name": "Python 3",
   "language": "python",
   "name": "python3"
  },
  "language_info": {
   "codemirror_mode": {
    "name": "ipython",
    "version": 3
   },
   "file_extension": ".py",
   "mimetype": "text/x-python",
   "name": "python",
   "nbconvert_exporter": "python",
   "pygments_lexer": "ipython3",
   "version": "3.6.2"
  }
 },
 "nbformat": 4,
 "nbformat_minor": 1
}
