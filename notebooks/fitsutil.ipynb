{
 "cells": [
  {
   "cell_type": "markdown",
   "metadata": {},
   "source": [
    "# fitsutil"
   ]
  },
  {
   "cell_type": "markdown",
   "metadata": {},
   "source": [
    "General fits file utilities."
   ]
  },
  {
   "cell_type": "markdown",
   "metadata": {},
   "source": [
    "<a id='notes'></a>\n",
    "\n",
    "## Notes"
   ]
  },
  {
   "cell_type": "markdown",
   "metadata": {},
   "source": [
    "**For questions or comments please see** [our github page](https://github.com/spacetelescope/stak).  **We encourage and appreciate user feedback.**\n",
    "\n",
    "**Most of these notebooks rely on basic knowledge of the Astropy FITS I/O module.  If you are unfamiliar with this module please see the** [Astropy FITS I/O user documentation](http://docs.astropy.org/en/stable/io/fits/) **before using this documentation**.\n",
    "\n",
    "For the compression tasks included in fitsutil, astropy has replaced this functionality with the [CompImageHDU](http://docs.astropy.org/en/stable/io/fits/api/images.html#astropy.io.fits.CompImageHDU) class.  We list both compression tasks together in this notebook with a few examples to show the usage of `CompImageHDU`.  the [astropy.io.fits](http://docs.astropy.org/en/stable/io/fits/index.html) can natively open compressed file with a standard `fits.open` command. To uncompress the file, you can then save the fits file object out to a new file.\n",
    "\n",
    "``astropy.io.fits`` is the library responsible for opening and closing fits files.  It opens the file into a ``HDUList`` object, which contains multiple ``HDU`` objects that can be indexed with integers.  Each ``HDU`` object contains array data object, and a header object.\n",
    "\n",
    "Contents:\n",
    "\n",
    "* [fpack-ricepack](#fpack-ricepack)\n",
    "* [fxcopy-fxinsert](#fxcopy-fxinsert)\n",
    "* [fxdelete-fxsplit-fxextract](#fxdelete-fxsplit-fxextract)\n",
    "* [fxdummyh](#fxdummyh)\n",
    "* [fxheader](#fxheader)\n",
    "* [fxplf](#fxplf)"
   ]
  },
  {
   "cell_type": "markdown",
   "metadata": {},
   "source": [
    "<br>"
   ]
  },
  {
   "cell_type": "markdown",
   "metadata": {},
   "source": [
    "<br>"
   ]
  },
  {
   "cell_type": "markdown",
   "metadata": {},
   "source": [
    "<a id='fpack-ricepack'></a>\n",
    "\n",
    "## fpack-ricepack"
   ]
  },
  {
   "cell_type": "markdown",
   "metadata": {},
   "source": [
    "**Please review the** [Notes](#notes) **section above before running any examples in this notebook**\n",
    "\n",
    "We can compress an image HDU using the [fits.CompImageHDU](http://docs.astropy.org/en/stable/io/fits/api/images.html#astropy.io.fits.CompImageHDU) class in ``astropy``.  This class has several compression options (RICE, PLIO, GZIP, and HCOMPRESS).  Here we show one example using RICE compression and another using GZIP compression"
   ]
  },
  {
   "cell_type": "code",
   "execution_count": 25,
   "metadata": {},
   "outputs": [],
   "source": [
    "# Astronomy Specific Imports\n",
    "from astropy.io import fits\n",
    "from astroquery.mast import Observations"
   ]
  },
  {
   "cell_type": "code",
   "execution_count": 32,
   "metadata": {},
   "outputs": [
    {
     "name": "stdout",
     "output_type": "stream",
     "text": [
      "INFO: Found cached file ./mastDownload/HST/JCZGX1PPQ/jczgx1ppq_flc.fits with expected size 167964480. [astroquery.query]\n"
     ]
    },
    {
     "data": {
      "text/html": [
       "<i>Table length=1</i>\n",
       "<table id=\"table90640538424\" class=\"table-striped table-bordered table-condensed\">\n",
       "<thead><tr><th>Local Path</th><th>Status</th><th>Message</th><th>URL</th></tr></thead>\n",
       "<thead><tr><th>str47</th><th>str8</th><th>object</th><th>object</th></tr></thead>\n",
       "<tr><td>./mastDownload/HST/JCZGX1PPQ/jczgx1ppq_flc.fits</td><td>COMPLETE</td><td>None</td><td>None</td></tr>\n",
       "</table>"
      ],
      "text/plain": [
       "<Table length=1>\n",
       "                   Local Path                    Status  Message  URL  \n",
       "                     str47                        str8    object object\n",
       "----------------------------------------------- -------- ------- ------\n",
       "./mastDownload/HST/JCZGX1PPQ/jczgx1ppq_flc.fits COMPLETE    None   None"
      ]
     },
     "execution_count": 32,
     "metadata": {},
     "output_type": "execute_result"
    }
   ],
   "source": [
    "# Download test file using astroquery, this only needs to be run once\n",
    "# and can be skipped if using your own data.\n",
    "# Astroquery will only download file if not already present.\n",
    "obsid = '2004663553'\n",
    "Observations.download_products(obsid,productFilename=\"jczgx1ppq_flc.fits\")"
   ]
  },
  {
   "cell_type": "code",
   "execution_count": 26,
   "metadata": {},
   "outputs": [
    {
     "name": "stdout",
     "output_type": "stream",
     "text": [
      "Filename: ./mastDownload/HST/JCZGX1PPQ/jczgx1ppq_flc.fits\n",
      "No.    Name      Ver    Type      Cards   Dimensions   Format\n",
      "  0  PRIMARY       1 PrimaryHDU     279   ()      \n",
      "  1  SCI           1 ImageHDU       200   (4096, 2048)   float32   \n",
      "  2  ERR           1 ImageHDU        56   (4096, 2048)   float32   \n",
      "  3  DQ            1 ImageHDU        48   (4096, 2048)   int16   \n",
      "  4  SCI           2 ImageHDU       198   (4096, 2048)   float32   \n",
      "  5  ERR           2 ImageHDU        56   (4096, 2048)   float32   \n",
      "  6  DQ            2 ImageHDU        48   (4096, 2048)   int16   \n",
      "  7  D2IMARR       1 ImageHDU        15   (64, 32)   float32   \n",
      "  8  D2IMARR       2 ImageHDU        15   (64, 32)   float32   \n",
      "  9  D2IMARR       3 ImageHDU        15   (64, 32)   float32   \n",
      " 10  D2IMARR       4 ImageHDU        15   (64, 32)   float32   \n",
      " 11  WCSDVARR      1 ImageHDU        15   (64, 32)   float32   \n",
      " 12  WCSDVARR      2 ImageHDU        15   (64, 32)   float32   \n",
      " 13  WCSDVARR      3 ImageHDU        15   (64, 32)   float32   \n",
      " 14  WCSDVARR      4 ImageHDU        15   (64, 32)   float32   \n",
      " 15  WCSCORR       1 BinTableHDU     59   14R x 24C   [40A, I, A, 24A, 24A, 24A, 24A, D, D, D, D, D, D, D, D, 24A, 24A, D, D, D, D, J, 40A, 128A]   \n"
     ]
    }
   ],
   "source": [
    "# RICE example\n",
    "\n",
    "# test files\n",
    "test_data = './mastDownload/HST/JCZGX1PPQ/jczgx1ppq_flc.fits'\n",
    "outfile_rice = 'jczgx1ppq_rice.fits'\n",
    "\n",
    "# open FITS file\n",
    "hdulist = fits.open(test_data)\n",
    "\n",
    "# print HDUList info\n",
    "hdulist.info()\n",
    "\n",
    "# compress and save to output file\n",
    "hdu_rice = fits.CompImageHDU(data=hdulist[1].data, header=hdulist[1].header, compression_type='RICE_1')\n",
    "hdulist_rice = fits.HDUList([hdulist[0],hdu_rice])\n",
    "hdulist_rice.writeto(outfile_rice, overwrite=True)\n",
    "hdulist.close()"
   ]
  },
  {
   "cell_type": "code",
   "execution_count": 27,
   "metadata": {},
   "outputs": [],
   "source": [
    "# Gzip example\n",
    "\n",
    "# test files\n",
    "test_data = './mastDownload/HST/JCZGX1PPQ/jczgx1ppq_flc.fits'\n",
    "outfile_gzip = 'jczgx1ppq_gzip.fits'\n",
    "\n",
    "hdulist = fits.open(test_data)\n",
    "hdu_gzip = fits.CompImageHDU(data=hdulist[1].data, header=hdulist[1].header, compression_type='GZIP_1')\n",
    "hdulist_gzip = fits.HDUList([hdulist[0],hdu_gzip])\n",
    "hdulist_gzip.writeto(outfile_gzip, overwrite=True)\n",
    "hdulist.close()"
   ]
  },
  {
   "cell_type": "markdown",
   "metadata": {},
   "source": [
    "<br>"
   ]
  },
  {
   "cell_type": "markdown",
   "metadata": {},
   "source": [
    "<a id='fxcopy-fxinsert'></a>\n",
    "\n",
    "## fxcopy-fxinsert"
   ]
  },
  {
   "cell_type": "markdown",
   "metadata": {},
   "source": [
    "**Please review the** [Notes](#notes) **section above before running any examples in this notebook**\n",
    "\n",
    "Here we show how to copy out and add new HDU objects, the ``astropy`` equivalent of fxcopy and fxinsert."
   ]
  },
  {
   "cell_type": "code",
   "execution_count": 33,
   "metadata": {},
   "outputs": [],
   "source": [
    "# Standard Imports\n",
    "import numpy as np\n",
    "\n",
    "# Astronomy Specific Imports\n",
    "from astropy.io import fits\n",
    "from astroquery.mast import Observations"
   ]
  },
  {
   "cell_type": "code",
   "execution_count": 34,
   "metadata": {},
   "outputs": [
    {
     "name": "stdout",
     "output_type": "stream",
     "text": [
      "INFO: Found cached file ./mastDownload/HST/JCZGX1PPQ/jczgx1ppq_flc.fits with expected size 167964480. [astroquery.query]\n"
     ]
    },
    {
     "data": {
      "text/html": [
       "<i>Table length=1</i>\n",
       "<table id=\"table90661538056\" class=\"table-striped table-bordered table-condensed\">\n",
       "<thead><tr><th>Local Path</th><th>Status</th><th>Message</th><th>URL</th></tr></thead>\n",
       "<thead><tr><th>str47</th><th>str8</th><th>object</th><th>object</th></tr></thead>\n",
       "<tr><td>./mastDownload/HST/JCZGX1PPQ/jczgx1ppq_flc.fits</td><td>COMPLETE</td><td>None</td><td>None</td></tr>\n",
       "</table>"
      ],
      "text/plain": [
       "<Table length=1>\n",
       "                   Local Path                    Status  Message  URL  \n",
       "                     str47                        str8    object object\n",
       "----------------------------------------------- -------- ------- ------\n",
       "./mastDownload/HST/JCZGX1PPQ/jczgx1ppq_flc.fits COMPLETE    None   None"
      ]
     },
     "execution_count": 34,
     "metadata": {},
     "output_type": "execute_result"
    }
   ],
   "source": [
    "# Download test file using astroquery, this only needs to be run once\n",
    "# and can be skipped if using your own data.\n",
    "# Astroquery will only download file if not already present.\n",
    "obsid = '2004663553'\n",
    "Observations.download_products(obsid,productFilename=\"jczgx1ppq_flc.fits\")"
   ]
  },
  {
   "cell_type": "code",
   "execution_count": 35,
   "metadata": {},
   "outputs": [
    {
     "name": "stdout",
     "output_type": "stream",
     "text": [
      "hdulist before:\n",
      "Filename: ./mastDownload/HST/JCZGX1PPQ/jczgx1ppq_flc.fits\n",
      "No.    Name      Ver    Type      Cards   Dimensions   Format\n",
      "  0  PRIMARY       1 PrimaryHDU     279   ()      \n",
      "  1  SCI           1 ImageHDU       200   (4096, 2048)   float32   \n",
      "  2  ERR           1 ImageHDU        56   (4096, 2048)   float32   \n",
      "  3  DQ            1 ImageHDU        48   (4096, 2048)   int16   \n",
      "  4  SCI           2 ImageHDU       198   (4096, 2048)   float32   \n",
      "  5  ERR           2 ImageHDU        56   (4096, 2048)   float32   \n",
      "  6  DQ            2 ImageHDU        48   (4096, 2048)   int16   \n",
      "  7  D2IMARR       1 ImageHDU        15   (64, 32)   float32   \n",
      "  8  D2IMARR       2 ImageHDU        15   (64, 32)   float32   \n",
      "  9  D2IMARR       3 ImageHDU        15   (64, 32)   float32   \n",
      " 10  D2IMARR       4 ImageHDU        15   (64, 32)   float32   \n",
      " 11  WCSDVARR      1 ImageHDU        15   (64, 32)   float32   \n",
      " 12  WCSDVARR      2 ImageHDU        15   (64, 32)   float32   \n",
      " 13  WCSDVARR      3 ImageHDU        15   (64, 32)   float32   \n",
      " 14  WCSDVARR      4 ImageHDU        15   (64, 32)   float32   \n",
      " 15  WCSCORR       1 BinTableHDU     59   14R x 24C   [40A, I, A, 24A, 24A, 24A, 24A, D, D, D, D, D, D, D, D, 24A, 24A, D, D, D, D, J, 40A, 128A]   \n",
      "\n",
      " new hdulist:\n",
      "Filename: (No file associated with this HDUList)\n",
      "No.    Name      Ver    Type      Cards   Dimensions   Format\n",
      "  0  PRIMARY       1 PrimaryHDU       5   (100,)   float64   \n",
      "  1  SCI           1 ImageHDU       200   (4096, 2048)   float32   \n"
     ]
    }
   ],
   "source": [
    "# test files\n",
    "test_data = './mastDownload/HST/JCZGX1PPQ/jczgx1ppq_flc.fits'\n",
    "outfile = 'fxinsert.fits'\n",
    "\n",
    "# open fits file, this outputs an hdulist object\n",
    "hdulist = fits.open(test_data)\n",
    "\n",
    "print(\"hdulist before:\")\n",
    "hdulist.info()\n",
    "\n",
    "# now let's pull out a reference (copy) of an HDU object from this HDUList\n",
    "my_hdu = hdulist[1]\n",
    "\n",
    "# Now let's create a new array to make a new HDU object, this will be the primary HDU\n",
    "new = np.arange(100.0)\n",
    "new_hdu = fits.PrimaryHDU(new)\n",
    "\n",
    "# Now we can create a new HDUList object to put our HDU objects into\n",
    "my_hdulist = fits.HDUList([new_hdu,my_hdu])\n",
    "\n",
    "print(\"\\n new hdulist:\")\n",
    "my_hdulist.info()\n",
    "\n",
    "# Now we close write our new HDUList to a file, and close our test_data file\n",
    "my_hdulist.writeto(outfile, overwrite=True)\n",
    "hdulist.close()"
   ]
  },
  {
   "cell_type": "markdown",
   "metadata": {},
   "source": [
    "<br>"
   ]
  },
  {
   "cell_type": "markdown",
   "metadata": {},
   "source": [
    "<a id='fxdelete-fxsplit-fxextract'></a>\n",
    "\n",
    "## fxdelete-fxsplit-fxextract"
   ]
  },
  {
   "cell_type": "markdown",
   "metadata": {},
   "source": [
    "**Please review the** [Notes](#notes) **section above before running any examples in this notebook**\n",
    "\n",
    "fxdelete will delete a FITS extension in place, and fxsplit and fxextract will take a multiple extension FITS file and break them out into single FITS files.  Both these tasks can be done using [astropy.io.fits](http://docs.astropy.org/en/stable/io/fits/index.html).  Below we show some a short example.  We will pull out the 3rd extension from the test file, save it to a new fits file, and delete that extension from the original ``HDUList``"
   ]
  },
  {
   "cell_type": "code",
   "execution_count": 36,
   "metadata": {},
   "outputs": [],
   "source": [
    "# Astronomy Specific Imports\n",
    "from astropy.io import fits\n",
    "from astroquery.mast import Observations"
   ]
  },
  {
   "cell_type": "code",
   "execution_count": 39,
   "metadata": {},
   "outputs": [
    {
     "name": "stdout",
     "output_type": "stream",
     "text": [
      "Downloading URL https://mast.stsci.edu/api/v0/download/file?uri=mast:HST/product/iczgs3y5q/iczgs3y5q_flt.fits to ./mastDownload/HST/ICZGS3Y5Q/iczgs3y5q_flt.fits ... [Done]\n"
     ]
    },
    {
     "data": {
      "text/html": [
       "<i>Table length=1</i>\n",
       "<table id=\"table4499119632\" class=\"table-striped table-bordered table-condensed\">\n",
       "<thead><tr><th>Local Path</th><th>Status</th><th>Message</th><th>URL</th></tr></thead>\n",
       "<thead><tr><th>str47</th><th>str5</th><th>str87</th><th>str93</th></tr></thead>\n",
       "<tr><td>./mastDownload/HST/ICZGS3Y5Q/iczgs3y5q_flt.fits</td><td>ERROR</td><td>Downloaded filesize is 16531200,but should be 16534080, file may be partial or corrupt.</td><td>https://mast.stsci.edu/api/v0/download/file?uri=mast:HST/product/iczgs3y5q/iczgs3y5q_flt.fits</td></tr>\n",
       "</table>"
      ],
      "text/plain": [
       "<Table length=1>\n",
       "                   Local Path                   ...\n",
       "                     str47                      ...\n",
       "----------------------------------------------- ...\n",
       "./mastDownload/HST/ICZGS3Y5Q/iczgs3y5q_flt.fits ..."
      ]
     },
     "execution_count": 39,
     "metadata": {},
     "output_type": "execute_result"
    }
   ],
   "source": [
    "# Download test file using astroquery, this only needs to be run once\n",
    "# and can be skipped if using your own data.\n",
    "# Astroquery will only download file if not already present.\n",
    "obsid = '2004615003'\n",
    "Observations.download_products(obsid,productFilename=\"iczgs3y5q_flt.fits\")"
   ]
  },
  {
   "cell_type": "code",
   "execution_count": 40,
   "metadata": {},
   "outputs": [
    {
     "name": "stdout",
     "output_type": "stream",
     "text": [
      "original FITS file:\n",
      "Filename: ./mastDownload/HST/ICZGS3Y5Q/iczgs3y5q_flt.fits\n",
      "No.    Name      Ver    Type      Cards   Dimensions   Format\n",
      "  0  PRIMARY       1 PrimaryHDU     265   ()      \n",
      "  1  SCI           1 ImageHDU       140   (1014, 1014)   float32   \n",
      "  2  ERR           1 ImageHDU        51   (1014, 1014)   float32   \n",
      "  3  DQ            1 ImageHDU        43   (1014, 1014)   int16   \n",
      "  4  SAMP          1 ImageHDU        37   (1014, 1014)   int16   \n",
      "  5  TIME          1 ImageHDU        37   (1014, 1014)   float32   \n",
      "  6  WCSCORR       1 BinTableHDU     59   7R x 24C   [40A, I, A, 24A, 24A, 24A, 24A, D, D, D, D, D, D, D, D, 24A, 24A, D, D, D, D, J, 40A, 128A]   \n",
      "\n",
      "\n",
      "new FITS file with just the 3rd extension:\n",
      "Filename: (No file associated with this HDUList)\n",
      "No.    Name      Ver    Type      Cards   Dimensions   Format\n",
      "  0  PRIMARY       1 PrimaryHDU       4   ()      \n",
      "  1  DQ            1 ImageHDU        43   (1014, 1014)   int16   \n",
      "<class 'astropy.io.fits.hdu.hdulist.HDUList'>\n",
      "\n",
      "\n",
      "new FITS file with the 3rd extension taken out:\n",
      "Filename: (No file associated with this HDUList)\n",
      "No.    Name      Ver    Type      Cards   Dimensions   Format\n",
      "  0  PRIMARY       1 PrimaryHDU     265   ()      \n",
      "  1  SCI           1 ImageHDU       140   (1014, 1014)   float32   \n",
      "  2  ERR           1 ImageHDU        51   (1014, 1014)   float32   \n",
      "  3  SAMP          1 ImageHDU        37   (1014, 1014)   int16   \n",
      "  4  TIME          1 ImageHDU        37   (1014, 1014)   float32   \n",
      "  5  WCSCORR       1 BinTableHDU     59   7R x 24C   [40A, I, A, 24A, 24A, 24A, 24A, D, D, D, D, D, D, D, D, 24A, 24A, D, D, D, D, J, 40A, 128A]   \n"
     ]
    }
   ],
   "source": [
    "# FITS filenames\n",
    "test_data = './mastDownload/HST/ICZGS3Y5Q/iczgs3y5q_flt.fits'\n",
    "outfile_1 = 'fxsplit.fits'\n",
    "outfile_2 = 'fxdelete.fits'\n",
    "\n",
    "# Print out some stats for this file\n",
    "print(\"original FITS file:\")\n",
    "fits.info(test_data)\n",
    "\n",
    "# Open FITS file\n",
    "hdulist = fits.open(test_data)\n",
    "\n",
    "# Pull out single HDU extension and put into new FITS file\n",
    "single_HDU = hdulist[3]\n",
    "primary_HDU = fits.PrimaryHDU()\n",
    "new_hdulist = fits.HDUList([primary_HDU,single_HDU])\n",
    "print(\"\\n\\nnew FITS file with just the 3rd extension:\")\n",
    "new_hdulist.info()\n",
    "new_hdulist.writeto(outfile_1, overwrite=True)\n",
    "\n",
    "\n",
    "# Now save a new copy of the original file without that third extension\n",
    "edited_hdulist = fits.HDUList([hdulist[0],hdulist[1],hdulist[2],hdulist[4],hdulist[5],hdulist[6]])\n",
    "print(type(hdulist))\n",
    "print(\"\\n\\nnew FITS file with the 3rd extension taken out:\")\n",
    "edited_hdulist.info()\n",
    "edited_hdulist.writeto(outfile_2, overwrite=True)\n",
    "\n",
    "# Close original file\n",
    "hdulist.close()"
   ]
  },
  {
   "cell_type": "markdown",
   "metadata": {},
   "source": [
    "<br>"
   ]
  },
  {
   "cell_type": "markdown",
   "metadata": {},
   "source": [
    "<a id='fxdummyh'></a>\n",
    "\n",
    "## fxdummyh"
   ]
  },
  {
   "cell_type": "markdown",
   "metadata": {},
   "source": [
    "**Please review the** [Notes](#notes) **section above before running any examples in this notebook**\n",
    "\n",
    "Fxdummyh will create an empty fits file."
   ]
  },
  {
   "cell_type": "code",
   "execution_count": 8,
   "metadata": {
    "collapsed": true
   },
   "outputs": [],
   "source": [
    "# Astronomy Specific Imports\n",
    "from astropy.io import fits"
   ]
  },
  {
   "cell_type": "code",
   "execution_count": 42,
   "metadata": {},
   "outputs": [
    {
     "name": "stdout",
     "output_type": "stream",
     "text": [
      "Filename: empty.fits\n",
      "No.    Name      Ver    Type      Cards   Dimensions   Format\n",
      "  0  PRIMARY       1 PrimaryHDU       4   ()      \n",
      "  1                1 ImageHDU         5   ()      \n",
      "  2                1 ImageHDU         5   ()      \n"
     ]
    }
   ],
   "source": [
    "# Write empty file\n",
    "hdup = fits.PrimaryHDU()\n",
    "hdu1 = fits.ImageHDU()\n",
    "hdu2 = fits.ImageHDU()\n",
    "empty_hdulist = fits.HDUList([hdup,hdu1,hdu2])\n",
    "empty_hdulist.writeto('empty.fits', overwrite=True)\n",
    "\n",
    "# Let's look at the file we made\n",
    "fits.info('empty.fits')"
   ]
  },
  {
   "cell_type": "markdown",
   "metadata": {},
   "source": [
    "<br>"
   ]
  },
  {
   "cell_type": "markdown",
   "metadata": {},
   "source": [
    "<a id='fxheader'></a>\n",
    "\n",
    "## fxheader"
   ]
  },
  {
   "cell_type": "markdown",
   "metadata": {},
   "source": [
    "**Please review the** [Notes](#notes) **section above before running any examples in this notebook**\n",
    "\n",
    "Fxheader lists one line of header description per FITS unit.  This functionality has been replaced in a convenience function in ``astropy``, [astropy.io.fits.info](http://docs.astropy.org/en/stable/io/fits/#convenience-functions). It prints the number, name, version, type, length of header (cards), data shape and format for each extension."
   ]
  },
  {
   "cell_type": "code",
   "execution_count": 41,
   "metadata": {},
   "outputs": [],
   "source": [
    "# Astronomy Specific Imports\n",
    "from astropy.io import fits\n",
    "from astroquery.mast import Observations"
   ]
  },
  {
   "cell_type": "code",
   "execution_count": 42,
   "metadata": {},
   "outputs": [
    {
     "name": "stdout",
     "output_type": "stream",
     "text": [
      "INFO: Found cached file ./mastDownload/HST/ICZGS3Y5Q/iczgs3y5q_flt.fits with expected size 16534080. [astroquery.query]\n"
     ]
    },
    {
     "data": {
      "text/html": [
       "<i>Table length=1</i>\n",
       "<table id=\"table90640344064\" class=\"table-striped table-bordered table-condensed\">\n",
       "<thead><tr><th>Local Path</th><th>Status</th><th>Message</th><th>URL</th></tr></thead>\n",
       "<thead><tr><th>str47</th><th>str5</th><th>str87</th><th>str93</th></tr></thead>\n",
       "<tr><td>./mastDownload/HST/ICZGS3Y5Q/iczgs3y5q_flt.fits</td><td>ERROR</td><td>Downloaded filesize is 16531200,but should be 16534080, file may be partial or corrupt.</td><td>https://mast.stsci.edu/api/v0/download/file?uri=mast:HST/product/iczgs3y5q/iczgs3y5q_flt.fits</td></tr>\n",
       "</table>"
      ],
      "text/plain": [
       "<Table length=1>\n",
       "                   Local Path                   ...\n",
       "                     str47                      ...\n",
       "----------------------------------------------- ...\n",
       "./mastDownload/HST/ICZGS3Y5Q/iczgs3y5q_flt.fits ..."
      ]
     },
     "execution_count": 42,
     "metadata": {},
     "output_type": "execute_result"
    }
   ],
   "source": [
    "# Download test file using astroquery, this only needs to be run once\n",
    "# and can be skipped if using your own data.\n",
    "# Astroquery will only download file if not already present.\n",
    "obsid = '2004615003'\n",
    "Observations.download_products(obsid,productFilename=\"iczgs3y5q_flt.fits\")"
   ]
  },
  {
   "cell_type": "code",
   "execution_count": 43,
   "metadata": {},
   "outputs": [
    {
     "name": "stdout",
     "output_type": "stream",
     "text": [
      "Filename: ./mastDownload/HST/ICZGS3Y5Q/iczgs3y5q_flt.fits\n",
      "No.    Name      Ver    Type      Cards   Dimensions   Format\n",
      "  0  PRIMARY       1 PrimaryHDU     265   ()      \n",
      "  1  SCI           1 ImageHDU       140   (1014, 1014)   float32   \n",
      "  2  ERR           1 ImageHDU        51   (1014, 1014)   float32   \n",
      "  3  DQ            1 ImageHDU        43   (1014, 1014)   int16   \n",
      "  4  SAMP          1 ImageHDU        37   (1014, 1014)   int16   \n",
      "  5  TIME          1 ImageHDU        37   (1014, 1014)   float32   \n",
      "  6  WCSCORR       1 BinTableHDU     59   7R x 24C   [40A, I, A, 24A, 24A, 24A, 24A, D, D, D, D, D, D, D, D, 24A, 24A, D, D, D, D, J, 40A, 128A]   \n"
     ]
    }
   ],
   "source": [
    "# run fits.info\n",
    "fits.info('./mastDownload/HST/ICZGS3Y5Q/iczgs3y5q_flt.fits')"
   ]
  },
  {
   "cell_type": "markdown",
   "metadata": {},
   "source": [
    "<br>"
   ]
  },
  {
   "cell_type": "markdown",
   "metadata": {},
   "source": [
    "<a id='fxplf'></a>\n",
    "\n",
    "## fxplf"
   ]
  },
  {
   "cell_type": "markdown",
   "metadata": {},
   "source": [
    "**Please review the** [Notes](#notes) **section above before running any examples in this notebook**\n",
    "\n",
    "fxplf is used to convert a pixel list file into a BINTABLE extension. We show a simple example below, see the [Astropy unified read/write documentation](http://docs.astropy.org/en/stable/io/unified.html#fits) for more details."
   ]
  },
  {
   "cell_type": "code",
   "execution_count": 44,
   "metadata": {},
   "outputs": [],
   "source": [
    "# Astronomy Specific Imports\n",
    "from astropy.io import fits\n",
    "from astropy.table import Table"
   ]
  },
  {
   "cell_type": "code",
   "execution_count": 45,
   "metadata": {},
   "outputs": [
    {
     "name": "stdout",
     "output_type": "stream",
     "text": [
      "col1 col2\n",
      "---- ----\n",
      " 200   45\n",
      "  34  222\n",
      "   3    4\n",
      " 100  200\n",
      "   8   88\n",
      "  23  123\n"
     ]
    }
   ],
   "source": [
    "# Define input and output files\n",
    "infile = '../data/table3.txt'\n",
    "outfile = 'table3.fits'\n",
    "\n",
    "# read txt, write to fits\n",
    "t = Table.read(infile, format='ascii')\n",
    "print(t)\n",
    "t.write(outfile, overwrite=True)"
   ]
  },
  {
   "cell_type": "markdown",
   "metadata": {},
   "source": [
    "<br>"
   ]
  },
  {
   "cell_type": "markdown",
   "metadata": {},
   "source": [
    "<br>"
   ]
  },
  {
   "cell_type": "markdown",
   "metadata": {},
   "source": [
    "## Not Replacing"
   ]
  },
  {
   "cell_type": "markdown",
   "metadata": {},
   "source": [
    "* funpack - Uncompress FITS file, can be done by opening and resaving file with [astropy.io.fits](http://docs.astropy.org/en/stable/io/fits/index.html)\n",
    "* fxconvert - Convert between IRAF image types. See **images.imutil.imcopy**\n",
    "* fgread - Read a MEF file with FOREIGN extensions. Deprecated.\n",
    "* fgwrite - Create a MEF file with FOREIGN extensions. Deprecated."
   ]
  }
 ],
 "metadata": {
  "kernelspec": {
   "display_name": "Python 3",
   "language": "python",
   "name": "python3"
  },
  "language_info": {
   "codemirror_mode": {
    "name": "ipython",
    "version": 3
   },
   "file_extension": ".py",
   "mimetype": "text/x-python",
   "name": "python",
   "nbconvert_exporter": "python",
   "pygments_lexer": "ipython3",
   "version": "3.5.4"
  }
 },
 "nbformat": 4,
 "nbformat_minor": 1
}
