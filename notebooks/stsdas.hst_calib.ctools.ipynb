{
 "cells": [
  {
   "cell_type": "markdown",
   "metadata": {},
   "source": [
    "# stsdas.hst_calib.ctools"
   ]
  },
  {
   "cell_type": "markdown",
   "metadata": {},
   "source": []
  },
  {
   "cell_type": "markdown",
   "metadata": {},
   "source": [
    "<a id='notes'></a>\n",
    "\n",
    "## Notes"
   ]
  },
  {
   "cell_type": "markdown",
   "metadata": {},
   "source": [
    "**For questions or comments please see [our github page](https://github.com/spacetelescope/stak).  We encourage and appreciate user feedback.**\n",
    "\n",
    "Contents:\n",
    "\n",
    "* [Task1](#task1)\n",
    "* [Task2](#task2)"
   ]
  },
  {
   "cell_type": "markdown",
   "metadata": {},
   "source": [
    "<br>"
   ]
  },
  {
   "cell_type": "code",
   "execution_count": null,
   "metadata": {
    "collapsed": true
   },
   "outputs": [],
   "source": [
    "eng2tab - Extract various information from SHP, UDL, etc. \n",
    "   UDL and SHP files, we don't distribute these anymore do we? \n",
    "   Do we need this for backwords compatibility? Couldn't find anything in stsci.tools\n",
    "\n",
    "rdssa - Convert the PDB SVDF.DAT file into an STSDAS table. \n",
    "    Not working, e-mail Joe about it"
   ]
  },
  {
   "cell_type": "markdown",
   "metadata": {},
   "source": [
    "Spectra Tools:\n",
    "mkmultispec - Combine wavelength and data with the MULTISPEC MWCS.\n",
    "mkweight - Make a simple weighting file for use in task specalign.\n",
    "poffsets - Find pixel offsets using cross-correlation.\n",
    "specalign - Combine spectra such as FP-SPLIT Observations.\n",
    "splice - Splice spectra together.\n",
    "fweight - Compute weights using smoothed flux data, for use with splice. \n",
    "sflux - Combine flux data and fit a continuum, to use with fweight. \n",
    "pweight - Compute weights using phottab, for use with splice."
   ]
  },
  {
   "cell_type": "markdown",
   "metadata": {},
   "source": [
    "<a id='chcalpar'></a>\n",
    "\n",
    "## chcalpar"
   ]
  },
  {
   "cell_type": "markdown",
   "metadata": {},
   "source": [
    "**Please review the [Notes](#notes) section above before running any examples in this notebook**\n",
    "\n",
    "E\n",
    "\n",
    "chcalpar - Modify calibration keyword values."
   ]
  },
  {
   "cell_type": "code",
   "execution_count": 1,
   "metadata": {
    "collapsed": true
   },
   "outputs": [],
   "source": [
    "# Standard Imports\n",
    "import numpy as np\n",
    "\n",
    "# Astronomy Specific Imports\n",
    "from astropy.io import fits\n",
    "\n",
    "# Plotting Imports/Setup\n",
    "import matplotlib.pyplot as plt\n",
    "%matplotlib inline"
   ]
  },
  {
   "cell_type": "code",
   "execution_count": 2,
   "metadata": {
    "collapsed": true
   },
   "outputs": [],
   "source": [
    "# code goes here"
   ]
  },
  {
   "cell_type": "markdown",
   "metadata": {},
   "source": [
    "<br>"
   ]
  },
  {
   "cell_type": "markdown",
   "metadata": {},
   "source": [
    "<a id='north'></a>\n",
    "\n",
    "## north"
   ]
  },
  {
   "cell_type": "markdown",
   "metadata": {},
   "source": [
    "** Please review the [Notes](#notes) section above before running any examples in this notebook **\n",
    "\n",
    "E\n",
    "\n",
    "north - Print the position angles of images.\n",
    "\n",
    "can use astropy.coordinates.SkyCoord"
   ]
  },
  {
   "cell_type": "code",
   "execution_count": 4,
   "metadata": {
    "collapsed": true
   },
   "outputs": [],
   "source": [
    "# Standard Imports\n",
    "import numpy as np\n",
    "\n",
    "# Astronomy Specific Imports\n",
    "from astropy.io import fits\n",
    "\n",
    "# Plotting Imports/Setup\n",
    "import matplotlib.pyplot as plt\n",
    "%matplotlib inline"
   ]
  },
  {
   "cell_type": "code",
   "execution_count": 5,
   "metadata": {
    "collapsed": true
   },
   "outputs": [],
   "source": [
    "# code goes here"
   ]
  },
  {
   "cell_type": "markdown",
   "metadata": {},
   "source": [
    "<br>"
   ]
  },
  {
   "cell_type": "markdown",
   "metadata": {},
   "source": [
    "<br>"
   ]
  },
  {
   "cell_type": "markdown",
   "metadata": {},
   "source": [
    "<a id='task2'></a>\n",
    "\n",
    "## Task2"
   ]
  },
  {
   "cell_type": "markdown",
   "metadata": {},
   "source": [
    "** Please review the [Notes](#notes) section above before running any examples in this notebook **"
   ]
  },
  {
   "cell_type": "code",
   "execution_count": 4,
   "metadata": {
    "collapsed": true
   },
   "outputs": [],
   "source": [
    "# Standard Imports\n",
    "import numpy as np\n",
    "\n",
    "# Astronomy Specific Imports\n",
    "from astropy.io import fits\n",
    "\n",
    "# Plotting Imports/Setup\n",
    "import matplotlib.pyplot as plt\n",
    "%matplotlib inline"
   ]
  },
  {
   "cell_type": "code",
   "execution_count": 5,
   "metadata": {
    "collapsed": true
   },
   "outputs": [],
   "source": [
    "# code goes here"
   ]
  },
  {
   "cell_type": "markdown",
   "metadata": {},
   "source": [
    "<br>"
   ]
  },
  {
   "cell_type": "markdown",
   "metadata": {},
   "source": [
    "## Not Replacing"
   ]
  },
  {
   "cell_type": "markdown",
   "metadata": {},
   "source": [
    "* getcal - Populate a pset with calibration parameter values. Deprecated.\n",
    "* groupmod - Add/delete group (GEIS) parameters from multigroup data. Deprecated.\n",
    "* hstephem - Convert ST orbit ephemeris file to an STSDAS table. Deprecated.\n",
    "* msstreakflat - Processing of Earth streaked images for WFPC and NICMOS. Archival instruments.\n",
    "* pprofile - Radial profile/encircled energy, deprecated (COSTAR).\n",
    "* putcal - Place parameter values from a calibration pset into data files, see **Header editing task**\n",
    "* rapidlook - Display a 1-D multigroup image as a 2-D image (GEIS). Deprecated\n",
    "* rcombine - Average or sum rapid-readout data with propagation of errors. HRS and FOS, archival instruments.\n",
    "* resample - Resample calibrated fluxes to a linear wavelength scale. HRS and FOS, archival instruments.\n",
    "* tomultispec - Create an OIF MULTISPEC file for data from FITS BINTABLEs. Old IRAF format, deprecated.\n",
    "* vac2air - Convert wavelength scales from vacuum to air. GEIS, deprecated.\n",
    "* fwplot - Plot calibrated flux versus wavelength. HRS and FOS, archival instruments."
   ]
  }
 ],
 "metadata": {
  "kernelspec": {
   "display_name": "Python 2",
   "language": "python",
   "name": "python2"
  },
  "language_info": {
   "codemirror_mode": {
    "name": "ipython",
    "version": 2
   },
   "file_extension": ".py",
   "mimetype": "text/x-python",
   "name": "python",
   "nbconvert_exporter": "python",
   "pygments_lexer": "ipython2",
   "version": "2.7.12"
  }
 },
 "nbformat": 4,
 "nbformat_minor": 0
}
