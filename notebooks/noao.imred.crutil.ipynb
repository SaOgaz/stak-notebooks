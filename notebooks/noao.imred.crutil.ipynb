{
 "cells": [
  {
   "cell_type": "markdown",
   "metadata": {},
   "source": [
    "# noao.imred.crutil"
   ]
  },
  {
   "cell_type": "markdown",
   "metadata": {},
   "source": [
    "The noao.imred.crutil package contains various algorithms for finding and replacing cosmic rays in single images or image sets."
   ]
  },
  {
   "cell_type": "markdown",
   "metadata": {},
   "source": [
    "<a id='notes'></a>\n",
    "\n",
    "## Notes"
   ]
  },
  {
   "cell_type": "markdown",
   "metadata": {},
   "source": [
    "**For questions or comments please see** [our github page](https://github.com/spacetelescope/stak).  **We encourage and appreciate user feedback.**\n",
    "\n",
    "**Most of these notebooks rely on basic knowledge of the Astropy FITS I/O module.  If you are unfamiliar with this module please see the** [Astropy FITS I/O user documentation](http://docs.astropy.org/en/stable/io/fits/) **before using this documentation**.\n",
    "\n",
    "\n",
    "Contents:\n",
    "* [crgrow](#crgrow)\n",
    "* [crmedian](#crmedian)\n"
   ]
  },
  {
   "cell_type": "markdown",
   "metadata": {},
   "source": [
    "<br>"
   ]
  },
  {
   "cell_type": "markdown",
   "metadata": {},
   "source": [
    "<a id='crgrow'></a>\n",
    "\n",
    "## crgrow"
   ]
  },
  {
   "cell_type": "markdown",
   "metadata": {},
   "source": [
    "**Please review the** [Notes](#notes) **section above before running any examples in this notebook**\n",
    "\n",
    "The crgrow replacement uses the ``skimage.morphology`` package to grow the values in any numpy array.  The dilation task is a wrapper around ``scipy.ndimage.grey_dilation``.  You can insert any kernal type where ``disk`` is called in this example.  See the [skimage.morphology.dilation](http://scikit-image.org/docs/dev/api/skimage.morphology.html#skimage.morphology.dilation) for more information.  More kernel shapes are also listed on this page."
   ]
  },
  {
   "cell_type": "code",
   "execution_count": 2,
   "metadata": {
    "collapsed": true
   },
   "outputs": [],
   "source": [
    "# Standard Imports\n",
    "from skimage.morphology import disk,dilation\n",
    "\n",
    "# Astronomy Specific Imports\n",
    "from astropy.io import fits"
   ]
  },
  {
   "cell_type": "code",
   "execution_count": 4,
   "metadata": {},
   "outputs": [
    {
     "name": "stdout",
     "output_type": "stream",
     "text": [
      "Filename: /eng/ssb/iraf_transition/test_data/iczgs3ygq_flt.fits\n",
      "No.    Name      Ver    Type      Cards   Dimensions   Format\n",
      "  0  PRIMARY       1 PrimaryHDU     266   ()      \n",
      "  1  SCI           1 ImageHDU       140   (1014, 1014)   float32   \n",
      "  2  ERR           1 ImageHDU        51   (1014, 1014)   float32   \n",
      "  3  DQ            1 ImageHDU        43   (1014, 1014)   int16   \n",
      "  4  SAMP          1 ImageHDU        37   (1014, 1014)   int16   \n",
      "  5  TIME          1 ImageHDU        37   (1014, 1014)   float32   \n",
      "  6  WCSCORR       1 BinTableHDU     59   7R x 24C   [40A, I, A, 24A, 24A, 24A, 24A, D, D, D, D, D, D, D, D, 24A, 24A, D, D, D, D, J, 40A, 128A]   \n"
     ]
    }
   ],
   "source": [
    "# Change this value to your desired data file\n",
    "test_data = '/eng/ssb/iraf_transition/test_data/iczgs3ygq_flt.fits'\n",
    "out_file = 'crgrow.fits'\n",
    "\n",
    "# Read in your fits file, when using some fits file, the byteswap call is required to\n",
    "# make sure your array data type is correct when the dilation function is used. This\n",
    "# may be due to a bug in the dilation funciton.\n",
    "# For this example we will work with the 3rd extensions, the DQ array\n",
    "hdu = fits.open(test_data,mode='update')\n",
    "hdu.info()\n",
    "dq1 = hdu[3].data.byteswap().newbyteorder('=')\n",
    "\n",
    "# Dilation used to grow the CR flags, here we use the disk radius 2 shape kernel\n",
    "grownDQ = dilation(dq1, disk(2))\n",
    "\n",
    "# Re-assign the changed array to our original fits file and close save the updated FITS to a new file.\n",
    "hdu[3].data = grownDQ\n",
    "hdu.writeto(out_file, overwrite=True)"
   ]
  },
  {
   "cell_type": "markdown",
   "metadata": {},
   "source": [
    "<br>"
   ]
  },
  {
   "cell_type": "markdown",
   "metadata": {},
   "source": [
    "<a id='crmedian'></a>\n",
    "\n",
    "## crmedian"
   ]
  },
  {
   "cell_type": "markdown",
   "metadata": {},
   "source": [
    "**Please review the** [Notes](#notes) **section above before running any examples in this notebook**\n",
    "\n",
    "The crmedian task is a way to identify and replace cosmic rays in a single image by detecting pixels that deviate a statistically significant amount from the median by comparing to a median filtered version of the image.  The identified cosmic rays can then be replaced by the median filtered value.  A similar algorithm has been used in [ccdproc.cosmicray_median](http://ccdproc.readthedocs.io/en/latest/api/ccdproc.cosmicray_median.html#ccdproc.cosmicray_median).  In ``ccdproc.cosmicray_median`` you also have the option of using an error array.  If none is provided the standard deviation of the data is used.  Ccdproc is an evolving package, please see [their documentation](https://ccdproc.readthedocs.io/en/latest/) for more information on usage."
   ]
  },
  {
   "cell_type": "code",
   "execution_count": 1,
   "metadata": {
    "collapsed": true
   },
   "outputs": [],
   "source": [
    "# Astronomy Specific Imports\n",
    "from astropy.io import fits\n",
    "from astropy import units\n",
    "from ccdproc import cosmicray_median, fits_ccddata_reader"
   ]
  },
  {
   "cell_type": "code",
   "execution_count": 4,
   "metadata": {},
   "outputs": [
    {
     "name": "stdout",
     "output_type": "stream",
     "text": [
      "INFO: using the unit electron / s passed to the FITS reader instead of the unit ELECTRONS/S in the FITS file. [ccdproc.ccddata]\n"
     ]
    }
   ],
   "source": [
    "# Change these values to your desired data files\n",
    "test_data = '/eng/ssb/iraf_transition/test_data/iczgs3y5q_flt.fits'\n",
    "\n",
    "# First we need to pull out the science and error(uncertainty) array to \n",
    "# create CCDData objects. Our acutal unit is electrons/sec, this is not\n",
    "# accepted by the current set of units\n",
    "image_data = fits_ccddata_reader(test_data, hdu=1, unit=units.electron/units.s, hdu_uncertainty=2)\n",
    "error_data = image_data.uncertainty.array\n",
    "\n",
    "# Now we run cosmicray_median, since we input a CCDData type, a CCDData type is returned\n",
    "# If a numpy.ndarray if the input data type, it will return a numpy.ndarray\n",
    "newdata = cosmicray_median(image_data, error_image=error_data, thresh=5, mbox=11, rbox=11, gbox=3)"
   ]
  },
  {
   "cell_type": "markdown",
   "metadata": {},
   "source": [
    "<br>"
   ]
  },
  {
   "cell_type": "markdown",
   "metadata": {},
   "source": [
    "## Not Replacing"
   ]
  },
  {
   "cell_type": "markdown",
   "metadata": {},
   "source": [
    "* cosmicrays - Remove cosmic rays using flux ratio algorithm.\n",
    "* craverage - Detect CRs against average and avoid objects.\n",
    "* crcombine - Combine multiple exposures to eliminate cosmic rays.\n",
    "* credit - Interactively edit cosmic rays using an image display.\n",
    "* crfix - Fix cosmic rays in images using cosmic ray masks.\n",
    "* crnebula - Detect and replace cosmic rays in nebular data."
   ]
  }
 ],
 "metadata": {
  "kernelspec": {
   "display_name": "Python 3",
   "language": "python",
   "name": "python3"
  },
  "language_info": {
   "codemirror_mode": {
    "name": "ipython",
    "version": 3
   },
   "file_extension": ".py",
   "mimetype": "text/x-python",
   "name": "python",
   "nbconvert_exporter": "python",
   "pygments_lexer": "ipython3",
   "version": "3.5.4"
  }
 },
 "nbformat": 4,
 "nbformat_minor": 1
}
