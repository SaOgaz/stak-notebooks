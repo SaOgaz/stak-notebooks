{
 "cells": [
  {
   "cell_type": "markdown",
   "metadata": {},
   "source": [
    "# lists"
   ]
  },
  {
   "cell_type": "markdown",
   "metadata": {},
   "source": [
    "List processing package."
   ]
  },
  {
   "cell_type": "markdown",
   "metadata": {},
   "source": [
    "<a id='notes'></a>\n",
    "\n",
    "## Notes"
   ]
  },
  {
   "cell_type": "markdown",
   "metadata": {},
   "source": [
    "**For questions or comments please see** [our github page](https://github.com/spacetelescope/stak).  **We encourage and appreciate user feedback.**\n",
    "\n",
    "**Most of these notebooks rely on basic knowledge of the Astropy FITS I/O module.  If you are unfamiliar with this module please see the** [Astropy FITS I/O user documentation](http://docs.astropy.org/en/stable/io/fits/) **before using this documentation**.\n",
    "\n",
    "The simple tasks in this package are already covered by ``Astropy`` or other Python built-ins\n",
    "\n",
    "Contents:\n",
    "\n",
    "* [lintran](#lintran)\n",
    "* [raverage](#raverage)\n",
    "* [table-unique](#table-unique)"
   ]
  },
  {
   "cell_type": "markdown",
   "metadata": {},
   "source": [
    "<br>"
   ]
  },
  {
   "cell_type": "markdown",
   "metadata": {},
   "source": [
    "<a id='lintran'></a>\n",
    "\n",
    "## lintran"
   ]
  },
  {
   "cell_type": "markdown",
   "metadata": {},
   "source": [
    "**Please review the** [Notes](#notes) **section above before running any examples in this notebook**\n",
    "\n",
    "The lintran task will linear transform a list of coordinates. There are various tasks in the [numpy linear algebra package](https://docs.scipy.org/doc/numpy/reference/routines.linalg.html) that can be used to achieve this in Python.  Below is a simple example of a 90 degree rotation."
   ]
  },
  {
   "cell_type": "code",
   "execution_count": 1,
   "metadata": {
    "collapsed": true
   },
   "outputs": [],
   "source": [
    "# Standard Imports\n",
    "import numpy as np"
   ]
  },
  {
   "cell_type": "code",
   "execution_count": 2,
   "metadata": {},
   "outputs": [
    {
     "name": "stdout",
     "output_type": "stream",
     "text": [
      "new x values: [ 4.  5.  2.  2.  4.]\n",
      "new y values: [-1. -4. -5. -7. -3.]\n"
     ]
    }
   ],
   "source": [
    "# 90 degree rotation counterclockwise\n",
    "x_points = np.array([1,4,5,7,3])\n",
    "y_points = np.array([4,5,2,2,4])\n",
    "points = np.vstack([x_points,y_points])\n",
    "transform_matrix = a = np.array([[0, -1],\n",
    "                                 [1, 0]])\n",
    "\n",
    "new_points = np.linalg.inv(a).dot(points)\n",
    "\n",
    "print(\"new x values: {}\".format(new_points[0]))\n",
    "print(\"new y values: {}\".format(new_points[1]))"
   ]
  },
  {
   "cell_type": "markdown",
   "metadata": {},
   "source": [
    "<br>"
   ]
  },
  {
   "cell_type": "markdown",
   "metadata": {},
   "source": [
    "<a id='raverage'></a>\n",
    "\n",
    "## raverage"
   ]
  },
  {
   "cell_type": "markdown",
   "metadata": {},
   "source": [
    "**Please review the** [Notes](#notes) **section above before running any examples in this notebook**\n",
    "\n",
    "raverage computes the running average and standard deviation for a 1-dimensional array.  We can efficiently do this in Python using numpy's [convolve function](https://docs.scipy.org/doc/numpy-1.14.0/reference/generated/numpy.convolve.html).  For a more complex but more efficient implementatin of a rolling average that will also give you an output standard deviation you can use strides in `numpy` as seen in [this example here](http://www.rigtorp.se/2011/01/01/rolling-statistics-numpy.html)."
   ]
  },
  {
   "cell_type": "code",
   "execution_count": 2,
   "metadata": {},
   "outputs": [],
   "source": [
    "# Standard Imports\n",
    "import numpy as np"
   ]
  },
  {
   "cell_type": "code",
   "execution_count": 7,
   "metadata": {},
   "outputs": [
    {
     "name": "stdout",
     "output_type": "stream",
     "text": [
      "original array: [ 0  1  2  3  4  5  6  7  8  9 10 11 12 13 14 15 16 17 18 19]\n",
      "out_data: [  1.5   2.5   3.5   4.5   5.5   6.5   7.5   8.5   9.5  10.5  11.5  12.5\n",
      "  13.5  14.5  15.5  16.5  17.5]\n"
     ]
    }
   ],
   "source": [
    "# setup test data\n",
    "data = np.arange(20)\n",
    "# kernel size\n",
    "N = 4\n",
    "\n",
    "out_data = np.convolve(data, np.ones((N,))/N, mode='valid')\n",
    "\n",
    "print(\"original array: {}\".format(data))\n",
    "print(\"out_data: {}\".format(out_data))"
   ]
  },
  {
   "cell_type": "markdown",
   "metadata": {},
   "source": [
    "<br>"
   ]
  },
  {
   "cell_type": "markdown",
   "metadata": {},
   "source": [
    "<a id='table-unique'></a>\n",
    "\n",
    "## table-unique"
   ]
  },
  {
   "cell_type": "markdown",
   "metadata": {},
   "source": [
    "**Please review the** [Notes](#notes) **section above before running any examples in this notebook**\n",
    "\n",
    "The table task a list of text and transfers it to a table.  We will show an example of this using [Astropy Tables](http://docs.astropy.org/en/stable/table/) and a text file with return seperated values.  There are various parameters for reading in ascii files, documentation [found here](http://docs.astropy.org/en/stable/io/ascii/read.html#io-ascii-read-parameters).  We will continue this example to show how to extract that list and then apply a unique requirement, and save the list back out to a file, as in the IRAF task unique. More information on going to and from ``Astropy`` ``Tables`` see: "
   ]
  },
  {
   "cell_type": "code",
   "execution_count": 2,
   "metadata": {
    "collapsed": true
   },
   "outputs": [],
   "source": [
    "# Astronomy Specific Imports\n",
    "from astropy.table import Table, unique"
   ]
  },
  {
   "cell_type": "code",
   "execution_count": 3,
   "metadata": {},
   "outputs": [
    {
     "name": "stdout",
     "output_type": "stream",
     "text": [
      " col1\n",
      "-----\n",
      "star1\n",
      "star2\n",
      "star3\n",
      "star3\n",
      "star4\n",
      "star5\n",
      "star5\n",
      "star6\n"
     ]
    }
   ],
   "source": [
    "# Read text file into table\n",
    "text_file = '/eng/ssb/iraf_transition/test_data/table.txt'\n",
    "tab = Table.read(text_file, format='ascii.no_header')\n",
    "tab.pprint()"
   ]
  },
  {
   "cell_type": "code",
   "execution_count": 4,
   "metadata": {},
   "outputs": [
    {
     "name": "stdout",
     "output_type": "stream",
     "text": [
      " col1\n",
      "-----\n",
      "star1\n",
      "star2\n",
      "star3\n",
      "star4\n",
      "star5\n",
      "star6\n"
     ]
    }
   ],
   "source": [
    "# Run unique and print table\n",
    "out_table = unique(tab)\n",
    "out_table.pprint()\n",
    "\n",
    "# Save results to new text file\n",
    "out_table.write(\"out_table.txt\",format='ascii')"
   ]
  },
  {
   "cell_type": "markdown",
   "metadata": {},
   "source": [
    "<br>"
   ]
  },
  {
   "cell_type": "markdown",
   "metadata": {},
   "source": [
    "## Not Replacing"
   ]
  },
  {
   "cell_type": "markdown",
   "metadata": {},
   "source": [
    "* average - see **images.imutil.imstatistics** or [numpy tools](https://docs.scipy.org/doc/numpy/reference/routines.statistics.html)\n",
    "* columns - used to convert multicolumn data into CL lists, deprecated\n",
    "* rgcursor - Read the graphics cursor, deprecated\n",
    "* rimcursor - Read the image display cursor, see **images.tv** or [Python imexam](http://imexam.readthedocs.io/en/v0.7.1/)\n",
    "* tokens - deprecated\n",
    "* words - deprecated, see Python's built in [file reader](https://docs.python.org/3.6/tutorial/inputoutput.html)"
   ]
  }
 ],
 "metadata": {
  "kernelspec": {
   "display_name": "Python 3",
   "language": "python",
   "name": "python3"
  },
  "language_info": {
   "codemirror_mode": {
    "name": "ipython",
    "version": 3
   },
   "file_extension": ".py",
   "mimetype": "text/x-python",
   "name": "python",
   "nbconvert_exporter": "python",
   "pygments_lexer": "ipython3",
   "version": "3.5.4"
  }
 },
 "nbformat": 4,
 "nbformat_minor": 1
}
