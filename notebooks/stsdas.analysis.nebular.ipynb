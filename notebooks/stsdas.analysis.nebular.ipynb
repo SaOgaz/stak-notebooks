{
 "cells": [
  {
   "cell_type": "markdown",
   "metadata": {},
   "source": [
    "# stsdas.analysis.nebular"
   ]
  },
  {
   "cell_type": "markdown",
   "metadata": {},
   "source": [
    "Tasks for analyzing nebular emission lines."
   ]
  },
  {
   "cell_type": "markdown",
   "metadata": {},
   "source": [
    "<a id='notes'></a>\n",
    "\n",
    "## Notes"
   ]
  },
  {
   "cell_type": "markdown",
   "metadata": {},
   "source": [
    "**For questions or comments please see** [our github page](https://github.com/spacetelescope/stak).  **We encourage and appreciate user feedback.**\n",
    "\n",
    "The nebular package has been replaced in Python by the PyNeb package, documentation can be found [here](http://pythonhosted.org/PyNeb/), with a [homepage here](http://www.iac.es/proyecto/PyNeb/).  In this notebook we will simply list the equivalent Python task for the original IRAF task where possible.\n",
    "\n",
    "Contents:\n",
    "\n",
    "* [abund](#abund)\n",
    "* [ionic](#ionic)\n",
    "* [ntcontour-ntplot](#ntcontour-ntplot)\n",
    "* [redcorr](#redcorr)\n",
    "* [temden](#temden)\n",
    "* [zones](#zones)"
   ]
  },
  {
   "cell_type": "markdown",
   "metadata": {},
   "source": [
    "<br>"
   ]
  },
  {
   "cell_type": "markdown",
   "metadata": {},
   "source": [
    "<br>"
   ]
  },
  {
   "cell_type": "markdown",
   "metadata": {},
   "source": [
    "<a id='abund'></a>\n",
    "\n",
    "## abund"
   ]
  },
  {
   "cell_type": "markdown",
   "metadata": {},
   "source": [
    "**Please review the** [Notes](#notes) **section above before running any examples in this notebook**\n",
    "\n",
    "abund - Derive ionic abundances relative to H+ in 3-zone nebula.\n",
    "\n",
    "* See the getIonAbundance function and section 1.9 of the PyNeb handbook."
   ]
  },
  {
   "cell_type": "markdown",
   "metadata": {},
   "source": [
    "<br>"
   ]
  },
  {
   "cell_type": "markdown",
   "metadata": {},
   "source": [
    "<a id='ionic'></a>\n",
    "\n",
    "## ionic"
   ]
  },
  {
   "cell_type": "markdown",
   "metadata": {},
   "source": [
    "**Please review the** [Notes](#notes) **section above before running any examples in this notebook**\n",
    "\n",
    "ionic - Determine ionic abundance relative to H+.\n",
    "\n",
    "* see the Atom class in PyNeb"
   ]
  },
  {
   "cell_type": "markdown",
   "metadata": {},
   "source": [
    "<br>"
   ]
  },
  {
   "cell_type": "markdown",
   "metadata": {},
   "source": [
    "<a id='ntcountour-ntplot'></a>\n",
    "\n",
    "## ntcontour-ntplot"
   ]
  },
  {
   "cell_type": "markdown",
   "metadata": {},
   "source": [
    "**Please review the** [Notes](#notes) **section above before running any examples in this notebook**\n",
    "\n",
    "ntcontour - Plot contours of N_e- or T_e-sensitive line ratios.\n",
    "\n",
    "ntplot - Construct N_e vs. T_e plot for observed diagnostic ratios.\n",
    "\n",
    "* See section 2.4 of the PyNeb handbook."
   ]
  },
  {
   "cell_type": "markdown",
   "metadata": {},
   "source": [
    "<br>"
   ]
  },
  {
   "cell_type": "markdown",
   "metadata": {},
   "source": [
    "<a id='redcorr'></a>\n",
    "\n",
    "## redcorr"
   ]
  },
  {
   "cell_type": "markdown",
   "metadata": {},
   "source": [
    "**Please review the** [Notes](#notes) **section above before running any examples in this notebook**\n",
    "\n",
    "redcorr - Correct line flux for interstellar reddening.\n",
    "\n",
    "* See the RedCorr class in PyNeb."
   ]
  },
  {
   "cell_type": "markdown",
   "metadata": {},
   "source": [
    "<br>"
   ]
  },
  {
   "cell_type": "markdown",
   "metadata": {},
   "source": [
    "<a id='temden'></a>\n",
    "\n",
    "## temden"
   ]
  },
  {
   "cell_type": "markdown",
   "metadata": {},
   "source": [
    "**Please review the** [Notes](#notes) **section above before running any examples in this notebook**\n",
    "\n",
    "temden - Determine electron temperature or density from diagnostic ratio.\n",
    "\n",
    "* See section 1.11 of the PyNeb handbook."
   ]
  },
  {
   "cell_type": "markdown",
   "metadata": {},
   "source": [
    "<br>"
   ]
  },
  {
   "cell_type": "markdown",
   "metadata": {},
   "source": [
    "<a id='zones'></a>\n",
    "\n",
    "## zones"
   ]
  },
  {
   "cell_type": "markdown",
   "metadata": {},
   "source": [
    "**Please review the** [Notes](#notes) **section above before running any examples in this notebook**\n",
    "\n",
    "zones - Determine electron temps & densities in 3-zone nebula.\n",
    "\n",
    "* See the Atom object in PyNeb."
   ]
  },
  {
   "cell_type": "markdown",
   "metadata": {},
   "source": [
    "<br>"
   ]
  },
  {
   "cell_type": "markdown",
   "metadata": {},
   "source": [
    "<br>"
   ]
  },
  {
   "cell_type": "markdown",
   "metadata": {},
   "source": [
    "## Not Replacing"
   ]
  },
  {
   "cell_type": "markdown",
   "metadata": {},
   "source": [
    "* at_data - Documentation on the atomic reference data. Derecated.\n",
    "* diagcols - Pset for zone temperature & density column names. Deprecated.\n",
    "* fluxcols - Pset for line flux column names. Deprecated.\n",
    "* nlevel - Documentation on the N-level atom approximation. Deprecated."
   ]
  }
 ],
 "metadata": {
  "kernelspec": {
   "display_name": "Python 2",
   "language": "python",
   "name": "python2"
  },
  "language_info": {
   "codemirror_mode": {
    "name": "ipython",
    "version": 2
   },
   "file_extension": ".py",
   "mimetype": "text/x-python",
   "name": "python",
   "nbconvert_exporter": "python",
   "pygments_lexer": "ipython2",
   "version": "2.7.13"
  }
 },
 "nbformat": 4,
 "nbformat_minor": 1
}
