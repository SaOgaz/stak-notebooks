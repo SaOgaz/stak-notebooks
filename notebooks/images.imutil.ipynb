{
 "cells": [
  {
   "cell_type": "markdown",
   "metadata": {},
   "source": [
    "# images.imutil"
   ]
  },
  {
   "cell_type": "markdown",
   "metadata": {},
   "source": [
    "The images.imutil package provides general FITS image tools such as header editing and image arithmetic."
   ]
  },
  {
   "cell_type": "markdown",
   "metadata": {},
   "source": [
    "<a id='notes'></a>\n",
    "\n",
    "## Notes"
   ]
  },
  {
   "cell_type": "markdown",
   "metadata": {},
   "source": [
    "**For questions or comments please see** [our github page](https://github.com/spacetelescope/stak).  **We encourage and appreciate user feedback.**\n",
    "\n",
    "**Most of these notebooks rely on basic knowledge of the Astropy FITS I/O module.  If you are unfamiliar with this module please see the** [Astropy FITS I/O user documentation](http://docs.astropy.org/en/stable/io/fits/) **before using this documentation**.\n",
    "\n",
    "Contents:\n",
    "\n",
    "* [chpixtype](#chpixtype)\n",
    "* [hedit](#hedit)\n",
    "* [hselect](#hselect)\n",
    "* [imarith-imdivide](#imarith-imdivide)\n",
    "* [imcopy](#imcopy)\n",
    "* [imfunction-imexpr](#imfunction-imexpr)\n",
    "* [imheader](#imheader)\n",
    "* [imhistogram](#imhistogram)\n",
    "* [imreplace](#imreplace)\n",
    "* [imstack-imslice](#imslice)\n",
    "* [imstatistics](#imstatistics)\n",
    "* [imsum](#imsum)\n",
    "* [listpixels](#listpixels)"
   ]
  },
  {
   "cell_type": "markdown",
   "metadata": {},
   "source": [
    "<br>"
   ]
  },
  {
   "cell_type": "markdown",
   "metadata": {},
   "source": [
    "<a id='chpixtype'></a>\n",
    "\n",
    "## chpixtype"
   ]
  },
  {
   "cell_type": "markdown",
   "metadata": {},
   "source": [
    "**Please review the** [Notes](#notes) **section above before running any examples in this notebook**\n",
    "\n",
    "Chpixtype is a task that allows you to change the pixel type of a FITS image.  There is built in functionality in ``astropy.io.fits`` to preform this task with the ``scale`` method.  Below you will find a table that translates the chpixtype newpixtype options into their equivalent [numpy/astropy type](http://docs.scipy.org/doc/numpy/user/basics.types.html).\n",
    "\n",
    "**Type Conversions**\n",
    "\n",
    "| Chpixtype  | Numpy/Astropy Type|\n",
    "|:----------:|:-----------------:|\n",
    "| ``ushort`` | ``uint16``        |\n",
    "| ``short``  | ``int16``         |\n",
    "| ``int``    | ``int32``         |\n",
    "| ``long``   | ``int64``         |\n",
    "| ``real``   | ``float32``       |\n",
    "| ``double`` | ``float64``       |\n"
   ]
  },
  {
   "cell_type": "code",
   "execution_count": 1,
   "metadata": {},
   "outputs": [],
   "source": [
    "# Standard Imports\n",
    "import numpy as np\n",
    "\n",
    "# Astronomy Specific Imports\n",
    "from astropy.io import fits\n",
    "from astroquery.mast import Observations"
   ]
  },
  {
   "cell_type": "code",
   "execution_count": 2,
   "metadata": {},
   "outputs": [
    {
     "name": "stdout",
     "output_type": "stream",
     "text": [
      "Downloading URL https://mast.stsci.edu/api/v0/download/file?uri=mast:HST/product/iczgs3ygq/iczgs3ygq_flt.fits to ./mastDownload/HST/ICZGS3YGQ/iczgs3ygq_flt.fits ... [Done]\n"
     ]
    },
    {
     "data": {
      "text/html": [
       "<i>Table length=1</i>\n",
       "<table id=\"table90597018144\" class=\"table-striped table-bordered table-condensed\">\n",
       "<thead><tr><th>Local Path</th><th>Status</th><th>Message</th><th>URL</th></tr></thead>\n",
       "<thead><tr><th>str47</th><th>str5</th><th>str87</th><th>str93</th></tr></thead>\n",
       "<tr><td>./mastDownload/HST/ICZGS3YGQ/iczgs3ygq_flt.fits</td><td>ERROR</td><td>Downloaded filesize is 16531200,but should be 16534080, file may be partial or corrupt.</td><td>https://mast.stsci.edu/api/v0/download/file?uri=mast:HST/product/iczgs3ygq/iczgs3ygq_flt.fits</td></tr>\n",
       "</table>"
      ],
      "text/plain": [
       "<Table length=1>\n",
       "                   Local Path                   ...\n",
       "                     str47                      ...\n",
       "----------------------------------------------- ...\n",
       "./mastDownload/HST/ICZGS3YGQ/iczgs3ygq_flt.fits ..."
      ]
     },
     "execution_count": 2,
     "metadata": {},
     "output_type": "execute_result"
    }
   ],
   "source": [
    "# Download test file using astroquery, this only needs to be run once\n",
    "# and can be skipped if using your own data.\n",
    "# Astroquery will only download file if not already present.\n",
    "obsid = '2004615006'\n",
    "Observations.download_products(obsid,productFilename=\"iczgs3ygq_flt.fits\")"
   ]
  },
  {
   "cell_type": "code",
   "execution_count": 3,
   "metadata": {},
   "outputs": [
    {
     "name": "stdout",
     "output_type": "stream",
     "text": [
      "Filename: ./mastDownload/HST/ICZGS3YGQ/iczgs3ygq_flt.fits\n",
      "No.    Name      Ver    Type      Cards   Dimensions   Format\n",
      "  0  PRIMARY       1 PrimaryHDU     265   ()      \n",
      "  1  SCI           1 ImageHDU       140   (1014, 1014)   float32   \n",
      "  2  ERR           1 ImageHDU        51   (1014, 1014)   float32   \n",
      "  3  DQ            1 ImageHDU        43   (1014, 1014)   int16   \n",
      "  4  SAMP          1 ImageHDU        37   (1014, 1014)   int16   \n",
      "  5  TIME          1 ImageHDU        37   (1014, 1014)   float32   \n",
      "  6  WCSCORR       1 BinTableHDU     59   7R x 24C   [40A, I, A, 24A, 24A, 24A, 24A, D, D, D, D, D, D, D, D, 24A, 24A, D, D, D, D, J, 40A, 128A]   \n"
     ]
    }
   ],
   "source": [
    "# Change this value to your desired data file, here were creating a filename\n",
    "# for our new changed data\n",
    "orig_data = './mastDownload/HST/ICZGS3YGQ/iczgs3ygq_flt.fits'\n",
    "new_data = 'iczgs3ygq_newdtype_flt.fits'\n",
    "\n",
    "# Read in your FITS file\n",
    "hdu = fits.open(orig_data)\n",
    "\n",
    "# Print info about FITS file\n",
    "hdu.info()\n",
    "\n",
    "# Edit the datatype for the first sci extension\n",
    "hdu[1].scale(type='int32')\n",
    "\n",
    "# Save changed hdu object to new file\n",
    "# The overwrite argument tells the writeto method to overwrite if file already exists\n",
    "hdu.writeto(new_data, overwrite=True)\n",
    "hdu.close()"
   ]
  },
  {
   "cell_type": "markdown",
   "metadata": {},
   "source": [
    "<br>"
   ]
  },
  {
   "cell_type": "markdown",
   "metadata": {},
   "source": [
    "<a id='hedit'></a>\n",
    "\n",
    "## hedit"
   ]
  },
  {
   "cell_type": "markdown",
   "metadata": {},
   "source": [
    "**Please review the** [Notes](#notes) **section above before running any examples in this notebook**\n",
    "\n",
    "The hedit task allows users to edit an image header.  This functioanlity is covered in ``astropy.io.fits``.  Take note that to make changes to a FITS file, you must use the ``mode='update'`` keyword in the ``fits.open`` call. The default mode for ``fits.open`` is `readonly`. Below you'll find examples of editing a keyword if it does/doesn't exist, and how to delete keywords from the header. Also provided is an example of updating multiple files at once using the [convience function setval](http://docs.astropy.org/en/stable/io/fits/api/files.html#setval).\n",
    "\n",
    "For examples on printing/viewing header keywords please see [hselect](#hselect)"
   ]
  },
  {
   "cell_type": "code",
   "execution_count": 4,
   "metadata": {},
   "outputs": [],
   "source": [
    "# Standard Imports\n",
    "from glob import glob\n",
    "\n",
    "# Astronomy Specific Imports\n",
    "from astropy.io import fits\n",
    "from astroquery.mast import Observations"
   ]
  },
  {
   "cell_type": "code",
   "execution_count": 5,
   "metadata": {},
   "outputs": [
    {
     "name": "stdout",
     "output_type": "stream",
     "text": [
      "INFO: Found cached file ./mastDownload/HST/ICZGS3YGQ/iczgs3ygq_flt.fits with expected size 16534080. [astroquery.query]\n"
     ]
    },
    {
     "data": {
      "text/html": [
       "<i>Table length=1</i>\n",
       "<table id=\"table90597339880\" class=\"table-striped table-bordered table-condensed\">\n",
       "<thead><tr><th>Local Path</th><th>Status</th><th>Message</th><th>URL</th></tr></thead>\n",
       "<thead><tr><th>str47</th><th>str5</th><th>str87</th><th>str93</th></tr></thead>\n",
       "<tr><td>./mastDownload/HST/ICZGS3YGQ/iczgs3ygq_flt.fits</td><td>ERROR</td><td>Downloaded filesize is 16531200,but should be 16534080, file may be partial or corrupt.</td><td>https://mast.stsci.edu/api/v0/download/file?uri=mast:HST/product/iczgs3ygq/iczgs3ygq_flt.fits</td></tr>\n",
       "</table>"
      ],
      "text/plain": [
       "<Table length=1>\n",
       "                   Local Path                   ...\n",
       "                     str47                      ...\n",
       "----------------------------------------------- ...\n",
       "./mastDownload/HST/ICZGS3YGQ/iczgs3ygq_flt.fits ..."
      ]
     },
     "execution_count": 5,
     "metadata": {},
     "output_type": "execute_result"
    }
   ],
   "source": [
    "# Download test file using astroquery, this only needs to be run once\n",
    "# and can be skipped if using your own data.\n",
    "# Astroquery will only download file if not already present.\n",
    "obsid = '2004615006'\n",
    "Observations.download_products(obsid,productFilename=\"iczgs3ygq_flt.fits\")"
   ]
  },
  {
   "cell_type": "code",
   "execution_count": 6,
   "metadata": {},
   "outputs": [],
   "source": [
    "# Change this value to your desired data file\n",
    "test_data = './mastDownload/HST/ICZGS3YGQ/iczgs3ygq_flt.fits'\n",
    "\n",
    "# Open FITS file, include the mode='update' keyword\n",
    "hdu = fits.open(test_data, mode='update')\n",
    "\n",
    "# Simple header change, will add keyword if it doesn't exist\n",
    "hdu[0].header['MYKEY1'] = 'Editing this keyword'\n",
    "\n",
    "# Only add keyword if it does not already exist:\n",
    "if 'MYKEY2' not in hdu[0].header:\n",
    "    hdu[0].header['MYKEY2'] = 'Also editing this'\n",
    "\n",
    "# To delete keywords, first check if they exist:\n",
    "if 'MYKEY2' in hdu[0].header:\n",
    "    del hdu[0].header['MYKEY2']\n",
    "    \n",
    "# Close FITS file, this will save your changes\n",
    "hdu.close()"
   ]
  },
  {
   "cell_type": "markdown",
   "metadata": {},
   "source": [
    "Below we will show an example of how to update a keyword in multiple FITS files using the Astropy convenience function [astropy.io.fits.setval](http://docs.astropy.org/en/stable/io/fits/api/files.html#setval) and the [glob](https://docs.python.org/3/library/glob.html) function.  ``Astropy.io.fits.setval`` will add the keyword if it does not already exist."
   ]
  },
  {
   "cell_type": "code",
   "execution_count": 7,
   "metadata": {},
   "outputs": [],
   "source": [
    "# Change this value to your desired search\n",
    "data_list = glob('./mastDownload/HST/ICZGS3YGQ/*.fits')\n",
    "\n",
    "# Now we loop over the list of file and use the setval function to update keywords\n",
    "# Here we update the keyword MYKEY1 value to the integer 5.\n",
    "for filename in data_list:\n",
    "    fits.setval(filename, 'MYKEY1', value=5)"
   ]
  },
  {
   "cell_type": "markdown",
   "metadata": {},
   "source": [
    "<br>"
   ]
  },
  {
   "cell_type": "markdown",
   "metadata": {},
   "source": [
    "<a id='hselect'></a>\n",
    "\n",
    "## hselect"
   ]
  },
  {
   "cell_type": "markdown",
   "metadata": {},
   "source": [
    "**Please review the** [Notes](#notes) **section above before running any examples in this notebook**\n",
    "\n",
    "The hselect task allows users to search for keyword values in the FITS headers. This functionality has been replaced by the [CCDProc ImageFileCollection class](http://ccdproc.readthedocs.io/en/stable/api/ccdproc.ImageFileCollection.html).  This class stores the header keyword values in an [Astropy Table object](http://docs.astropy.org/en/stable/table/index.html#module-astropy.table). There is also an executable script provided by Astropy called [fitsheader](http://docs.astropy.org/en/stable/io/fits/usage/scripts.html#module-astropy.io.fits.scripts.fitsheader). You'll find examples of both below.\n",
    "\n",
    "If you wish to save your output to a text file, please see the [Astropy Table Documentation](http://docs.astropy.org/en/stable/table/io.html) and the [Astropy Unified I/O page](http://docs.astropy.org/en/stable/io/unified.html)."
   ]
  },
  {
   "cell_type": "code",
   "execution_count": 5,
   "metadata": {},
   "outputs": [],
   "source": [
    "# Astronomy Specific Imports\n",
    "from ccdproc import ImageFileCollection\n",
    "from astroquery.mast import Observations"
   ]
  },
  {
   "cell_type": "code",
   "execution_count": 10,
   "metadata": {},
   "outputs": [
    {
     "name": "stderr",
     "output_type": "stream",
     "text": [
      "INFO:astropy:Found cached file ./mastDownload/HST/JCZGX1PPQ/jczgx1ppq_flc.fits with expected size 167964480.\n"
     ]
    },
    {
     "name": "stdout",
     "output_type": "stream",
     "text": [
      "INFO: Found cached file ./mastDownload/HST/JCZGX1PPQ/jczgx1ppq_flc.fits with expected size 167964480. [astroquery.query]\n"
     ]
    },
    {
     "name": "stderr",
     "output_type": "stream",
     "text": [
      "INFO:astropy:Found cached file ./mastDownload/HST/JCZGX1PTQ/jczgx1ptq_flc.fits with expected size 167964480.\n"
     ]
    },
    {
     "name": "stdout",
     "output_type": "stream",
     "text": [
      "INFO: Found cached file ./mastDownload/HST/JCZGX1PTQ/jczgx1ptq_flc.fits with expected size 167964480. [astroquery.query]\n"
     ]
    },
    {
     "name": "stderr",
     "output_type": "stream",
     "text": [
      "INFO:astropy:Found cached file ./mastDownload/HST/JCZGX1Q1Q/jczgx1q1q_flc.fits with expected size 167964480.\n"
     ]
    },
    {
     "name": "stdout",
     "output_type": "stream",
     "text": [
      "INFO: Found cached file ./mastDownload/HST/JCZGX1Q1Q/jczgx1q1q_flc.fits with expected size 167964480. [astroquery.query]\n"
     ]
    },
    {
     "data": {
      "text/plain": [
       "'../data/jczgx1q1q_flc.fits'"
      ]
     },
     "execution_count": 10,
     "metadata": {},
     "output_type": "execute_result"
    }
   ],
   "source": [
    "# Download test file using astroquery, this only needs to be run once\n",
    "# and can be skipped if using your own data.\n",
    "# Astroquery will only download file if not already present.\n",
    "obsid = '2004663553'\n",
    "Observations.download_products(obsid, productFilename=\"jczgx1ppq_flc.fits\")\n",
    "obsid = '2004663554'\n",
    "Observations.download_products(obsid, productFilename=\"jczgx1ptq_flc.fits\")\n",
    "obsid = '2004663556'\n",
    "Observations.download_products(obsid, productFilename=\"jczgx1q1q_flc.fits\")\n",
    "\n",
    "import shutil\n",
    "shutil.move('./mastDownload/HST/JCZGX1PPQ/jczgx1ppq_flc.fits','../data/')\n",
    "shutil.move('./mastDownload/HST/JCZGX1PTQ/jczgx1ptq_flc.fits','../data/')\n",
    "shutil.move('./mastDownload/HST/JCZGX1Q1Q/jczgx1q1q_flc.fits','../data/')"
   ]
  },
  {
   "cell_type": "code",
   "execution_count": 13,
   "metadata": {},
   "outputs": [
    {
     "data": {
      "text/html": [
       "<i>Table masked=True length=3</i>\n",
       "<table id=\"table103576438656\" class=\"table-striped table-bordered table-condensed\">\n",
       "<thead><tr><th>file</th><th>filetype</th><th>date</th><th>exptime</th><th>filter2</th></tr></thead>\n",
       "<thead><tr><th>str18</th><th>str3</th><th>str10</th><th>float64</th><th>str5</th></tr></thead>\n",
       "<tr><td>jczgx1ppq_flc.fits</td><td>SCI</td><td>2017-12-03</td><td>578.0</td><td>F814W</td></tr>\n",
       "<tr><td>jczgx1ptq_flc.fits</td><td>SCI</td><td>2017-12-03</td><td>607.0</td><td>F814W</td></tr>\n",
       "<tr><td>jczgx1q1q_flc.fits</td><td>SCI</td><td>2017-12-03</td><td>578.0</td><td>F814W</td></tr>\n",
       "</table>"
      ],
      "text/plain": [
       "<Table masked=True length=3>\n",
       "       file        filetype    date    exptime filter2\n",
       "      str18          str3     str10    float64   str5 \n",
       "------------------ -------- ---------- ------- -------\n",
       "jczgx1ppq_flc.fits      SCI 2017-12-03   578.0   F814W\n",
       "jczgx1ptq_flc.fits      SCI 2017-12-03   607.0   F814W\n",
       "jczgx1q1q_flc.fits      SCI 2017-12-03   578.0   F814W"
      ]
     },
     "execution_count": 13,
     "metadata": {},
     "output_type": "execute_result"
    }
   ],
   "source": [
    "# first we make the ImageFileCollection object\n",
    "collec = ImageFileCollection('../data/', \n",
    "                             keywords=[\"filetype\",\"date\",\"exptime\",\"filter2\"],\n",
    "                             glob_include=\"jcz*.fits\", ext=0)\n",
    "\n",
    "# header keywords values are stored in an Astropy Table in the summary attribute \n",
    "out_table = collec.summary\n",
    "out_table"
   ]
  },
  {
   "cell_type": "code",
   "execution_count": 17,
   "metadata": {},
   "outputs": [
    {
     "data": {
      "text/html": [
       "<i>Table masked=True length=2</i>\n",
       "<table id=\"table103577396000\" class=\"table-striped table-bordered table-condensed\">\n",
       "<thead><tr><th>file</th><th>filetype</th><th>date</th><th>exptime</th><th>filter2</th></tr></thead>\n",
       "<thead><tr><th>str18</th><th>str3</th><th>str10</th><th>float64</th><th>str5</th></tr></thead>\n",
       "<tr><td>jczgx1ppq_flc.fits</td><td>SCI</td><td>2017-12-03</td><td>578.0</td><td>F814W</td></tr>\n",
       "<tr><td>jczgx1q1q_flc.fits</td><td>SCI</td><td>2017-12-03</td><td>578.0</td><td>F814W</td></tr>\n",
       "</table>"
      ],
      "text/plain": [
       "<Table masked=True length=2>\n",
       "       file        filetype    date    exptime filter2\n",
       "      str18          str3     str10    float64   str5 \n",
       "------------------ -------- ---------- ------- -------\n",
       "jczgx1ppq_flc.fits      SCI 2017-12-03   578.0   F814W\n",
       "jczgx1q1q_flc.fits      SCI 2017-12-03   578.0   F814W"
      ]
     },
     "execution_count": 17,
     "metadata": {},
     "output_type": "execute_result"
    }
   ],
   "source": [
    "# Now we can filter our table based on keyword values using Python bitwise operators\n",
    "filtered_table = out_table[(out_table['exptime'] < 600) & (out_table['filter2'] == 'F814W')]\n",
    "filtered_table"
   ]
  },
  {
   "cell_type": "code",
   "execution_count": 18,
   "metadata": {},
   "outputs": [
    {
     "name": "stdout",
     "output_type": "stream",
     "text": [
      "['jczgx1ppq_flc.fits' 'jczgx1q1q_flc.fits']\n",
      "jczgx1ppq_flc.fits\n",
      "jczgx1q1q_flc.fits\n"
     ]
    }
   ],
   "source": [
    "# Now let's extract the filename list from our filtered table into a python List object\n",
    "filelist = filtered_table['file'].data\n",
    "print(filelist)\n",
    "\n",
    "for filename in filelist:\n",
    "    print(filename)\n",
    "    # Do your analysis here"
   ]
  },
  {
   "cell_type": "markdown",
   "metadata": {},
   "source": [
    "<br>"
   ]
  },
  {
   "cell_type": "markdown",
   "metadata": {},
   "source": [
    "Also available is the Astropy executable script fitsheader.  Fitsheader can be run from the command line."
   ]
  },
  {
   "cell_type": "code",
   "execution_count": 5,
   "metadata": {},
   "outputs": [
    {
     "name": "stdout",
     "output_type": "stream",
     "text": [
      "usage: fitsheader [-h] [-e HDU] [-k KEYWORD] [-t [FORMAT]] [-c]\r\n",
      "                  filename [filename ...]\r\n",
      "\r\n",
      "Print the header(s) of a FITS file. Optional arguments allow the desired\r\n",
      "extension(s), keyword(s), and output format to be specified. Note that in the\r\n",
      "case of a compressed image, the decompressed header is shown by default.\r\n",
      "\r\n",
      "positional arguments:\r\n",
      "  filename              path to one or more files; wildcards are supported\r\n",
      "\r\n",
      "optional arguments:\r\n",
      "  -h, --help            show this help message and exit\r\n",
      "  -e HDU, --extension HDU\r\n",
      "                        specify the extension by name or number; this argument\r\n",
      "                        can be repeated to select multiple extensions\r\n",
      "  -k KEYWORD, --keyword KEYWORD\r\n",
      "                        specify a keyword; this argument can be repeated to\r\n",
      "                        select multiple keywords; also supports wildcards\r\n",
      "  -t [FORMAT], --table [FORMAT]\r\n",
      "                        print the header(s) in machine-readable table format;\r\n",
      "                        the default format is \"ascii.fixed_width\" (can be\r\n",
      "                        \"ascii.csv\", \"ascii.html\", \"ascii.latex\", \"fits\", etc)\r\n",
      "  -c, --compressed      for compressed image data, show the true header which\r\n",
      "                        describes the compression rather than the data\r\n"
     ]
    }
   ],
   "source": [
    "# the \"!\" character tells the notebook to run this command as if it were in a terminal window\n",
    "!fitsheader --help"
   ]
  },
  {
   "cell_type": "code",
   "execution_count": 1,
   "metadata": {},
   "outputs": [
    {
     "name": "stdout",
     "output_type": "stream",
     "text": [
      "# HDU 0 in ../data/imstack_out.fits:\n",
      "NAXIS   =                    3 / number of array dimensions                     \n",
      "NAXIS1  =                 4096                                                  \n",
      "NAXIS2  =                 2048                                                  \n",
      "NAXIS3  =                    2                                                  \n",
      "# HDU 0 in ../data/jczgx1ppq_flc.fits:\n",
      "FILENAME= 'jczgx1ppq_flc.fits' / name of file                                   \n",
      "FILETYPE= 'SCI      '          / type of data found in data file                \n",
      "NAXIS   =                    0 / number of data axes                            \n",
      "\n",
      "# HDU 1 in ../data/jczgx1ppq_flc.fits:\n",
      "NAXIS   =                    2 / number of data axes                            \n",
      "NAXIS1  =                 4096 / length of data axis 1                          \n",
      "NAXIS2  =                 2048 / length of data axis 2                          \n",
      "\n",
      "# HDU 2 in ../data/jczgx1ppq_flc.fits:\n",
      "NAXIS   =                    2 / number of data axes                            \n",
      "NAXIS1  =                 4096 / length of data axis 1                          \n",
      "NAXIS2  =                 2048 / length of data axis 2                          \n",
      "\n",
      "# HDU 3 in ../data/jczgx1ppq_flc.fits:\n",
      "NAXIS   =                    2 / number of data axes                            \n",
      "NAXIS1  =                 4096 / length of data axis 1                          \n",
      "NAXIS2  =                 2048 / length of data axis 2                          \n",
      "\n",
      "# HDU 4 in ../data/jczgx1ppq_flc.fits:\n",
      "NAXIS   =                    2 / number of data axes                            \n",
      "NAXIS1  =                 4096 / length of data axis 1                          \n",
      "NAXIS2  =                 2048 / length of data axis 2                          \n",
      "\n",
      "# HDU 5 in ../data/jczgx1ppq_flc.fits:\n",
      "NAXIS   =                    2 / number of data axes                            \n",
      "NAXIS1  =                 4096 / length of data axis 1                          \n",
      "NAXIS2  =                 2048 / length of data axis 2                          \n",
      "\n",
      "# HDU 6 in ../data/jczgx1ppq_flc.fits:\n",
      "NAXIS   =                    2 / number of data axes                            \n",
      "NAXIS1  =                 4096 / length of data axis 1                          \n",
      "NAXIS2  =                 2048 / length of data axis 2                          \n",
      "\n",
      "# HDU 7 in ../data/jczgx1ppq_flc.fits:\n",
      "NAXIS   =                    2 / number of array dimensions                     \n",
      "NAXIS1  =                   64                                                  \n",
      "NAXIS2  =                   32                                                  \n",
      "\n",
      "# HDU 8 in ../data/jczgx1ppq_flc.fits:\n",
      "NAXIS   =                    2 / number of array dimensions                     \n",
      "NAXIS1  =                   64                                                  \n",
      "NAXIS2  =                   32                                                  \n",
      "\n",
      "# HDU 9 in ../data/jczgx1ppq_flc.fits:\n",
      "NAXIS   =                    2 / number of array dimensions                     \n",
      "NAXIS1  =                   64                                                  \n",
      "NAXIS2  =                   32                                                  \n",
      "\n",
      "# HDU 10 in ../data/jczgx1ppq_flc.fits:\n",
      "NAXIS   =                    2 / number of array dimensions                     \n",
      "NAXIS1  =                   64                                                  \n",
      "NAXIS2  =                   32                                                  \n",
      "\n",
      "# HDU 11 in ../data/jczgx1ppq_flc.fits:\n",
      "NAXIS   =                    2 / number of array dimensions                     \n",
      "NAXIS1  =                   64                                                  \n",
      "NAXIS2  =                   32                                                  \n",
      "\n",
      "# HDU 12 in ../data/jczgx1ppq_flc.fits:\n",
      "NAXIS   =                    2 / number of array dimensions                     \n",
      "NAXIS1  =                   64                                                  \n",
      "NAXIS2  =                   32                                                  \n",
      "\n",
      "# HDU 13 in ../data/jczgx1ppq_flc.fits:\n",
      "NAXIS   =                    2 / number of array dimensions                     \n",
      "NAXIS1  =                   64                                                  \n",
      "NAXIS2  =                   32                                                  \n",
      "\n",
      "# HDU 14 in ../data/jczgx1ppq_flc.fits:\n",
      "NAXIS   =                    2 / number of array dimensions                     \n",
      "NAXIS1  =                   64                                                  \n",
      "NAXIS2  =                   32                                                  \n",
      "\n",
      "# HDU 15 in ../data/jczgx1ppq_flc.fits:\n",
      "NAXIS   =                    2 / number of array dimensions                     \n",
      "NAXIS1  =                  455 / length of dimension 1                          \n",
      "NAXIS2  =                   14 / length of dimension 2                          \n",
      "# HDU 0 in ../data/jczgx1ptq_flc.fits:\n",
      "FILENAME= 'jczgx1ptq_flc.fits' / name of file                                   \n",
      "FILETYPE= 'SCI      '          / type of data found in data file                \n",
      "NAXIS   =                    0 / number of data axes                            \n",
      "\n",
      "# HDU 1 in ../data/jczgx1ptq_flc.fits:\n",
      "NAXIS   =                    2 / number of data axes                            \n",
      "NAXIS1  =                 4096 / length of data axis 1                          \n",
      "NAXIS2  =                 2048 / length of data axis 2                          \n",
      "\n",
      "# HDU 2 in ../data/jczgx1ptq_flc.fits:\n",
      "NAXIS   =                    2 / number of data axes                            \n",
      "NAXIS1  =                 4096 / length of data axis 1                          \n",
      "NAXIS2  =                 2048 / length of data axis 2                          \n",
      "\n",
      "# HDU 3 in ../data/jczgx1ptq_flc.fits:\n",
      "NAXIS   =                    2 / number of data axes                            \n",
      "NAXIS1  =                 4096 / length of data axis 1                          \n",
      "NAXIS2  =                 2048 / length of data axis 2                          \n",
      "\n",
      "# HDU 4 in ../data/jczgx1ptq_flc.fits:\n",
      "NAXIS   =                    2 / number of data axes                            \n",
      "NAXIS1  =                 4096 / length of data axis 1                          \n",
      "NAXIS2  =                 2048 / length of data axis 2                          \n",
      "\n",
      "# HDU 5 in ../data/jczgx1ptq_flc.fits:\n",
      "NAXIS   =                    2 / number of data axes                            \n",
      "NAXIS1  =                 4096 / length of data axis 1                          \n",
      "NAXIS2  =                 2048 / length of data axis 2                          \n",
      "\n",
      "# HDU 6 in ../data/jczgx1ptq_flc.fits:\n",
      "NAXIS   =                    2 / number of data axes                            \n",
      "NAXIS1  =                 4096 / length of data axis 1                          \n",
      "NAXIS2  =                 2048 / length of data axis 2                          \n",
      "\n",
      "# HDU 7 in ../data/jczgx1ptq_flc.fits:\n",
      "NAXIS   =                    2 / number of array dimensions                     \n",
      "NAXIS1  =                   64                                                  \n",
      "NAXIS2  =                   32                                                  \n",
      "\n",
      "# HDU 8 in ../data/jczgx1ptq_flc.fits:\n",
      "NAXIS   =                    2 / number of array dimensions                     \n",
      "NAXIS1  =                   64                                                  \n",
      "NAXIS2  =                   32                                                  \n",
      "\n",
      "# HDU 9 in ../data/jczgx1ptq_flc.fits:\n",
      "NAXIS   =                    2 / number of array dimensions                     \n",
      "NAXIS1  =                   64                                                  \n",
      "NAXIS2  =                   32                                                  \n",
      "\n",
      "# HDU 10 in ../data/jczgx1ptq_flc.fits:\n",
      "NAXIS   =                    2 / number of array dimensions                     \n",
      "NAXIS1  =                   64                                                  \n",
      "NAXIS2  =                   32                                                  \n",
      "\n",
      "# HDU 11 in ../data/jczgx1ptq_flc.fits:\n",
      "NAXIS   =                    2 / number of array dimensions                     \n",
      "NAXIS1  =                   64                                                  \n",
      "NAXIS2  =                   32                                                  \n",
      "\n",
      "# HDU 12 in ../data/jczgx1ptq_flc.fits:\n",
      "NAXIS   =                    2 / number of array dimensions                     \n",
      "NAXIS1  =                   64                                                  \n",
      "NAXIS2  =                   32                                                  \n",
      "\n",
      "# HDU 13 in ../data/jczgx1ptq_flc.fits:\n",
      "NAXIS   =                    2 / number of array dimensions                     \n",
      "NAXIS1  =                   64                                                  \n",
      "NAXIS2  =                   32                                                  \n",
      "\n",
      "# HDU 14 in ../data/jczgx1ptq_flc.fits:\n",
      "NAXIS   =                    2 / number of array dimensions                     \n",
      "NAXIS1  =                   64                                                  \n",
      "NAXIS2  =                   32                                                  \n",
      "\n",
      "# HDU 15 in ../data/jczgx1ptq_flc.fits:\n",
      "NAXIS   =                    2 / number of array dimensions                     \n",
      "NAXIS1  =                  455 / length of dimension 1                          \n",
      "NAXIS2  =                   14 / length of dimension 2                          \n"
     ]
    },
    {
     "name": "stdout",
     "output_type": "stream",
     "text": [
      "# HDU 0 in ../data/jczgx1q1q_flc.fits:\r\n",
      "FILENAME= 'jczgx1q1q_flc.fits' / name of file                                   \r\n",
      "FILETYPE= 'SCI      '          / type of data found in data file                \r\n",
      "NAXIS   =                    0 / number of data axes                            \r\n",
      "\r\n",
      "# HDU 1 in ../data/jczgx1q1q_flc.fits:\r\n",
      "NAXIS   =                    2 / number of data axes                            \r\n",
      "NAXIS1  =                 4096 / length of data axis 1                          \r\n",
      "NAXIS2  =                 2048 / length of data axis 2                          \r\n",
      "\r\n",
      "# HDU 2 in ../data/jczgx1q1q_flc.fits:\r\n",
      "NAXIS   =                    2 / number of data axes                            \r\n",
      "NAXIS1  =                 4096 / length of data axis 1                          \r\n",
      "NAXIS2  =                 2048 / length of data axis 2                          \r\n",
      "\r\n",
      "# HDU 3 in ../data/jczgx1q1q_flc.fits:\r\n",
      "NAXIS   =                    2 / number of data axes                            \r\n",
      "NAXIS1  =                 4096 / length of data axis 1                          \r\n",
      "NAXIS2  =                 2048 / length of data axis 2                          \r\n",
      "\r\n",
      "# HDU 4 in ../data/jczgx1q1q_flc.fits:\r\n",
      "NAXIS   =                    2 / number of data axes                            \r\n",
      "NAXIS1  =                 4096 / length of data axis 1                          \r\n",
      "NAXIS2  =                 2048 / length of data axis 2                          \r\n",
      "\r\n",
      "# HDU 5 in ../data/jczgx1q1q_flc.fits:\r\n",
      "NAXIS   =                    2 / number of data axes                            \r\n",
      "NAXIS1  =                 4096 / length of data axis 1                          \r\n",
      "NAXIS2  =                 2048 / length of data axis 2                          \r\n",
      "\r\n",
      "# HDU 6 in ../data/jczgx1q1q_flc.fits:\r\n",
      "NAXIS   =                    2 / number of data axes                            \r\n",
      "NAXIS1  =                 4096 / length of data axis 1                          \r\n",
      "NAXIS2  =                 2048 / length of data axis 2                          \r\n",
      "\r\n",
      "# HDU 7 in ../data/jczgx1q1q_flc.fits:\r\n",
      "NAXIS   =                    2 / number of array dimensions                     \r\n",
      "NAXIS1  =                   64                                                  \r\n",
      "NAXIS2  =                   32                                                  \r\n",
      "\r\n",
      "# HDU 8 in ../data/jczgx1q1q_flc.fits:\r\n",
      "NAXIS   =                    2 / number of array dimensions                     \r\n",
      "NAXIS1  =                   64                                                  \r\n",
      "NAXIS2  =                   32                                                  \r\n",
      "\r\n",
      "# HDU 9 in ../data/jczgx1q1q_flc.fits:\r\n",
      "NAXIS   =                    2 / number of array dimensions                     \r\n",
      "NAXIS1  =                   64                                                  \r\n",
      "NAXIS2  =                   32                                                  \r\n",
      "\r\n",
      "# HDU 10 in ../data/jczgx1q1q_flc.fits:\r\n",
      "NAXIS   =                    2 / number of array dimensions                     \r\n",
      "NAXIS1  =                   64                                                  \r\n",
      "NAXIS2  =                   32                                                  \r\n",
      "\r\n",
      "# HDU 11 in ../data/jczgx1q1q_flc.fits:\r\n",
      "NAXIS   =                    2 / number of array dimensions                     \r\n",
      "NAXIS1  =                   64                                                  \r\n",
      "NAXIS2  =                   32                                                  \r\n",
      "\r\n",
      "# HDU 12 in ../data/jczgx1q1q_flc.fits:\r\n",
      "NAXIS   =                    2 / number of array dimensions                     \r\n",
      "NAXIS1  =                   64                                                  \r\n",
      "NAXIS2  =                   32                                                  \r\n",
      "\r\n",
      "# HDU 13 in ../data/jczgx1q1q_flc.fits:\r\n",
      "NAXIS   =                    2 / number of array dimensions                     \r\n",
      "NAXIS1  =                   64                                                  \r\n",
      "NAXIS2  =                   32                                                  \r\n",
      "\r\n",
      "# HDU 14 in ../data/jczgx1q1q_flc.fits:\r\n",
      "NAXIS   =                    2 / number of array dimensions                     \r\n",
      "NAXIS1  =                   64                                                  \r\n",
      "NAXIS2  =                   32                                                  \r\n",
      "\r\n",
      "# HDU 15 in ../data/jczgx1q1q_flc.fits:\r\n",
      "NAXIS   =                    2 / number of array dimensions                     \r\n",
      "NAXIS1  =                  455 / length of dimension 1                          \r\n",
      "NAXIS2  =                   14 / length of dimension 2                          \r\n"
     ]
    }
   ],
   "source": [
    "# print out only the keyword names that match FILE* or NAXIS*\n",
    "!fitsheader --keyword FILE* --keyword NAXIS* ../data/*.fits"
   ]
  },
  {
   "cell_type": "code",
   "execution_count": 2,
   "metadata": {},
   "outputs": [
    {
     "name": "stdout",
     "output_type": "stream",
     "text": [
      "# HDU 0 in ../data/imstack_out.fits:\n",
      "NAXIS   =                    3 / number of array dimensions                     \n",
      "NAXIS1  =                 4096                                                  \n",
      "NAXIS2  =                 2048                                                  \n",
      "NAXIS3  =                    2                                                  \n",
      "# HDU 0 in ../data/jczgx1ppq_flc.fits:\n",
      "FILENAME= 'jczgx1ppq_flc.fits' / name of file                                   \n",
      "FILETYPE= 'SCI      '          / type of data found in data file                \n",
      "NAXIS   =                    0 / number of data axes                            \n",
      "# HDU 0 in ../data/jczgx1ptq_flc.fits:\n",
      "FILENAME= 'jczgx1ptq_flc.fits' / name of file                                   \n",
      "FILETYPE= 'SCI      '          / type of data found in data file                \n",
      "NAXIS   =                    0 / number of data axes                            \n",
      "# HDU 0 in ../data/jczgx1q1q_flc.fits:\n",
      "FILENAME= 'jczgx1q1q_flc.fits' / name of file                                   \n",
      "FILETYPE= 'SCI      '          / type of data found in data file                \n",
      "NAXIS   =                    0 / number of data axes                            \n"
     ]
    }
   ],
   "source": [
    "# print out only the first extension and keyword names that match FILE* or NAXIS*\n",
    "!fitsheader --extension 0 --keyword FILE* --keyword NAXIS* ../data/*.fits"
   ]
  },
  {
   "cell_type": "markdown",
   "metadata": {},
   "source": [
    "<br>"
   ]
  },
  {
   "cell_type": "markdown",
   "metadata": {},
   "source": [
    "<a id='imarith-imdivide'></a>\n",
    "\n",
    "## imarith-imdivide"
   ]
  },
  {
   "cell_type": "markdown",
   "metadata": {},
   "source": [
    "**Please review the** [Notes](#notes) **section above before running any examples in this notebook**\n",
    "\n",
    "Imarith and imdivide both provide functionality to apply basic operators to whole image arrays.  This task can be achieved with basic ``astropy.io.fits`` functionality along with ``numpy`` array functionality. We show a few examples below.  In the first code cell we adding and dividing two image arrays together. In the second code cell we show how to use a data quality array to decide which image array values to replace with zero.\n",
    "\n",
    "The basic operands (``+``,``-``,``/``,``*``) can all be used with an assignment operator in python (``+=``,``-=``,``/=``,``*=``). See http://www.tutorialspoint.com/python/python_basic_operators.htm for more details"
   ]
  },
  {
   "cell_type": "code",
   "execution_count": 19,
   "metadata": {},
   "outputs": [],
   "source": [
    "# Astronomy Specific Imports\n",
    "from astropy.io import fits\n",
    "from astroquery.mast import Observations"
   ]
  },
  {
   "cell_type": "code",
   "execution_count": 20,
   "metadata": {},
   "outputs": [
    {
     "name": "stderr",
     "output_type": "stream",
     "text": [
      "INFO:astropy:Found cached file ./mastDownload/HST/ICZGS3Y5Q/iczgs3y5q_flt.fits with expected size 16534080.\n"
     ]
    },
    {
     "name": "stdout",
     "output_type": "stream",
     "text": [
      "INFO: Found cached file ./mastDownload/HST/ICZGS3Y5Q/iczgs3y5q_flt.fits with expected size 16534080. [astroquery.query]\n"
     ]
    },
    {
     "name": "stderr",
     "output_type": "stream",
     "text": [
      "INFO:astropy:Found cached file ./mastDownload/HST/ICZGS3YGQ/iczgs3ygq_flt.fits with expected size 16534080.\n"
     ]
    },
    {
     "name": "stdout",
     "output_type": "stream",
     "text": [
      "INFO: Found cached file ./mastDownload/HST/ICZGS3YGQ/iczgs3ygq_flt.fits with expected size 16534080. [astroquery.query]\n"
     ]
    },
    {
     "data": {
      "text/html": [
       "<i>Table length=1</i>\n",
       "<table id=\"table103577515960\" class=\"table-striped table-bordered table-condensed\">\n",
       "<thead><tr><th>Local Path</th><th>Status</th><th>Message</th><th>URL</th></tr></thead>\n",
       "<thead><tr><th>str47</th><th>str5</th><th>str87</th><th>str93</th></tr></thead>\n",
       "<tr><td>./mastDownload/HST/ICZGS3YGQ/iczgs3ygq_flt.fits</td><td>ERROR</td><td>Downloaded filesize is 16531200,but should be 16534080, file may be partial or corrupt.</td><td>https://mast.stsci.edu/api/v0/download/file?uri=mast:HST/product/iczgs3ygq/iczgs3ygq_flt.fits</td></tr>\n",
       "</table>"
      ],
      "text/plain": [
       "<Table length=1>\n",
       "                   Local Path                   ...\n",
       "                     str47                      ...\n",
       "----------------------------------------------- ...\n",
       "./mastDownload/HST/ICZGS3YGQ/iczgs3ygq_flt.fits ..."
      ]
     },
     "execution_count": 20,
     "metadata": {},
     "output_type": "execute_result"
    }
   ],
   "source": [
    "# Download test file using astroquery, this only needs to be run once\n",
    "# and can be skipped if using your own data.\n",
    "# Astroquery will only download file if not already present.\n",
    "obsid = '2004615003'\n",
    "Observations.download_products(obsid,productFilename=\"iczgs3y5q_flt.fits\")\n",
    "obsid = '2004615006'\n",
    "Observations.download_products(obsid,productFilename=\"iczgs3ygq_flt.fits\")"
   ]
  },
  {
   "cell_type": "code",
   "execution_count": 21,
   "metadata": {},
   "outputs": [
    {
     "name": "stdout",
     "output_type": "stream",
     "text": [
      "Filename: ./mastDownload/HST/ICZGS3YGQ/iczgs3ygq_flt.fits\n",
      "No.    Name      Ver    Type      Cards   Dimensions   Format\n",
      "  0  PRIMARY       1 PrimaryHDU     266   ()      \n",
      "  1  SCI           1 ImageHDU       140   (1014, 1014)   float32   \n",
      "  2  ERR           1 ImageHDU        51   (1014, 1014)   float32   \n",
      "  3  DQ            1 ImageHDU        43   (1014, 1014)   int16   \n",
      "  4  SAMP          1 ImageHDU        37   (1014, 1014)   int16   \n",
      "  5  TIME          1 ImageHDU        37   (1014, 1014)   float32   \n",
      "  6  WCSCORR       1 BinTableHDU     59   7R x 24C   [40A, I, A, 24A, 24A, 24A, 24A, D, D, D, D, D, D, D, D, 24A, 24A, D, D, D, D, J, 40A, 128A]   \n",
      "Filename: ./mastDownload/HST/ICZGS3Y5Q/iczgs3y5q_flt.fits\n",
      "No.    Name      Ver    Type      Cards   Dimensions   Format\n",
      "  0  PRIMARY       1 PrimaryHDU     265   ()      \n",
      "  1  SCI           1 ImageHDU       140   (1014, 1014)   float32   \n",
      "  2  ERR           1 ImageHDU        51   (1014, 1014)   float32   \n",
      "  3  DQ            1 ImageHDU        43   (1014, 1014)   int16   \n",
      "  4  SAMP          1 ImageHDU        37   (1014, 1014)   int16   \n",
      "  5  TIME          1 ImageHDU        37   (1014, 1014)   float32   \n",
      "  6  WCSCORR       1 BinTableHDU     59   7R x 24C   [40A, I, A, 24A, 24A, 24A, 24A, D, D, D, D, D, D, D, D, 24A, 24A, D, D, D, D, J, 40A, 128A]   \n"
     ]
    }
   ],
   "source": [
    "# Basic operands (+,-,/,*)\n",
    "# Change these values to your desired data files\n",
    "test_data1 = './mastDownload/HST/ICZGS3YGQ/iczgs3ygq_flt.fits'\n",
    "test_data2 = './mastDownload/HST/ICZGS3Y5Q/iczgs3y5q_flt.fits'\n",
    "output_data = 'imarith_out.fits'\n",
    "output_data2 = 'imarith_new.fits'\n",
    "\n",
    "\n",
    "# Open FITS file\n",
    "hdu1 = fits.open(test_data1)\n",
    "hdu2 = fits.open(test_data2)\n",
    "\n",
    "# Print information about the FITS file we opened\n",
    "hdu1.info()\n",
    "hdu2.info()\n",
    "\n",
    "# Here we add hdu2-ext1 to hdu1-ext1 by using the shortcut += operator\n",
    "hdu1[1].data += hdu2[1].data\n",
    "\n",
    "# If you are dividing and need to avoid zeros in the image use indexing\n",
    "indx_zeros = hdu2[1].data == 0\n",
    "indx_nonzeros = hdu2[1].data != 0\n",
    "\n",
    "# Set this value as you would the divzero parameter in imarith\n",
    "# Here we're working with the error arrays of the image\n",
    "set_zeros = 999.9\n",
    "hdu1[2].data[indx_nonzeros] /= hdu2[2].data[indx_nonzeros]\n",
    "hdu1[2].data[indx_zeros] = 999.9\n",
    "\n",
    "# Save your new file\n",
    "# The overwrite argument tells the writeto method to overwrite if file already exists\n",
    "hdu1.writeto(output_data, overwrite=True)\n",
    "\n",
    "# If you want to save you updated array to a new file with just the updated image array \n",
    "# we can repackage the extension into a new HDUList\n",
    "image_array = hdu1[1].data\n",
    "new_hdu = fits.PrimaryHDU(image_array)\n",
    "new_hdu.writeto(output_data2, overwrite=True)\n",
    "\n",
    "# Close hdu files\n",
    "hdu1.close()\n",
    "hdu2.close()"
   ]
  },
  {
   "cell_type": "code",
   "execution_count": 22,
   "metadata": {},
   "outputs": [],
   "source": [
    "# Here we show an example of using an HST DQ array to\n",
    "# replace only certain values with zero in an image array\n",
    "\n",
    "# Change these values to your desired data files\n",
    "test_data1 = './mastDownload/HST/ICZGS3YGQ/iczgs3ygq_flt.fits'\n",
    "output_file = 'iczgs3ygq_updated.fits'\n",
    "\n",
    "# Open FITS file\n",
    "hdulist = fits.open(test_data1)\n",
    "\n",
    "# First we should use the DQ array to make a boolean mask\n",
    "DQ_mask = hdulist[3].data > 16384\n",
    "\n",
    "# Now we can use the mask to replace values in the image array\n",
    "# with 0.\n",
    "hdulist[1].data[DQ_mask] = 0\n",
    "\n",
    "# Now we can save out the edited FITS to a new file\n",
    "hdulist.writeto(output_file)\n",
    "\n",
    "# And finally, close the original FITS file\n",
    "# The orignially file will not be updated since we did not\n",
    "# open the file in 'update' mode\n",
    "hdulist.close()"
   ]
  },
  {
   "cell_type": "markdown",
   "metadata": {},
   "source": [
    "<br>"
   ]
  },
  {
   "cell_type": "markdown",
   "metadata": {},
   "source": [
    "<a id='imcopy'></a>\n",
    "\n",
    "## imcopy"
   ]
  },
  {
   "cell_type": "markdown",
   "metadata": {},
   "source": [
    "**Please review the** [Notes](#notes) **section above before running any examples in this notebook**\n",
    "\n",
    "Imcopy allows users to copy a FITS image to a new file. We can accomplish this using ``astropy.io.fits`` by saving our FITS file to a new filename.\n",
    "\n",
    "Imcopy will also make a cutout of an image and save the cutout to a new file with an updated WCS.  We show an exampe of this in Python using the [Cutout2D](http://docs.astropy.org/en/stable/api/astropy.nddata.Cutout2D.html) tool in ``Astropy``. For more information on how to use ``Cutout2D`` please see [this tutorial page](http://docs.astropy.org/en/stable/nddata/utils.html#cutout-images)."
   ]
  },
  {
   "cell_type": "code",
   "execution_count": 23,
   "metadata": {},
   "outputs": [],
   "source": [
    "# Astronomy Specific Imports\n",
    "from astropy import wcs\n",
    "from astropy.io import fits\n",
    "from astropy.nddata import Cutout2D\n",
    "from astroquery.mast import Observations"
   ]
  },
  {
   "cell_type": "code",
   "execution_count": 25,
   "metadata": {},
   "outputs": [
    {
     "name": "stderr",
     "output_type": "stream",
     "text": [
      "INFO:astropy:Found cached file ./mastDownload/HST/ICZGS3YGQ/iczgs3ygq_flt.fits with expected size 16534080.\n"
     ]
    },
    {
     "name": "stdout",
     "output_type": "stream",
     "text": [
      "INFO: Found cached file ./mastDownload/HST/ICZGS3YGQ/iczgs3ygq_flt.fits with expected size 16534080. [astroquery.query]\n"
     ]
    },
    {
     "name": "stderr",
     "output_type": "stream",
     "text": [
      "INFO:astropy:Found cached file ./mastDownload/HST/JCW505010/jcw505010_drz.fits with expected size 219404160.\n"
     ]
    },
    {
     "name": "stdout",
     "output_type": "stream",
     "text": [
      "INFO: Found cached file ./mastDownload/HST/JCW505010/jcw505010_drz.fits with expected size 219404160. [astroquery.query]\n"
     ]
    },
    {
     "data": {
      "text/html": [
       "<i>Table length=1</i>\n",
       "<table id=\"table103577397512\" class=\"table-striped table-bordered table-condensed\">\n",
       "<thead><tr><th>Local Path</th><th>Status</th><th>Message</th><th>URL</th></tr></thead>\n",
       "<thead><tr><th>str47</th><th>str5</th><th>str89</th><th>str93</th></tr></thead>\n",
       "<tr><td>./mastDownload/HST/JCW505010/jcw505010_drz.fits</td><td>ERROR</td><td>Downloaded filesize is 219456000,but should be 219404160, file may be partial or corrupt.</td><td>https://mast.stsci.edu/api/v0/download/file?uri=mast:HST/product/jcw505010/jcw505010_drz.fits</td></tr>\n",
       "</table>"
      ],
      "text/plain": [
       "<Table length=1>\n",
       "                   Local Path                   ...\n",
       "                     str47                      ...\n",
       "----------------------------------------------- ...\n",
       "./mastDownload/HST/JCW505010/jcw505010_drz.fits ..."
      ]
     },
     "execution_count": 25,
     "metadata": {},
     "output_type": "execute_result"
    }
   ],
   "source": [
    "# Download test file using astroquery, this only needs to be run once\n",
    "# and can be skipped if using your own data.\n",
    "# Astroquery will only download file if not already present.\n",
    "obsid = '2004615006'\n",
    "Observations.download_products(obsid,productFilename=\"iczgs3ygq_flt.fits\")\n",
    "obsid = '2004345211'\n",
    "Observations.download_products(obsid,productFilename=\"jcw505010_drz.fits\")"
   ]
  },
  {
   "cell_type": "markdown",
   "metadata": {},
   "source": [
    "Simple example of a file copy"
   ]
  },
  {
   "cell_type": "code",
   "execution_count": 30,
   "metadata": {},
   "outputs": [],
   "source": [
    "# Change these values to your desired filenames\n",
    "test_data = './mastDownload/HST/ICZGS3YGQ/iczgs3ygq_flt.fits'\n",
    "output_data = 'imcopy_out.fits'\n",
    "\n",
    "hdulist = fits.open(test_data)\n",
    "# The overwrite argument tells the writeto method to overwrite if file already exists\n",
    "hdulist.writeto(output_data, overwrite=True)\n",
    "hdulist.close()"
   ]
  },
  {
   "cell_type": "markdown",
   "metadata": {},
   "source": [
    "Example using a new cutout, here we will take a 50x50 pixel cutout from all image extensions centered at x:200, y:300"
   ]
  },
  {
   "cell_type": "code",
   "execution_count": 31,
   "metadata": {},
   "outputs": [],
   "source": [
    "# Change these values to your desired filenames\n",
    "test_data = './mastDownload/HST/JCW505010/jcw505010_drz.fits'\n",
    "output_data = 'imcopy_cutout_out.fits'\n",
    "\n",
    "hdulist = fits.open(test_data)\n",
    "\n",
    "# Create iterable list of tuples to feed into Cutout2D, \n",
    "# seperate list for extensions with wcs, as feeding the wcs \n",
    "# back into the FITS file takes more work.\n",
    "ext_list = [1,2]\n",
    "for ext in ext_list:\n",
    "    orig_wcs = wcs.WCS(hdulist[ext].header)\n",
    "    cutout = Cutout2D(hdulist[ext].data, (200,300), (50,50), wcs=orig_wcs)\n",
    "    hdulist[ext].data = cutout.data\n",
    "    hdulist[ext].header.update(cutout.wcs.to_header())\n",
    "    \n",
    "hdulist.writeto(output_data, overwrite=True)\n",
    "\n",
    "hdulist.close()"
   ]
  },
  {
   "cell_type": "markdown",
   "metadata": {},
   "source": [
    "<br>"
   ]
  },
  {
   "cell_type": "markdown",
   "metadata": {},
   "source": [
    "<a id='imfunction-imexpr'></a>\n",
    "\n",
    "## imfunction-imexpr"
   ]
  },
  {
   "cell_type": "markdown",
   "metadata": {},
   "source": [
    "**Please review the** [Notes](#notes) **section above before running any examples in this notebook**\n",
    "\n",
    "Imfunction will apply a function to the image pixel values in an image array.  Imexpr gives you similiar functionality with the added capability to combine different images using a user created expression.  We can accomplish this using the built in funcitonality of the [numpy library](http://docs.scipy.org/doc/numpy/reference/routines.math.html).\n",
    "\n",
    "If there is a particular function you would like to apply to your image array that you cannot find in the ``numpy`` library you can use the ``np.vectorize`` function, which can make any python function apply to each element of your array.  But keep in mind that [np.vectorize](http://docs.scipy.org/doc/numpy/reference/generated/numpy.vectorize.html) is esentially looping over the array, and may not be the most efficient method."
   ]
  },
  {
   "cell_type": "markdown",
   "metadata": {},
   "source": [
    "Example using exsisting numpy function:"
   ]
  },
  {
   "cell_type": "code",
   "execution_count": 28,
   "metadata": {},
   "outputs": [],
   "source": [
    "# Standard Imports\n",
    "import numpy as np\n",
    "\n",
    "# Astronomy Specific Imports\n",
    "from astropy.io import fits\n",
    "from astroquery.mast import Observations"
   ]
  },
  {
   "cell_type": "code",
   "execution_count": 29,
   "metadata": {},
   "outputs": [
    {
     "name": "stderr",
     "output_type": "stream",
     "text": [
      "INFO:astropy:Found cached file ./mastDownload/HST/ICZGS3YGQ/iczgs3ygq_flt.fits with expected size 16534080.\n"
     ]
    },
    {
     "name": "stdout",
     "output_type": "stream",
     "text": [
      "INFO: Found cached file ./mastDownload/HST/ICZGS3YGQ/iczgs3ygq_flt.fits with expected size 16534080. [astroquery.query]\n"
     ]
    },
    {
     "data": {
      "text/html": [
       "<i>Table length=1</i>\n",
       "<table id=\"table103612267488\" class=\"table-striped table-bordered table-condensed\">\n",
       "<thead><tr><th>Local Path</th><th>Status</th><th>Message</th><th>URL</th></tr></thead>\n",
       "<thead><tr><th>str47</th><th>str5</th><th>str87</th><th>str93</th></tr></thead>\n",
       "<tr><td>./mastDownload/HST/ICZGS3YGQ/iczgs3ygq_flt.fits</td><td>ERROR</td><td>Downloaded filesize is 16531200,but should be 16534080, file may be partial or corrupt.</td><td>https://mast.stsci.edu/api/v0/download/file?uri=mast:HST/product/iczgs3ygq/iczgs3ygq_flt.fits</td></tr>\n",
       "</table>"
      ],
      "text/plain": [
       "<Table length=1>\n",
       "                   Local Path                   ...\n",
       "                     str47                      ...\n",
       "----------------------------------------------- ...\n",
       "./mastDownload/HST/ICZGS3YGQ/iczgs3ygq_flt.fits ..."
      ]
     },
     "execution_count": 29,
     "metadata": {},
     "output_type": "execute_result"
    }
   ],
   "source": [
    "# Download test file using astroquery, this only needs to be run once\n",
    "# and can be skipped if using your own data.\n",
    "# Astroquery will only download file if not already present.\n",
    "obsid = '2004615006'\n",
    "Observations.download_products(obsid,productFilename=\"iczgs3ygq_flt.fits\")"
   ]
  },
  {
   "cell_type": "code",
   "execution_count": 32,
   "metadata": {},
   "outputs": [],
   "source": [
    "# Change these values to your desired data files\n",
    "test_data = './mastDownload/HST/ICZGS3YGQ/iczgs3ygq_flt.fits'\n",
    "output_data = 'imfunction_out.fits'\n",
    "\n",
    "# Here we use the cosine function as an example\n",
    "hdu = fits.open(test_data)\n",
    "sci = hdu[1].data\n",
    "\n",
    "# When you call your new function, make sure to reassign the array to\n",
    "# the new values if the original function is not changing values in place\n",
    "hdu[1].data = np.cos(hdu[1].data)\n",
    "\n",
    "# Now save out to a new file, and close the original file, changes will\n",
    "# not be applied to the oiginal FITS file.\n",
    "hdu.writeto(output_data, overwrite=True)\n",
    "hdu.close()"
   ]
  },
  {
   "cell_type": "markdown",
   "metadata": {},
   "source": [
    "Example using user defined function and ``np.vectorize``:"
   ]
  },
  {
   "cell_type": "code",
   "execution_count": 33,
   "metadata": {},
   "outputs": [],
   "source": [
    "# Change these values to your desired data files\n",
    "test_data = './mastDownload/HST/ICZGS3YGQ/iczgs3ygq_flt.fits'\n",
    "output_data = 'imfunction2_out.fits'\n",
    "\n",
    "# Here we use the following custom function as an example\n",
    "def my_func(x):\n",
    "    return (x**2)+(x**3)\n",
    "\n",
    "# Now we open our file, and vectorize our function\n",
    "hdu = fits.open(test_data)\n",
    "sci = hdu[1].data\n",
    "vector_func = np.vectorize(my_func)\n",
    "\n",
    "# When you call your new function, make sure to reassign the array to\n",
    "# the new values if the original function is not changing values in place\n",
    "hdu[1].data = vector_func(hdu[1].data)\n",
    "\n",
    "# Now save out to a new file, and close the original file, changes will\n",
    "# not be applied to the oiginal FITS file.\n",
    "hdu.writeto(output_data, overwrite=True)\n",
    "hdu.close()"
   ]
  },
  {
   "cell_type": "markdown",
   "metadata": {},
   "source": [
    "<br>"
   ]
  },
  {
   "cell_type": "markdown",
   "metadata": {},
   "source": [
    "<a id='imheader'></a>\n",
    "\n",
    "## imheader"
   ]
  },
  {
   "cell_type": "markdown",
   "metadata": {},
   "source": [
    "**Please review the** [Notes](#notes) **section above before running any examples in this notebook**\n",
    "\n",
    "The imheader task allows the user to list header parameters for a list of images.  Here we can use the ``astropy`` convenience function, ``fits.getheader()``. We also show in this example how to save a header to a text file, see the [Python file I/O documentation](https://docs.python.org/3/tutorial/inputoutput.html) for more details."
   ]
  },
  {
   "cell_type": "code",
   "execution_count": 34,
   "metadata": {},
   "outputs": [],
   "source": [
    "# Standard Imports\n",
    "import numpy as np\n",
    "import glob\n",
    "\n",
    "# Astronomy Specific Imports\n",
    "from astropy.io import fits\n",
    "from astroquery.mast import Observations"
   ]
  },
  {
   "cell_type": "code",
   "execution_count": null,
   "metadata": {},
   "outputs": [],
   "source": [
    "# Download test file using astroquery, this only needs to be run once\n",
    "# and can be skipped if using your own data.\n",
    "# Astroquery will only download file if not already present.\n",
    "obsid = '2004663553'\n",
    "Observations.download_products(obsid, productFilename=\"jczgx1ppq_flc.fits\")\n",
    "obsid = '2004663554'\n",
    "Observations.download_products(obsid, productFilename=\"jczgx1ptq_flc.fits\")\n",
    "obsid = '2004663556'\n",
    "Observations.download_products(obsid, productFilename=\"jczgx1q1q_flc.fits\")\n",
    "\n",
    "import shutil\n",
    "shutil.move('./mastDownload/HST/JCZGX1PPQ/jczgx1ppq_flc.fits','../data/')\n",
    "shutil.move('./mastDownload/HST/JCZGX1PTQ/jczgx1ptq_flc.fits','../data/')\n",
    "shutil.move('./mastDownload/HST/JCZGX1Q1Q/jczgx1q1q_flc.fits','../data/')"
   ]
  },
  {
   "cell_type": "code",
   "execution_count": 35,
   "metadata": {},
   "outputs": [
    {
     "name": "stdout",
     "output_type": "stream",
     "text": [
      "XTENSION= 'IMAGE   '           / IMAGE extension                                \n",
      "BITPIX  =                  -32 / number of bits per data pixel                  \n",
      "NAXIS   =                    2 / number of data axes                            \n",
      "NAXIS1  =                 4096 / length of data axis 1                          \n",
      "NAXIS2  =                 2048 / length of data axis 2                          \n",
      "PCOUNT  =                    0 / required keyword; must = 0                     \n",
      "GCOUNT  =                    1 / required keyword; must = 1                     \n",
      "ORIGIN  = 'HSTIO/CFITSIO March 2010' / FITS file originator                     \n",
      "DATE    = '2017-12-03' / date this file was written (yyyy-mm-dd)                \n",
      "INHERIT =                    T / inherit the primary header                     \n",
      "EXTNAME = 'SCI     '           / extension name                                 \n",
      "EXTVER  =                    1 / extension version number                       \n",
      "ROOTNAME= 'jczgx1ppq                         ' / rootname of the observation set\n",
      "EXPNAME = 'jczgx1ppq                ' / exposure identifier                     \n",
      "BUNIT   = 'ELECTRONS'          / brightness units                               \n",
      "                                                                                \n",
      "              / WFC CCD CHIP IDENTIFICATION                                     \n",
      "                                                                                \n",
      "CCDCHIP =                    2 / CCD chip (1 or 2)                              \n",
      "                                                                                \n",
      "              / World Coordinate System and Related Parameters                  \n",
      "                                                                                \n",
      "WCSAXES =                    2 / number of World Coordinate System axes         \n",
      "CRPIX1  =               2048.0 / x-coordinate of reference pixel                \n",
      "CRPIX2  =               1024.0 / y-coordinate of reference pixel                \n",
      "CRVAL1  =    127.7729653461655 / first axis value at reference pixel            \n",
      "CRVAL2  =    65.84354161173992 / second axis value at reference pixel           \n",
      "CTYPE1  = 'RA---TAN-SIP'       / the coordinate type for the first axis         \n",
      "CTYPE2  = 'DEC--TAN-SIP'       / the coordinate type for the second axis        \n",
      "CD1_1   = 1.90483532036217E-08 / partial of first axis coordinate w.r.t. x      \n",
      "CD1_2   = -1.3940675227771E-05 / partial of first axis coordinate w.r.t. y      \n",
      "CD2_1   = -1.3846187057971E-05 / partial of second axis coordinate w.r.t. x     \n",
      "CD2_2   = -9.8508094364170E-07 / partial of second axis coordinate w.r.t. y     \n",
      "LTV1    =        0.0000000E+00 / offset in X to subsection start                \n",
      "LTV2    =        0.0000000E+00 / offset in Y to subsection start                \n",
      "RAW_LTV1=                  0.0 / original offset in X to subsection start       \n",
      "RAW_LTV2=                  0.0 / original offset in Y to subsection start       \n",
      "LTM1_1  =                  1.0 / reciprocal of sampling rate in X               \n",
      "LTM2_2  =                  1.0 / reciprocal of sampling rate in Y               \n",
      "ORIENTAT=             -94.0229 / position angle of image y axis (deg. e of n)   \n",
      "RA_APER =   1.277389583333E+02 / RA of aperture reference position              \n",
      "DEC_APER=   6.584194444444E+01 / Declination of aperture reference position     \n",
      "PA_APER =             -94.3071 / Position Angle of reference aperture center (de\n",
      "VAFACTOR=   1.000063780568E+00 / velocity aberration plate scale factor         \n",
      "                                                                                \n",
      "              / READOUT DEFINITION PARAMETERS                                   \n",
      "                                                                                \n",
      "CENTERA1=                 2073 / subarray axis1 center pt in unbinned dect. pix \n",
      "CENTERA2=                 1035 / subarray axis2 center pt in unbinned dect. pix \n",
      "SIZAXIS1=                 4096 / subarray axis1 size in unbinned detector pixels\n",
      "SIZAXIS2=                 2048 / subarray axis2 size in unbinned detector pixels\n",
      "BINAXIS1=                    1 / axis1 data bin size in unbinned detector pixels\n",
      "BINAXIS2=                    1 / axis2 data bin size in unbinned detector pixels\n",
      "                                                                                \n",
      "              / PHOTOMETRY KEYWORDS                                             \n",
      "                                                                                \n",
      "PHOTMODE= 'ACS WFC1 F814W MJD#57677.0450' / observation con                     \n",
      "PHOTFLAM=        7.0486380E-20 / inverse sensitivity, ergs/cm2/Ang/electron     \n",
      "PHOTZPT =       -2.1100000E+01 / ST magnitude zero point                        \n",
      "PHOTPLAM=        8.0449937E+03 / Pivot wavelength (Angstroms)                   \n",
      "PHOTBW  =        6.5305701E+02 / RMS bandwidth of filter plus detector          \n",
      "                                                                                \n",
      "              / REPEATED EXPOSURES INFO                                         \n",
      "                                                                                \n",
      "NCOMBINE=                    1 / number of image sets combined during CR rejecti\n",
      "                                                                                \n",
      "              / DATA PACKET INFORMATION                                         \n",
      "                                                                                \n",
      "FILLCNT =                    0 / number of segments containing fill             \n",
      "ERRCNT  =                    0 / number of segments containing errors           \n",
      "PODPSFF =                    F / podps fill present (T/F)                       \n",
      "STDCFFF =                    F / science telemetry fill data present (T=1/F=0)  \n",
      "STDCFFP = '0x5569'             / science telemetry fill pattern (hex)           \n",
      "                                                                                \n",
      "              / ON-BOARD COMPRESSION INFORMATION                                \n",
      "                                                                                \n",
      "WFCMPRSD=                    F / was WFC data compressed? (T/F)                 \n",
      "CBLKSIZ =                    0 / size of compression block in 2-byte words      \n",
      "LOSTPIX =                    0 / #pixels lost due to buffer overflow            \n",
      "COMPTYP = 'None    '           / compression type performed (Partial/Full/None) \n",
      "                                                                                \n",
      "              / IMAGE STATISTICS AND DATA QUALITY FLAGS                         \n",
      "                                                                                \n",
      "NGOODPIX=              7987438 / number of good pixels                          \n",
      "SDQFLAGS=                31743 / serious data quality flags                     \n",
      "GOODMIN =       -2.4801433E+02 / minimum value of good pixels                   \n",
      "GOODMAX =        9.0880914E+04 / maximum value of good pixels                   \n",
      "GOODMEAN=        5.3076767E+01 / mean value of good pixels                      \n",
      "SOFTERRS=                    0 / number of soft error pixels (DQF=1)            \n",
      "SNRMIN  =       -7.5930123E+00 / minimum signal to noise of good pixels         \n",
      "SNRMAX  =        2.2929968E+02 / maximum signal to noise of good pixels         \n",
      "SNRMEAN =        5.1801496E+00 / mean value of signal to noise of good pixels   \n",
      "MEANDARK=        6.1097779E+00 / average of the dark values subtracted          \n",
      "MEANBLEV=       -1.3650392E-01 / average of all bias levels subtracted          \n",
      "MEANFLSH=             0.000000 / Mean number of counts in post flash exposure   \n",
      "RADESYS = 'ICRS    '                                                            \n",
      "OCX10   = 0.001964245000000002                                                  \n",
      "OCX11   =  0.04982054148069229                                                  \n",
      "OCY10   =  0.05027000100000004                                                  \n",
      "OCY11   = 0.001500803312490457                                                  \n",
      "IDCSCALE=                 0.05                                                  \n",
      "IDCTHETA=                  0.0                                                  \n",
      "IDCXREF =               2048.0                                                  \n",
      "IDCYREF =               1024.0                                                  \n",
      "IDCV2REF=    257.1520000000001                                                  \n",
      "IDCV3REF=    302.6619900000002                                                  \n",
      "D2IMERR1=  0.04199999943375587 / Maximum error of NPOL correction for axis 1    \n",
      "D2IMDIS1= 'Lookup  '           / Detector to image correction type              \n",
      "D2IM1   = 'EXTVER: 1' / Version number of WCSDVARR extension containing d2im loo\n",
      "D2IM1   = 'NAXES: 2' / Number of independent variables in d2im function         \n",
      "D2IM1   = 'AXIS.1: 1' / Axis number of the jth independent variable in a d2im fu\n",
      "D2IM1   = 'AXIS.2: 2' / Axis number of the jth independent variable in a d2im fu\n",
      "D2IMERR2=  0.06400000303983688 / Maximum error of NPOL correction for axis 2    \n",
      "D2IMDIS2= 'Lookup  '           / Detector to image correction type              \n",
      "D2IM2   = 'EXTVER: 2' / Version number of WCSDVARR extension containing d2im loo\n",
      "D2IM2   = 'NAXES: 2' / Number of independent variables in d2im function         \n",
      "D2IM2   = 'AXIS.1: 1' / Axis number of the jth independent variable in a d2im fu\n",
      "D2IM2   = 'AXIS.2: 2' / Axis number of the jth independent variable in a d2im fu\n",
      "D2IMEXT = 'jref$02c1450oj_d2i.fits'                                             \n",
      "WCSNAMEO= 'OPUS    '                                                            \n",
      "WCSAXESO=                    2                                                  \n",
      "CRPIX1O =               2100.0                                                  \n",
      "CRPIX2O =               1024.0                                                  \n",
      "CDELT1O =                  1.0                                                  \n",
      "CDELT2O =                  1.0                                                  \n",
      "CUNIT1O = 'deg     '                                                            \n",
      "CUNIT2O = 'deg     '                                                            \n",
      "CTYPE1O = 'RA---TAN'                                                            \n",
      "CTYPE2O = 'DEC--TAN'                                                            \n",
      "CRVAL1O =       127.7729685204                                                  \n",
      "CRVAL2O =       65.84282090734                                                  \n",
      "LONPOLEO=                180.0                                                  \n",
      "LATPOLEO=       65.84282090734                                                  \n",
      "RADESYSO= 'ICRS    '                                                            \n",
      "CD1_1O  =          2.49806E-08                                                  \n",
      "CD1_2O  =         -1.39456E-05                                                  \n",
      "CD2_1O  =         -1.38597E-05                                                  \n",
      "CD2_2O  =         -9.80762E-07                                                  \n",
      "TDDALPHA= ''                                                                    \n",
      "TDD_CXA = ''                                                                    \n",
      "TDD_CXB =    -1.0658206323E-06                                                  \n",
      "TDD_CTB =     1.5787128139E-06                                                  \n",
      "TDD_CYA = ''                                                                    \n",
      "TDD_CYB = ''                                                                    \n",
      "TDDBETA = ''                                                                    \n",
      "TDD_CTA = ''                                                                    \n",
      "IDCTAB  = 'jref$11d1433lj_idc.fits'                                             \n",
      "A_2_2   = 3.78731328537869E-14                                                  \n",
      "B_0_3   = -3.8365982324508E-10                                                  \n",
      "A_ORDER =                    5                                                  \n",
      "A_0_2   = 2.16316670266357E-06                                                  \n",
      "B_5_0   = -2.9216557962212E-18                                                  \n",
      "A_4_1   = -2.2975314425693E-18                                                  \n",
      "B_3_1   = -9.2662863736411E-16                                                  \n",
      "B_1_1   = 6.18673688121303E-06                                                  \n",
      "A_4_0   = 2.49648430134054E-14                                                  \n",
      "B_2_0   = -1.7485625426539E-06                                                  \n",
      "A_3_2   = 1.79076698558529E-18                                                  \n",
      "B_0_2   = -7.2366916752762E-06                                                  \n",
      "B_2_3   = -4.0303373428367E-19                                                  \n",
      "A_2_1   = -3.3923056140854E-11                                                  \n",
      "B_3_0   = 9.85440944815669E-11                                                  \n",
      "B_ORDER =                    5                                                  \n",
      "A_3_0   = -4.9299373340579E-10                                                  \n",
      "B_2_1   = -5.1770017201658E-10                                                  \n",
      "B_3_2   = -6.5749429811757E-19                                                  \n",
      "A_2_0   = 8.55757690624103E-06                                                  \n",
      "B_0_4   = 4.80879850209643E-15                                                  \n",
      "B_1_3   = 1.17049370338725E-14                                                  \n",
      "A_1_2   = -5.3116725265518E-10                                                  \n",
      "B_0_5   = -3.0673060246341E-17                                                  \n",
      "A_0_5   = 6.02661866571512E-18                                                  \n",
      "A_5_0   = 3.34396903040512E-18                                                  \n",
      "B_4_1   = 1.26957713407563E-18                                                  \n",
      "A_2_3   = 2.16524457164329E-18                                                  \n",
      "A_1_3   = -7.8672443613644E-15                                                  \n",
      "B_2_2   = -2.9754427958761E-14                                                  \n",
      "B_1_4   = 1.23793339962009E-17                                                  \n",
      "B_1_2   = -7.2577430975755E-11                                                  \n",
      "A_1_1   = -5.2167190331715E-06                                                  \n",
      "A_0_4   = 2.30261315411602E-14                                                  \n",
      "B_4_0   = -1.7435196173764E-14                                                  \n",
      "A_3_1   = 6.55120590759313E-15                                                  \n",
      "A_1_4   = -1.4386444581929E-18                                                  \n",
      "A_0_3   = -1.4678926146950E-13                                                  \n",
      "WCSNAME = 'IDC_11d1433lj'                                                       \n",
      "CPERR1  =  0.02756105922162533 / Maximum error of NPOL correction for axis 1    \n",
      "CPDIS1  = 'Lookup  '           / Prior distortion function type                 \n",
      "DP1     = 'EXTVER: 1' / Version number of WCSDVARR extension containing lookup d\n",
      "DP1     = 'NAXES: 2' / Number of independent variables in distortion function   \n",
      "DP1     = 'AXIS.1: 1' / Axis number of the jth independent variable in a distort\n",
      "DP1     = 'AXIS.2: 2' / Axis number of the jth independent variable in a distort\n",
      "CPERR2  =  0.01880022883415222 / Maximum error of NPOL correction for axis 2    \n",
      "CPDIS2  = 'Lookup  '           / Prior distortion function type                 \n",
      "DP2     = 'EXTVER: 2' / Version number of WCSDVARR extension containing lookup d\n",
      "DP2     = 'NAXES: 2' / Number of independent variables in distortion function   \n",
      "DP2     = 'AXIS.1: 1' / Axis number of the jth independent variable in a distort\n",
      "DP2     = 'AXIS.2: 2' / Axis number of the jth independent variable in a distort\n",
      "NPOLEXT = 'jref$02c1450rj_npl.fits'                                             \n",
      "MDRIZSKY=    40.54545593261719 / Sky value computed by AstroDrizzle             \n",
      "XTENSION= 'IMAGE   '           / IMAGE extension                                \n",
      "BITPIX  =                  -32 / number of bits per data pixel                  \n",
      "NAXIS   =                    2 / number of data axes                            \n",
      "NAXIS1  =                 4096 / length of data axis 1                          \n",
      "NAXIS2  =                 2048 / length of data axis 2                          \n",
      "PCOUNT  =                    0 / required keyword; must = 0                     \n",
      "GCOUNT  =                    1 / required keyword; must = 1                     \n",
      "ORIGIN  = 'HSTIO/CFITSIO March 2010' / FITS file originator                     \n",
      "DATE    = '2017-12-03' / date this file was written (yyyy-mm-dd)                \n",
      "INHERIT =                    T / inherit the primary header                     \n",
      "EXTNAME = 'SCI     '           / extension name                                 \n",
      "EXTVER  =                    1 / extension version number                       \n",
      "ROOTNAME= 'jczgx1ptq                         ' / rootname of the observation set\n",
      "EXPNAME = 'jczgx1ptq                ' / exposure identifier                     \n",
      "BUNIT   = 'ELECTRONS'          / brightness units                               \n",
      "                                                                                \n",
      "              / WFC CCD CHIP IDENTIFICATION                                     \n",
      "                                                                                \n",
      "CCDCHIP =                    2 / CCD chip (1 or 2)                              \n",
      "                                                                                \n",
      "              / World Coordinate System and Related Parameters                  \n",
      "                                                                                \n",
      "WCSAXES =                    2 / number of World Coordinate System axes         \n",
      "CRPIX1  =               2048.0 / x-coordinate of reference pixel                \n",
      "CRPIX2  =               1024.0 / y-coordinate of reference pixel                \n",
      "CRVAL1  =     127.774971972961 / first axis value at reference pixel            \n",
      "CRVAL2  =    65.84362363894992 / second axis value at reference pixel           \n",
      "CTYPE1  = 'RA---TAN-SIP'       / the coordinate type for the first axis         \n",
      "CTYPE2  = 'DEC--TAN-SIP'       / the coordinate type for the second axis        \n",
      "CD1_1   = 1.86049319494035E-08 / partial of first axis coordinate w.r.t. x      \n",
      "CD1_2   = -1.3940697878041E-05 / partial of first axis coordinate w.r.t. y      \n",
      "CD2_1   = -1.3846178828081E-05 / partial of second axis coordinate w.r.t. x     \n",
      "CD2_2   = -9.8463386768576E-07 / partial of second axis coordinate w.r.t. y     \n",
      "LTV1    =        0.0000000E+00 / offset in X to subsection start                \n",
      "LTV2    =        0.0000000E+00 / offset in Y to subsection start                \n",
      "RAW_LTV1=                  0.0 / original offset in X to subsection start       \n",
      "RAW_LTV2=                  0.0 / original offset in Y to subsection start       \n",
      "LTM1_1  =                  1.0 / reciprocal of sampling rate in X               \n",
      "LTM2_2  =                  1.0 / reciprocal of sampling rate in Y               \n",
      "ORIENTAT=              -94.021 / position angle of image y axis (deg. e of n)   \n",
      "RA_APER =   1.277409647262E+02 / RA of aperture reference position              \n",
      "DEC_APER=   6.584202691721E+01 / Declination of aperture reference position     \n",
      "PA_APER =             -94.3053 / Position Angle of reference aperture center (de\n",
      "VAFACTOR=   1.000063143039E+00 / velocity aberration plate scale factor         \n",
      "                                                                                \n",
      "              / READOUT DEFINITION PARAMETERS                                   \n",
      "                                                                                \n",
      "CENTERA1=                 2073 / subarray axis1 center pt in unbinned dect. pix \n",
      "CENTERA2=                 1035 / subarray axis2 center pt in unbinned dect. pix \n",
      "SIZAXIS1=                 4096 / subarray axis1 size in unbinned detector pixels\n",
      "SIZAXIS2=                 2048 / subarray axis2 size in unbinned detector pixels\n",
      "BINAXIS1=                    1 / axis1 data bin size in unbinned detector pixels\n",
      "BINAXIS2=                    1 / axis2 data bin size in unbinned detector pixels\n",
      "                                                                                \n",
      "              / PHOTOMETRY KEYWORDS                                             \n",
      "                                                                                \n",
      "PHOTMODE= 'ACS WFC1 F814W MJD#57677.0536' / observation con                     \n",
      "PHOTFLAM=        7.0486380E-20 / inverse sensitivity, ergs/cm2/Ang/electron     \n",
      "PHOTZPT =       -2.1100000E+01 / ST magnitude zero point                        \n",
      "PHOTPLAM=        8.0449937E+03 / Pivot wavelength (Angstroms)                   \n",
      "PHOTBW  =        6.5305701E+02 / RMS bandwidth of filter plus detector          \n",
      "                                                                                \n",
      "              / REPEATED EXPOSURES INFO                                         \n",
      "                                                                                \n",
      "NCOMBINE=                    1 / number of image sets combined during CR rejecti\n",
      "                                                                                \n",
      "              / DATA PACKET INFORMATION                                         \n",
      "                                                                                \n",
      "FILLCNT =                    0 / number of segments containing fill             \n",
      "ERRCNT  =                    0 / number of segments containing errors           \n",
      "PODPSFF =                    F / podps fill present (T/F)                       \n",
      "STDCFFF =                    F / science telemetry fill data present (T=1/F=0)  \n",
      "STDCFFP = '0x5569'             / science telemetry fill pattern (hex)           \n",
      "                                                                                \n",
      "              / ON-BOARD COMPRESSION INFORMATION                                \n",
      "                                                                                \n",
      "WFCMPRSD=                    F / was WFC data compressed? (T/F)                 \n",
      "CBLKSIZ =                    0 / size of compression block in 2-byte words      \n",
      "LOSTPIX =                    0 / #pixels lost due to buffer overflow            \n",
      "COMPTYP = 'None    '           / compression type performed (Partial/Full/None) \n",
      "                                                                                \n",
      "              / IMAGE STATISTICS AND DATA QUALITY FLAGS                         \n",
      "                                                                                \n",
      "NGOODPIX=              7987448 / number of good pixels                          \n",
      "SDQFLAGS=                31743 / serious data quality flags                     \n",
      "GOODMIN =       -5.6858374E+02 / minimum value of good pixels                   \n",
      "GOODMAX =        8.4768180E+04 / maximum value of good pixels                   \n",
      "GOODMEAN=        4.5566620E+01 / mean value of good pixels                      \n",
      "SOFTERRS=                    0 / number of soft error pixels (DQF=1)            \n",
      "SNRMIN  =       -6.5290461E+00 / minimum signal to noise of good pixels         \n",
      "SNRMAX  =        2.3049573E+02 / maximum signal to noise of good pixels         \n",
      "SNRMEAN =        4.5304279E+00 / mean value of signal to noise of good pixels   \n",
      "MEANDARK=        6.4147372E+00 / average of the dark values subtracted          \n",
      "MEANBLEV=        6.4909774E-01 / average of all bias levels subtracted          \n",
      "MEANFLSH=             0.000000 / Mean number of counts in post flash exposure   \n",
      "RADESYS = 'ICRS    '                                                            \n",
      "OCX10   = 0.001964245000000002                                                  \n",
      "OCX11   =  0.04982054148069229                                                  \n",
      "OCY10   =  0.05027000100000004                                                  \n",
      "OCY11   = 0.001500803312490457                                                  \n",
      "IDCSCALE=                 0.05                                                  \n",
      "IDCTHETA=                  0.0                                                  \n",
      "IDCXREF =               2048.0                                                  \n",
      "IDCYREF =               1024.0                                                  \n",
      "IDCV2REF=    257.1520000000001                                                  \n",
      "IDCV3REF=    302.6619900000002                                                  \n",
      "D2IMERR1=  0.04199999943375587 / Maximum error of NPOL correction for axis 1    \n",
      "D2IMDIS1= 'Lookup  '           / Detector to image correction type              \n",
      "D2IM1   = 'EXTVER: 1' / Version number of WCSDVARR extension containing d2im loo\n",
      "D2IM1   = 'NAXES: 2' / Number of independent variables in d2im function         \n",
      "D2IM1   = 'AXIS.1: 1' / Axis number of the jth independent variable in a d2im fu\n",
      "D2IM1   = 'AXIS.2: 2' / Axis number of the jth independent variable in a d2im fu\n",
      "D2IMERR2=  0.06400000303983688 / Maximum error of NPOL correction for axis 2    \n",
      "D2IMDIS2= 'Lookup  '           / Detector to image correction type              \n",
      "D2IM2   = 'EXTVER: 2' / Version number of WCSDVARR extension containing d2im loo\n",
      "D2IM2   = 'NAXES: 2' / Number of independent variables in d2im function         \n",
      "D2IM2   = 'AXIS.1: 1' / Axis number of the jth independent variable in a d2im fu\n",
      "D2IM2   = 'AXIS.2: 2' / Axis number of the jth independent variable in a d2im fu\n",
      "D2IMEXT = 'jref$02c1450oj_d2i.fits'                                             \n",
      "WCSNAMEO= 'OPUS    '                                                            \n",
      "WCSAXESO=                    2                                                  \n",
      "CRPIX1O =               2100.0                                                  \n",
      "CRPIX2O =               1024.0                                                  \n",
      "CDELT1O =                  1.0                                                  \n",
      "CDELT2O =                  1.0                                                  \n",
      "CUNIT1O = 'deg     '                                                            \n",
      "CUNIT2O = 'deg     '                                                            \n",
      "CTYPE1O = 'RA---TAN'                                                            \n",
      "CTYPE2O = 'DEC--TAN'                                                            \n",
      "CRVAL1O =       127.7749750908                                                  \n",
      "CRVAL2O =       65.84290293455                                                  \n",
      "LONPOLEO=                180.0                                                  \n",
      "LATPOLEO=       65.84290293455                                                  \n",
      "RADESYSO= 'ICRS    '                                                            \n",
      "CD1_1O  =          2.45367E-08                                                  \n",
      "CD1_2O  =         -1.39456E-05                                                  \n",
      "CD2_1O  =         -1.38597E-05                                                  \n",
      "CD2_2O  = -9.8031499999999E-07                                                  \n",
      "TDDALPHA= ''                                                                    \n",
      "TDD_CXA = ''                                                                    \n",
      "TDD_CXB =    -1.0658206323E-06                                                  \n",
      "TDD_CTB =     1.5787128139E-06                                                  \n",
      "TDD_CYA = ''                                                                    \n",
      "TDD_CYB = ''                                                                    \n",
      "TDDBETA = ''                                                                    \n",
      "TDD_CTA = ''                                                                    \n",
      "IDCTAB  = 'jref$11d1433lj_idc.fits'                                             \n",
      "A_2_2   = 3.78731328537869E-14                                                  \n",
      "B_0_3   = -3.8365982324508E-10                                                  \n",
      "A_ORDER =                    5                                                  \n",
      "A_0_2   = 2.16316670266357E-06                                                  \n",
      "B_5_0   = -2.9216557962212E-18                                                  \n",
      "A_4_1   = -2.2975314425693E-18                                                  \n",
      "B_3_1   = -9.2662863736411E-16                                                  \n",
      "B_1_1   = 6.18673688121303E-06                                                  \n",
      "A_4_0   = 2.49648430134054E-14                                                  \n",
      "B_2_0   = -1.7485625426539E-06                                                  \n",
      "A_3_2   = 1.79076698558529E-18                                                  \n",
      "B_0_2   = -7.2366916752762E-06                                                  \n",
      "B_2_3   = -4.0303373428367E-19                                                  \n",
      "A_2_1   = -3.3923056140854E-11                                                  \n",
      "B_3_0   = 9.85440944815669E-11                                                  \n",
      "B_ORDER =                    5                                                  \n",
      "A_3_0   = -4.9299373340579E-10                                                  \n",
      "B_2_1   = -5.1770017201658E-10                                                  \n",
      "B_3_2   = -6.5749429811757E-19                                                  \n",
      "A_2_0   = 8.55757690624103E-06                                                  \n",
      "B_0_4   = 4.80879850209643E-15                                                  \n",
      "B_1_3   = 1.17049370338725E-14                                                  \n",
      "A_1_2   = -5.3116725265518E-10                                                  \n",
      "B_0_5   = -3.0673060246341E-17                                                  \n",
      "A_0_5   = 6.02661866571512E-18                                                  \n",
      "A_5_0   = 3.34396903040512E-18                                                  \n",
      "B_4_1   = 1.26957713407563E-18                                                  \n",
      "A_2_3   = 2.16524457164329E-18                                                  \n",
      "A_1_3   = -7.8672443613644E-15                                                  \n",
      "B_2_2   = -2.9754427958761E-14                                                  \n",
      "B_1_4   = 1.23793339962009E-17                                                  \n",
      "B_1_2   = -7.2577430975755E-11                                                  \n",
      "A_1_1   = -5.2167190331715E-06                                                  \n",
      "A_0_4   = 2.30261315411602E-14                                                  \n",
      "B_4_0   = -1.7435196173764E-14                                                  \n",
      "A_3_1   = 6.55120590759313E-15                                                  \n",
      "A_1_4   = -1.4386444581929E-18                                                  \n",
      "A_0_3   = -1.4678926146950E-13                                                  \n",
      "WCSNAME = 'IDC_11d1433lj'                                                       \n",
      "CPERR1  =  0.02756105922162533 / Maximum error of NPOL correction for axis 1    \n",
      "CPDIS1  = 'Lookup  '           / Prior distortion function type                 \n",
      "DP1     = 'EXTVER: 1' / Version number of WCSDVARR extension containing lookup d\n",
      "DP1     = 'NAXES: 2' / Number of independent variables in distortion function   \n",
      "DP1     = 'AXIS.1: 1' / Axis number of the jth independent variable in a distort\n",
      "DP1     = 'AXIS.2: 2' / Axis number of the jth independent variable in a distort\n",
      "CPERR2  =  0.01880022883415222 / Maximum error of NPOL correction for axis 2    \n",
      "CPDIS2  = 'Lookup  '           / Prior distortion function type                 \n",
      "DP2     = 'EXTVER: 2' / Version number of WCSDVARR extension containing lookup d\n",
      "DP2     = 'NAXES: 2' / Number of independent variables in distortion function   \n",
      "DP2     = 'AXIS.1: 1' / Axis number of the jth independent variable in a distort\n",
      "DP2     = 'AXIS.2: 2' / Axis number of the jth independent variable in a distort\n",
      "NPOLEXT = 'jref$02c1450rj_npl.fits'                                             \n",
      "MDRIZSKY=    33.60466766357422 / Sky value computed by AstroDrizzle             \n",
      "XTENSION= 'IMAGE   '           / IMAGE extension                                \n",
      "BITPIX  =                  -32 / number of bits per data pixel                  \n",
      "NAXIS   =                    2 / number of data axes                            \n",
      "NAXIS1  =                 4096 / length of data axis 1                          \n",
      "NAXIS2  =                 2048 / length of data axis 2                          \n",
      "PCOUNT  =                    0 / required keyword; must = 0                     \n",
      "GCOUNT  =                    1 / required keyword; must = 1                     \n",
      "ORIGIN  = 'HSTIO/CFITSIO March 2010' / FITS file originator                     \n",
      "DATE    = '2017-12-03' / date this file was written (yyyy-mm-dd)                \n",
      "INHERIT =                    T / inherit the primary header                     \n",
      "EXTNAME = 'SCI     '           / extension name                                 \n",
      "EXTVER  =                    1 / extension version number                       \n",
      "ROOTNAME= 'jczgx1q1q                         ' / rootname of the observation set\n",
      "EXPNAME = 'jczgx1q1q                ' / exposure identifier                     \n",
      "BUNIT   = 'ELECTRONS'          / brightness units                               \n",
      "                                                                                \n",
      "              / WFC CCD CHIP IDENTIFICATION                                     \n",
      "                                                                                \n",
      "CCDCHIP =                    2 / CCD chip (1 or 2)                              \n",
      "                                                                                \n",
      "              / World Coordinate System and Related Parameters                  \n",
      "                                                                                \n",
      "WCSAXES =                    2 / number of World Coordinate System axes         \n",
      "CRPIX1  =               2048.0 / x-coordinate of reference pixel                \n",
      "CRPIX2  =               1024.0 / y-coordinate of reference pixel                \n",
      "CRVAL1  =    127.7790008405421 / first axis value at reference pixel            \n",
      "CRVAL2  =     65.8438018528099 / second axis value at reference pixel           \n",
      "CTYPE1  = 'RA---TAN-SIP'       / the coordinate type for the first axis         \n",
      "CTYPE2  = 'DEC--TAN-SIP'       / the coordinate type for the second axis        \n",
      "CD1_1   = 1.77165941042396E-08 / partial of first axis coordinate w.r.t. x      \n",
      "CD1_2   = -1.3940911726204E-05 / partial of first axis coordinate w.r.t. y      \n",
      "CD2_1   = -1.3846329672062E-05 / partial of second axis coordinate w.r.t. x     \n",
      "CD2_2   = -9.8374991384276E-07 / partial of second axis coordinate w.r.t. y     \n",
      "LTV1    =        0.0000000E+00 / offset in X to subsection start                \n",
      "LTV2    =        0.0000000E+00 / offset in Y to subsection start                \n",
      "RAW_LTV1=                  0.0 / original offset in X to subsection start       \n",
      "RAW_LTV2=                  0.0 / original offset in Y to subsection start       \n",
      "LTM1_1  =                  1.0 / reciprocal of sampling rate in X               \n",
      "LTM2_2  =                  1.0 / reciprocal of sampling rate in Y               \n",
      "ORIENTAT=             -94.0174 / position angle of image y axis (deg. e of n)   \n",
      "RA_APER =   1.277449931071E+02 / RA of aperture reference position              \n",
      "DEC_APER=   6.584220602391E+01 / Declination of aperture reference position     \n",
      "PA_APER =             -94.3016 / Position Angle of reference aperture center (de\n",
      "VAFACTOR=   1.000073952797E+00 / velocity aberration plate scale factor         \n",
      "                                                                                \n",
      "              / READOUT DEFINITION PARAMETERS                                   \n",
      "                                                                                \n",
      "CENTERA1=                 2073 / subarray axis1 center pt in unbinned dect. pix \n",
      "CENTERA2=                 1035 / subarray axis2 center pt in unbinned dect. pix \n",
      "SIZAXIS1=                 4096 / subarray axis1 size in unbinned detector pixels\n",
      "SIZAXIS2=                 2048 / subarray axis2 size in unbinned detector pixels\n",
      "BINAXIS1=                    1 / axis1 data bin size in unbinned detector pixels\n",
      "BINAXIS2=                    1 / axis2 data bin size in unbinned detector pixels\n",
      "                                                                                \n",
      "              / PHOTOMETRY KEYWORDS                                             \n",
      "                                                                                \n",
      "PHOTMODE= 'ACS WFC1 F814W MJD#57677.0946' / observation con                     \n",
      "PHOTFLAM=        7.0486386E-20 / inverse sensitivity, ergs/cm2/Ang/electron     \n",
      "PHOTZPT =       -2.1100000E+01 / ST magnitude zero point                        \n",
      "PHOTPLAM=        8.0449937E+03 / Pivot wavelength (Angstroms)                   \n",
      "PHOTBW  =        6.5305701E+02 / RMS bandwidth of filter plus detector          \n",
      "                                                                                \n",
      "              / REPEATED EXPOSURES INFO                                         \n",
      "                                                                                \n",
      "NCOMBINE=                    1 / number of image sets combined during CR rejecti\n",
      "                                                                                \n",
      "              / DATA PACKET INFORMATION                                         \n",
      "                                                                                \n",
      "FILLCNT =                    0 / number of segments containing fill             \n",
      "ERRCNT  =                    0 / number of segments containing errors           \n",
      "PODPSFF =                    F / podps fill present (T/F)                       \n",
      "STDCFFF =                    F / science telemetry fill data present (T=1/F=0)  \n",
      "STDCFFP = '0x5569'             / science telemetry fill pattern (hex)           \n",
      "                                                                                \n",
      "              / ON-BOARD COMPRESSION INFORMATION                                \n",
      "                                                                                \n",
      "WFCMPRSD=                    F / was WFC data compressed? (T/F)                 \n",
      "CBLKSIZ =                    0 / size of compression block in 2-byte words      \n",
      "LOSTPIX =                    0 / #pixels lost due to buffer overflow            \n",
      "COMPTYP = 'None    '           / compression type performed (Partial/Full/None) \n",
      "                                                                                \n",
      "              / IMAGE STATISTICS AND DATA QUALITY FLAGS                         \n",
      "                                                                                \n",
      "NGOODPIX=              7987459 / number of good pixels                          \n",
      "SDQFLAGS=                31743 / serious data quality flags                     \n",
      "GOODMIN =       -4.6811813E+02 / minimum value of good pixels                   \n",
      "GOODMAX =        8.6860820E+04 / maximum value of good pixels                   \n",
      "GOODMEAN=        5.8565811E+01 / mean value of good pixels                      \n",
      "SOFTERRS=                    0 / number of soft error pixels (DQF=1)            \n",
      "SNRMIN  =       -5.3112264E+00 / minimum signal to noise of good pixels         \n",
      "SNRMAX  =        2.3047971E+02 / maximum signal to noise of good pixels         \n",
      "SNRMEAN =        5.8733592E+00 / mean value of signal to noise of good pixels   \n",
      "MEANDARK=        6.1097779E+00 / average of the dark values subtracted          \n",
      "MEANBLEV=       -8.4848583E-01 / average of all bias levels subtracted          \n",
      "MEANFLSH=             0.000000 / Mean number of counts in post flash exposure   \n",
      "RADESYS = 'ICRS    '                                                            \n",
      "OCX10   = 0.001964245000000002                                                  \n",
      "OCX11   =  0.04982054148069229                                                  \n",
      "OCY10   =  0.05027000100000004                                                  \n",
      "OCY11   = 0.001500803312490457                                                  \n",
      "IDCSCALE=                 0.05                                                  \n",
      "IDCTHETA=                  0.0                                                  \n",
      "IDCXREF =               2048.0                                                  \n",
      "IDCYREF =               1024.0                                                  \n",
      "IDCV2REF=    257.1520000000001                                                  \n",
      "IDCV3REF=    302.6619900000002                                                  \n",
      "D2IMERR1=  0.04199999943375587 / Maximum error of NPOL correction for axis 1    \n",
      "D2IMDIS1= 'Lookup  '           / Detector to image correction type              \n",
      "D2IM1   = 'EXTVER: 1' / Version number of WCSDVARR extension containing d2im loo\n",
      "D2IM1   = 'NAXES: 2' / Number of independent variables in d2im function         \n",
      "D2IM1   = 'AXIS.1: 1' / Axis number of the jth independent variable in a d2im fu\n",
      "D2IM1   = 'AXIS.2: 2' / Axis number of the jth independent variable in a d2im fu\n",
      "D2IMERR2=  0.06400000303983688 / Maximum error of NPOL correction for axis 2    \n",
      "D2IMDIS2= 'Lookup  '           / Detector to image correction type              \n",
      "D2IM2   = 'EXTVER: 2' / Version number of WCSDVARR extension containing d2im loo\n",
      "D2IM2   = 'NAXES: 2' / Number of independent variables in d2im function         \n",
      "D2IM2   = 'AXIS.1: 1' / Axis number of the jth independent variable in a d2im fu\n",
      "D2IM2   = 'AXIS.2: 2' / Axis number of the jth independent variable in a d2im fu\n",
      "D2IMEXT = 'jref$02c1450oj_d2i.fits'                                             \n",
      "WCSNAMEO= 'OPUS    '                                                            \n",
      "WCSAXESO=                    2                                                  \n",
      "CRPIX1O =               2100.0                                                  \n",
      "CRPIX2O =               1024.0                                                  \n",
      "CDELT1O =                  1.0                                                  \n",
      "CDELT2O =                  1.0                                                  \n",
      "CUNIT1O = 'deg     '                                                            \n",
      "CUNIT2O = 'deg     '                                                            \n",
      "CTYPE1O = 'RA---TAN'                                                            \n",
      "CTYPE2O = 'DEC--TAN'                                                            \n",
      "CRVAL1O =       127.7790038454                                                  \n",
      "CRVAL2O =    65.84308114840999                                                  \n",
      "LONPOLEO=                180.0                                                  \n",
      "LATPOLEO=    65.84308114840999                                                  \n",
      "RADESYSO= 'ICRS    '                                                            \n",
      "CD1_1O  =          2.36474E-08                                                  \n",
      "CD1_2O  =         -1.39456E-05                                                  \n",
      "CD2_1O  =         -1.38597E-05                                                  \n",
      "CD2_2O  =          -9.7942E-07                                                  \n",
      "TDDALPHA= ''                                                                    \n",
      "TDD_CXA = ''                                                                    \n",
      "TDD_CXB =    -1.0658206323E-06                                                  \n",
      "TDD_CTB =     1.5787128139E-06                                                  \n",
      "TDD_CYA = ''                                                                    \n",
      "TDD_CYB = ''                                                                    \n",
      "TDDBETA = ''                                                                    \n",
      "TDD_CTA = ''                                                                    \n",
      "IDCTAB  = 'jref$11d1433lj_idc.fits'                                             \n",
      "A_2_2   = 3.78731328537869E-14                                                  \n",
      "B_0_3   = -3.8365982324508E-10                                                  \n",
      "A_ORDER =                    5                                                  \n",
      "A_0_2   = 2.16316670266357E-06                                                  \n",
      "B_5_0   = -2.9216557962212E-18                                                  \n",
      "A_4_1   = -2.2975314425693E-18                                                  \n",
      "B_3_1   = -9.2662863736411E-16                                                  \n",
      "B_1_1   = 6.18673688121303E-06                                                  \n",
      "A_4_0   = 2.49648430134054E-14                                                  \n",
      "B_2_0   = -1.7485625426539E-06                                                  \n",
      "A_3_2   = 1.79076698558529E-18                                                  \n",
      "B_0_2   = -7.2366916752762E-06                                                  \n",
      "B_2_3   = -4.0303373428367E-19                                                  \n",
      "A_2_1   = -3.3923056140854E-11                                                  \n",
      "B_3_0   = 9.85440944815669E-11                                                  \n",
      "B_ORDER =                    5                                                  \n",
      "A_3_0   = -4.9299373340579E-10                                                  \n",
      "B_2_1   = -5.1770017201658E-10                                                  \n",
      "B_3_2   = -6.5749429811757E-19                                                  \n",
      "A_2_0   = 8.55757690624103E-06                                                  \n",
      "B_0_4   = 4.80879850209643E-15                                                  \n",
      "B_1_3   = 1.17049370338725E-14                                                  \n",
      "A_1_2   = -5.3116725265518E-10                                                  \n",
      "B_0_5   = -3.0673060246341E-17                                                  \n",
      "A_0_5   = 6.02661866571512E-18                                                  \n",
      "A_5_0   = 3.34396903040512E-18                                                  \n",
      "B_4_1   = 1.26957713407563E-18                                                  \n",
      "A_2_3   = 2.16524457164329E-18                                                  \n",
      "A_1_3   = -7.8672443613644E-15                                                  \n",
      "B_2_2   = -2.9754427958761E-14                                                  \n",
      "B_1_4   = 1.23793339962009E-17                                                  \n",
      "B_1_2   = -7.2577430975755E-11                                                  \n",
      "A_1_1   = -5.2167190331715E-06                                                  \n",
      "A_0_4   = 2.30261315411602E-14                                                  \n",
      "B_4_0   = -1.7435196173764E-14                                                  \n",
      "A_3_1   = 6.55120590759313E-15                                                  \n",
      "A_1_4   = -1.4386444581929E-18                                                  \n",
      "A_0_3   = -1.4678926146950E-13                                                  \n",
      "WCSNAME = 'IDC_11d1433lj'                                                       \n",
      "CPERR1  =  0.02756105922162533 / Maximum error of NPOL correction for axis 1    \n",
      "CPDIS1  = 'Lookup  '           / Prior distortion function type                 \n",
      "DP1     = 'EXTVER: 1' / Version number of WCSDVARR extension containing lookup d\n",
      "DP1     = 'NAXES: 2' / Number of independent variables in distortion function   \n",
      "DP1     = 'AXIS.1: 1' / Axis number of the jth independent variable in a distort\n",
      "DP1     = 'AXIS.2: 2' / Axis number of the jth independent variable in a distort\n",
      "CPERR2  =  0.01880022883415222 / Maximum error of NPOL correction for axis 2    \n",
      "CPDIS2  = 'Lookup  '           / Prior distortion function type                 \n",
      "DP2     = 'EXTVER: 2' / Version number of WCSDVARR extension containing lookup d\n",
      "DP2     = 'NAXES: 2' / Number of independent variables in distortion function   \n",
      "DP2     = 'AXIS.1: 1' / Axis number of the jth independent variable in a distort\n",
      "DP2     = 'AXIS.2: 2' / Axis number of the jth independent variable in a distort\n",
      "NPOLEXT = 'jref$02c1450rj_npl.fits'                                             \n",
      "MDRIZSKY=    50.43417358398437 / Sky value computed by AstroDrizzle             \n"
     ]
    }
   ],
   "source": [
    "# Change these values to your desired data files, glob will capture all wildcard matches\n",
    "test_data = glob.glob('../data/jczgx*')\n",
    "out_text = 'imheader_out.txt'\n",
    "\n",
    "for filename in test_data:\n",
    "    # Pull the header from extension 1 using FITS convenience function.\n",
    "    # To access multiple header it's better to use the fits.open() function.\n",
    "    head = fits.getheader(filename, ext=1)\n",
    "    \n",
    "    # Using repr function to format output\n",
    "    print(repr(head))\n",
    "    \n",
    "    # Save header to text file\n",
    "    with open(out_text, mode='a') as out_file:\n",
    "        out_file.write(repr(head))\n",
    "        out_file.write('\\n\\n')"
   ]
  },
  {
   "cell_type": "markdown",
   "metadata": {},
   "source": [
    "<br>"
   ]
  },
  {
   "cell_type": "markdown",
   "metadata": {},
   "source": [
    "<a id='imhistogram'></a>\n",
    "\n",
    "## imhistogram"
   ]
  },
  {
   "cell_type": "markdown",
   "metadata": {},
   "source": [
    "**Please review the** [Notes](#notes) **section above before running any examples in this notebook**\n",
    "\n",
    "Imhistogram will plot a customized histogram of the provided image data. To make a histogram in Python we are going to use Matplotlib's ``hist`` function.  See the ``hist`` [documentation](http://matplotlib.org/api/pyplot_api.html) for options to change the histogram type, scaling, bin sizes, and more."
   ]
  },
  {
   "cell_type": "code",
   "execution_count": 36,
   "metadata": {},
   "outputs": [],
   "source": [
    "# Standard Imports\n",
    "import numpy as np\n",
    "\n",
    "# Astronomy Specific Imports\n",
    "from astropy.io import fits\n",
    "from astroquery.mast import Observations\n",
    "\n",
    "# Plotting Imports/Setup\n",
    "import matplotlib.pyplot as plt\n",
    "%matplotlib inline"
   ]
  },
  {
   "cell_type": "code",
   "execution_count": 37,
   "metadata": {},
   "outputs": [
    {
     "name": "stderr",
     "output_type": "stream",
     "text": [
      "INFO:astropy:Found cached file ./mastDownload/HST/ICZGS3YGQ/iczgs3ygq_flt.fits with expected size 16534080.\n"
     ]
    },
    {
     "name": "stdout",
     "output_type": "stream",
     "text": [
      "INFO: Found cached file ./mastDownload/HST/ICZGS3YGQ/iczgs3ygq_flt.fits with expected size 16534080. [astroquery.query]\n"
     ]
    },
    {
     "data": {
      "text/html": [
       "<i>Table length=1</i>\n",
       "<table id=\"table103577501032\" class=\"table-striped table-bordered table-condensed\">\n",
       "<thead><tr><th>Local Path</th><th>Status</th><th>Message</th><th>URL</th></tr></thead>\n",
       "<thead><tr><th>str47</th><th>str5</th><th>str87</th><th>str93</th></tr></thead>\n",
       "<tr><td>./mastDownload/HST/ICZGS3YGQ/iczgs3ygq_flt.fits</td><td>ERROR</td><td>Downloaded filesize is 16531200,but should be 16534080, file may be partial or corrupt.</td><td>https://mast.stsci.edu/api/v0/download/file?uri=mast:HST/product/iczgs3ygq/iczgs3ygq_flt.fits</td></tr>\n",
       "</table>"
      ],
      "text/plain": [
       "<Table length=1>\n",
       "                   Local Path                   ...\n",
       "                     str47                      ...\n",
       "----------------------------------------------- ...\n",
       "./mastDownload/HST/ICZGS3YGQ/iczgs3ygq_flt.fits ..."
      ]
     },
     "execution_count": 37,
     "metadata": {},
     "output_type": "execute_result"
    }
   ],
   "source": [
    "# Download test file using astroquery, this only needs to be run once\n",
    "# and can be skipped if using your own data.\n",
    "# Astroquery will only download file if not already present.\n",
    "obsid = '2004615006'\n",
    "Observations.download_products(obsid,productFilename=\"iczgs3ygq_flt.fits\")"
   ]
  },
  {
   "cell_type": "code",
   "execution_count": 39,
   "metadata": {},
   "outputs": [
    {
     "data": {
      "image/png": "[encoded data removed]",
      "text/plain": [
       "<matplotlib.figure.Figure at 0x182030cf98>"
      ]
     },
     "metadata": {},
     "output_type": "display_data"
    }
   ],
   "source": [
    "# Change these values to your desired data files\n",
    "test_data = './mastDownload/HST/ICZGS3YGQ/iczgs3ygq_flt.fits'\n",
    "\n",
    "# Pull out the first science array, we also need to flatten the data to a \n",
    "# 1D array before sending it to hist\n",
    "sci1 = fits.getdata(test_data,ext=1)\n",
    "sci1f = sci1.flatten()\n",
    "\n",
    "# Now we can plot our histogram, using some of the optional keywords in hist\n",
    "# The hist function returns the values of the histogram bins (n), the edges\n",
    "# of the bins (obins), and the patches used to create the histogram\n",
    "fig = plt.figure()\n",
    "n, obins, patches = plt.hist(sci1f,bins=100,range=(0,2))\n",
    "\n",
    "# Save resulting figure to png file\n",
    "fig.savefig('hist.png')"
   ]
  },
  {
   "cell_type": "markdown",
   "metadata": {},
   "source": [
    "<br>"
   ]
  },
  {
   "cell_type": "markdown",
   "metadata": {},
   "source": [
    "<a id='imreplace'></a>\n",
    "\n",
    "## imreplace"
   ]
  },
  {
   "cell_type": "markdown",
   "metadata": {},
   "source": [
    "**Please review the** [Notes](#notes) **section above before running any examples in this notebook**\n",
    "\n",
    "Imreplace is used to replace array sections with a constant. We can use simple ``numpy`` array manipulation to replicate imreplace.  For details on how to grow the boolean array for replacement see crgrow, or the [skimage.dilation documentation](http://scikit-image.org/docs/0.12.x/api/skimage.morphology.html?highlight=dilation#skimage.morphology.dilation)."
   ]
  },
  {
   "cell_type": "code",
   "execution_count": 41,
   "metadata": {},
   "outputs": [],
   "source": [
    "# Standard Imports\n",
    "import numpy as np\n",
    "\n",
    "# Astronomy Specific Imports\n",
    "from astropy.io import fits\n",
    "from astroquery.mast import Observations"
   ]
  },
  {
   "cell_type": "code",
   "execution_count": 42,
   "metadata": {},
   "outputs": [
    {
     "name": "stderr",
     "output_type": "stream",
     "text": [
      "INFO:astropy:Found cached file ./mastDownload/HST/ICZGS3YGQ/iczgs3ygq_flt.fits with expected size 16534080.\n"
     ]
    },
    {
     "name": "stdout",
     "output_type": "stream",
     "text": [
      "INFO: Found cached file ./mastDownload/HST/ICZGS3YGQ/iczgs3ygq_flt.fits with expected size 16534080. [astroquery.query]\n"
     ]
    },
    {
     "data": {
      "text/html": [
       "<i>Table length=1</i>\n",
       "<table id=\"table103629766216\" class=\"table-striped table-bordered table-condensed\">\n",
       "<thead><tr><th>Local Path</th><th>Status</th><th>Message</th><th>URL</th></tr></thead>\n",
       "<thead><tr><th>str47</th><th>str5</th><th>str87</th><th>str93</th></tr></thead>\n",
       "<tr><td>./mastDownload/HST/ICZGS3YGQ/iczgs3ygq_flt.fits</td><td>ERROR</td><td>Downloaded filesize is 16531200,but should be 16534080, file may be partial or corrupt.</td><td>https://mast.stsci.edu/api/v0/download/file?uri=mast:HST/product/iczgs3ygq/iczgs3ygq_flt.fits</td></tr>\n",
       "</table>"
      ],
      "text/plain": [
       "<Table length=1>\n",
       "                   Local Path                   ...\n",
       "                     str47                      ...\n",
       "----------------------------------------------- ...\n",
       "./mastDownload/HST/ICZGS3YGQ/iczgs3ygq_flt.fits ..."
      ]
     },
     "execution_count": 42,
     "metadata": {},
     "output_type": "execute_result"
    }
   ],
   "source": [
    "# Download test file using astroquery, this only needs to be run once\n",
    "# and can be skipped if using your own data.\n",
    "# Astroquery will only download file if not already present.\n",
    "obsid = '2004615006'\n",
    "Observations.download_products(obsid,productFilename=\"iczgs3ygq_flt.fits\")"
   ]
  },
  {
   "cell_type": "code",
   "execution_count": 43,
   "metadata": {},
   "outputs": [
    {
     "name": "stdout",
     "output_type": "stream",
     "text": [
      "cutout of array before replacements:\n",
      "[[ 0.89118606  0.87640154  0.81239933  0.77495182  0.80048275]\n",
      " [ 0.83939391  0.79715788  0.71130604  0.83452195  0.74553812]\n",
      " [ 0.82984501  0.82536161  0.82937354  0.82661521  0.80760878]\n",
      " [ 0.88277584  0.78050691  0.85906219  0.80846858  0.8092978 ]\n",
      " [ 0.85532236  0.73028219  0.81455106  0.76300722  0.85437953]]\n",
      "\n",
      "coutout of array after replacements:\n",
      "[[  0.89118606   0.87640154  99.           0.77495182  99.        ]\n",
      " [  0.83939391   0.79715788   0.71130604   0.83452195   0.74553812]\n",
      " [  0.82984501   0.82536161   0.82937354   0.82661521  99.        ]\n",
      " [  0.88277584   0.78050691   0.85906219  99.          99.        ]\n",
      " [  0.85532236   0.73028219  99.           0.76300722   0.85437953]]\n"
     ]
    }
   ],
   "source": [
    "# Change these values to your desired data files\n",
    "test_data = './mastDownload/HST/ICZGS3YGQ/iczgs3ygq_flt.fits'\n",
    "out_file = 'imreplace_out.fits'\n",
    "\n",
    "# Pull out the first science array\n",
    "hdu = fits.open(test_data)\n",
    "sci1 = hdu[1].data\n",
    "\n",
    "print(\"cutout of array before replacements:\")\n",
    "print(sci1[50:55, 50:55])\n",
    "\n",
    "# Make boolean mask with your requirements, here we produce a boolean mask \n",
    "# where all array elements with values >0.5 and <0.6 are set to True.\n",
    "mask1 = np.logical_and(sci1>0.8, sci1<0.82)\n",
    "\n",
    "# Use mask to replace values\n",
    "sci1[mask1] = 99\n",
    "\n",
    "print(\"\\ncoutout of array after replacements:\")\n",
    "print(sci1[50:55, 50:55])\n",
    "\n",
    "# Take updated array and write out new FITS file\n",
    "hdu[1].data = sci1\n",
    "hdu.writeto(out_file, overwrite=True)\n",
    "\n",
    "# Close FITS file\n",
    "hdu.close()"
   ]
  },
  {
   "cell_type": "code",
   "execution_count": 44,
   "metadata": {},
   "outputs": [
    {
     "name": "stdout",
     "output_type": "stream",
     "text": [
      "Index values where sci1 is > 1,000\n",
      "(array([ 474,  474,  606,  607,  607,  607,  608,  608,  608,  608,  609,\n",
      "        609,  609,  609,  610,  610,  610,  804,  804,  809,  809,  810,\n",
      "        883,  883, 1002, 1013]), array([455, 456, 285, 284, 285, 286, 284, 285, 286, 287, 284, 285, 286,\n",
      "       287, 284, 285, 286, 349, 350,  53, 575,  53, 161, 162, 104, 460]))\n"
     ]
    }
   ],
   "source": [
    "# We can also use numpy where to pull out index numbers\n",
    "mask2 = np.where(sci1 > 1000)\n",
    "print(\"Index values where sci1 is > 1,000\")\n",
    "print(mask2)"
   ]
  },
  {
   "cell_type": "markdown",
   "metadata": {},
   "source": [
    "<br>"
   ]
  },
  {
   "cell_type": "markdown",
   "metadata": {},
   "source": [
    "<a id='imslice'></a>\n",
    "\n",
    "## imstack-imslice"
   ]
  },
  {
   "cell_type": "markdown",
   "metadata": {},
   "source": [
    "**Please review the** [Notes](#notes) **section above before running any examples in this notebook**\n",
    "\n",
    "Imstack can take multiple FITS images and stack the data, writing out a new file where the FITS data is 1-dimension higher then the input images.  Here we show that manipulation using the ``astropy`` library and [numpy.stack](https://docs.scipy.org/doc/numpy/reference/generated/numpy.stack.html#numpy.stack).\n",
    "\n",
    "Imslice can take a 3-D datacube FITS image and return multiple 2D images sliced through the chosen dimension.  Keep in mind for the python equivalent workflow that the header file from the original input image will be used for all output images, including WCS information.  We will be using [numpy.split](https://docs.scipy.org/doc/numpy/reference/generated/numpy.split.html#numpy.split).\n",
    "\n",
    "Below we first produced a 3-D datacube with by stacking, then split the output."
   ]
  },
  {
   "cell_type": "code",
   "execution_count": 1,
   "metadata": {},
   "outputs": [],
   "source": [
    "# Standard Imports\n",
    "import numpy as np\n",
    "\n",
    "# Astronomy Specific Imports\n",
    "from astropy.io import fits\n",
    "from astroquery.mast import Observations"
   ]
  },
  {
   "cell_type": "code",
   "execution_count": 3,
   "metadata": {},
   "outputs": [
    {
     "name": "stdout",
     "output_type": "stream",
     "text": [
      "INFO: Found cached file ./mastDownload/HST/JCZGX1PPQ/jczgx1ppq_flc.fits with expected size 167964480. [astroquery.query]\n",
      "INFO: Found cached file ./mastDownload/HST/JCZGX1Q1Q/jczgx1q1q_flc.fits with expected size 167964480. [astroquery.query]\n"
     ]
    },
    {
     "data": {
      "text/html": [
       "<i>Table length=1</i>\n",
       "<table id=\"table90662738464\" class=\"table-striped table-bordered table-condensed\">\n",
       "<thead><tr><th>Local Path</th><th>Status</th><th>Message</th><th>URL</th></tr></thead>\n",
       "<thead><tr><th>str47</th><th>str8</th><th>object</th><th>object</th></tr></thead>\n",
       "<tr><td>./mastDownload/HST/JCZGX1Q1Q/jczgx1q1q_flc.fits</td><td>COMPLETE</td><td>None</td><td>None</td></tr>\n",
       "</table>"
      ],
      "text/plain": [
       "<Table length=1>\n",
       "                   Local Path                    Status  Message  URL  \n",
       "                     str47                        str8    object object\n",
       "----------------------------------------------- -------- ------- ------\n",
       "./mastDownload/HST/JCZGX1Q1Q/jczgx1q1q_flc.fits COMPLETE    None   None"
      ]
     },
     "execution_count": 3,
     "metadata": {},
     "output_type": "execute_result"
    }
   ],
   "source": [
    "# Download test file using astroquery, this only needs to be run once\n",
    "# and can be skipped if using your own data.\n",
    "# Astroquery will only download file if not already present.\n",
    "obsid = '2004663553'\n",
    "Observations.download_products(obsid,productFilename=\"jczgx1ppq_flc.fits\")\n",
    "obsid = '2004663556'\n",
    "Observations.download_products(obsid, productFilename=\"jczgx1q1q_flc.fits\")"
   ]
  },
  {
   "cell_type": "markdown",
   "metadata": {},
   "source": [
    "Here is an example that stacks arrays into a 3-D datacube"
   ]
  },
  {
   "cell_type": "code",
   "execution_count": 4,
   "metadata": {},
   "outputs": [
    {
     "name": "stdout",
     "output_type": "stream",
     "text": [
      "final shape is:\n",
      "(2, 2048, 4096)\n"
     ]
    }
   ],
   "source": [
    "# Pull two image data arrays and an image header\n",
    "header1 = fits.getheader('./mastDownload/HST/JCZGX1PPQ/jczgx1ppq_flc.fits',ext=1)\n",
    "image1 = fits.getdata('./mastDownload/HST/JCZGX1PPQ/jczgx1ppq_flc.fits')\n",
    "image2 = fits.getdata('./mastDownload/HST/JCZGX1Q1Q/jczgx1q1q_flc.fits')\n",
    "\n",
    "# Stack arrays, the new dimension will be put first, unless otherwise specified with the axis keyword\n",
    "outstack = np.stack((image1,image2))\n",
    "print(\"final shape is:\")\n",
    "print(outstack.shape)\n",
    "\n",
    "# Now we can write this new array into a new FITS file by packing it back into an HDU object\n",
    "hdu = fits.PrimaryHDU(outstack,header1)\n",
    "hdu.writeto('imstack_out.fits', overwrite=True)"
   ]
  },
  {
   "cell_type": "markdown",
   "metadata": {},
   "source": [
    "Now we take that output and break it back down to 2-D arrays."
   ]
  },
  {
   "cell_type": "code",
   "execution_count": 5,
   "metadata": {},
   "outputs": [
    {
     "name": "stdout",
     "output_type": "stream",
     "text": [
      "Here's the extensions in our input file:\n",
      "Filename: imstack_out.fits\n",
      "No.    Name      Ver    Type      Cards   Dimensions   Format\n",
      "  0  SCI           1 PrimaryHDU     199   (4096, 2048, 2)   float32   \n",
      "\n",
      "original array - the dimension order is listed in reverse order \n",
      "now that we have read the array into a numpy array:\n",
      "(2, 2048, 4096)\n",
      "\n",
      "final shape of a slice is:\n",
      "(2048, 4096)\n"
     ]
    }
   ],
   "source": [
    "# Pull image data array and image header\n",
    "orig_hdu = fits.open('imstack_out.fits')\n",
    "\n",
    "print(\"Here's the extensions in our input file:\")\n",
    "orig_hdu.info()\n",
    "\n",
    "header1 = orig_hdu[0].header\n",
    "image1 = orig_hdu[0].data\n",
    "orig_hdu.close()\n",
    "\n",
    "print(\"\\noriginal array - the dimension order is listed \" +\n",
    "      \"in reverse order \\nnow that we have read the array into a numpy array:\")\n",
    "print(image1.shape)\n",
    "\n",
    "# Slice images easily by using numpy.split, which returns a list of the output arrays\n",
    "# THen numpy.squeeze is used to remove the extra length one dimensions left over from\n",
    "# numpy.split.\n",
    "arr_list = np.split(image1, 2)\n",
    "arr_list = np.squeeze(arr_list)\n",
    "print(\"\\nfinal shape of a slice is:\")\n",
    "print(arr_list[0].shape)\n",
    "\n",
    "# Now we can write this new array into a new FITS files by packing it back into an HDU object\n",
    "hdu1 = fits.PrimaryHDU(arr_list[0],header1)\n",
    "hdu1.writeto('imslice_out1.fits', overwrite=True)\n",
    "hdu2 = fits.PrimaryHDU(arr_list[1],header1)\n",
    "hdu2.writeto('imslice_out2.fits', overwrite=True)"
   ]
  },
  {
   "cell_type": "markdown",
   "metadata": {},
   "source": [
    "<br>"
   ]
  },
  {
   "cell_type": "markdown",
   "metadata": {},
   "source": [
    "<a id='imstatistics'></a>\n",
    "\n",
    "## imstatistics"
   ]
  },
  {
   "cell_type": "markdown",
   "metadata": {},
   "source": [
    "**Please review the** [Notes](#notes) **section above before running any examples in this notebook**\n",
    "\n",
    "We will use the ``astropy.stats.sigma_clipped_stats`` function here, which has some wider capabilites then the imstatistics function.  Please see the ``stats`` [package documentation](http://docs.astropy.org/en/stable/api/astropy.stats.sigma_clipped_stats.html) for details on the advanced usage. We also use some Numpy functions for additional statistics.\n",
    "\n",
    "**Important Note to Users:**\n",
    "There are some small differences in algorithms between the IRAF and Python statistical calculations. Both the centering function used for the clipping as well as the degrees of freedom may vary. For example, ``astropy.stats.sigma_clipped_stats`` uses a simple median for the clipping center. However a custom centering function can be provided through the ``cenfunc`` parameter. Proceed with care if you are comparing prior IRAF results to Python results."
   ]
  },
  {
   "cell_type": "code",
   "execution_count": 51,
   "metadata": {},
   "outputs": [],
   "source": [
    "# Standard Imports\n",
    "import numpy as np\n",
    "\n",
    "# Astronomy Specific Imports\n",
    "from astropy.io import fits\n",
    "from astropy import stats\n",
    "from astroquery.mast import Observations"
   ]
  },
  {
   "cell_type": "code",
   "execution_count": 52,
   "metadata": {},
   "outputs": [
    {
     "name": "stderr",
     "output_type": "stream",
     "text": [
      "INFO:astropy:Found cached file ./mastDownload/HST/ICZGS3YGQ/iczgs3ygq_flt.fits with expected size 16534080.\n"
     ]
    },
    {
     "name": "stdout",
     "output_type": "stream",
     "text": [
      "INFO: Found cached file ./mastDownload/HST/ICZGS3YGQ/iczgs3ygq_flt.fits with expected size 16534080. [astroquery.query]\n"
     ]
    },
    {
     "data": {
      "text/html": [
       "<i>Table length=1</i>\n",
       "<table id=\"table103619284664\" class=\"table-striped table-bordered table-condensed\">\n",
       "<thead><tr><th>Local Path</th><th>Status</th><th>Message</th><th>URL</th></tr></thead>\n",
       "<thead><tr><th>str47</th><th>str5</th><th>str87</th><th>str93</th></tr></thead>\n",
       "<tr><td>./mastDownload/HST/ICZGS3YGQ/iczgs3ygq_flt.fits</td><td>ERROR</td><td>Downloaded filesize is 16531200,but should be 16534080, file may be partial or corrupt.</td><td>https://mast.stsci.edu/api/v0/download/file?uri=mast:HST/product/iczgs3ygq/iczgs3ygq_flt.fits</td></tr>\n",
       "</table>"
      ],
      "text/plain": [
       "<Table length=1>\n",
       "                   Local Path                   ...\n",
       "                     str47                      ...\n",
       "----------------------------------------------- ...\n",
       "./mastDownload/HST/ICZGS3YGQ/iczgs3ygq_flt.fits ..."
      ]
     },
     "execution_count": 52,
     "metadata": {},
     "output_type": "execute_result"
    }
   ],
   "source": [
    "# Download test file using astroquery, this only needs to be run once\n",
    "# and can be skipped if using your own data.\n",
    "# Astroquery will only download file if not already present.\n",
    "obsid = '2004615006'\n",
    "Observations.download_products(obsid,productFilename=\"iczgs3ygq_flt.fits\")"
   ]
  },
  {
   "cell_type": "code",
   "execution_count": 53,
   "metadata": {},
   "outputs": [
    {
     "name": "stdout",
     "output_type": "stream",
     "text": [
      "mean, median, standard deviation:\n",
      "(0.82595410841884809, 0.81768394, 0.074634554991261454)\n",
      "\n",
      "min, max\n",
      "-4007.712890625, 27569.6015625\n",
      "\n",
      "Number of pixels above 1,000:\n",
      "26\n"
     ]
    }
   ],
   "source": [
    "# Change these values to your desired data files\n",
    "test_data = './mastDownload/HST/ICZGS3YGQ/iczgs3ygq_flt.fits'\n",
    "sci1 = fits.getdata(test_data, ext=1)\n",
    "\n",
    "# The sigma_clipped_stats function returns the mean, median, and stddev respectively\n",
    "# To more closely replicate the IRAF version that is using n-1 in it's calculations\n",
    "# we use the std_ddof parameter\n",
    "output = stats.sigma_clipped_stats(sci1, sigma=3.0, iters=3, std_ddof=1)\n",
    "print(\"mean, median, standard deviation:\")\n",
    "print(output)\n",
    "\n",
    "# To see the min and max of an array we can use numpy.min and numpy.max\n",
    "array_min = np.min(sci1)\n",
    "array_max = np.max(sci1)\n",
    "print(\"\\nmin, max\")\n",
    "print(\"{}, {}\".format(array_min, array_max))\n",
    "\n",
    "# To find out how many pixels are greater then a particular value we can use numpy.where\n",
    "where_result = np.where(sci1 > 1000)\n",
    "count = len(where_result[0])\n",
    "print(\"\\nNumber of pixels above 1,000:\")\n",
    "print(count)"
   ]
  },
  {
   "cell_type": "markdown",
   "metadata": {},
   "source": [
    "<br>"
   ]
  },
  {
   "cell_type": "markdown",
   "metadata": {},
   "source": [
    "<a id='imsum'></a>\n",
    "\n",
    "## imsum"
   ]
  },
  {
   "cell_type": "markdown",
   "metadata": {},
   "source": [
    "**Please review the** [Notes](#notes) **section above before running any examples in this notebook**\n",
    "\n",
    "Imsum is used to compute the sum, average, or mean of a set of images. We will be using the ``ccdproc`` ``Combiner`` class here.  Keep in mind that the original FITS header is not retained in the ``CCDData`` object.  Please see the [ccdproc documentation](http://ccdproc.readthedocs.io/en/latest/ccdproc/image_combination.html) for more details."
   ]
  },
  {
   "cell_type": "code",
   "execution_count": 54,
   "metadata": {},
   "outputs": [],
   "source": [
    "# Astronomy Specific Imports\n",
    "from astropy.io import fits\n",
    "from astropy import units\n",
    "from ccdproc import CCDData, Combiner\n",
    "from astroquery.mast import Observations"
   ]
  },
  {
   "cell_type": "code",
   "execution_count": 55,
   "metadata": {},
   "outputs": [
    {
     "name": "stderr",
     "output_type": "stream",
     "text": [
      "INFO:astropy:Found cached file ./mastDownload/HST/ICZGS3Y5Q/iczgs3y5q_flt.fits with expected size 16534080.\n"
     ]
    },
    {
     "name": "stdout",
     "output_type": "stream",
     "text": [
      "INFO: Found cached file ./mastDownload/HST/ICZGS3Y5Q/iczgs3y5q_flt.fits with expected size 16534080. [astroquery.query]\n"
     ]
    },
    {
     "name": "stderr",
     "output_type": "stream",
     "text": [
      "INFO:astropy:Found cached file ./mastDownload/HST/ICZGS3YGQ/iczgs3ygq_flt.fits with expected size 16534080.\n"
     ]
    },
    {
     "name": "stdout",
     "output_type": "stream",
     "text": [
      "INFO: Found cached file ./mastDownload/HST/ICZGS3YGQ/iczgs3ygq_flt.fits with expected size 16534080. [astroquery.query]\n"
     ]
    },
    {
     "data": {
      "text/html": [
       "<i>Table length=1</i>\n",
       "<table id=\"table103623554440\" class=\"table-striped table-bordered table-condensed\">\n",
       "<thead><tr><th>Local Path</th><th>Status</th><th>Message</th><th>URL</th></tr></thead>\n",
       "<thead><tr><th>str47</th><th>str5</th><th>str87</th><th>str93</th></tr></thead>\n",
       "<tr><td>./mastDownload/HST/ICZGS3YGQ/iczgs3ygq_flt.fits</td><td>ERROR</td><td>Downloaded filesize is 16531200,but should be 16534080, file may be partial or corrupt.</td><td>https://mast.stsci.edu/api/v0/download/file?uri=mast:HST/product/iczgs3ygq/iczgs3ygq_flt.fits</td></tr>\n",
       "</table>"
      ],
      "text/plain": [
       "<Table length=1>\n",
       "                   Local Path                   ...\n",
       "                     str47                      ...\n",
       "----------------------------------------------- ...\n",
       "./mastDownload/HST/ICZGS3YGQ/iczgs3ygq_flt.fits ..."
      ]
     },
     "execution_count": 55,
     "metadata": {},
     "output_type": "execute_result"
    }
   ],
   "source": [
    "# Download test file using astroquery, this only needs to be run once\n",
    "# and can be skipped if using your own data.\n",
    "# Astroquery will only download file if not already present.\n",
    "obsid = '2004615003'\n",
    "Observations.download_products(obsid,productFilename=\"iczgs3y5q_flt.fits\")\n",
    "obsid = '2004615006'\n",
    "Observations.download_products(obsid,productFilename=\"iczgs3ygq_flt.fits\")"
   ]
  },
  {
   "cell_type": "code",
   "execution_count": 56,
   "metadata": {},
   "outputs": [
    {
     "name": "stderr",
     "output_type": "stream",
     "text": [
      "INFO:astropy:using the unit electron / s passed to the FITS reader instead of the unit ELECTRONS/S in the FITS file.\n",
      "INFO:astropy:using the unit electron / s passed to the FITS reader instead of the unit ELECTRONS/S in the FITS file.\n"
     ]
    },
    {
     "name": "stdout",
     "output_type": "stream",
     "text": [
      "INFO: using the unit electron / s passed to the FITS reader instead of the unit ELECTRONS/S in the FITS file. [astropy.nddata.ccddata]\n",
      "INFO: using the unit electron / s passed to the FITS reader instead of the unit ELECTRONS/S in the FITS file. [astropy.nddata.ccddata]\n",
      "[[  0.87720111   0.82106587   0.79521415 ...,   3.87308204   7.41545987\n",
      "    9.01969481]\n",
      " [  0.89028609   0.7884455    0.8240625  ...,   0.86163342   4.53510189\n",
      "    0.99109203]\n",
      " [  0.81683022   0.83273572   0.82175627 ...,   3.60699821  -7.82266164\n",
      "    2.95994186]\n",
      " ..., \n",
      " [ 40.72796059  15.36561799  -8.79329443 ...,  22.68277168  25.31048012\n",
      "   28.829813  ]\n",
      " [ 46.28870392  -4.50218874   1.74757147 ...,  13.24364138  25.70440292\n",
      "   11.0971849 ]\n",
      " [ 42.8106432   29.66250706  63.18441772 ...,   0.           9.80057049\n",
      "   22.66858006]]\n"
     ]
    }
   ],
   "source": [
    "# Change these values to your desired data files\n",
    "test_data1 = './mastDownload/HST/ICZGS3Y5Q/iczgs3y5q_flt.fits'\n",
    "test_data2 = './mastDownload/HST/ICZGS3YGQ/iczgs3ygq_flt.fits'\n",
    "\n",
    "# First we need to pull out the science arrays to create CCDData objects\n",
    "# Our actual unit is electrons/sec, this is not accepted by the current\n",
    "# set of units\n",
    "cdata1 = CCDData.read(test_data1, hdu=1, unit=units.electron/units.s)\n",
    "cdata2 = cdata1.copy()\n",
    "cdata3 = CCDData.read(test_data2, hdu=1, unit=units.electron/units.s)\n",
    "cdata4 = cdata3.copy()\n",
    "combiner = Combiner([cdata1, cdata2, cdata3, cdata4])\n",
    "\n",
    "# Now we can make our mask for extrema clipping\n",
    "# The equivalent of low_reject, high_reject parameter\n",
    "combiner.clip_extrema(nlow=1, nhigh=1)\n",
    "\n",
    "# And finally to combine...\n",
    "final_combine = combiner.average_combine()\n",
    "print(final_combine.data)"
   ]
  },
  {
   "cell_type": "markdown",
   "metadata": {},
   "source": [
    "<br>"
   ]
  },
  {
   "cell_type": "markdown",
   "metadata": {},
   "source": [
    "<a id='listpixels'></a>\n",
    "\n",
    "## listpixels"
   ]
  },
  {
   "cell_type": "markdown",
   "metadata": {},
   "source": [
    "**Please review the** [Notes](#notes) **section above before running any examples in this notebook**\n",
    "\n",
    "Listpixels was used to list an indexed section of a FITS data array.  This is easy to do using ``astropy``, but **keep in mind that Python indexes from zero, and with the y-axis leading, i.e. [y,x]**.  You also want to end the cut with the pixel *after* the end pixel.  So to get 1-10 in x and 5-15 in y, you will index like so: array[4:15,0:10]. To see listpixels results for more then one file, you will need to loop over a list of files, see information about Python loops [here](http://www.pythonforbeginners.com/loops/for-while-and-nested-loops-in-python)."
   ]
  },
  {
   "cell_type": "code",
   "execution_count": 57,
   "metadata": {},
   "outputs": [],
   "source": [
    "# Astronomy Specific Imports\n",
    "from astropy.io import fits\n",
    "from astroquery.mast import Observations"
   ]
  },
  {
   "cell_type": "code",
   "execution_count": 58,
   "metadata": {},
   "outputs": [
    {
     "name": "stderr",
     "output_type": "stream",
     "text": [
      "INFO:astropy:Found cached file ./mastDownload/HST/ICZGS3Y5Q/iczgs3y5q_flt.fits with expected size 16534080.\n"
     ]
    },
    {
     "name": "stdout",
     "output_type": "stream",
     "text": [
      "INFO: Found cached file ./mastDownload/HST/ICZGS3Y5Q/iczgs3y5q_flt.fits with expected size 16534080. [astroquery.query]\n"
     ]
    },
    {
     "data": {
      "text/html": [
       "<i>Table length=1</i>\n",
       "<table id=\"table103576438824\" class=\"table-striped table-bordered table-condensed\">\n",
       "<thead><tr><th>Local Path</th><th>Status</th><th>Message</th><th>URL</th></tr></thead>\n",
       "<thead><tr><th>str47</th><th>str5</th><th>str87</th><th>str93</th></tr></thead>\n",
       "<tr><td>./mastDownload/HST/ICZGS3Y5Q/iczgs3y5q_flt.fits</td><td>ERROR</td><td>Downloaded filesize is 16531200,but should be 16534080, file may be partial or corrupt.</td><td>https://mast.stsci.edu/api/v0/download/file?uri=mast:HST/product/iczgs3y5q/iczgs3y5q_flt.fits</td></tr>\n",
       "</table>"
      ],
      "text/plain": [
       "<Table length=1>\n",
       "                   Local Path                   ...\n",
       "                     str47                      ...\n",
       "----------------------------------------------- ...\n",
       "./mastDownload/HST/ICZGS3Y5Q/iczgs3y5q_flt.fits ..."
      ]
     },
     "execution_count": 58,
     "metadata": {},
     "output_type": "execute_result"
    }
   ],
   "source": [
    "# Download test file using astroquery, this only needs to be run once\n",
    "# and can be skipped if using your own data.\n",
    "# Astroquery will only download file if not already present.\n",
    "obsid = '2004615003'\n",
    "Observations.download_products(obsid,productFilename=\"iczgs3y5q_flt.fits\")"
   ]
  },
  {
   "cell_type": "code",
   "execution_count": 59,
   "metadata": {},
   "outputs": [
    {
     "name": "stdout",
     "output_type": "stream",
     "text": [
      "[[ 0.86692303  0.80678135]\n",
      " [ 0.83312052  0.76854318]\n",
      " [ 0.77341086  0.80276382]\n",
      " [ 0.80539584  0.78261763]\n",
      " [ 0.78274417  0.82206035]]\n"
     ]
    }
   ],
   "source": [
    "# Change this value to your desired data files\n",
    "test_data1 = './mastDownload/HST/ICZGS3Y5Q/iczgs3y5q_flt.fits'\n",
    "\n",
    "# To quickly pull out the data array you can use the astropy convenience function\n",
    "data_arr = fits.getdata(test_data1,ext=1)\n",
    "\n",
    "# Now we can index the array as desired\n",
    "# We're cutting out 5 in y, and 2 in x\n",
    "print(data_arr[0:5,0:2])"
   ]
  },
  {
   "cell_type": "markdown",
   "metadata": {},
   "source": [
    "<br>"
   ]
  },
  {
   "cell_type": "markdown",
   "metadata": {},
   "source": [
    "## Not Replacing"
   ]
  },
  {
   "cell_type": "markdown",
   "metadata": {
    "collapsed": true
   },
   "source": [
    "* imrename - can use command line utilities or the Python ``os`` package for  this functionality.\n",
    "* imdelete - can use command line utilities or the Python ``os`` package for  this functionality.\n",
    "* imtile - **may** replace infuture\n",
    "* sections - IRAF utility function\n",
    "* imgets - see [images.imutil.hselect](#hselect)\n",
    "* minmax - see [images.imutil.imstatistics](#imstatistics)"
   ]
  }
 ],
 "metadata": {
  "kernelspec": {
   "display_name": "Python 3",
   "language": "python",
   "name": "python3"
  },
  "language_info": {
   "codemirror_mode": {
    "name": "ipython",
    "version": 3
   },
   "file_extension": ".py",
   "mimetype": "text/x-python",
   "name": "python",
   "nbconvert_exporter": "python",
   "pygments_lexer": "ipython3",
   "version": "3.5.4"
  }
 },
 "nbformat": 4,
 "nbformat_minor": 1
}
