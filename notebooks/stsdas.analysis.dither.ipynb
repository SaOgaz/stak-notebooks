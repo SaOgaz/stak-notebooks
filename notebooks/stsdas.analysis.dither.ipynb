{
 "cells": [
  {
   "cell_type": "markdown",
   "metadata": {},
   "source": [
    "# stsdas.analysis.dither"
   ]
  },
  {
   "cell_type": "markdown",
   "metadata": {},
   "source": []
  },
  {
   "cell_type": "markdown",
   "metadata": {},
   "source": [
    "<a id='notes'></a>\n",
    "\n",
    "## Notes"
   ]
  },
  {
   "cell_type": "markdown",
   "metadata": {},
   "source": [
    "**For questions or comments please see [our github page](https://github.com/spacetelescope/stak).  We encourage and appreciate user feedback.**\n",
    "\n",
    "Keeping these tasks very HST specific for now.\n",
    "\n",
    "Contents:\n",
    "\n",
    "* [Task1](#task1)\n",
    "* [Task2](#task2)"
   ]
  },
  {
   "cell_type": "markdown",
   "metadata": {},
   "source": [
    "avshift - Averages the shifts measured on the 4 WFPC chips.\n",
    "Need?\n",
    "\n",
    "      blot - Image sampling using interpolation (reverse \"drizzling\"). (stsdas.analysis.dither)\n",
    "     cgsky - Compute sky using `gsky' plus a correction for histogram truncation. (stsdas.analysis.dither)\n",
    " crossdriz - Builds a set of cross-correlation images (shift + rotation). (stsdas.analysis.dither)\n",
    "     deriv - Take the absolute derivative of an image. (stsdas.analysis.dither)\n",
    "   driz_cr - Create cosmic ray mask based for dithered data. (stsdas.analysis.dither)\n",
    "   drizzle - Perform linear image reconstruction using \"drizzling\". (stsdas.analysis.dither)\n",
    "  dunlearn - Resets all task parameters to default values. (stsdas.analysis.dither)\n",
    "     gprep - Transform shifts for one WFPC2 chip into parameters for mosaicing all four chips.\n",
    "      gsky - Compute sky using the same mode algorithm used in task \"crrej\". (stsdas.analysis.dither)\n",
    " imextreme - Locates the maximum and minimum pixels in an image. (stsdas.analysis.dither)\n",
    " loop_blot - Runs blot for a given list of input and output images. (stsdas.analysis.dither)\n",
    " loop_driz - Runs drizzle for a list of input, output, and mask images. (stsdas.analysis.dither)\n",
    "multidrizzle - Automated task for performing cosmic-ray rejection (stsdas.analysis.dither)\n",
    " mask_head - Attach mask names to image headers; invert mask if requested (stsdas.analysis.dither)\n",
    "   offsets - Builds cross-correlation image (shift only). (stsdas.analysis.dither)\n",
    "    precor - Cosmic-ray processing. (stsdas.analysis.dither)\n",
    " pydrizzle - Automated Python-based interface for the \"drizzle\" task (stsdas.analysis.dither)\n",
    "   rotfind - Finds rotation angle from a set of cross-correlation images. (stsdas.analysis.dither)\n",
    " shiftfind - Finds X,Y shifts in a cross-corelation image. (stsdas.analysis.dither)\n",
    "       sky - Sky processing by \"crrej-like\" algorithm.\\ (stsdas.analysis.dither)\n",
    "      tran - Transform coordinates taking into account distortion (stsdas.analysis.dither)\n",
    "  tranback - Transform an X,Y position from output to input pixel position using the same conventions as drizzle \n",
    "     traxy - Transform an X,Y position from input to output pixel position using the same conventions as drizzle \n",
    "tweakshifts - Compute residual shifts between images (stsdas.analysis.dither)\n",
    "    wcs2dr - Convert WCS header information into drizzle parameters for image registration (stsdas.analysis.dither)\n",
    "   xytosky - Translate a 2-D image pixel coordinate to right ascension and declination, optionally applying the distortion coefficients for the detector. (stsdas.analysis.dither)"
   ]
  },
  {
   "cell_type": "markdown",
   "metadata": {},
   "source": [
    "<br>"
   ]
  },
  {
   "cell_type": "markdown",
   "metadata": {},
   "source": [
    "<a id='task1'></a>\n",
    "\n",
    "## Task1"
   ]
  },
  {
   "cell_type": "markdown",
   "metadata": {},
   "source": [
    "**Please review the [Notes](#notes) section above before running any examples in this notebook**"
   ]
  },
  {
   "cell_type": "code",
   "execution_count": 1,
   "metadata": {
    "collapsed": true
   },
   "outputs": [],
   "source": [
    "# Standard Imports\n",
    "import numpy as np\n",
    "\n",
    "# Astronomy Specific Imports\n",
    "from astropy.io import fits\n",
    "\n",
    "# Plotting Imports/Setup\n",
    "import matplotlib.pyplot as plt\n",
    "%matplotlib inline"
   ]
  },
  {
   "cell_type": "code",
   "execution_count": 2,
   "metadata": {
    "collapsed": true
   },
   "outputs": [],
   "source": [
    "# code goes here"
   ]
  },
  {
   "cell_type": "markdown",
   "metadata": {},
   "source": [
    "<br>"
   ]
  },
  {
   "cell_type": "markdown",
   "metadata": {},
   "source": [
    "<a id='task2'></a>\n",
    "\n",
    "## Task2"
   ]
  },
  {
   "cell_type": "markdown",
   "metadata": {},
   "source": [
    "** Please review the [Notes](#notes) section above before running any examples in this notebook **"
   ]
  },
  {
   "cell_type": "code",
   "execution_count": 4,
   "metadata": {
    "collapsed": true
   },
   "outputs": [],
   "source": [
    "# Standard Imports\n",
    "import numpy as np\n",
    "\n",
    "# Astronomy Specific Imports\n",
    "from astropy.io import fits\n",
    "\n",
    "# Plotting Imports/Setup\n",
    "import matplotlib.pyplot as plt\n",
    "%matplotlib inline"
   ]
  },
  {
   "cell_type": "code",
   "execution_count": 5,
   "metadata": {
    "collapsed": true
   },
   "outputs": [],
   "source": [
    "# code goes here"
   ]
  },
  {
   "cell_type": "markdown",
   "metadata": {},
   "source": [
    "<br>"
   ]
  },
  {
   "cell_type": "markdown",
   "metadata": {},
   "source": [
    "<a id='task1'></a>\n",
    "\n",
    "## Task1"
   ]
  },
  {
   "cell_type": "markdown",
   "metadata": {},
   "source": [
    "**Please review the [Notes](#notes) section above before running any examples in this notebook**"
   ]
  },
  {
   "cell_type": "code",
   "execution_count": 1,
   "metadata": {
    "collapsed": true
   },
   "outputs": [],
   "source": [
    "# Standard Imports\n",
    "import numpy as np\n",
    "\n",
    "# Astronomy Specific Imports\n",
    "from astropy.io import fits\n",
    "\n",
    "# Plotting Imports/Setup\n",
    "import matplotlib.pyplot as plt\n",
    "%matplotlib inline"
   ]
  },
  {
   "cell_type": "code",
   "execution_count": 2,
   "metadata": {
    "collapsed": true
   },
   "outputs": [],
   "source": [
    "# code goes here"
   ]
  },
  {
   "cell_type": "markdown",
   "metadata": {},
   "source": [
    "<br>"
   ]
  },
  {
   "cell_type": "markdown",
   "metadata": {},
   "source": [
    "<a id='task2'></a>\n",
    "\n",
    "## Task2"
   ]
  },
  {
   "cell_type": "markdown",
   "metadata": {},
   "source": [
    "** Please review the [Notes](#notes) section above before running any examples in this notebook **"
   ]
  },
  {
   "cell_type": "code",
   "execution_count": 4,
   "metadata": {
    "collapsed": true
   },
   "outputs": [],
   "source": [
    "# Standard Imports\n",
    "import numpy as np\n",
    "\n",
    "# Astronomy Specific Imports\n",
    "from astropy.io import fits\n",
    "\n",
    "# Plotting Imports/Setup\n",
    "import matplotlib.pyplot as plt\n",
    "%matplotlib inline"
   ]
  },
  {
   "cell_type": "code",
   "execution_count": 5,
   "metadata": {
    "collapsed": true
   },
   "outputs": [],
   "source": [
    "# code goes here"
   ]
  },
  {
   "cell_type": "markdown",
   "metadata": {},
   "source": [
    "<br>"
   ]
  },
  {
   "cell_type": "markdown",
   "metadata": {},
   "source": [
    "<a id='task1'></a>\n",
    "\n",
    "## Task1"
   ]
  },
  {
   "cell_type": "markdown",
   "metadata": {},
   "source": [
    "**Please review the [Notes](#notes) section above before running any examples in this notebook**"
   ]
  },
  {
   "cell_type": "code",
   "execution_count": 1,
   "metadata": {
    "collapsed": true
   },
   "outputs": [],
   "source": [
    "# Standard Imports\n",
    "import numpy as np\n",
    "\n",
    "# Astronomy Specific Imports\n",
    "from astropy.io import fits\n",
    "\n",
    "# Plotting Imports/Setup\n",
    "import matplotlib.pyplot as plt\n",
    "%matplotlib inline"
   ]
  },
  {
   "cell_type": "code",
   "execution_count": 2,
   "metadata": {
    "collapsed": true
   },
   "outputs": [],
   "source": [
    "# code goes here"
   ]
  },
  {
   "cell_type": "markdown",
   "metadata": {},
   "source": [
    "<br>"
   ]
  },
  {
   "cell_type": "markdown",
   "metadata": {},
   "source": [
    "<a id='task2'></a>\n",
    "\n",
    "## Task2"
   ]
  },
  {
   "cell_type": "markdown",
   "metadata": {},
   "source": [
    "** Please review the [Notes](#notes) section above before running any examples in this notebook **"
   ]
  },
  {
   "cell_type": "code",
   "execution_count": 4,
   "metadata": {
    "collapsed": true
   },
   "outputs": [],
   "source": [
    "# Standard Imports\n",
    "import numpy as np\n",
    "\n",
    "# Astronomy Specific Imports\n",
    "from astropy.io import fits\n",
    "\n",
    "# Plotting Imports/Setup\n",
    "import matplotlib.pyplot as plt\n",
    "%matplotlib inline"
   ]
  },
  {
   "cell_type": "code",
   "execution_count": 5,
   "metadata": {
    "collapsed": true
   },
   "outputs": [],
   "source": [
    "# code goes here"
   ]
  },
  {
   "cell_type": "markdown",
   "metadata": {},
   "source": [
    "<br>"
   ]
  },
  {
   "cell_type": "markdown",
   "metadata": {},
   "source": [
    "<a id='task1'></a>\n",
    "\n",
    "## Task1"
   ]
  },
  {
   "cell_type": "markdown",
   "metadata": {},
   "source": [
    "**Please review the [Notes](#notes) section above before running any examples in this notebook**"
   ]
  },
  {
   "cell_type": "code",
   "execution_count": 1,
   "metadata": {
    "collapsed": true
   },
   "outputs": [],
   "source": [
    "# Standard Imports\n",
    "import numpy as np\n",
    "\n",
    "# Astronomy Specific Imports\n",
    "from astropy.io import fits\n",
    "\n",
    "# Plotting Imports/Setup\n",
    "import matplotlib.pyplot as plt\n",
    "%matplotlib inline"
   ]
  },
  {
   "cell_type": "code",
   "execution_count": 2,
   "metadata": {
    "collapsed": true
   },
   "outputs": [],
   "source": [
    "# code goes here"
   ]
  },
  {
   "cell_type": "markdown",
   "metadata": {},
   "source": [
    "<br>"
   ]
  },
  {
   "cell_type": "markdown",
   "metadata": {},
   "source": [
    "<a id='task2'></a>\n",
    "\n",
    "## Task2"
   ]
  },
  {
   "cell_type": "markdown",
   "metadata": {},
   "source": [
    "** Please review the [Notes](#notes) section above before running any examples in this notebook **"
   ]
  },
  {
   "cell_type": "code",
   "execution_count": 4,
   "metadata": {
    "collapsed": true
   },
   "outputs": [],
   "source": [
    "# Standard Imports\n",
    "import numpy as np\n",
    "\n",
    "# Astronomy Specific Imports\n",
    "from astropy.io import fits\n",
    "\n",
    "# Plotting Imports/Setup\n",
    "import matplotlib.pyplot as plt\n",
    "%matplotlib inline"
   ]
  },
  {
   "cell_type": "code",
   "execution_count": 5,
   "metadata": {
    "collapsed": true
   },
   "outputs": [],
   "source": [
    "# code goes here"
   ]
  },
  {
   "cell_type": "markdown",
   "metadata": {},
   "source": [
    "<br>"
   ]
  },
  {
   "cell_type": "markdown",
   "metadata": {},
   "source": [
    "<a id='task1'></a>\n",
    "\n",
    "## Task1"
   ]
  },
  {
   "cell_type": "markdown",
   "metadata": {},
   "source": [
    "**Please review the [Notes](#notes) section above before running any examples in this notebook**"
   ]
  },
  {
   "cell_type": "code",
   "execution_count": 1,
   "metadata": {
    "collapsed": true
   },
   "outputs": [],
   "source": [
    "# Standard Imports\n",
    "import numpy as np\n",
    "\n",
    "# Astronomy Specific Imports\n",
    "from astropy.io import fits\n",
    "\n",
    "# Plotting Imports/Setup\n",
    "import matplotlib.pyplot as plt\n",
    "%matplotlib inline"
   ]
  },
  {
   "cell_type": "code",
   "execution_count": 2,
   "metadata": {
    "collapsed": true
   },
   "outputs": [],
   "source": [
    "# code goes here"
   ]
  },
  {
   "cell_type": "markdown",
   "metadata": {},
   "source": [
    "<br>"
   ]
  },
  {
   "cell_type": "markdown",
   "metadata": {},
   "source": [
    "<a id='task2'></a>\n",
    "\n",
    "## Task2"
   ]
  },
  {
   "cell_type": "markdown",
   "metadata": {},
   "source": [
    "** Please review the [Notes](#notes) section above before running any examples in this notebook **"
   ]
  },
  {
   "cell_type": "code",
   "execution_count": 4,
   "metadata": {
    "collapsed": true
   },
   "outputs": [],
   "source": [
    "# Standard Imports\n",
    "import numpy as np\n",
    "\n",
    "# Astronomy Specific Imports\n",
    "from astropy.io import fits\n",
    "\n",
    "# Plotting Imports/Setup\n",
    "import matplotlib.pyplot as plt\n",
    "%matplotlib inline"
   ]
  },
  {
   "cell_type": "code",
   "execution_count": 5,
   "metadata": {
    "collapsed": true
   },
   "outputs": [],
   "source": [
    "# code goes here"
   ]
  },
  {
   "cell_type": "markdown",
   "metadata": {},
   "source": [
    "<br>"
   ]
  },
  {
   "cell_type": "markdown",
   "metadata": {},
   "source": [
    "<a id='task1'></a>\n",
    "\n",
    "## Task1"
   ]
  },
  {
   "cell_type": "markdown",
   "metadata": {},
   "source": [
    "**Please review the [Notes](#notes) section above before running any examples in this notebook**"
   ]
  },
  {
   "cell_type": "code",
   "execution_count": 1,
   "metadata": {
    "collapsed": true
   },
   "outputs": [],
   "source": [
    "# Standard Imports\n",
    "import numpy as np\n",
    "\n",
    "# Astronomy Specific Imports\n",
    "from astropy.io import fits\n",
    "\n",
    "# Plotting Imports/Setup\n",
    "import matplotlib.pyplot as plt\n",
    "%matplotlib inline"
   ]
  },
  {
   "cell_type": "code",
   "execution_count": 2,
   "metadata": {
    "collapsed": true
   },
   "outputs": [],
   "source": [
    "# code goes here"
   ]
  },
  {
   "cell_type": "markdown",
   "metadata": {},
   "source": [
    "<br>"
   ]
  },
  {
   "cell_type": "markdown",
   "metadata": {},
   "source": [
    "<a id='task2'></a>\n",
    "\n",
    "## Task2"
   ]
  },
  {
   "cell_type": "markdown",
   "metadata": {},
   "source": [
    "** Please review the [Notes](#notes) section above before running any examples in this notebook **"
   ]
  },
  {
   "cell_type": "code",
   "execution_count": 4,
   "metadata": {
    "collapsed": true
   },
   "outputs": [],
   "source": [
    "# Standard Imports\n",
    "import numpy as np\n",
    "\n",
    "# Astronomy Specific Imports\n",
    "from astropy.io import fits\n",
    "\n",
    "# Plotting Imports/Setup\n",
    "import matplotlib.pyplot as plt\n",
    "%matplotlib inline"
   ]
  },
  {
   "cell_type": "code",
   "execution_count": 5,
   "metadata": {
    "collapsed": true
   },
   "outputs": [],
   "source": [
    "# code goes here"
   ]
  },
  {
   "cell_type": "markdown",
   "metadata": {},
   "source": [
    "<br>"
   ]
  },
  {
   "cell_type": "markdown",
   "metadata": {},
   "source": [
    "## Not Replacing"
   ]
  },
  {
   "cell_type": "markdown",
   "metadata": {},
   "source": [
    "* Task3\n",
    "* Task4"
   ]
  }
 ],
 "metadata": {
  "kernelspec": {
   "display_name": "Python 2",
   "language": "python",
   "name": "python2"
  },
  "language_info": {
   "codemirror_mode": {
    "name": "ipython",
    "version": 2
   },
   "file_extension": ".py",
   "mimetype": "text/x-python",
   "name": "python",
   "nbconvert_exporter": "python",
   "pygments_lexer": "ipython2",
   "version": "2.7.12"
  }
 },
 "nbformat": 4,
 "nbformat_minor": 0
}
