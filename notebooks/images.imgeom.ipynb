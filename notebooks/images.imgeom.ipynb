{
 "cells": [
  {
   "cell_type": "markdown",
   "metadata": {},
   "source": [
    "# images.imgeom"
   ]
  },
  {
   "cell_type": "markdown",
   "metadata": {},
   "source": [
    "The images.imgeom package contains various image spatial manipulation and interpolation tasks."
   ]
  },
  {
   "cell_type": "markdown",
   "metadata": {},
   "source": [
    "<a id='notes'></a>\n",
    "\n",
    "## Notes"
   ]
  },
  {
   "cell_type": "markdown",
   "metadata": {},
   "source": [
    "**For questions or comments please see** [our github page](https://github.com/spacetelescope/stak).  **We encourage and appreciate user feedback.**\n",
    "\n",
    "**Most of these notebooks rely on basic knowledge of the Astropy FITS I/O module.  If you are unfamiliar with this module please see the** [Astropy FITS I/O user documentation](http://docs.astropy.org/en/stable/io/fits/) **before using this documentation**.\n",
    "\n",
    "![](static/150pxblueconstuc.png \"Work in progress\")\n",
    "\n",
    "**General Note about this package:**\n",
    "\n",
    "The tasks in this IRAF package include support for WCS updates after the image manipulations are preformed.  We are currently working on the replacements for these WCS capabilities.  For the moment we have included the array manipulation part of these tasks in this notebook.\n",
    "\n",
    "**Boundary Condition and Interpolation Options:**\n",
    "\n",
    "In the IRAF package the interpolation options are as follows: nearest, linear, poly3, poly5, spline3, sinc/lsinc. In the ``scipy.ndimage`` functions, the interpolation option are spline degrees 0-5, where spline-0 is nearest and spline-1 is linear.\n",
    "\n",
    "The boundary condition options for IRAF and ``scipy`` are the same: nearest, wrap, reflect, and constant.\n",
    "\n",
    "**Important Note to Users:**\n",
    "There are some differences in algorithms between some of the IRAF and Python Interpolations.  Proceed with care if you are comparing prior IRAF results to Python results.  For more details on this issue see the [filed Github issue](https://github.com/spacetelescope/stak-notebooks/issues/75).\n",
    "\n",
    "Contents:\n",
    "\n",
    "* [blkavg](#blkavg)\n",
    "* [blkrep](#blkrep)\n",
    "* [im3dtran-imtranspose](#im3dtran-imtranspose)\n",
    "* [imshift-shiftlines](#imshift-shiftlines)\n",
    "* [magnify](#magnify)\n",
    "* [rotate](#rotate)"
   ]
  },
  {
   "cell_type": "markdown",
   "metadata": {},
   "source": [
    "<br>"
   ]
  },
  {
   "cell_type": "markdown",
   "metadata": {},
   "source": [
    "<a id='blkavg'></a>\n",
    "\n",
    "## blkavg"
   ]
  },
  {
   "cell_type": "markdown",
   "metadata": {},
   "source": [
    "**Please review the** [Notes](#notes) **section above before running any examples in this notebook**\n",
    "\n",
    "The blkavg task takes in an arbitrary dimensioned image and performs a block average across the requested box size.  We can preform the same task with the ``astropy.nddata.utils.block_reduce`` function.  In fact, this function is more generalized as you can apply any function (not just averaging) that accepts an ``ndarray`` and axis keyword to the block filter.\n",
    "\n",
    "Below we show an example that reads in a FITS file, runs `block_reduce` on the first image extension, and saves out the updated file."
   ]
  },
  {
   "cell_type": "code",
   "execution_count": 4,
   "metadata": {
    "collapsed": true
   },
   "outputs": [],
   "source": [
    "# Standard Imports\n",
    "import numpy as np\n",
    "\n",
    "# Astronomy Specific Imports\n",
    "from astropy.io import fits\n",
    "from astropy.nddata.utils import block_reduce"
   ]
  },
  {
   "cell_type": "code",
   "execution_count": 5,
   "metadata": {},
   "outputs": [
    {
     "name": "stdout",
     "output_type": "stream",
     "text": [
      "Filename: /eng/ssb/iraf_transition/test_data/jczgx1ppq_flc.fits\n",
      "No.    Name      Ver    Type      Cards   Dimensions   Format\n",
      "  0  PRIMARY       1 PrimaryHDU     270   ()      \n",
      "  1  SCI           1 ImageHDU       200   (4096, 2048)   float32   \n",
      "  2  ERR           1 ImageHDU        56   (4096, 2048)   float32   \n",
      "  3  DQ            1 ImageHDU        48   (4096, 2048)   int16   \n",
      "  4  SCI           2 ImageHDU       198   (4096, 2048)   float32   \n",
      "  5  ERR           2 ImageHDU        56   (4096, 2048)   float32   \n",
      "  6  DQ            2 ImageHDU        48   (4096, 2048)   int16   \n",
      "  7  D2IMARR       1 ImageHDU        15   (64, 32)   float32   \n",
      "  8  D2IMARR       2 ImageHDU        15   (64, 32)   float32   \n",
      "  9  D2IMARR       3 ImageHDU        15   (64, 32)   float32   \n",
      " 10  D2IMARR       4 ImageHDU        15   (64, 32)   float32   \n",
      " 11  WCSDVARR      1 ImageHDU        15   (64, 32)   float32   \n",
      " 12  WCSDVARR      2 ImageHDU        15   (64, 32)   float32   \n",
      " 13  WCSDVARR      3 ImageHDU        15   (64, 32)   float32   \n",
      " 14  WCSDVARR      4 ImageHDU        15   (64, 32)   float32   \n",
      " 15  WCSCORR       1 BinTableHDU     59   14R x 24C   [40A, I, A, 24A, 24A, 24A, 24A, D, D, D, D, D, D, D, D, 24A, 24A, D, D, D, D, J, 40A, 128A]   \n"
     ]
    }
   ],
   "source": [
    "# Change this value to your desired data file, here were creating a filename\n",
    "# for our new changed data\n",
    "orig_data = '/eng/ssb/iraf_transition/test_data/jczgx1ppq_flc.fits'\n",
    "new_fits = 'iczgs3ygq_newdtype_flt.fits'\n",
    "\n",
    "# Read in your fits file\n",
    "hdu = fits.open(orig_data)\n",
    "\n",
    "# Print FITS summary\n",
    "hdu.info()\n",
    "\n",
    "# Run block reduce on first sci extension\n",
    "red_data = block_reduce(hdu[1].data, [2,2], func=np.mean)\n",
    "\n",
    "# Re-insert the data into the HDUList\n",
    "hdu[1].data = red_data\n",
    "\n",
    "# Save out fits to a new file\n",
    "hdu.writeto(new_fits, overwrite=True)\n",
    "hdu.close()"
   ]
  },
  {
   "cell_type": "markdown",
   "metadata": {},
   "source": [
    "<br>"
   ]
  },
  {
   "cell_type": "markdown",
   "metadata": {},
   "source": [
    "<a id='blkrep'></a>\n",
    "\n",
    "## blkrep"
   ]
  },
  {
   "cell_type": "markdown",
   "metadata": {},
   "source": [
    "**Please review the** [Notes](#notes) **section above before running any examples in this notebook**\n",
    "\n",
    "The task ``blkrep`` is used to block replicate an n-dimensional image.  Astropy has the equivalent function ``block_replicate``. \n",
    "\n",
    "For an example of how to read in a FITS extension, edit the image array, and save out the updated file, see [blkavg](#blkavg) above."
   ]
  },
  {
   "cell_type": "code",
   "execution_count": 12,
   "metadata": {
    "collapsed": true
   },
   "outputs": [],
   "source": [
    "# Standard Imports\n",
    "import numpy as np\n",
    "\n",
    "# Astronomy Specific Imports\n",
    "from astropy.nddata.utils import block_replicate"
   ]
  },
  {
   "cell_type": "code",
   "execution_count": 13,
   "metadata": {},
   "outputs": [
    {
     "name": "stdout",
     "output_type": "stream",
     "text": [
      "input array\n",
      "[[ 0.  1.]\n",
      " [ 2.  3.]]\n",
      "sum conservation\n",
      "[[ 0.          0.          0.          0.11111111  0.11111111  0.11111111]\n",
      " [ 0.          0.          0.          0.11111111  0.11111111  0.11111111]\n",
      " [ 0.          0.          0.          0.11111111  0.11111111  0.11111111]\n",
      " [ 0.22222222  0.22222222  0.22222222  0.33333333  0.33333333  0.33333333]\n",
      " [ 0.22222222  0.22222222  0.22222222  0.33333333  0.33333333  0.33333333]\n",
      " [ 0.22222222  0.22222222  0.22222222  0.33333333  0.33333333  0.33333333]]\n",
      "no sum conservation\n",
      "[[ 0.  0.  0.  1.  1.  1.]\n",
      " [ 0.  0.  0.  1.  1.  1.]\n",
      " [ 0.  0.  0.  1.  1.  1.]\n",
      " [ 2.  2.  2.  3.  3.  3.]\n",
      " [ 2.  2.  2.  3.  3.  3.]\n",
      " [ 2.  2.  2.  3.  3.  3.]]\n"
     ]
    }
   ],
   "source": [
    "# test data\n",
    "my_arr = np.array(([[0., 1.], [2., 3.]]))\n",
    "print(\"input array\")\n",
    "print(my_arr)\n",
    "\n",
    "# conservation of the array sum is the default\n",
    "out = block_replicate(my_arr, 3)\n",
    "print(\"sum conservation\")\n",
    "print(out)\n",
    "\n",
    "# you can changes this using conserve_sum=False\n",
    "out = block_replicate(my_arr, 3, conserve_sum=False)\n",
    "print(\"no sum conservation\")\n",
    "print(out)"
   ]
  },
  {
   "cell_type": "markdown",
   "metadata": {},
   "source": [
    "<br>"
   ]
  },
  {
   "cell_type": "markdown",
   "metadata": {},
   "source": [
    "<a id='im3dtran-imtranspose'></a>\n",
    "\n",
    "## im3dtran-imtranspose"
   ]
  },
  {
   "cell_type": "markdown",
   "metadata": {},
   "source": [
    "**Please review the** [Notes](#notes) **section above before running any examples in this notebook**\n",
    "\n",
    "Tasks used to transpose images.  [numpy.transpose](https://docs.scipy.org/doc/numpy/reference/generated/numpy.transpose.html) can handle any number of dimensions.\n",
    "\n",
    "For an example of how to read in a FITS extension, edit the image array, and save out the updated file, see [blkavg](#blkavg) above."
   ]
  },
  {
   "cell_type": "code",
   "execution_count": 1,
   "metadata": {
    "collapsed": true
   },
   "outputs": [],
   "source": [
    "# Standard Imports\n",
    "import numpy as np"
   ]
  },
  {
   "cell_type": "code",
   "execution_count": 2,
   "metadata": {},
   "outputs": [
    {
     "name": "stdout",
     "output_type": "stream",
     "text": [
      "Original array:\n",
      "[[ 0  1  2]\n",
      " [ 3  4  5]\n",
      " [ 6  7  8]\n",
      " [ 9 10 11]\n",
      " [12 13 14]]\n",
      "Transpose of original array\n",
      "[[ 0  3  6  9 12]\n",
      " [ 1  4  7 10 13]\n",
      " [ 2  5  8 11 14]]\n"
     ]
    }
   ],
   "source": [
    "# in_array constructs a 3 x 5 array of integer values from 0 to 14\n",
    "in_array = np.arange(15).reshape(5,3)\n",
    "# we then transpose it it to a 5 x 3 array\n",
    "out_array = np.transpose(in_array)\n",
    "\n",
    "print('Original array:')\n",
    "print(in_array)\n",
    "print('Transpose of original array')\n",
    "print(out_array)"
   ]
  },
  {
   "cell_type": "markdown",
   "metadata": {},
   "source": [
    "<br>"
   ]
  },
  {
   "cell_type": "markdown",
   "metadata": {},
   "source": [
    "<a id='imshift-shiftlines'></a>\n",
    "\n",
    "## imshift-shiftlines"
   ]
  },
  {
   "cell_type": "markdown",
   "metadata": {},
   "source": [
    "**Please review the** [Notes](#notes) **section above before running any examples in this notebook**\n",
    "\n",
    "The task imshift can shift an image in x and y by float values and will use interpolation to create the output image.  Shiftlines preformed similar functionality but  We will be using [scipy.ndimage.shift](https://docs.scipy.org/doc/scipy-0.18.1/reference/generated/scipy.ndimage.shift.html#scipy.ndimage.shift), where you can shift in any axis of your image.  See the [Notes](#notes) at the top of the notebook for fitting and boundary options.\n",
    "\n",
    "For an example of how to read in a FITS extension, edit the image array, and save out the updated file, see [blkavg](#blkavg) above."
   ]
  },
  {
   "cell_type": "code",
   "execution_count": 12,
   "metadata": {
    "collapsed": true
   },
   "outputs": [],
   "source": [
    "# Standard Imports\n",
    "import numpy as np\n",
    "from scipy.ndimage import shift"
   ]
  },
  {
   "cell_type": "code",
   "execution_count": 18,
   "metadata": {},
   "outputs": [
    {
     "name": "stdout",
     "output_type": "stream",
     "text": [
      "Original array:\n",
      "[[ 0  1  2  3  4]\n",
      " [ 5  6  7  8  9]\n",
      " [10 11 12 13 14]\n",
      " [15 16 17 18 19]\n",
      " [20 21 22 23 24]]\n",
      "A zoom of 0.5 in y and 2 in x with nearest\n",
      "[[ 2  2  2  2  2]\n",
      " [ 2  0  2  2  4]\n",
      " [ 2  6  7  8  9]\n",
      " [ 2 11 12 13 14]\n",
      " [ 2 16 18 19 20]]\n"
     ]
    }
   ],
   "source": [
    "# Don't forget that Python uses (y,x) format when specifiying shifts\n",
    "in_array = np.arange(25).reshape(5,5)\n",
    "out_array = shift(x, (0.8,0.8), order=3, mode='constant', cval=2)\n",
    "\n",
    "print('Original array:')\n",
    "print(in_array)\n",
    "print('A zoom of 0.5 in y and 2 in x with nearest')\n",
    "print(out_array)"
   ]
  },
  {
   "cell_type": "markdown",
   "metadata": {},
   "source": [
    "<br>"
   ]
  },
  {
   "cell_type": "markdown",
   "metadata": {},
   "source": [
    "<a id='magnify'></a>\n",
    "\n",
    "## magnify"
   ]
  },
  {
   "cell_type": "markdown",
   "metadata": {},
   "source": [
    "**Please review the** [Notes](#notes) **section above before running any examples in this notebook**\n",
    "\n",
    "The task magnify takes an image and magnifies the image by the desired amount, using a chosen iterpolation.  The interpolation options avaialable for the magnify task are nearest, linear, poly3, poly5, spine3, sinc, lsinc, and drizzle.  We will be using [scipy.ndimage.zoom](https://docs.scipy.org/doc/scipy-0.18.1/reference/generated/scipy.ndimage.zoom.html#scipy.ndimage.zoom) as a python equivalent.  For this task, the available interpolation options are nearest, and spline0-5 fits. \n",
    "\n",
    "For an example of how to read in a FITS extension, edit the image array, and save out the updated file, see [blkavg](#blkavg) above."
   ]
  },
  {
   "cell_type": "code",
   "execution_count": 1,
   "metadata": {},
   "outputs": [],
   "source": [
    "# Standard Imports\n",
    "import numpy as np\n",
    "from scipy.ndimage import zoom"
   ]
  },
  {
   "cell_type": "code",
   "execution_count": 2,
   "metadata": {},
   "outputs": [
    {
     "name": "stdout",
     "output_type": "stream",
     "text": [
      "Original array:\n",
      "[[ 0  1  2  3  4]\n",
      " [ 5  6  7  8  9]\n",
      " [10 11 12 13 14]\n",
      " [15 16 17 18 19]\n",
      " [20 21 22 23 24]]\n",
      "A zoom of 0.5 in y and 2.5 in x with nearest\n",
      "[[ 0  0  1  1  1  2  2  3  3  3  4  4]\n",
      " [20 20 21 21 21 22 22 23 23 23 24 24]]\n"
     ]
    }
   ],
   "source": [
    "# Don't forget that Python uses (y,x) format when specifiying magnification\n",
    "in_array = np.arange(25).reshape(5,5)\n",
    "out_array = zoom(in_array, (0.5,2.5), order=0)\n",
    "\n",
    "print('Original array:')\n",
    "print(in_array)\n",
    "print('A zoom of 0.5 in y and 2.5 in x with nearest')\n",
    "print(out_array)"
   ]
  },
  {
   "cell_type": "markdown",
   "metadata": {},
   "source": [
    "<br>"
   ]
  },
  {
   "cell_type": "markdown",
   "metadata": {},
   "source": [
    "<a id='rotate'></a>\n",
    "\n",
    "## rotate"
   ]
  },
  {
   "cell_type": "markdown",
   "metadata": {},
   "source": [
    "**Please review the** [Notes](#notes) **section above before running any examples in this notebook**\n",
    "\n",
    "The task rotate is used to rotate and shift images.  We will only cover rotation here, for shifting please see [shiftlines](#shiftlines). \n",
    "We will be using [scipy.ndimage.rotate](https://docs.scipy.org/doc/scipy-0.16.0/reference/generated/scipy.ndimage.interpolation.rotate.html) for rotation using interpolation.  For a simple 90 degree unit rotation we will use [numpy.rot90](https://docs.scipy.org/doc/numpy/reference/generated/numpy.rot90.html#numpy.rot90) (you can do a 90 degree rotation using `scipy.ndimage.rotate`). \n",
    "\n",
    "For an example of how to read in a FITS extension, edit the image array, and save out the updated file, see [blkavg](#blkavg) above."
   ]
  },
  {
   "cell_type": "markdown",
   "metadata": {},
   "source": [
    "Rotation using interpolation:"
   ]
  },
  {
   "cell_type": "code",
   "execution_count": 19,
   "metadata": {
    "collapsed": true
   },
   "outputs": [],
   "source": [
    "# Standard Imports\n",
    "import numpy as np\n",
    "from scipy.ndimage import rotate"
   ]
  },
  {
   "cell_type": "code",
   "execution_count": 33,
   "metadata": {},
   "outputs": [
    {
     "name": "stdout",
     "output_type": "stream",
     "text": [
      "Original array:\n",
      "[[ 0  1  2  3  4]\n",
      " [ 5  6  7  8  9]\n",
      " [10 11 12 13 14]\n",
      " [15 16 17 18 19]\n",
      " [20 21 22 23 24]]\n",
      "A rotation of 60 degrees\n",
      "[[ 0  0  0  0  0  0  0]\n",
      " [ 0  0  3  9  0  0  0]\n",
      " [ 0  0  5 11 15 21  0]\n",
      " [ 0  2  7 12 17 22  0]\n",
      " [ 0  3  9 13 19  0  0]\n",
      " [ 0  0  0 15 21  0  0]\n",
      " [ 0  0  0  0  0  0  0]]\n"
     ]
    }
   ],
   "source": [
    "in_array = np.arange(25).reshape(5,5)\n",
    "# Rotate by 60 degrees\n",
    "out_array = rotate(in_array, 60, axes=(1,0))\n",
    "\n",
    "print('Original array:')\n",
    "print(in_array)\n",
    "print('A rotation of 60 degrees')\n",
    "print(out_array)"
   ]
  },
  {
   "cell_type": "markdown",
   "metadata": {},
   "source": [
    "Rotation in increments of 90 degrees:"
   ]
  },
  {
   "cell_type": "code",
   "execution_count": 14,
   "metadata": {
    "collapsed": true
   },
   "outputs": [],
   "source": [
    "# Standard Imports\n",
    "import numpy as np"
   ]
  },
  {
   "cell_type": "code",
   "execution_count": 15,
   "metadata": {},
   "outputs": [
    {
     "name": "stdout",
     "output_type": "stream",
     "text": [
      "Original array:\n",
      "[[ 0  1  2  3  4]\n",
      " [ 5  6  7  8  9]\n",
      " [10 11 12 13 14]\n",
      " [15 16 17 18 19]\n",
      " [20 21 22 23 24]]\n",
      "A rotation of 270 degrees\n",
      "[[20 15 10  5  0]\n",
      " [21 16 11  6  1]\n",
      " [22 17 12  7  2]\n",
      " [23 18 13  8  3]\n",
      " [24 19 14  9  4]]\n"
     ]
    }
   ],
   "source": [
    "in_array = np.arange(25).reshape(5,5)\n",
    "# Rotate by 270 degrees\n",
    "out_array = np.rot90(in_array, 3)\n",
    "\n",
    "print('Original array:')\n",
    "print(in_array)\n",
    "print('A rotation of 270 degrees')\n",
    "print(out_array)"
   ]
  },
  {
   "cell_type": "markdown",
   "metadata": {},
   "source": [
    "<br>"
   ]
  },
  {
   "cell_type": "markdown",
   "metadata": {},
   "source": [
    "<br>"
   ]
  },
  {
   "cell_type": "markdown",
   "metadata": {},
   "source": [
    "## Not Replacing"
   ]
  },
  {
   "cell_type": "markdown",
   "metadata": {},
   "source": [
    "* imlintran - see [images.imgeom.magnify](#magnify), [images.imgeom.rotate](#rotate), and  [images.imgeom.imshift](#imshift)"
   ]
  }
 ],
 "metadata": {
  "kernelspec": {
   "display_name": "Python 3",
   "language": "python",
   "name": "python3"
  },
  "language_info": {
   "codemirror_mode": {
    "name": "ipython",
    "version": 3
   },
   "file_extension": ".py",
   "mimetype": "text/x-python",
   "name": "python",
   "nbconvert_exporter": "python",
   "pygments_lexer": "ipython3",
   "version": "3.5.4"
  }
 },
 "nbformat": 4,
 "nbformat_minor": 1
}
