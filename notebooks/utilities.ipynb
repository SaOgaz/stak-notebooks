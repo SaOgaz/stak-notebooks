{
 "cells": [
  {
   "cell_type": "markdown",
   "metadata": {},
   "source": [
    "# utilities"
   ]
  },
  {
   "cell_type": "markdown",
   "metadata": {},
   "source": [
    "A miscellaneous utilities package."
   ]
  },
  {
   "cell_type": "markdown",
   "metadata": {},
   "source": [
    "<a id='notes'></a>\n",
    "\n",
    "## Notes"
   ]
  },
  {
   "cell_type": "markdown",
   "metadata": {},
   "source": [
    "**For questions or comments please see** [our github page](https://github.com/spacetelescope/stak). **We encourage and appreciate user feedback.**\n",
    "\n",
    "The utilities package can be easily replicated with Python functionality.\n",
    "\n",
    "Contents:\n",
    "\n",
    "* [detab-entab](#detab-entab)\n",
    "* [lcase-ucase](#lcase-ucase)\n",
    "* [urand](#urand)"
   ]
  },
  {
   "cell_type": "markdown",
   "metadata": {},
   "source": [
    "<br>"
   ]
  },
  {
   "cell_type": "markdown",
   "metadata": {},
   "source": [
    "<br>"
   ]
  },
  {
   "cell_type": "markdown",
   "metadata": {},
   "source": [
    "<a id='detab-entab-translit'></a>\n",
    "\n",
    "## detab-entab-translit"
   ]
  },
  {
   "cell_type": "markdown",
   "metadata": {},
   "source": [
    "**Please review the** [Notes](#notes) **section above before running any examples in this notebook**\n",
    " \n",
    "Detab and entab are used to replace tabs with blanks or vice versa.  Python contains a built-in [replace method](https://docs.python.org/3.6/library/stdtypes.html#string-methods) which can be used for this purpose."
   ]
  },
  {
   "cell_type": "markdown",
   "metadata": {},
   "source": [
    "<br>"
   ]
  },
  {
   "cell_type": "markdown",
   "metadata": {},
   "source": [
    "<a id='lcase-ucase'></a>\n",
    "\n",
    "## lcase-ucase"
   ]
  },
  {
   "cell_type": "markdown",
   "metadata": {},
   "source": [
    "**Please review the** [Notes](#notes) **section above before running any examples in this notebook**\n",
    "\n",
    "lcase and ucase are used to convert a file to lower case or uppercase.  Python contains [built in functionality](https://docs.python.org/3.6/library/stdtypes.html#string-methods) for string replacement, including ``lower`` and ``upper`` methods."
   ]
  },
  {
   "cell_type": "markdown",
   "metadata": {},
   "source": [
    "<br>"
   ]
  },
  {
   "cell_type": "markdown",
   "metadata": {},
   "source": [
    "<a id='urand'></a>\n",
    "\n",
    "## urand"
   ]
  },
  {
   "cell_type": "markdown",
   "metadata": {},
   "source": [
    "**Please review the** [Notes](#notes) **section above before running any examples in this notebook**\n",
    "\n",
    "Urand provides a uniform random number generator. This utility is contained in ``Numpy`` with the [numpy.randome.uniform](https://docs.scipy.org/doc/numpy/reference/generated/numpy.random.uniform.html) task.  ``Numpy`` also contains [other types of random generation](https://docs.scipy.org/doc/numpy/reference/routines.random.html)."
   ]
  },
  {
   "cell_type": "markdown",
   "metadata": {},
   "source": [
    "<br>"
   ]
  },
  {
   "cell_type": "markdown",
   "metadata": {},
   "source": [
    "<br>"
   ]
  },
  {
   "cell_type": "markdown",
   "metadata": {},
   "source": [
    "## Not Replacing"
   ]
  },
  {
   "cell_type": "markdown",
   "metadata": {},
   "source": [
    "* curfit - Fit data with Chebyshev, Legendre or spline curve. See **images.imfit.it1d-lineclean**\n",
    "* polyfit - Fit polynomial to list of X,Y data. See **images.imfit.fit1d-lineclean**\n",
    "* surfit - Fit a surface, z=f(x,y), to a set of x, y, z points. See **images.imfit.imsurfit**\n",
    "* split - Split a large file into smaller segments. Deprecated."
   ]
  }
 ],
 "metadata": {
  "kernelspec": {
   "display_name": "Python 2",
   "language": "python",
   "name": "python2"
  },
  "language_info": {
   "codemirror_mode": {
    "name": "ipython",
    "version": 2
   },
   "file_extension": ".py",
   "mimetype": "text/x-python",
   "name": "python",
   "nbconvert_exporter": "python",
   "pygments_lexer": "ipython2",
   "version": "2.7.13"
  }
 },
 "nbformat": 4,
 "nbformat_minor": 1
}
